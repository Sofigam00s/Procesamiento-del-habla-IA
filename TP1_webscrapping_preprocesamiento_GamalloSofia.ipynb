{
  "nbformat": 4,
  "nbformat_minor": 0,
  "metadata": {
    "colab": {
      "provenance": [],
      "include_colab_link": true
    },
    "kernelspec": {
      "name": "python3",
      "display_name": "Python 3"
    },
    "language_info": {
      "name": "python"
    }
  },
  "cells": [
    {
      "cell_type": "markdown",
      "metadata": {
        "id": "view-in-github",
        "colab_type": "text"
      },
      "source": [
        "<a href=\"https://colab.research.google.com/github/Sofigam00s/Procesamiento-del-habla-IA/blob/main/TP1_webscrapping_preprocesamiento_GamalloSofia.ipynb\" target=\"_parent\"><img src=\"https://colab.research.google.com/assets/colab-badge.svg\" alt=\"Open In Colab\"/></a>"
      ]
    },
    {
      "cell_type": "markdown",
      "source": [
        "# TP1 PROCESAMIENTO DEL HABLA\n",
        "\n",
        "**Gamallo Sofia Antonia**👩🏻\n",
        "\n",
        "\n",
        "* Resolver las consignas comentando el código fuente, indicando desde dónde fue extraido o generado.\n",
        "\n",
        "* Explicar y justificar cada paso realizado.\n",
        "\n",
        "* Publique enlace público a su notebook en google colab y también enlace a su repositorio github de la materia."
      ],
      "metadata": {
        "id": "N1SRdVnxMDN1"
      }
    },
    {
      "cell_type": "markdown",
      "source": [
        "\n",
        "### Entrega de los ejercicios\n",
        "\n",
        "1. Crea un repositorio GitHub público dedicado a esta materia.\n",
        "2. Sube tus notebooks de resolución para cada desafío allí.\n",
        "3. Por cada desafío utilizaremos un sólo notebook.\n",
        "4. Debes entregar tu TP1 en el foro correspondiente, siguiendo las instrucciones que allí indica.\n",
        "\n"
      ],
      "metadata": {
        "id": "Sx5EFNvwOF_c"
      }
    },
    {
      "cell_type": "markdown",
      "source": [
        "\n",
        "## EJERCICIO CONSIGNA\n",
        "\n",
        "* Cree una nube de palabras de un texto en español.\n",
        "\n",
        "* Dicho texto puede ser descargado de Internet (webscrapping) o extraído del dataset de alguna librería.\n",
        "\n",
        "* Puede usar cualquier libreria o herramienta para obtener el texto de su interés.\n",
        "\n",
        "* En este notebook explica el paso a paso del proceso.\n",
        "\n"
      ],
      "metadata": {
        "id": "vvKaCKOOQMZA"
      }
    },
    {
      "cell_type": "markdown",
      "source": [
        "## 1- Webscrapping"
      ],
      "metadata": {
        "id": "fE3fMnwzGdTA"
      }
    },
    {
      "cell_type": "markdown",
      "source": [
        "Extrae un texto de Internet de una sóla página web usando alguna de las técnicas de webscrapping vistas en clase. Busca el discurso de alguna persona quien te inspire o haya dado una charla motivadora.\n",
        "\n",
        "No puedes repetir ni usar ni el mismo texto ni la misma web que otra persona quien ya entregó en el foro.\n",
        "\n",
        "Abajo añade los bloques de código y texto necesarios. Explica paso a paso como descargaste el texto de tu interés.\n"
      ],
      "metadata": {
        "id": "1EEtHbsKGfzw"
      }
    },
    {
      "cell_type": "code",
      "source": [
        "# Primero instalo las librerías necesarias para el webscrapping\n",
        "! pip install requests beautifulsoup4 html5lib"
      ],
      "metadata": {
        "id": "EeJhluRsGgGG",
        "colab": {
          "base_uri": "https://localhost:8080/"
        },
        "outputId": "5f05b7c5-6dde-4888-9c23-3ce1f0cadc33"
      },
      "execution_count": null,
      "outputs": [
        {
          "output_type": "stream",
          "name": "stdout",
          "text": [
            "Requirement already satisfied: requests in /usr/local/lib/python3.11/dist-packages (2.32.3)\n",
            "Requirement already satisfied: beautifulsoup4 in /usr/local/lib/python3.11/dist-packages (4.13.4)\n",
            "Requirement already satisfied: html5lib in /usr/local/lib/python3.11/dist-packages (1.1)\n",
            "Requirement already satisfied: charset-normalizer<4,>=2 in /usr/local/lib/python3.11/dist-packages (from requests) (3.4.1)\n",
            "Requirement already satisfied: idna<4,>=2.5 in /usr/local/lib/python3.11/dist-packages (from requests) (3.10)\n",
            "Requirement already satisfied: urllib3<3,>=1.21.1 in /usr/local/lib/python3.11/dist-packages (from requests) (2.3.0)\n",
            "Requirement already satisfied: certifi>=2017.4.17 in /usr/local/lib/python3.11/dist-packages (from requests) (2025.1.31)\n",
            "Requirement already satisfied: soupsieve>1.2 in /usr/local/lib/python3.11/dist-packages (from beautifulsoup4) (2.7)\n",
            "Requirement already satisfied: typing-extensions>=4.0.0 in /usr/local/lib/python3.11/dist-packages (from beautifulsoup4) (4.13.2)\n",
            "Requirement already satisfied: six>=1.9 in /usr/local/lib/python3.11/dist-packages (from html5lib) (1.17.0)\n",
            "Requirement already satisfied: webencodings in /usr/local/lib/python3.11/dist-packages (from html5lib) (0.5.1)\n"
          ]
        }
      ]
    },
    {
      "cell_type": "code",
      "source": [
        "import requests\n",
        "from bs4 import BeautifulSoup"
      ],
      "metadata": {
        "id": "LEoAncKmR26L"
      },
      "execution_count": null,
      "outputs": []
    },
    {
      "cell_type": "code",
      "source": [
        "# Cargo el url con el que voy a trabajar\n",
        "url = 'https://ecoosfera.com/sci-innovacion/discurso-carl-sagan-punto-palido-azul-tierra-voyager-1/'\n",
        "# Realizo la solicitud HTTP\n",
        "respuesta = requests.get(url)\n",
        "respuesta.raise_for_status()"
      ],
      "metadata": {
        "id": "YBLNnmW_R6H4"
      },
      "execution_count": null,
      "outputs": []
    },
    {
      "cell_type": "code",
      "source": [
        "punto_azul = BeautifulSoup(respuesta.text, \"html5lib\")"
      ],
      "metadata": {
        "id": "r29LAAUuSBTC"
      },
      "execution_count": null,
      "outputs": []
    },
    {
      "cell_type": "code",
      "source": [
        "punto_azul.find(\"h1\").get_text()"
      ],
      "metadata": {
        "colab": {
          "base_uri": "https://localhost:8080/",
          "height": 36
        },
        "id": "dXQdpCtbSDkg",
        "outputId": "0c9fbea4-443e-46f9-f5ee-6c0fd0d0d8a1"
      },
      "execution_count": null,
      "outputs": [
        {
          "output_type": "execute_result",
          "data": {
            "text/plain": [
              "'El discurso más hermoso de Carl Sagan sobre el planeta Tierra (audio)'"
            ],
            "application/vnd.google.colaboratory.intrinsic+json": {
              "type": "string"
            }
          },
          "metadata": {},
          "execution_count": 36
        }
      ]
    },
    {
      "cell_type": "code",
      "source": [
        "todos = punto_azul.find_all(\"p\")"
      ],
      "metadata": {
        "id": "lpRgqAXzSFzt"
      },
      "execution_count": null,
      "outputs": []
    },
    {
      "cell_type": "code",
      "source": [
        "texto = todos[7].get_text()\n",
        "print(texto)"
      ],
      "metadata": {
        "colab": {
          "base_uri": "https://localhost:8080/"
        },
        "id": "HeodxK3MSIOB",
        "outputId": "613c5d6b-7678-4a37-926a-c26290a66165"
      },
      "execution_count": null,
      "outputs": [
        {
          "output_type": "stream",
          "name": "stdout",
          "text": [
            "“Mira de nuevo ese punto. Eso es aquí. Ese es el hogar. Esos somos nosotros. En él, todos los que amas, todos los que conoces, todos los que has oído hablar, todos los seres humanos que alguna vez fueron, vivieron sus vidas. El conjunto de nuestras alegrías y sufrimientos, miles de religiones, ideologías y doctrinas económicas confiadas, cada cazador y recolector, cada héroe y cobarde, cada creador y destructor de civilizaciones, cada rey y campesino, cada joven pareja enamorada, cada madre y padre, niño esperanzado, inventor y explorador, todos los maestros de moral, todos los políticos corruptos, todas las “superestrellas”, todos los “líderes supremos”, todos los santos y pecadores en la historia de nuestra especie vivieron allí, en una mota de polvo suspendida en un rayo de sol.\n"
          ]
        }
      ]
    },
    {
      "cell_type": "markdown",
      "source": [
        "## 2- Preprocesamiento"
      ],
      "metadata": {
        "id": "i-dJqoM6HBpg"
      }
    },
    {
      "cell_type": "markdown",
      "source": [
        "### 2.1 Muestra las stop words que tenga tu texto."
      ],
      "metadata": {
        "id": "YkvdbYlTHETe"
      }
    },
    {
      "cell_type": "code",
      "source": [
        "# Para mostrar las stopword voy a utilizar la librería spacy\n",
        "!pip install spacy"
      ],
      "metadata": {
        "id": "wY2a_RQ4HEwv",
        "colab": {
          "base_uri": "https://localhost:8080/"
        },
        "outputId": "009a8d4c-a3f2-4420-b485-9ac86ace3bb2"
      },
      "execution_count": null,
      "outputs": [
        {
          "output_type": "stream",
          "name": "stdout",
          "text": [
            "Requirement already satisfied: spacy in /usr/local/lib/python3.11/dist-packages (3.8.5)\n",
            "Requirement already satisfied: spacy-legacy<3.1.0,>=3.0.11 in /usr/local/lib/python3.11/dist-packages (from spacy) (3.0.12)\n",
            "Requirement already satisfied: spacy-loggers<2.0.0,>=1.0.0 in /usr/local/lib/python3.11/dist-packages (from spacy) (1.0.5)\n",
            "Requirement already satisfied: murmurhash<1.1.0,>=0.28.0 in /usr/local/lib/python3.11/dist-packages (from spacy) (1.0.12)\n",
            "Requirement already satisfied: cymem<2.1.0,>=2.0.2 in /usr/local/lib/python3.11/dist-packages (from spacy) (2.0.11)\n",
            "Requirement already satisfied: preshed<3.1.0,>=3.0.2 in /usr/local/lib/python3.11/dist-packages (from spacy) (3.0.9)\n",
            "Requirement already satisfied: thinc<8.4.0,>=8.3.4 in /usr/local/lib/python3.11/dist-packages (from spacy) (8.3.6)\n",
            "Requirement already satisfied: wasabi<1.2.0,>=0.9.1 in /usr/local/lib/python3.11/dist-packages (from spacy) (1.1.3)\n",
            "Requirement already satisfied: srsly<3.0.0,>=2.4.3 in /usr/local/lib/python3.11/dist-packages (from spacy) (2.5.1)\n",
            "Requirement already satisfied: catalogue<2.1.0,>=2.0.6 in /usr/local/lib/python3.11/dist-packages (from spacy) (2.0.10)\n",
            "Requirement already satisfied: weasel<0.5.0,>=0.1.0 in /usr/local/lib/python3.11/dist-packages (from spacy) (0.4.1)\n",
            "Requirement already satisfied: typer<1.0.0,>=0.3.0 in /usr/local/lib/python3.11/dist-packages (from spacy) (0.15.2)\n",
            "Requirement already satisfied: tqdm<5.0.0,>=4.38.0 in /usr/local/lib/python3.11/dist-packages (from spacy) (4.67.1)\n",
            "Requirement already satisfied: numpy>=1.19.0 in /usr/local/lib/python3.11/dist-packages (from spacy) (2.0.2)\n",
            "Requirement already satisfied: requests<3.0.0,>=2.13.0 in /usr/local/lib/python3.11/dist-packages (from spacy) (2.32.3)\n",
            "Requirement already satisfied: pydantic!=1.8,!=1.8.1,<3.0.0,>=1.7.4 in /usr/local/lib/python3.11/dist-packages (from spacy) (2.11.3)\n",
            "Requirement already satisfied: jinja2 in /usr/local/lib/python3.11/dist-packages (from spacy) (3.1.6)\n",
            "Requirement already satisfied: setuptools in /usr/local/lib/python3.11/dist-packages (from spacy) (75.2.0)\n",
            "Requirement already satisfied: packaging>=20.0 in /usr/local/lib/python3.11/dist-packages (from spacy) (24.2)\n",
            "Requirement already satisfied: langcodes<4.0.0,>=3.2.0 in /usr/local/lib/python3.11/dist-packages (from spacy) (3.5.0)\n",
            "Requirement already satisfied: language-data>=1.2 in /usr/local/lib/python3.11/dist-packages (from langcodes<4.0.0,>=3.2.0->spacy) (1.3.0)\n",
            "Requirement already satisfied: annotated-types>=0.6.0 in /usr/local/lib/python3.11/dist-packages (from pydantic!=1.8,!=1.8.1,<3.0.0,>=1.7.4->spacy) (0.7.0)\n",
            "Requirement already satisfied: pydantic-core==2.33.1 in /usr/local/lib/python3.11/dist-packages (from pydantic!=1.8,!=1.8.1,<3.0.0,>=1.7.4->spacy) (2.33.1)\n",
            "Requirement already satisfied: typing-extensions>=4.12.2 in /usr/local/lib/python3.11/dist-packages (from pydantic!=1.8,!=1.8.1,<3.0.0,>=1.7.4->spacy) (4.13.2)\n",
            "Requirement already satisfied: typing-inspection>=0.4.0 in /usr/local/lib/python3.11/dist-packages (from pydantic!=1.8,!=1.8.1,<3.0.0,>=1.7.4->spacy) (0.4.0)\n",
            "Requirement already satisfied: charset-normalizer<4,>=2 in /usr/local/lib/python3.11/dist-packages (from requests<3.0.0,>=2.13.0->spacy) (3.4.1)\n",
            "Requirement already satisfied: idna<4,>=2.5 in /usr/local/lib/python3.11/dist-packages (from requests<3.0.0,>=2.13.0->spacy) (3.10)\n",
            "Requirement already satisfied: urllib3<3,>=1.21.1 in /usr/local/lib/python3.11/dist-packages (from requests<3.0.0,>=2.13.0->spacy) (2.3.0)\n",
            "Requirement already satisfied: certifi>=2017.4.17 in /usr/local/lib/python3.11/dist-packages (from requests<3.0.0,>=2.13.0->spacy) (2025.1.31)\n",
            "Requirement already satisfied: blis<1.4.0,>=1.3.0 in /usr/local/lib/python3.11/dist-packages (from thinc<8.4.0,>=8.3.4->spacy) (1.3.0)\n",
            "Requirement already satisfied: confection<1.0.0,>=0.0.1 in /usr/local/lib/python3.11/dist-packages (from thinc<8.4.0,>=8.3.4->spacy) (0.1.5)\n",
            "Requirement already satisfied: click>=8.0.0 in /usr/local/lib/python3.11/dist-packages (from typer<1.0.0,>=0.3.0->spacy) (8.1.8)\n",
            "Requirement already satisfied: shellingham>=1.3.0 in /usr/local/lib/python3.11/dist-packages (from typer<1.0.0,>=0.3.0->spacy) (1.5.4)\n",
            "Requirement already satisfied: rich>=10.11.0 in /usr/local/lib/python3.11/dist-packages (from typer<1.0.0,>=0.3.0->spacy) (13.9.4)\n",
            "Requirement already satisfied: cloudpathlib<1.0.0,>=0.7.0 in /usr/local/lib/python3.11/dist-packages (from weasel<0.5.0,>=0.1.0->spacy) (0.21.0)\n",
            "Requirement already satisfied: smart-open<8.0.0,>=5.2.1 in /usr/local/lib/python3.11/dist-packages (from weasel<0.5.0,>=0.1.0->spacy) (7.1.0)\n",
            "Requirement already satisfied: MarkupSafe>=2.0 in /usr/local/lib/python3.11/dist-packages (from jinja2->spacy) (3.0.2)\n",
            "Requirement already satisfied: marisa-trie>=1.1.0 in /usr/local/lib/python3.11/dist-packages (from language-data>=1.2->langcodes<4.0.0,>=3.2.0->spacy) (1.2.1)\n",
            "Requirement already satisfied: markdown-it-py>=2.2.0 in /usr/local/lib/python3.11/dist-packages (from rich>=10.11.0->typer<1.0.0,>=0.3.0->spacy) (3.0.0)\n",
            "Requirement already satisfied: pygments<3.0.0,>=2.13.0 in /usr/local/lib/python3.11/dist-packages (from rich>=10.11.0->typer<1.0.0,>=0.3.0->spacy) (2.18.0)\n",
            "Requirement already satisfied: wrapt in /usr/local/lib/python3.11/dist-packages (from smart-open<8.0.0,>=5.2.1->weasel<0.5.0,>=0.1.0->spacy) (1.17.2)\n",
            "Requirement already satisfied: mdurl~=0.1 in /usr/local/lib/python3.11/dist-packages (from markdown-it-py>=2.2.0->rich>=10.11.0->typer<1.0.0,>=0.3.0->spacy) (0.1.2)\n"
          ]
        }
      ]
    },
    {
      "cell_type": "code",
      "source": [
        "import spacy #Importo la librería spacy, utilizo esta ibrería porque me resulta más facil para trabajar"
      ],
      "metadata": {
        "id": "BNHsm7jMSUmm"
      },
      "execution_count": null,
      "outputs": []
    },
    {
      "cell_type": "code",
      "source": [
        "!python -m spacy download es_core_news_sm #Importo el diccionario en español"
      ],
      "metadata": {
        "colab": {
          "base_uri": "https://localhost:8080/"
        },
        "id": "6QVDSwkLSYb7",
        "outputId": "9693a082-3d4f-4914-cd10-dfe7f799b5c5"
      },
      "execution_count": null,
      "outputs": [
        {
          "output_type": "stream",
          "name": "stdout",
          "text": [
            "Collecting es-core-news-sm==3.8.0\n",
            "  Downloading https://github.com/explosion/spacy-models/releases/download/es_core_news_sm-3.8.0/es_core_news_sm-3.8.0-py3-none-any.whl (12.9 MB)\n",
            "\u001b[2K     \u001b[90m━━━━━━━━━━━━━━━━━━━━━━━━━━━━━━━━━━━━━━━━\u001b[0m \u001b[32m12.9/12.9 MB\u001b[0m \u001b[31m63.9 MB/s\u001b[0m eta \u001b[36m0:00:00\u001b[0m\n",
            "\u001b[?25h\u001b[38;5;2m✔ Download and installation successful\u001b[0m\n",
            "You can now load the package via spacy.load('es_core_news_sm')\n",
            "\u001b[38;5;3m⚠ Restart to reload dependencies\u001b[0m\n",
            "If you are in a Jupyter or Colab notebook, you may need to restart Python in\n",
            "order to load all the package's dependencies. You can do this by selecting the\n",
            "'Restart kernel' or 'Restart runtime' option.\n"
          ]
        }
      ]
    },
    {
      "cell_type": "code",
      "source": [
        "nlp = spacy.load('es_core_news_sm') #Descargo el diccionario\n",
        "\n",
        "doc = nlp(texto) #Proceso el texto\n",
        "\n",
        "for word in doc: #Imprimo las stopword\n",
        "    if word.is_stop:\n",
        "        print(word.text)"
      ],
      "metadata": {
        "colab": {
          "base_uri": "https://localhost:8080/"
        },
        "id": "eqp4vzBLSdxM",
        "outputId": "30ecdd9b-446c-409b-86f1-87fbd5769621"
      },
      "execution_count": null,
      "outputs": [
        {
          "output_type": "stream",
          "name": "stdout",
          "text": [
            "de\n",
            "nuevo\n",
            "ese\n",
            "Eso\n",
            "es\n",
            "aquí\n",
            "Ese\n",
            "es\n",
            "el\n",
            "Esos\n",
            "somos\n",
            "nosotros\n",
            "En\n",
            "él\n",
            "todos\n",
            "los\n",
            "que\n",
            "todos\n",
            "los\n",
            "que\n",
            "todos\n",
            "los\n",
            "que\n",
            "todos\n",
            "los\n",
            "que\n",
            "alguna\n",
            "vez\n",
            "fueron\n",
            "sus\n",
            "El\n",
            "de\n",
            "nuestras\n",
            "y\n",
            "de\n",
            "y\n",
            "cada\n",
            "y\n",
            "cada\n",
            "y\n",
            "cada\n",
            "y\n",
            "de\n",
            "cada\n",
            "y\n",
            "cada\n",
            "cada\n",
            "y\n",
            "y\n",
            "todos\n",
            "los\n",
            "de\n",
            "todos\n",
            "los\n",
            "todas\n",
            "las\n",
            "todos\n",
            "los\n",
            "todos\n",
            "los\n",
            "y\n",
            "en\n",
            "la\n",
            "de\n",
            "nuestra\n",
            "allí\n",
            "en\n",
            "una\n",
            "de\n",
            "en\n",
            "un\n",
            "de\n"
          ]
        }
      ]
    },
    {
      "cell_type": "markdown",
      "source": [
        "### 2.2 Quita las stop-words, caracteres extraños del texto. Utiliza el texto restante para crear una nube de palabras. Usa la biblioteca worldcloud de python."
      ],
      "metadata": {
        "id": "72Oqstm9HP8i"
      }
    },
    {
      "cell_type": "code",
      "source": [
        "#Con ayuda de chatgpt limpio el texto con un blucle que elimine las stopword, los signos de puntuacion y los simbolos que no sean letras\n",
        "limpiar_texto = [token.text.lower()\n",
        "    for token in doc\n",
        "    if not token.is_stop and not token.is_punct and token.is_alpha]\n",
        "print(limpiar_texto)"
      ],
      "metadata": {
        "id": "sKmh5yh6HZwW",
        "colab": {
          "base_uri": "https://localhost:8080/"
        },
        "outputId": "fe6c9fa7-1d63-4193-ceda-dc36ef53e079"
      },
      "execution_count": null,
      "outputs": [
        {
          "output_type": "stream",
          "name": "stdout",
          "text": [
            "['mira', 'punto', 'hogar', 'amas', 'conoces', 'has', 'oído', 'hablar', 'seres', 'humanos', 'vivieron', 'vidas', 'conjunto', 'alegrías', 'sufrimientos', 'miles', 'religiones', 'ideologías', 'doctrinas', 'económicas', 'confiadas', 'cazador', 'recolector', 'héroe', 'cobarde', 'creador', 'destructor', 'civilizaciones', 'rey', 'campesino', 'joven', 'pareja', 'enamorada', 'madre', 'padre', 'niño', 'esperanzado', 'inventor', 'explorador', 'maestros', 'moral', 'políticos', 'corruptos', 'superestrellas', 'líderes', 'supremos', 'santos', 'pecadores', 'historia', 'especie', 'vivieron', 'mota', 'polvo', 'suspendida', 'rayo', 'sol']\n"
          ]
        }
      ]
    },
    {
      "cell_type": "code",
      "source": [
        "texto_limpio = \" \".join(limpiar_texto) #Uno todas las palabras\n",
        "print(texto_limpio)"
      ],
      "metadata": {
        "colab": {
          "base_uri": "https://localhost:8080/"
        },
        "id": "C7pKppM8TKph",
        "outputId": "36f54b9f-adc8-4689-c193-3c216a322366"
      },
      "execution_count": null,
      "outputs": [
        {
          "output_type": "stream",
          "name": "stdout",
          "text": [
            "mira punto hogar amas conoces has oído hablar seres humanos vivieron vidas conjunto alegrías sufrimientos miles religiones ideologías doctrinas económicas confiadas cazador recolector héroe cobarde creador destructor civilizaciones rey campesino joven pareja enamorada madre padre niño esperanzado inventor explorador maestros moral políticos corruptos superestrellas líderes supremos santos pecadores historia especie vivieron mota polvo suspendida rayo sol\n"
          ]
        }
      ]
    },
    {
      "cell_type": "code",
      "source": [
        "#Importo las librerías necesarias para wordcloud\n",
        "from wordcloud import WordCloud\n",
        "import matplotlib.pyplot as plt\n",
        "import random"
      ],
      "metadata": {
        "id": "varh9W6gUc17"
      },
      "execution_count": null,
      "outputs": []
    },
    {
      "cell_type": "code",
      "source": [
        "#prompt: que la figura tenga colores rosas\n",
        "def pink_color_func(word, **kwargs):\n",
        "  return \"hsl({}, {}%, {}%)\".format(random.randint(300, 350), random.randint(60, 100), random.randint(60, 90))"
      ],
      "metadata": {
        "id": "VtWAnH33UlfX"
      },
      "execution_count": null,
      "outputs": []
    },
    {
      "cell_type": "code",
      "source": [
        "#Creo el wordcloud\n",
        "wordcloud = WordCloud(width=800, height=400, background_color=\"white\", color_func=pink_color_func).generate(texto_limpio)"
      ],
      "metadata": {
        "id": "SBZ_ai0EUn6L"
      },
      "execution_count": null,
      "outputs": []
    },
    {
      "cell_type": "code",
      "source": [
        "#Lo imprrimo\n",
        "plt.figure(figsize=(8, 8), facecolor=None)\n",
        "plt.imshow(wordcloud)\n",
        "plt.axis(\"off\")\n",
        "plt.tight_layout(pad=0)\n",
        "plt.show()"
      ],
      "metadata": {
        "colab": {
          "base_uri": "https://localhost:8080/",
          "height": 436
        },
        "id": "5eSkhq2lUqY2",
        "outputId": "d82ab627-85b4-4ff9-f60b-6b52fbf79297"
      },
      "execution_count": null,
      "outputs": [
        {
          "output_type": "display_data",
          "data": {
            "text/plain": [
              "<Figure size 800x800 with 1 Axes>"
            ],
            "image/png": "[encoded data removed]"
          },
          "metadata": {}
        }
      ]
    },
    {
      "cell_type": "markdown",
      "source": [
        "### 2.3 Usando el texto que conseguiste en el punto 1).\n"
      ],
      "metadata": {
        "id": "NfZCsm-KHayR"
      }
    },
    {
      "cell_type": "markdown",
      "source": [
        "\n",
        "#### 2.3.1 Limpia y preprocesa el texto, descomponelo en oraciones, arma una matriz documento-vocabulario.\n"
      ],
      "metadata": {
        "id": "NcMNPPYkJOCw"
      }
    },
    {
      "cell_type": "code",
      "source": [
        "#Con ayuda de chatgpt descompongo en oraciones el texto\n",
        "doc = nlp(texto)\n",
        "\n",
        "# Dividir en oraciones\n",
        "oraciones = [sent.text for sent in doc.sents]\n",
        "\n",
        "# Mostrar el resultado\n",
        "for i, oracion in enumerate(oraciones, 1):\n",
        "    print(f\"{i}: {oracion}\")"
      ],
      "metadata": {
        "id": "Jo4lDrtQH7-e",
        "colab": {
          "base_uri": "https://localhost:8080/"
        },
        "outputId": "f53dfab8-551c-4c4a-a42a-d1649c5dedb9"
      },
      "execution_count": null,
      "outputs": [
        {
          "output_type": "stream",
          "name": "stdout",
          "text": [
            "1: “Mira de nuevo ese punto.\n",
            "2: Eso es aquí.\n",
            "3: Ese es el hogar.\n",
            "4: Esos somos nosotros.\n",
            "5: En él, todos los que amas, todos los que conoces, todos los que has oído hablar, todos los seres humanos que alguna vez fueron, vivieron sus vidas.\n",
            "6: El conjunto de nuestras alegrías y sufrimientos, miles de religiones, ideologías y doctrinas económicas confiadas, cada cazador y recolector, cada héroe y cobarde, cada creador y destructor de civilizaciones, cada rey y campesino, cada joven pareja enamorada, cada madre y padre, niño esperanzado, inventor y explorador, todos los maestros de moral, todos los políticos corruptos, todas las “superestrellas”, todos los “líderes supremos”, todos los santos y pecadores en la historia de nuestra especie vivieron allí, en una mota de polvo suspendida en un rayo de sol.\n"
          ]
        }
      ]
    },
    {
      "cell_type": "code",
      "source": [
        "from sklearn.feature_extraction.text import CountVectorizer\n",
        "# Crear el vectorizador\n",
        "vectorizer = CountVectorizer()\n",
        "\n",
        "# Ajustar y transformar las oraciones\n",
        "matriz = vectorizer.fit_transform(oraciones)\n",
        "\n",
        "# Mostrar la matriz\n",
        "print(f'Matriz:\\n',matriz.toarray())"
      ],
      "metadata": {
        "colab": {
          "base_uri": "https://localhost:8080/"
        },
        "id": "VPcK_d05WRY6",
        "outputId": "9cae70f2-a6b0-4be9-eb1b-22f75ca1f738"
      },
      "execution_count": null,
      "outputs": [
        {
          "output_type": "stream",
          "name": "stdout",
          "text": [
            "Matriz:\n",
            " [[0 0 0 0 0 0 0 0 0 0 0 0 0 0 0 1 0 0 0 0 0 0 0 1 0 0 0 0 0 0 0 0 0 0 0 0\n",
            "  0 0 0 0 0 0 0 0 0 0 1 0 0 0 0 0 0 1 0 0 0 0 0 0 1 0 0 0 0 0 0 0 0 0 0 0\n",
            "  0 0 0 0 0 0 0 0 0 0 0]\n",
            " [0 0 0 0 1 0 0 0 0 0 0 0 0 0 0 0 0 0 0 0 0 0 1 0 1 0 0 0 0 0 0 0 0 0 0 0\n",
            "  0 0 0 0 0 0 0 0 0 0 0 0 0 0 0 0 0 0 0 0 0 0 0 0 0 0 0 0 0 0 0 0 0 0 0 0\n",
            "  0 0 0 0 0 0 0 0 0 0 0]\n",
            " [0 0 0 0 0 0 0 0 0 0 0 0 0 0 0 0 0 0 0 1 0 0 1 1 0 0 0 0 0 0 0 0 0 1 0 0\n",
            "  0 0 0 0 0 0 0 0 0 0 0 0 0 0 0 0 0 0 0 0 0 0 0 0 0 0 0 0 0 0 0 0 0 0 0 0\n",
            "  0 0 0 0 0 0 0 0 0 0 0]\n",
            " [0 0 0 0 0 0 0 0 0 0 0 0 0 0 0 0 0 0 0 0 0 0 0 0 0 1 0 0 0 0 0 0 0 0 0 0\n",
            "  0 0 0 0 0 0 0 0 0 0 0 0 0 0 1 0 0 0 0 0 0 0 0 0 0 0 0 0 0 0 0 0 0 1 0 0\n",
            "  0 0 0 0 0 0 0 0 0 0 0]\n",
            " [0 1 0 1 0 0 0 0 0 0 0 0 1 0 0 0 0 0 0 0 1 0 0 0 0 0 0 0 0 1 1 1 0 0 1 0\n",
            "  0 0 0 0 0 4 0 0 0 0 0 0 0 0 0 0 0 0 1 0 0 0 0 0 0 4 0 0 0 0 0 1 0 0 0 0\n",
            "  0 1 0 0 4 0 0 1 1 1 1]\n",
            " [1 0 1 0 0 6 1 1 1 1 1 1 0 1 1 7 1 1 1 1 3 1 0 0 0 0 1 1 1 0 0 0 1 0 0 1\n",
            "  1 1 1 1 1 4 1 1 1 1 0 1 1 1 0 1 1 0 0 1 1 1 1 1 0 0 1 1 1 1 1 0 1 0 1 1\n",
            "  1 0 1 1 4 1 1 0 0 1 0]]\n"
          ]
        }
      ]
    },
    {
      "cell_type": "markdown",
      "source": [
        "\n",
        "#### 2.3.2 Determina la longitud de tu vocabulario."
      ],
      "metadata": {
        "id": "Ulc0UtA0H8U0"
      }
    },
    {
      "cell_type": "code",
      "source": [
        "# Muestro las palabras del vocabulario\n",
        "print(vectorizer.get_feature_names_out())"
      ],
      "metadata": {
        "id": "q3c9P_ZRH9Kp",
        "colab": {
          "base_uri": "https://localhost:8080/"
        },
        "outputId": "01b288eb-0733-46e3-b414-6098596dc99a"
      },
      "execution_count": null,
      "outputs": [
        {
          "output_type": "stream",
          "name": "stdout",
          "text": [
            "['alegrías' 'alguna' 'allí' 'amas' 'aquí' 'cada' 'campesino' 'cazador'\n",
            " 'civilizaciones' 'cobarde' 'confiadas' 'conjunto' 'conoces' 'corruptos'\n",
            " 'creador' 'de' 'destructor' 'doctrinas' 'económicas' 'el' 'en'\n",
            " 'enamorada' 'es' 'ese' 'eso' 'esos' 'especie' 'esperanzado' 'explorador'\n",
            " 'fueron' 'hablar' 'has' 'historia' 'hogar' 'humanos' 'héroe' 'ideologías'\n",
            " 'inventor' 'joven' 'la' 'las' 'los' 'líderes' 'madre' 'maestros' 'miles'\n",
            " 'mira' 'moral' 'mota' 'niño' 'nosotros' 'nuestra' 'nuestras' 'nuevo'\n",
            " 'oído' 'padre' 'pareja' 'pecadores' 'polvo' 'políticos' 'punto' 'que'\n",
            " 'rayo' 'recolector' 'religiones' 'rey' 'santos' 'seres' 'sol' 'somos'\n",
            " 'sufrimientos' 'superestrellas' 'supremos' 'sus' 'suspendida' 'todas'\n",
            " 'todos' 'un' 'una' 'vez' 'vidas' 'vivieron' 'él']\n"
          ]
        }
      ]
    },
    {
      "cell_type": "code",
      "source": [
        "#Determino la longitud\n",
        "longitud = len(vectorizer.get_feature_names_out())\n",
        "print(f'Longitud del vocabulario:', longitud)"
      ],
      "metadata": {
        "colab": {
          "base_uri": "https://localhost:8080/"
        },
        "id": "BNPCtALSYyDk",
        "outputId": "bad1bc46-da96-4720-d353-f31ad4edd24a"
      },
      "execution_count": null,
      "outputs": [
        {
          "output_type": "stream",
          "name": "stdout",
          "text": [
            "Longitud del vocabulario: 83\n"
          ]
        }
      ]
    },
    {
      "cell_type": "markdown",
      "source": [
        "\n",
        "#### 2.3.3. Aplica TF-IDF a tu matriz documento-vocabulario"
      ],
      "metadata": {
        "id": "oN9OWmwBH9bD"
      }
    },
    {
      "cell_type": "code",
      "source": [
        "from sklearn.feature_extraction.text import TfidfVectorizer\n",
        "\n",
        "# Crear un vectorizador TF-IDF\n",
        "tfidf_vectorizer = TfidfVectorizer()\n",
        "\n",
        "# Ajustar el vectorizador a las oraciones\n",
        "tfidf_vectorizer.fit(oraciones)\n",
        "\n",
        "# Obtener la representación TF-IDF\n",
        "tfidf_matrix = tfidf_vectorizer.transform(oraciones)\n",
        "\n",
        "# Mostrar la matriz TF-IDF\n",
        "print(tfidf_matrix.toarray())"
      ],
      "metadata": {
        "id": "tcQ-3D2TIOed",
        "colab": {
          "base_uri": "https://localhost:8080/"
        },
        "outputId": "a93844e5-f7a0-474c-d576-4210709b9e01"
      },
      "execution_count": null,
      "outputs": [
        {
          "output_type": "stream",
          "name": "stdout",
          "text": [
            "[[0.         0.         0.         0.         0.         0.\n",
            "  0.         0.         0.         0.         0.         0.\n",
            "  0.         0.         0.         0.39339985 0.         0.\n",
            "  0.         0.         0.         0.         0.         0.39339985\n",
            "  0.         0.         0.         0.         0.         0.\n",
            "  0.         0.         0.         0.         0.         0.\n",
            "  0.         0.         0.         0.         0.         0.\n",
            "  0.         0.         0.         0.         0.47974754 0.\n",
            "  0.         0.         0.         0.         0.         0.47974754\n",
            "  0.         0.         0.         0.         0.         0.\n",
            "  0.47974754 0.         0.         0.         0.         0.\n",
            "  0.         0.         0.         0.         0.         0.\n",
            "  0.         0.         0.         0.         0.         0.\n",
            "  0.         0.         0.         0.         0.        ]\n",
            " [0.         0.         0.         0.         0.61171251 0.\n",
            "  0.         0.         0.         0.         0.         0.\n",
            "  0.         0.         0.         0.         0.         0.\n",
            "  0.         0.         0.         0.         0.50161301 0.\n",
            "  0.61171251 0.         0.         0.         0.         0.\n",
            "  0.         0.         0.         0.         0.         0.\n",
            "  0.         0.         0.         0.         0.         0.\n",
            "  0.         0.         0.         0.         0.         0.\n",
            "  0.         0.         0.         0.         0.         0.\n",
            "  0.         0.         0.         0.         0.         0.\n",
            "  0.         0.         0.         0.         0.         0.\n",
            "  0.         0.         0.         0.         0.         0.\n",
            "  0.         0.         0.         0.         0.         0.\n",
            "  0.         0.         0.         0.         0.        ]\n",
            " [0.         0.         0.         0.         0.         0.\n",
            "  0.         0.         0.         0.         0.         0.\n",
            "  0.         0.         0.         0.         0.         0.\n",
            "  0.         0.4720786  0.         0.         0.4720786  0.4720786\n",
            "  0.         0.         0.         0.         0.         0.\n",
            "  0.         0.         0.         0.57569557 0.         0.\n",
            "  0.         0.         0.         0.         0.         0.\n",
            "  0.         0.         0.         0.         0.         0.\n",
            "  0.         0.         0.         0.         0.         0.\n",
            "  0.         0.         0.         0.         0.         0.\n",
            "  0.         0.         0.         0.         0.         0.\n",
            "  0.         0.         0.         0.         0.         0.\n",
            "  0.         0.         0.         0.         0.         0.\n",
            "  0.         0.         0.         0.         0.        ]\n",
            " [0.         0.         0.         0.         0.         0.\n",
            "  0.         0.         0.         0.         0.         0.\n",
            "  0.         0.         0.         0.         0.         0.\n",
            "  0.         0.         0.         0.         0.         0.\n",
            "  0.         0.57735027 0.         0.         0.         0.\n",
            "  0.         0.         0.         0.         0.         0.\n",
            "  0.         0.         0.         0.         0.         0.\n",
            "  0.         0.         0.         0.         0.         0.\n",
            "  0.         0.         0.57735027 0.         0.         0.\n",
            "  0.         0.         0.         0.         0.         0.\n",
            "  0.         0.         0.         0.         0.         0.\n",
            "  0.         0.         0.         0.57735027 0.         0.\n",
            "  0.         0.         0.         0.         0.         0.\n",
            "  0.         0.         0.         0.         0.        ]\n",
            " [0.         0.13885889 0.         0.13885889 0.         0.\n",
            "  0.         0.         0.         0.         0.         0.\n",
            "  0.13885889 0.         0.         0.         0.         0.\n",
            "  0.         0.         0.11386628 0.         0.         0.\n",
            "  0.         0.         0.         0.         0.         0.13885889\n",
            "  0.13885889 0.13885889 0.         0.         0.13885889 0.\n",
            "  0.         0.         0.         0.         0.         0.45546512\n",
            "  0.         0.         0.         0.         0.         0.\n",
            "  0.         0.         0.         0.         0.         0.\n",
            "  0.13885889 0.         0.         0.         0.         0.\n",
            "  0.         0.55543558 0.         0.         0.         0.\n",
            "  0.         0.13885889 0.         0.         0.         0.\n",
            "  0.         0.13885889 0.         0.         0.45546512 0.\n",
            "  0.         0.13885889 0.13885889 0.11386628 0.13885889]\n",
            " [0.08196089 0.         0.08196089 0.         0.         0.49176535\n",
            "  0.08196089 0.08196089 0.08196089 0.08196089 0.08196089 0.08196089\n",
            "  0.         0.08196089 0.08196089 0.47046373 0.08196089 0.08196089\n",
            "  0.08196089 0.0672091  0.20162731 0.08196089 0.         0.\n",
            "  0.         0.         0.08196089 0.08196089 0.08196089 0.\n",
            "  0.         0.         0.08196089 0.         0.         0.08196089\n",
            "  0.08196089 0.08196089 0.08196089 0.08196089 0.08196089 0.26883642\n",
            "  0.08196089 0.08196089 0.08196089 0.08196089 0.         0.08196089\n",
            "  0.08196089 0.08196089 0.         0.08196089 0.08196089 0.\n",
            "  0.         0.08196089 0.08196089 0.08196089 0.08196089 0.08196089\n",
            "  0.         0.         0.08196089 0.08196089 0.08196089 0.08196089\n",
            "  0.08196089 0.         0.08196089 0.         0.08196089 0.08196089\n",
            "  0.08196089 0.         0.08196089 0.08196089 0.26883642 0.08196089\n",
            "  0.08196089 0.         0.         0.0672091  0.        ]]\n"
          ]
        }
      ]
    },
    {
      "cell_type": "markdown",
      "source": [
        "# Conclusiones\n",
        "\n",
        "Fue un trabajo desafiante que me permitió comprender adecuadamente el uso que se le pueden dar a las paginas web con una limpieza, extracción y posterior análisis de texto.\n",
        "\n",
        "Con la ayuda de las clases, los colab de la materia y el uso responsable de chatgpt, aprendí a importar el texto desde una url, luego buscar el párrafo específico que quería y apartir de ahí comenzar a limpiarlo.\n",
        "\n",
        "En cuanto a la conclusión del trabajo que realice, pude notar que contenía una gran catidad de stopwords, y era un texto bastante estádar ya que no contenía símbolos o emojis. En mi caso me bastó utilizar solamente la librería spacy para poder limpiar todo el texto.\n",
        "En el wordcloud se refleja muy claro lo que se describe en el texto, se puede entender que está hablando del plantea Tierra.\n",
        "Por último pude notar que mi matriz TF-IDF fue mucho más grande que la de mis compañeros, tal vez porque mi texto era un poco largo."
      ],
      "metadata": {
        "id": "gGoHSamNKPCZ"
      }
    },
    {
      "cell_type": "markdown",
      "source": [
        "# ENTREGA\n",
        "\n"
      ],
      "metadata": {
        "id": "RKK3xwMeIXGX"
      }
    },
    {
      "cell_type": "code",
      "source": [],
      "metadata": {
        "id": "OxyTVhPdKObO"
      },
      "execution_count": null,
      "outputs": []
    },
    {
      "cell_type": "markdown",
      "source": [
        "\n",
        "# Anexo, código de ejemplo del uso de wordcloud\n",
        "\n",
        "Instalar e importar la librería"
      ],
      "metadata": {
        "id": "V-fTGWPqOHkO"
      }
    },
    {
      "cell_type": "code",
      "source": [
        "# instalar wordcloud\n",
        "!pip install wordcloud\n"
      ],
      "metadata": {
        "id": "B2U6ALONL-P0"
      },
      "execution_count": null,
      "outputs": []
    },
    {
      "cell_type": "code",
      "source": [
        "\n",
        "# Importar librerías\n",
        "from wordcloud import WordCloud\n",
        "import matplotlib.pyplot as plt\n"
      ],
      "metadata": {
        "id": "auSvb3foMsme"
      },
      "execution_count": null,
      "outputs": []
    },
    {
      "cell_type": "code",
      "source": [
        "\n",
        "# Texto de ejemplo\n",
        "text = \"Este es un texto de ejemplo para crear una nube de palabras usando word cloud. Puedes reemplazar este texto utilizando tu propio texto.\"\n",
        "\n",
        "# Crear un objeto WordCloud\n",
        "wordcloud = WordCloud(width=800, height=400, background_color=\"white\").generate(text)\n"
      ],
      "metadata": {
        "id": "U32aJMv8Mkc-"
      },
      "execution_count": null,
      "outputs": []
    },
    {
      "cell_type": "markdown",
      "source": [
        "Mostramos la imagen generada"
      ],
      "metadata": {
        "id": "GUpxC4tMMmdo"
      }
    },
    {
      "cell_type": "code",
      "source": [
        "\n",
        "# mostramos la imagen generada\n",
        "plt.figure(figsize=(8, 8), facecolor=None)\n",
        "plt.imshow(wordcloud)\n",
        "plt.axis(\"off\")\n",
        "plt.tight_layout(pad=0)\n",
        "plt.show()"
      ],
      "metadata": {
        "id": "EsDO_p9oMlpX"
      },
      "execution_count": null,
      "outputs": []
    },
    {
      "cell_type": "markdown",
      "source": [
        "Modificamos el ejemplo anterior agregando palabras en español que no queremos que considere para crear la nube de palabras. Estas son las stop_words\n",
        "\n"
      ],
      "metadata": {
        "id": "GAU4YDU6P3Gj"
      }
    },
    {
      "cell_type": "code",
      "source": [
        "from wordcloud import WordCloud, STOPWORDS\n",
        "import matplotlib.pyplot as plt\n",
        "\n",
        "# Texto de ejemplo\n",
        "text = \"Este es un texto de ejemplo para crear una nube de palabras usando word cloud. Puedes reemplazar este texto utilizando tu propio texto.\"\n",
        "\n",
        "# Definir stopwords en español\n",
        "stopwords_es = set(STOPWORDS)\n",
        "stopwords_es.update([\"con\", \"que\", \"los\", \"para\", \"un\", \"una\", \"el\", \"la\", \"en\", \"y\", \"o\", \"de\", \"a\", \"se\", \"es\", \"al\", \"como\", \"por\", \"no\", \"su\", \"más\", \"pero\", \"si\", \"este\", \"esta\", \"eso\", \"esa\", \"todo\", \"todos\", \"todas\", \"cada\", \"cual\", \"cualquier\", \"algo\", \"alguna\", \"algún\", \"ningún\", \"ninguna\", \"ninguno\", \"otro\", \"otros\", \"otras\", \"sobre\", \"entre\", \"durante\", \"desde\", \"hasta\", \"también\", \"así\", \"mismo\", \"misma\", \"mismo\", \"misma\", \"tan\", \"tanto\", \"tanta\", \"muy\", \"poco\", \"poca\", \"poco\", \"nada\", \"solo\", \"sola\", \"solo\", \"sola\", \"siempre\", \"nunca\", \"jamás\", \"casi\", \"aproximadamente\", \"cerca\", \"lejos\", \"antes\", \"después\", \"ahora\", \"hoy\", \"ayer\", \"mañana\", \"luego\", \"mientras\", \"mientras tanto\", \"después de\", \"antes de\", \"durante\", \"sin\", \"aunque\", \"a pesar de\", \"debido a\", \"gracias a\", \"por qué\", \"cómo\", \"dónde\", \"cuándo\", \"quién\", \"qué\", \"cuál\"])\n",
        "\n",
        "# Crear un objeto WordCloud con stopwords en español\n",
        "wordcloud = WordCloud(width=800, height=400, background_color=\"white\", stopwords=stopwords_es).generate(text)\n",
        "\n",
        "# Mostramos la imagen generada\n",
        "plt.figure(figsize=(8, 8), facecolor=None)\n",
        "plt.imshow(wordcloud)\n",
        "plt.axis(\"off\")\n",
        "plt.tight_layout(pad=0)\n",
        "plt.show()\n"
      ],
      "metadata": {
        "id": "tRmTbV5TP2cf"
      },
      "execution_count": null,
      "outputs": []
    },
    {
      "cell_type": "code",
      "source": [],
      "metadata": {
        "id": "x-VwmaR1RFgD"
      },
      "execution_count": null,
      "outputs": []
    }
  ]
}