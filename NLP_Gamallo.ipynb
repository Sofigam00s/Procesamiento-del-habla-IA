{
  "nbformat": 4,
  "nbformat_minor": 0,
  "metadata": {
    "colab": {
      "provenance": [],
      "authorship_tag": "ABX9TyN9qO8YvPnNuB1F5KyIhGSg",
      "include_colab_link": true
    },
    "kernelspec": {
      "name": "python3",
      "display_name": "Python 3"
    },
    "language_info": {
      "name": "python"
    }
  },
  "cells": [
    {
      "cell_type": "markdown",
      "metadata": {
        "id": "view-in-github",
        "colab_type": "text"
      },
      "source": [
        "<a href=\"https://colab.research.google.com/github/Sofigam00s/Procesamiento-del-habla-IA/blob/main/NLP_Gamallo.ipynb\" target=\"_parent\"><img src=\"https://colab.research.google.com/assets/colab-badge.svg\" alt=\"Open In Colab\"/></a>"
      ]
    },
    {
      "cell_type": "markdown",
      "source": [
        "# TP3 desafío de procesamiento de textos por postas\n"
      ],
      "metadata": {
        "id": "diHb5qBYaHLW"
      }
    },
    {
      "cell_type": "markdown",
      "source": [
        "# FORMA DE TRABAJO\n",
        "\n",
        "**PRIMERO LEA EL SIGUIENTE DOCUMENTO**\n",
        "\n",
        "La forma de trabajo se explica en el siguiente documento.\n",
        "\n",
        "https://docs.google.com/document/d/1Yvd9_326qb6imzx-vC16UmGhXGd5NeJEyvr176-Oknc/edit?usp=sharing\n",
        "\n",
        "Lea primero el documento **ANTES** de proceder con el notebook."
      ],
      "metadata": {
        "id": "QT9P_ZUdaMfL"
      }
    },
    {
      "cell_type": "markdown",
      "source": [
        "# 1 - Preparación de datos\n"
      ],
      "metadata": {
        "id": "xXnI75xOaPhX"
      }
    },
    {
      "cell_type": "markdown",
      "source": [
        "## 1A - Configuración del entorno\n",
        "\n",
        "* Instalar las bibliotecas necesarias para el procesamiento de texto\n",
        "* Importar las bibliotecas requeridas\n",
        "* Verificar versiones y disponibilidad\n"
      ],
      "metadata": {
        "id": "2PzKsT1laSpf"
      }
    },
    {
      "cell_type": "code",
      "source": [
        "!pip install PyPDF2"
      ],
      "metadata": {
        "id": "ivHRJ2AVj49d",
        "colab": {
          "base_uri": "https://localhost:8080/"
        },
        "outputId": "e6bb11eb-81e3-499a-affd-dd06aa59f8ac"
      },
      "execution_count": null,
      "outputs": [
        {
          "output_type": "stream",
          "name": "stdout",
          "text": [
            "Requirement already satisfied: PyPDF2 in /usr/local/lib/python3.11/dist-packages (3.0.1)\n"
          ]
        }
      ]
    },
    {
      "cell_type": "code",
      "execution_count": null,
      "metadata": {
        "id": "doNeyhrPaF9L"
      },
      "outputs": [],
      "source": [
        "import requests\n",
        "import PyPDF2\n",
        "import unicodedata\n",
        "import re\n",
        "import nltk\n",
        "from nltk.tokenize import word_tokenize\n",
        "from nltk.corpus import stopwords\n",
        "import pandas as pd\n",
        "from collections import Counter\n",
        "import matplotlib.pyplot as plt\n",
        "import spacy\n"
      ]
    },
    {
      "cell_type": "code",
      "source": [
        "!python -m spacy download es_core_news_sm"
      ],
      "metadata": {
        "id": "FjizhsDnNeK-",
        "colab": {
          "base_uri": "https://localhost:8080/"
        },
        "outputId": "0f4e7352-489e-4645-f4d0-b21c8d29537f"
      },
      "execution_count": null,
      "outputs": [
        {
          "output_type": "stream",
          "name": "stdout",
          "text": [
            "Collecting es-core-news-sm==3.8.0\n",
            "  Downloading https://github.com/explosion/spacy-models/releases/download/es_core_news_sm-3.8.0/es_core_news_sm-3.8.0-py3-none-any.whl (12.9 MB)\n",
            "\u001b[2K     \u001b[90m━━━━━━━━━━━━━━━━━━━━━━━━━━━━━━━━━━━━━━━━\u001b[0m \u001b[32m12.9/12.9 MB\u001b[0m \u001b[31m24.5 MB/s\u001b[0m eta \u001b[36m0:00:00\u001b[0m\n",
            "\u001b[?25h\u001b[38;5;2m✔ Download and installation successful\u001b[0m\n",
            "You can now load the package via spacy.load('es_core_news_sm')\n",
            "\u001b[38;5;3m⚠ Restart to reload dependencies\u001b[0m\n",
            "If you are in a Jupyter or Colab notebook, you may need to restart Python in\n",
            "order to load all the package's dependencies. You can do this by selecting the\n",
            "'Restart kernel' or 'Restart runtime' option.\n"
          ]
        }
      ]
    },
    {
      "cell_type": "markdown",
      "source": [
        "## 1B - Descarga del archivo PDF (Valentina Krabbe)\n",
        "* Descargar el PDF del libro \"El gaucho Martín Fierro\" desde el enlace proporcionado\n",
        "* Verificar que el archivo se descargó correctamente\n",
        "* Guardar en una variable la ruta al archivo"
      ],
      "metadata": {
        "id": "4kabZZ9pcSDm"
      }
    },
    {
      "cell_type": "markdown",
      "source": [
        "Se utilizó un prompt de Copilot: como descargar el pdf de un link y guardar su ruta en python.\n",
        "\n",
        "También encontré otras referencias en internet pero con codigos distintos:\n",
        "\n",
        "https://stackoverflow.com/questions/34503412/download-and-save-pdf-file-with-python-requests-module\n",
        "\n",
        "https://www.geeksforgeeks.org/python/downloading-pdfs-with-python-using-requests-and-beautifulsoup/"
      ],
      "metadata": {
        "id": "-zCh_RuChMKb"
      }
    },
    {
      "cell_type": "code",
      "source": [
        "# Primero se guarda el link de una variable para poder hacer su extracción\n",
        "url = \"https://www.argentina.gob.ar/sites/default/files/hernandez_jose_-_el_gaucho_martin_fierro.pdf\"\n"
      ],
      "metadata": {
        "id": "0uJMZTWIcRLK"
      },
      "execution_count": null,
      "outputs": []
    },
    {
      "cell_type": "code",
      "source": [
        "# Se usa otra variable para deifnir el nombre del pdf, en este caso es ''martin_fierro.pdf''\n",
        "ruta_pdf = \"martin_fierro.pdf\"\n"
      ],
      "metadata": {
        "id": "iVt9RTqjcaWN"
      },
      "execution_count": null,
      "outputs": []
    },
    {
      "cell_type": "code",
      "source": [
        "# Aca es donde se hace la petición al sitio web para poder obtener el pdf\n",
        "respuesta = requests.get(url)"
      ],
      "metadata": {
        "id": "eD5r2GnGccon"
      },
      "execution_count": null,
      "outputs": []
    },
    {
      "cell_type": "code",
      "source": [
        "# Se verifica que el pdf se haya descargado correctamente; 200 es un código numérico de http que indica que todo salió bien (es como el código 404 de error)\n",
        "if respuesta.status_code == 200:\n",
        "    with open(ruta_pdf, \"wb\") as archivo:\n",
        "        archivo.write(respuesta.content)\n",
        "    print(\"Descarga completada exitosamente.\")\n",
        "else:\n",
        "    print(f\"Error al descargar el archivo: {respuesta.status_code}\")\n"
      ],
      "metadata": {
        "id": "hJttpKVjcelm",
        "colab": {
          "base_uri": "https://localhost:8080/"
        },
        "outputId": "a5d29f1a-5eed-4fdc-8be3-e802544fead3"
      },
      "execution_count": null,
      "outputs": [
        {
          "output_type": "stream",
          "name": "stdout",
          "text": [
            "Descarga completada exitosamente.\n"
          ]
        }
      ]
    },
    {
      "cell_type": "code",
      "source": [
        "ruta_pdf"
      ],
      "metadata": {
        "id": "bkey0fPMchnZ",
        "colab": {
          "base_uri": "https://localhost:8080/",
          "height": 36
        },
        "outputId": "b0283c27-c600-4af4-b7fc-2f1d348f4fc5"
      },
      "execution_count": null,
      "outputs": [
        {
          "output_type": "execute_result",
          "data": {
            "text/plain": [
              "'martin_fierro.pdf'"
            ],
            "application/vnd.google.colaboratory.intrinsic+json": {
              "type": "string"
            }
          },
          "metadata": {},
          "execution_count": 131
        }
      ]
    },
    {
      "cell_type": "markdown",
      "source": [
        "# 2 - Extracción y limpieza de texto"
      ],
      "metadata": {
        "id": "k4NPDpbJiPG9"
      }
    },
    {
      "cell_type": "markdown",
      "source": [
        "## 2A - Extracción de texto desde PDF\n",
        "* Abrir el archivo PDF\n",
        "* Extraer el texto completo\n",
        "* Guardar el resultado en una variable `texto_completo`\n",
        "* Mostrar las primeras 500 palabras"
      ],
      "metadata": {
        "id": "bLTj-fLziYIY"
      }
    },
    {
      "cell_type": "code",
      "source": [
        "# Abrimos el PDF en modo lectura binaria\n",
        "with open(ruta_pdf, 'rb') as archivo:\n",
        "    lector = PyPDF2.PdfReader(archivo)\n",
        "    texto_completo = ''  # Donde se acumulará el texto\n",
        "\n",
        "    # Recorremos todas las páginas\n",
        "    for pagina in lector.pages:\n",
        "        texto = pagina.extract_text()\n",
        "        if texto:  # A veces puede devolver None\n",
        "            texto_completo += texto + '\\n'\n",
        "\n",
        "# Dividimos por palabras y mostramos las primeras 500\n",
        "palabras = texto_completo.split()\n",
        "primeras_500 = ' '.join(palabras[:500])\n",
        "print(primeras_500)"
      ],
      "metadata": {
        "id": "6hz6UmaBiWYQ",
        "colab": {
          "base_uri": "https://localhost:8080/"
        },
        "outputId": "332231e3-a054-404f-af05-e2fcd05b565e"
      },
      "execution_count": null,
      "outputs": [
        {
          "output_type": "stream",
          "name": "stdout",
          "text": [
            "Recursos de dominio públicoEl gaucho Martín Fierro José Hernández José Hernández El Gaucho Martín Fierro José Hernández (1834 - 1886) Imágenes de dominio público. Fuente: http://upload.wikimedia.org/wikipedia/commons/8/8c/Jos%C3%A9_Hern%C3%A1ndez_Argentino.jpghttp://upload.wikimedia.org/wikipedia/commons/3/30/El_Gaucho_Mart%C3%ADn_Fierro_2.jpg http://upload.wikimedia.org/wikipedia/commons/4/44/El_Gaucho_Mart%C3%ADn_Fierro_3.jpg http://upload.wikimedia.org/wikipedia/commons/4/47/El_Gaucho_Mart%C3%ADn_Fierro_1.jpg Página 2 El Gaucho Martín Fierro I Aquí me pongo a cantar al compás de la vigüela, que el hombre que lo desvela una pena estrordinaria, como la ave solitaria con el cantar se consuela. Pido a los santos del cielo que ayuden mi pensamiento: les pido en este momento que voy a cantar mi historia me refresquen la memoria y aclaren mi entendimiento. Vengan santos milagrosos, vengan todos en mi ayuda, que la lengua se me añuda y se me turba la vista; pido a mi Dios que me asista en una ocasión tan ruda. Yo he visto muchos cantores, con famas bien otenidas y que después de alquiridas no las quieren sustentar: parece que sin largar se cansaron en partidas. Mas ande otro criollo pasa Martín Fierro ha de pasar; nada lo hace recular, ni las fantasmas lo espantan, y dende que todos cantan yo también quiero cantar. Cantando me he de morir, cantando me han de enterrar, y cantando he de llegar al pie del Eterno Padre; dende el vientre de mi madre vine a este mundo a cantar. Que no se trabe mi lengua ni me falte la palabra; el cantar mi gloria labra y, poniéndome a cantar, cantando me han de encontrar aunque la tierra se abra. Me siento en el plan de un bajo a cantar un argumento; Página 3 como si soplara el viento hago tiritar los pastos. Con oros, copas y bastos juega allí mi pensamiento. Yo no soy cantor letrao mas si me pongo a cantar no tengo cuándo acabar y me envejezco cantando: las coplas me van brotando como agua de manantial. Con la guitarra en la mano ni las moscas se me arriman; naides me pone el pie encima, y, cuando el pecho se entona, hago gemir a la prima y llorar a la bordona. Yo soy toro en mi rodeo y torazo en rodeo ajeno; siempre me tuve por güeno y si me quieren probar salgan otros a cantar y veremos quien es menos. No me hago al lao de la güeya aunque vengan degollando; con los blandos yo soy blando y soy duro con los duros, y ninguno en un apuro me ha visto andar tutubiando. En el peligro ¡qué Cristos! el corazón se me enancha, pues toda la tierra es cancha, y de esto naides se asombre; el que se tiene por hombre donde quiera hace pata ancha. Soy gaucho, y entiéndalo como mi lengua lo esplica: para mí la tierra es chica y pudiera ser mayor; ni la víbora me pica ni quema mi frente el sol. Nací como nace el peje en el fondo de la mar; naides me puede quitar aquéllo que Dios me dio: lo que al mundo truje yo del mundo lo he de llevar. Mi gloria es vivir tan libre como el\n"
          ]
        }
      ]
    },
    {
      "cell_type": "markdown",
      "source": [
        "## 2B - Identificación del contenido relevante\n",
        "* Analizar el texto para determinar dónde comienza y termina el contenido del libro\n",
        "* Identificar y eliminar índices, prólogos, anexos\n",
        "* Documentar los criterios utilizados para esta selección\n",
        "* Guardar en `texto_libro` solo el contenido del libro"
      ],
      "metadata": {
        "id": "hQrgjlYc_WOH"
      }
    },
    {
      "cell_type": "code",
      "source": [
        "def normalizar(texto):\n",
        "    # Pasa todo a minúsculas\n",
        "    texto = texto.lower()\n",
        "    texto = ''.join(c for c in unicodedata.normalize('NFD', texto) if unicodedata.category(c) != 'Mn')\n",
        "    return texto\n",
        "\n",
        "# Normalizamos el texto\n",
        "texto_normalizado = normalizar(texto_completo)\n",
        "\n",
        "# Obtenemos solo el texto que comienza y termina con los versos clave\n",
        "inicio_patron = r'aqui me pongo a cantar'\n",
        "fin_patron = r'males que conocen todos\\s+pero que naides conto'\n",
        "\n",
        "inicio = re.search(inicio_patron, texto_normalizado)\n",
        "fin = re.search(fin_patron, texto_normalizado)\n",
        "\n",
        "if inicio and fin:\n",
        "    texto_libro = texto_completo[inicio.start():fin.end()]\n",
        "\n",
        "    # Elimina líneas tipo \"Página 3\", \"Página 15\", etc.\n",
        "    texto_libro = re.sub(r'^\\s*Página\\s+\\d+\\s*$', '', texto_libro, flags=re.MULTILINE)\n",
        "\n",
        "    # Elimina títulos de cantos (números romanos con o sin texto)\n",
        "    texto_libro = re.sub(r'^\\s*[IVXLCDM]+\\s*(CRUZ|MART[IÍ]N\\s+FIERRO)?\\s*$', '', texto_libro, flags=re.MULTILINE)\n",
        "else:\n",
        "    print(\"No se pudo localizar el inicio o fin del texto del libro.\")"
      ],
      "metadata": {
        "id": "bbtsepXukFn8"
      },
      "execution_count": null,
      "outputs": []
    },
    {
      "cell_type": "code",
      "source": [
        "print(texto_libro[:300])"
      ],
      "metadata": {
        "id": "bmLRP8WOD4zz",
        "colab": {
          "base_uri": "https://localhost:8080/"
        },
        "outputId": "a724f3f8-2670-40fd-aa4f-833e64cfb94c"
      },
      "execution_count": null,
      "outputs": [
        {
          "output_type": "stream",
          "name": "stdout",
          "text": [
            "Aquí me pongo a cantar\n",
            "al compás de la vigüela,\n",
            "que el hombre que lo desvela\n",
            "una pena estrordinaria,\n",
            "como la ave solitaria\n",
            "con el cantar se consuela.\n",
            "Pido a los santos del cielo\n",
            "que ayuden mi pensamiento:\n",
            "les pido en este momento\n",
            "que voy a cantar mi historia\n",
            "me refresquen la memoria\n",
            "y aclaren mi ent\n"
          ]
        }
      ]
    },
    {
      "cell_type": "markdown",
      "source": [
        "## 2C - Limpieza del texto\n",
        "* Eliminar caracteres especiales y no deseados\n",
        "* Normalizar espacios, saltos de línea y puntuación\n",
        "* Convertir a minúsculas si es necesario\n",
        "* Guardar en `texto_limpio` el resultado final"
      ],
      "metadata": {
        "id": "eEHYRNyGEMJ0"
      }
    },
    {
      "cell_type": "code",
      "source": [
        "def limpiar_martin_fierro(texto):\n",
        "      # Normalizar a NFKD para separar las letras de los acentos\n",
        "    texto = unicodedata.normalize(\"NFKD\", texto)\n",
        "\n",
        "    # Eliminar los caracteres de combinación (acentos)\n",
        "    texto = ''.join([c for c in texto if not unicodedata.combining(c)])\n",
        "\n",
        "    # Pasar todo a minúsculas\n",
        "    texto = texto.lower()\n",
        "\n",
        "    # Eliminar signos de puntuación y otros símbolos\n",
        "    texto = re.sub(r'[¡!¿?\\'\\\"“”‘’«»…]', '', texto)\n",
        "\n",
        "    # Eliminar cualquier caracter que no sea letra sin tilde o espacio\n",
        "    texto = re.sub(r'[^a-zñ\\s]', '', texto)\n",
        "\n",
        "    # Reemplazar múltiples espacios por uno solo\n",
        "    texto = re.sub(r'\\s+', ' ', texto).strip()\n",
        "\n",
        "    return texto"
      ],
      "metadata": {
        "id": "zPuh-kvSEQD0"
      },
      "execution_count": null,
      "outputs": []
    },
    {
      "cell_type": "code",
      "source": [
        "texto_limpio = limpiar_martin_fierro(texto_libro)\n",
        "texto_limpio[:400]"
      ],
      "metadata": {
        "id": "XhRMeVNBG-tZ",
        "colab": {
          "base_uri": "https://localhost:8080/",
          "height": 54
        },
        "outputId": "f84ae8bf-92b1-4b8d-8dc4-e460c0e12947"
      },
      "execution_count": null,
      "outputs": [
        {
          "output_type": "execute_result",
          "data": {
            "text/plain": [
              "'aqui me pongo a cantar al compas de la viguela que el hombre que lo desvela una pena estrordinaria como la ave solitaria con el cantar se consuela pido a los santos del cielo que ayuden mi pensamiento les pido en este momento que voy a cantar mi historia me refresquen la memoria y aclaren mi entendimiento vengan santos milagrosos vengan todos en mi ayuda que la lengua se me anuda y se me turba la '"
            ],
            "application/vnd.google.colaboratory.intrinsic+json": {
              "type": "string"
            }
          },
          "metadata": {},
          "execution_count": 136
        }
      ]
    },
    {
      "cell_type": "markdown",
      "source": [
        "# 3 - Análisis de Stop-words\n",
        "\n",
        "## 3A - Identificación de stop-words\n",
        "* Tokenizar el texto limpio\n",
        "* Utilizar recursos de NLTK o SpaCy para identificar stop-words en español\n",
        "* Crear una lista `stop_words` con todas las stop-words identificadas\n",
        "* Mostrar las primeras 20 stop-words"
      ],
      "metadata": {
        "id": "keLdB-3mHDp2"
      }
    },
    {
      "cell_type": "code",
      "source": [
        "# Descargar el tokenizador y las stopwords\n",
        "nltk.download('punkt')\n",
        "nltk.download('stopwords')\n",
        "# Descargar el recurso punkt_tab para español\n",
        "nltk.download('punkt_tab')"
      ],
      "metadata": {
        "id": "hE_VpZ0dJXiA",
        "colab": {
          "base_uri": "https://localhost:8080/"
        },
        "outputId": "3d1d31f6-55ef-4156-ad1f-61105f468858"
      },
      "execution_count": null,
      "outputs": [
        {
          "output_type": "stream",
          "name": "stderr",
          "text": [
            "[nltk_data] Downloading package punkt to /root/nltk_data...\n",
            "[nltk_data]   Package punkt is already up-to-date!\n",
            "[nltk_data] Downloading package stopwords to /root/nltk_data...\n",
            "[nltk_data]   Package stopwords is already up-to-date!\n",
            "[nltk_data] Downloading package punkt_tab to /root/nltk_data...\n",
            "[nltk_data]   Package punkt_tab is already up-to-date!\n"
          ]
        },
        {
          "output_type": "execute_result",
          "data": {
            "text/plain": [
              "True"
            ]
          },
          "metadata": {},
          "execution_count": 137
        }
      ]
    },
    {
      "cell_type": "code",
      "source": [
        "# Tokenizar el texto limpio\n",
        "tokens = word_tokenize(texto_limpio, language='spanish')\n",
        "\n",
        "print(tokens[:20])"
      ],
      "metadata": {
        "id": "P1I-0HJfJmMr",
        "colab": {
          "base_uri": "https://localhost:8080/"
        },
        "outputId": "7b841dd9-8d55-423e-f26b-f3bd6319b48c"
      },
      "execution_count": null,
      "outputs": [
        {
          "output_type": "stream",
          "name": "stdout",
          "text": [
            "['aqui', 'me', 'pongo', 'a', 'cantar', 'al', 'compas', 'de', 'la', 'viguela', 'que', 'el', 'hombre', 'que', 'lo', 'desvela', 'una', 'pena', 'estrordinaria', 'como']\n"
          ]
        }
      ]
    },
    {
      "cell_type": "code",
      "source": [
        "# Obtener la lista de stop-words en español\n",
        "stop_words = set(stopwords.words('spanish'))\n",
        "\n",
        "# Filtrar tokens que son stop-words\n",
        "stop_words = [palabra for palabra in tokens if palabra.lower() in stop_words]\n",
        "\n",
        "# Mostrar las primeras 20 stop-words encontradas en el texto\n",
        "print(stop_words[:20])\n"
      ],
      "metadata": {
        "id": "ilCvhLMcHAjD",
        "colab": {
          "base_uri": "https://localhost:8080/"
        },
        "outputId": "c6ef2e9d-1a3a-45dd-eb4e-20c2675bd2a1"
      },
      "execution_count": null,
      "outputs": [
        {
          "output_type": "stream",
          "name": "stdout",
          "text": [
            "['me', 'a', 'al', 'de', 'la', 'que', 'el', 'que', 'lo', 'una', 'como', 'la', 'con', 'el', 'se', 'a', 'los', 'del', 'que', 'mi']\n"
          ]
        }
      ]
    },
    {
      "cell_type": "markdown",
      "source": [
        "## 3B - Análisis de frecuencia de stop-words\n",
        "* Contar la frecuencia de cada stop-word en el texto\n",
        "* Crear un DataFrame con las stop-words y sus frecuencias\n",
        "* Ordenar por frecuencia descendente\n",
        "* Mostrar las 10 stop-words más frecuentes"
      ],
      "metadata": {
        "id": "VDEQ0Rt6J-Qs"
      }
    },
    {
      "cell_type": "code",
      "source": [
        "# Cuenta la frecuencia de las stopwords\n",
        "frecuencia_stopwords = Counter(stop_words)"
      ],
      "metadata": {
        "id": "mjDPmen9JVPO"
      },
      "execution_count": null,
      "outputs": []
    },
    {
      "cell_type": "code",
      "source": [
        "# Crea un DataFrame con las stopwords y sus frecuencias\n",
        "df_stopwords = pd.DataFrame(list(frecuencia_stopwords.items()), columns=['Stopword', 'Frecuencia'])"
      ],
      "metadata": {
        "id": "FMVvaKHZKw2e"
      },
      "execution_count": null,
      "outputs": []
    },
    {
      "cell_type": "code",
      "source": [
        "# Se ordenan las stopwords por frecuencia descendiente\n",
        "df_stopwords = df_stopwords.sort_values(by='Frecuencia', ascending=False)"
      ],
      "metadata": {
        "id": "8cb6sJaYLJ3O"
      },
      "execution_count": null,
      "outputs": []
    },
    {
      "cell_type": "code",
      "source": [
        "# Se muestran las 10 stopwords más frecuentes\n",
        "df_stopwords.head(10)\n"
      ],
      "metadata": {
        "id": "IIFcoe6HLS5K",
        "colab": {
          "base_uri": "https://localhost:8080/",
          "height": 363
        },
        "outputId": "73ca00b1-13ff-4f94-ad25-668ffc076cb9"
      },
      "execution_count": null,
      "outputs": [
        {
          "output_type": "execute_result",
          "data": {
            "text/plain": [
              "   Stopword  Frecuencia\n",
              "5       que         460\n",
              "18        y         441\n",
              "6        el         388\n",
              "4        la         309\n",
              "3        de         274\n",
              "1         a         256\n",
              "16       en         241\n",
              "0        me         231\n",
              "23       no         200\n",
              "31       un         186"
            ],
            "text/html": [
              "\n",
              "  <div id=\"df-3de2fa70-d492-4e57-8e19-7c434d669111\" class=\"colab-df-container\">\n",
              "    <div>\n",
              "<style scoped>\n",
              "    .dataframe tbody tr th:only-of-type {\n",
              "        vertical-align: middle;\n",
              "    }\n",
              "\n",
              "    .dataframe tbody tr th {\n",
              "        vertical-align: top;\n",
              "    }\n",
              "\n",
              "    .dataframe thead th {\n",
              "        text-align: right;\n",
              "    }\n",
              "</style>\n",
              "<table border=\"1\" class=\"dataframe\">\n",
              "  <thead>\n",
              "    <tr style=\"text-align: right;\">\n",
              "      <th></th>\n",
              "      <th>Stopword</th>\n",
              "      <th>Frecuencia</th>\n",
              "    </tr>\n",
              "  </thead>\n",
              "  <tbody>\n",
              "    <tr>\n",
              "      <th>5</th>\n",
              "      <td>que</td>\n",
              "      <td>460</td>\n",
              "    </tr>\n",
              "    <tr>\n",
              "      <th>18</th>\n",
              "      <td>y</td>\n",
              "      <td>441</td>\n",
              "    </tr>\n",
              "    <tr>\n",
              "      <th>6</th>\n",
              "      <td>el</td>\n",
              "      <td>388</td>\n",
              "    </tr>\n",
              "    <tr>\n",
              "      <th>4</th>\n",
              "      <td>la</td>\n",
              "      <td>309</td>\n",
              "    </tr>\n",
              "    <tr>\n",
              "      <th>3</th>\n",
              "      <td>de</td>\n",
              "      <td>274</td>\n",
              "    </tr>\n",
              "    <tr>\n",
              "      <th>1</th>\n",
              "      <td>a</td>\n",
              "      <td>256</td>\n",
              "    </tr>\n",
              "    <tr>\n",
              "      <th>16</th>\n",
              "      <td>en</td>\n",
              "      <td>241</td>\n",
              "    </tr>\n",
              "    <tr>\n",
              "      <th>0</th>\n",
              "      <td>me</td>\n",
              "      <td>231</td>\n",
              "    </tr>\n",
              "    <tr>\n",
              "      <th>23</th>\n",
              "      <td>no</td>\n",
              "      <td>200</td>\n",
              "    </tr>\n",
              "    <tr>\n",
              "      <th>31</th>\n",
              "      <td>un</td>\n",
              "      <td>186</td>\n",
              "    </tr>\n",
              "  </tbody>\n",
              "</table>\n",
              "</div>\n",
              "    <div class=\"colab-df-buttons\">\n",
              "\n",
              "  <div class=\"colab-df-container\">\n",
              "    <button class=\"colab-df-convert\" onclick=\"convertToInteractive('df-3de2fa70-d492-4e57-8e19-7c434d669111')\"\n",
              "            title=\"Convert this dataframe to an interactive table.\"\n",
              "            style=\"display:none;\">\n",
              "\n",
              "  <svg xmlns=\"http://www.w3.org/2000/svg\" height=\"24px\" viewBox=\"0 -960 960 960\">\n",
              "    <path d=\"M120-120v-720h720v720H120Zm60-500h600v-160H180v160Zm220 220h160v-160H400v160Zm0 220h160v-160H400v160ZM180-400h160v-160H180v160Zm440 0h160v-160H620v160ZM180-180h160v-160H180v160Zm440 0h160v-160H620v160Z\"/>\n",
              "  </svg>\n",
              "    </button>\n",
              "\n",
              "  <style>\n",
              "    .colab-df-container {\n",
              "      display:flex;\n",
              "      gap: 12px;\n",
              "    }\n",
              "\n",
              "    .colab-df-convert {\n",
              "      background-color: #E8F0FE;\n",
              "      border: none;\n",
              "      border-radius: 50%;\n",
              "      cursor: pointer;\n",
              "      display: none;\n",
              "      fill: #1967D2;\n",
              "      height: 32px;\n",
              "      padding: 0 0 0 0;\n",
              "      width: 32px;\n",
              "    }\n",
              "\n",
              "    .colab-df-convert:hover {\n",
              "      background-color: #E2EBFA;\n",
              "      box-shadow: 0px 1px 2px rgba(60, 64, 67, 0.3), 0px 1px 3px 1px rgba(60, 64, 67, 0.15);\n",
              "      fill: #174EA6;\n",
              "    }\n",
              "\n",
              "    .colab-df-buttons div {\n",
              "      margin-bottom: 4px;\n",
              "    }\n",
              "\n",
              "    [theme=dark] .colab-df-convert {\n",
              "      background-color: #3B4455;\n",
              "      fill: #D2E3FC;\n",
              "    }\n",
              "\n",
              "    [theme=dark] .colab-df-convert:hover {\n",
              "      background-color: #434B5C;\n",
              "      box-shadow: 0px 1px 3px 1px rgba(0, 0, 0, 0.15);\n",
              "      filter: drop-shadow(0px 1px 2px rgba(0, 0, 0, 0.3));\n",
              "      fill: #FFFFFF;\n",
              "    }\n",
              "  </style>\n",
              "\n",
              "    <script>\n",
              "      const buttonEl =\n",
              "        document.querySelector('#df-3de2fa70-d492-4e57-8e19-7c434d669111 button.colab-df-convert');\n",
              "      buttonEl.style.display =\n",
              "        google.colab.kernel.accessAllowed ? 'block' : 'none';\n",
              "\n",
              "      async function convertToInteractive(key) {\n",
              "        const element = document.querySelector('#df-3de2fa70-d492-4e57-8e19-7c434d669111');\n",
              "        const dataTable =\n",
              "          await google.colab.kernel.invokeFunction('convertToInteractive',\n",
              "                                                    [key], {});\n",
              "        if (!dataTable) return;\n",
              "\n",
              "        const docLinkHtml = 'Like what you see? Visit the ' +\n",
              "          '<a target=\"_blank\" href=https://colab.research.google.com/notebooks/data_table.ipynb>data table notebook</a>'\n",
              "          + ' to learn more about interactive tables.';\n",
              "        element.innerHTML = '';\n",
              "        dataTable['output_type'] = 'display_data';\n",
              "        await google.colab.output.renderOutput(dataTable, element);\n",
              "        const docLink = document.createElement('div');\n",
              "        docLink.innerHTML = docLinkHtml;\n",
              "        element.appendChild(docLink);\n",
              "      }\n",
              "    </script>\n",
              "  </div>\n",
              "\n",
              "\n",
              "    <div id=\"df-789bb290-d76c-4ba7-8de0-e68d29200893\">\n",
              "      <button class=\"colab-df-quickchart\" onclick=\"quickchart('df-789bb290-d76c-4ba7-8de0-e68d29200893')\"\n",
              "                title=\"Suggest charts\"\n",
              "                style=\"display:none;\">\n",
              "\n",
              "<svg xmlns=\"http://www.w3.org/2000/svg\" height=\"24px\"viewBox=\"0 0 24 24\"\n",
              "     width=\"24px\">\n",
              "    <g>\n",
              "        <path d=\"M19 3H5c-1.1 0-2 .9-2 2v14c0 1.1.9 2 2 2h14c1.1 0 2-.9 2-2V5c0-1.1-.9-2-2-2zM9 17H7v-7h2v7zm4 0h-2V7h2v10zm4 0h-2v-4h2v4z\"/>\n",
              "    </g>\n",
              "</svg>\n",
              "      </button>\n",
              "\n",
              "<style>\n",
              "  .colab-df-quickchart {\n",
              "      --bg-color: #E8F0FE;\n",
              "      --fill-color: #1967D2;\n",
              "      --hover-bg-color: #E2EBFA;\n",
              "      --hover-fill-color: #174EA6;\n",
              "      --disabled-fill-color: #AAA;\n",
              "      --disabled-bg-color: #DDD;\n",
              "  }\n",
              "\n",
              "  [theme=dark] .colab-df-quickchart {\n",
              "      --bg-color: #3B4455;\n",
              "      --fill-color: #D2E3FC;\n",
              "      --hover-bg-color: #434B5C;\n",
              "      --hover-fill-color: #FFFFFF;\n",
              "      --disabled-bg-color: #3B4455;\n",
              "      --disabled-fill-color: #666;\n",
              "  }\n",
              "\n",
              "  .colab-df-quickchart {\n",
              "    background-color: var(--bg-color);\n",
              "    border: none;\n",
              "    border-radius: 50%;\n",
              "    cursor: pointer;\n",
              "    display: none;\n",
              "    fill: var(--fill-color);\n",
              "    height: 32px;\n",
              "    padding: 0;\n",
              "    width: 32px;\n",
              "  }\n",
              "\n",
              "  .colab-df-quickchart:hover {\n",
              "    background-color: var(--hover-bg-color);\n",
              "    box-shadow: 0 1px 2px rgba(60, 64, 67, 0.3), 0 1px 3px 1px rgba(60, 64, 67, 0.15);\n",
              "    fill: var(--button-hover-fill-color);\n",
              "  }\n",
              "\n",
              "  .colab-df-quickchart-complete:disabled,\n",
              "  .colab-df-quickchart-complete:disabled:hover {\n",
              "    background-color: var(--disabled-bg-color);\n",
              "    fill: var(--disabled-fill-color);\n",
              "    box-shadow: none;\n",
              "  }\n",
              "\n",
              "  .colab-df-spinner {\n",
              "    border: 2px solid var(--fill-color);\n",
              "    border-color: transparent;\n",
              "    border-bottom-color: var(--fill-color);\n",
              "    animation:\n",
              "      spin 1s steps(1) infinite;\n",
              "  }\n",
              "\n",
              "  @keyframes spin {\n",
              "    0% {\n",
              "      border-color: transparent;\n",
              "      border-bottom-color: var(--fill-color);\n",
              "      border-left-color: var(--fill-color);\n",
              "    }\n",
              "    20% {\n",
              "      border-color: transparent;\n",
              "      border-left-color: var(--fill-color);\n",
              "      border-top-color: var(--fill-color);\n",
              "    }\n",
              "    30% {\n",
              "      border-color: transparent;\n",
              "      border-left-color: var(--fill-color);\n",
              "      border-top-color: var(--fill-color);\n",
              "      border-right-color: var(--fill-color);\n",
              "    }\n",
              "    40% {\n",
              "      border-color: transparent;\n",
              "      border-right-color: var(--fill-color);\n",
              "      border-top-color: var(--fill-color);\n",
              "    }\n",
              "    60% {\n",
              "      border-color: transparent;\n",
              "      border-right-color: var(--fill-color);\n",
              "    }\n",
              "    80% {\n",
              "      border-color: transparent;\n",
              "      border-right-color: var(--fill-color);\n",
              "      border-bottom-color: var(--fill-color);\n",
              "    }\n",
              "    90% {\n",
              "      border-color: transparent;\n",
              "      border-bottom-color: var(--fill-color);\n",
              "    }\n",
              "  }\n",
              "</style>\n",
              "\n",
              "      <script>\n",
              "        async function quickchart(key) {\n",
              "          const quickchartButtonEl =\n",
              "            document.querySelector('#' + key + ' button');\n",
              "          quickchartButtonEl.disabled = true;  // To prevent multiple clicks.\n",
              "          quickchartButtonEl.classList.add('colab-df-spinner');\n",
              "          try {\n",
              "            const charts = await google.colab.kernel.invokeFunction(\n",
              "                'suggestCharts', [key], {});\n",
              "          } catch (error) {\n",
              "            console.error('Error during call to suggestCharts:', error);\n",
              "          }\n",
              "          quickchartButtonEl.classList.remove('colab-df-spinner');\n",
              "          quickchartButtonEl.classList.add('colab-df-quickchart-complete');\n",
              "        }\n",
              "        (() => {\n",
              "          let quickchartButtonEl =\n",
              "            document.querySelector('#df-789bb290-d76c-4ba7-8de0-e68d29200893 button');\n",
              "          quickchartButtonEl.style.display =\n",
              "            google.colab.kernel.accessAllowed ? 'block' : 'none';\n",
              "        })();\n",
              "      </script>\n",
              "    </div>\n",
              "\n",
              "    </div>\n",
              "  </div>\n"
            ],
            "application/vnd.google.colaboratory.intrinsic+json": {
              "type": "dataframe",
              "variable_name": "df_stopwords",
              "summary": "{\n  \"name\": \"df_stopwords\",\n  \"rows\": 114,\n  \"fields\": [\n    {\n      \"column\": \"Stopword\",\n      \"properties\": {\n        \"dtype\": \"string\",\n        \"num_unique_values\": 114,\n        \"samples\": [\n          \"fue\",\n          \"de\",\n          \"entre\"\n        ],\n        \"semantic_type\": \"\",\n        \"description\": \"\"\n      }\n    },\n    {\n      \"column\": \"Frecuencia\",\n      \"properties\": {\n        \"dtype\": \"number\",\n        \"std\": 90,\n        \"min\": 1,\n        \"max\": 460,\n        \"num_unique_values\": 54,\n        \"samples\": [\n          81,\n          5,\n          6\n        ],\n        \"semantic_type\": \"\",\n        \"description\": \"\"\n      }\n    }\n  ]\n}"
            }
          },
          "metadata": {},
          "execution_count": 143
        }
      ]
    },
    {
      "cell_type": "markdown",
      "source": [
        "## 3C - Visualización de stop-words\n",
        "* Crear un gráfico de barras con las 15 stop-words más frecuentes\n",
        "* Añadir título y etiquetas a los ejes\n",
        "* Personalizar el aspecto visual del gráfico\n",
        "* Guardar la figura resultante"
      ],
      "metadata": {
        "id": "-XNJaVDXL7We"
      }
    },
    {
      "cell_type": "code",
      "source": [
        "# Seleccionamos las 15 stopwords más frecuentes\n",
        "top15 = df_stopwords.head(15)\n",
        "\n",
        "# Creamos el gráfico de barras horizontales\n",
        "plt.figure(figsize=(10, 6))\n",
        "plt.barh(top15['Stopword'], top15['Frecuencia'], color='salmon')\n",
        "plt.xlabel('Frecuencia', fontsize=12)\n",
        "plt.ylabel('Stop-word', fontsize=12)\n",
        "plt.title('Top 15 Stop-words más frecuentes en el Martín Fierro', fontsize=14)\n",
        "plt.gca().invert_yaxis()  # Para que la más frecuente aparezca arriba\n",
        "plt.grid(axis='x', linestyle='--', alpha=0.4)\n",
        "plt.tight_layout()\n",
        "\n",
        "# Guardamos la figura como archivo PNG\n",
        "plt.savefig(\"stopwords_frecuentes.png\")\n",
        "plt.show()\n"
      ],
      "metadata": {
        "id": "uyU-kFqjLbLk",
        "colab": {
          "base_uri": "https://localhost:8080/",
          "height": 607
        },
        "outputId": "afb3c321-9224-44ba-d42d-aa7a36edc48d"
      },
      "execution_count": null,
      "outputs": [
        {
          "output_type": "display_data",
          "data": {
            "text/plain": [
              "<Figure size 1000x600 with 1 Axes>"
            ],
            "image/png": "[encoded data removed]"
          },
          "metadata": {}
        }
      ]
    },
    {
      "cell_type": "markdown",
      "source": [
        "# 4 - Análisis de vocabulario"
      ],
      "metadata": {
        "id": "LMJI1QYTMXQi"
      }
    },
    {
      "cell_type": "markdown",
      "source": [
        "## 4A - Extracción del vocabulario completo\n",
        "* Tokenizar el texto limpio\n",
        "* Eliminar las stop-words identificadas en el punto 3\n",
        "* Crear una lista `vocabulario_completo` con todos los tokens resultantes\n",
        "* Mostrar los primeros 30 elementos"
      ],
      "metadata": {
        "id": "WCl7zgR_Mfi-"
      }
    },
    {
      "cell_type": "code",
      "source": [
        "# Cargamos el modelo en español\n",
        "nlp = spacy.load('es_core_news_sm')"
      ],
      "metadata": {
        "id": "R9fEV2MMMMYO"
      },
      "execution_count": null,
      "outputs": []
    },
    {
      "cell_type": "code",
      "source": [
        "# Procesamos el texto limpio\n",
        "doc = nlp(texto_limpio)\n",
        "doc[:30]"
      ],
      "metadata": {
        "id": "gbJZKnAfQhWi",
        "colab": {
          "base_uri": "https://localhost:8080/"
        },
        "outputId": "eb19b797-392a-4ef5-a315-a0eb20919ff5"
      },
      "execution_count": null,
      "outputs": [
        {
          "output_type": "execute_result",
          "data": {
            "text/plain": [
              "aqui me pongo a cantar al compas de la viguela que el hombre que lo desvela una pena estrordinaria como la ave solitaria con el cantar se consuela pido a"
            ]
          },
          "metadata": {},
          "execution_count": 146
        }
      ]
    },
    {
      "cell_type": "code",
      "source": [
        "# Filtramos: eliminamos stop-words y palabras que no sean alfabéticas\n",
        "vocabulario_completo = [token.text for token in doc if not token.is_stop and token.is_alpha]"
      ],
      "metadata": {
        "id": "rQj27IY-O2ju"
      },
      "execution_count": null,
      "outputs": []
    },
    {
      "cell_type": "code",
      "source": [
        "# Mostramos los primeros 30\n",
        "print(vocabulario_completo[:30])"
      ],
      "metadata": {
        "id": "jdahO7CtO7SX",
        "colab": {
          "base_uri": "https://localhost:8080/"
        },
        "outputId": "399d076a-6bca-4832-8b92-40fefaa4bbd4"
      },
      "execution_count": null,
      "outputs": [
        {
          "output_type": "stream",
          "name": "stdout",
          "text": [
            "['pongo', 'cantar', 'compas', 'viguela', 'hombre', 'desvela', 'pena', 'estrordinaria', 'ave', 'solitaria', 'cantar', 'consuela', 'pido', 'santos', 'cielo', 'ayuden', 'pensamiento', 'pido', 'momento', 'cantar', 'historia', 'refresquen', 'memoria', 'aclaren', 'entendimiento', 'vengan', 'santos', 'milagrosos', 'vengan', 'ayuda']\n"
          ]
        }
      ]
    },
    {
      "cell_type": "markdown",
      "source": [
        "## 4B - Análisis del vocabulario único\n",
        "* Crear un conjunto con palabras únicas del vocabulario\n",
        "* Almacenar en `vocabulario_unico`\n",
        "* Mostrar la cantidad de palabras únicas vs. total de palabras\n",
        "* Calcular la diversidad léxica (palabras únicas / total)"
      ],
      "metadata": {
        "id": "1aLkEi0xRY-b"
      }
    },
    {
      "cell_type": "code",
      "source": [
        "# Se crea la variable vocabulario_unico donde se guardan solo los tokens únicos del vocabulario completo\n",
        "vocabulario_unico = set(vocabulario_completo)"
      ],
      "metadata": {
        "id": "YqawHI5-Qlmu"
      },
      "execution_count": null,
      "outputs": []
    },
    {
      "cell_type": "code",
      "source": [
        "print('Cantidad de palabras únicas:', len(vocabulario_unico))"
      ],
      "metadata": {
        "id": "YoAKDzK8R2Zf",
        "colab": {
          "base_uri": "https://localhost:8080/"
        },
        "outputId": "beb4185a-ceb9-410f-be1a-6d529a4088aa"
      },
      "execution_count": null,
      "outputs": [
        {
          "output_type": "stream",
          "name": "stdout",
          "text": [
            "Cantidad de palabras únicas: 2518\n"
          ]
        }
      ]
    },
    {
      "cell_type": "code",
      "source": [
        "print('Cantidad de palabras totales:', len(vocabulario_completo))"
      ],
      "metadata": {
        "id": "Hja_ojC2R4To",
        "colab": {
          "base_uri": "https://localhost:8080/"
        },
        "outputId": "d3d569e7-42e0-4f8b-f0e5-8516e21deb3b"
      },
      "execution_count": null,
      "outputs": [
        {
          "output_type": "stream",
          "name": "stdout",
          "text": [
            "Cantidad de palabras totales: 4658\n"
          ]
        }
      ]
    },
    {
      "cell_type": "code",
      "source": [
        "diversidad_lexica = len(vocabulario_unico) / len(vocabulario_completo)\n",
        "print(\"Diversidad léxica:\", diversidad_lexica)"
      ],
      "metadata": {
        "id": "veYfqZwER6ui",
        "colab": {
          "base_uri": "https://localhost:8080/"
        },
        "outputId": "c7b896e5-8e7e-4d21-f3fe-b3d2d4893af2"
      },
      "execution_count": null,
      "outputs": [
        {
          "output_type": "stream",
          "name": "stdout",
          "text": [
            "Diversidad léxica: 0.5405753542292829\n"
          ]
        }
      ]
    },
    {
      "cell_type": "markdown",
      "source": [
        "## 4C - Frecuencia del vocabulario\n",
        "* Contar la frecuencia de cada palabra en el vocabulario\n",
        "* Crear un DataFrame con las palabras y sus frecuencias\n",
        "* Ordenar por frecuencia descendente\n",
        "* Mostrar las 20 palabras más frecuentes"
      ],
      "metadata": {
        "id": "PnRVRhGsSB9i"
      }
    },
    {
      "cell_type": "code",
      "source": [
        "# Contamos la frecuencia de cada palabra en el vocabulario\n",
        "frecuencias = Counter(vocabulario_completo)"
      ],
      "metadata": {
        "id": "n_6gp6ZPTIeW"
      },
      "execution_count": null,
      "outputs": []
    },
    {
      "cell_type": "code",
      "source": [
        "# Creamos un DataFrame a partir del conteo\n",
        "df_vocabulario = pd.DataFrame(frecuencias.items(), columns=['Palabra', 'Frecuencia'])"
      ],
      "metadata": {
        "id": "4stbbB1TTK05"
      },
      "execution_count": null,
      "outputs": []
    },
    {
      "cell_type": "code",
      "source": [
        "# Ordenamos de mayor a menor\n",
        "df_vocabulario = df_vocabulario.sort_values(by='Frecuencia', ascending=False)"
      ],
      "metadata": {
        "id": "hKws63OnTM3Z"
      },
      "execution_count": null,
      "outputs": []
    },
    {
      "cell_type": "code",
      "source": [
        "# Mostramos las 20 palabras más frecuentes\n",
        "df_vocabulario.head(20)"
      ],
      "metadata": {
        "id": "n9iymqZCR924",
        "colab": {
          "base_uri": "https://localhost:8080/",
          "height": 676
        },
        "outputId": "d8308a21-3c05-4d35-b550-be607e4b53a0"
      },
      "execution_count": null,
      "outputs": [
        {
          "output_type": "execute_result",
          "data": {
            "text/plain": [
              "      Palabra  Frecuencia\n",
              "202        pa          66\n",
              "134    gaucho          55\n",
              "316      ansi          25\n",
              "4      hombre          24\n",
              "98     naides          20\n",
              "52      dende          20\n",
              "427     mesmo          19\n",
              "1004   suerte          18\n",
              "223     tenia          18\n",
              "29       dios          18\n",
              "831     amigo          17\n",
              "419     pobre          17\n",
              "43       ande          17\n",
              "188     gente          16\n",
              "31    ocasion          16\n",
              "201      vida          15\n",
              "225     mujer          14\n",
              "1      cantar          14\n",
              "1102     dije          14\n",
              "73     tierra          13"
            ],
            "text/html": [
              "\n",
              "  <div id=\"df-5cd284a4-55bf-4693-ac5d-065a124f53a3\" class=\"colab-df-container\">\n",
              "    <div>\n",
              "<style scoped>\n",
              "    .dataframe tbody tr th:only-of-type {\n",
              "        vertical-align: middle;\n",
              "    }\n",
              "\n",
              "    .dataframe tbody tr th {\n",
              "        vertical-align: top;\n",
              "    }\n",
              "\n",
              "    .dataframe thead th {\n",
              "        text-align: right;\n",
              "    }\n",
              "</style>\n",
              "<table border=\"1\" class=\"dataframe\">\n",
              "  <thead>\n",
              "    <tr style=\"text-align: right;\">\n",
              "      <th></th>\n",
              "      <th>Palabra</th>\n",
              "      <th>Frecuencia</th>\n",
              "    </tr>\n",
              "  </thead>\n",
              "  <tbody>\n",
              "    <tr>\n",
              "      <th>202</th>\n",
              "      <td>pa</td>\n",
              "      <td>66</td>\n",
              "    </tr>\n",
              "    <tr>\n",
              "      <th>134</th>\n",
              "      <td>gaucho</td>\n",
              "      <td>55</td>\n",
              "    </tr>\n",
              "    <tr>\n",
              "      <th>316</th>\n",
              "      <td>ansi</td>\n",
              "      <td>25</td>\n",
              "    </tr>\n",
              "    <tr>\n",
              "      <th>4</th>\n",
              "      <td>hombre</td>\n",
              "      <td>24</td>\n",
              "    </tr>\n",
              "    <tr>\n",
              "      <th>98</th>\n",
              "      <td>naides</td>\n",
              "      <td>20</td>\n",
              "    </tr>\n",
              "    <tr>\n",
              "      <th>52</th>\n",
              "      <td>dende</td>\n",
              "      <td>20</td>\n",
              "    </tr>\n",
              "    <tr>\n",
              "      <th>427</th>\n",
              "      <td>mesmo</td>\n",
              "      <td>19</td>\n",
              "    </tr>\n",
              "    <tr>\n",
              "      <th>1004</th>\n",
              "      <td>suerte</td>\n",
              "      <td>18</td>\n",
              "    </tr>\n",
              "    <tr>\n",
              "      <th>223</th>\n",
              "      <td>tenia</td>\n",
              "      <td>18</td>\n",
              "    </tr>\n",
              "    <tr>\n",
              "      <th>29</th>\n",
              "      <td>dios</td>\n",
              "      <td>18</td>\n",
              "    </tr>\n",
              "    <tr>\n",
              "      <th>831</th>\n",
              "      <td>amigo</td>\n",
              "      <td>17</td>\n",
              "    </tr>\n",
              "    <tr>\n",
              "      <th>419</th>\n",
              "      <td>pobre</td>\n",
              "      <td>17</td>\n",
              "    </tr>\n",
              "    <tr>\n",
              "      <th>43</th>\n",
              "      <td>ande</td>\n",
              "      <td>17</td>\n",
              "    </tr>\n",
              "    <tr>\n",
              "      <th>188</th>\n",
              "      <td>gente</td>\n",
              "      <td>16</td>\n",
              "    </tr>\n",
              "    <tr>\n",
              "      <th>31</th>\n",
              "      <td>ocasion</td>\n",
              "      <td>16</td>\n",
              "    </tr>\n",
              "    <tr>\n",
              "      <th>201</th>\n",
              "      <td>vida</td>\n",
              "      <td>15</td>\n",
              "    </tr>\n",
              "    <tr>\n",
              "      <th>225</th>\n",
              "      <td>mujer</td>\n",
              "      <td>14</td>\n",
              "    </tr>\n",
              "    <tr>\n",
              "      <th>1</th>\n",
              "      <td>cantar</td>\n",
              "      <td>14</td>\n",
              "    </tr>\n",
              "    <tr>\n",
              "      <th>1102</th>\n",
              "      <td>dije</td>\n",
              "      <td>14</td>\n",
              "    </tr>\n",
              "    <tr>\n",
              "      <th>73</th>\n",
              "      <td>tierra</td>\n",
              "      <td>13</td>\n",
              "    </tr>\n",
              "  </tbody>\n",
              "</table>\n",
              "</div>\n",
              "    <div class=\"colab-df-buttons\">\n",
              "\n",
              "  <div class=\"colab-df-container\">\n",
              "    <button class=\"colab-df-convert\" onclick=\"convertToInteractive('df-5cd284a4-55bf-4693-ac5d-065a124f53a3')\"\n",
              "            title=\"Convert this dataframe to an interactive table.\"\n",
              "            style=\"display:none;\">\n",
              "\n",
              "  <svg xmlns=\"http://www.w3.org/2000/svg\" height=\"24px\" viewBox=\"0 -960 960 960\">\n",
              "    <path d=\"M120-120v-720h720v720H120Zm60-500h600v-160H180v160Zm220 220h160v-160H400v160Zm0 220h160v-160H400v160ZM180-400h160v-160H180v160Zm440 0h160v-160H620v160ZM180-180h160v-160H180v160Zm440 0h160v-160H620v160Z\"/>\n",
              "  </svg>\n",
              "    </button>\n",
              "\n",
              "  <style>\n",
              "    .colab-df-container {\n",
              "      display:flex;\n",
              "      gap: 12px;\n",
              "    }\n",
              "\n",
              "    .colab-df-convert {\n",
              "      background-color: #E8F0FE;\n",
              "      border: none;\n",
              "      border-radius: 50%;\n",
              "      cursor: pointer;\n",
              "      display: none;\n",
              "      fill: #1967D2;\n",
              "      height: 32px;\n",
              "      padding: 0 0 0 0;\n",
              "      width: 32px;\n",
              "    }\n",
              "\n",
              "    .colab-df-convert:hover {\n",
              "      background-color: #E2EBFA;\n",
              "      box-shadow: 0px 1px 2px rgba(60, 64, 67, 0.3), 0px 1px 3px 1px rgba(60, 64, 67, 0.15);\n",
              "      fill: #174EA6;\n",
              "    }\n",
              "\n",
              "    .colab-df-buttons div {\n",
              "      margin-bottom: 4px;\n",
              "    }\n",
              "\n",
              "    [theme=dark] .colab-df-convert {\n",
              "      background-color: #3B4455;\n",
              "      fill: #D2E3FC;\n",
              "    }\n",
              "\n",
              "    [theme=dark] .colab-df-convert:hover {\n",
              "      background-color: #434B5C;\n",
              "      box-shadow: 0px 1px 3px 1px rgba(0, 0, 0, 0.15);\n",
              "      filter: drop-shadow(0px 1px 2px rgba(0, 0, 0, 0.3));\n",
              "      fill: #FFFFFF;\n",
              "    }\n",
              "  </style>\n",
              "\n",
              "    <script>\n",
              "      const buttonEl =\n",
              "        document.querySelector('#df-5cd284a4-55bf-4693-ac5d-065a124f53a3 button.colab-df-convert');\n",
              "      buttonEl.style.display =\n",
              "        google.colab.kernel.accessAllowed ? 'block' : 'none';\n",
              "\n",
              "      async function convertToInteractive(key) {\n",
              "        const element = document.querySelector('#df-5cd284a4-55bf-4693-ac5d-065a124f53a3');\n",
              "        const dataTable =\n",
              "          await google.colab.kernel.invokeFunction('convertToInteractive',\n",
              "                                                    [key], {});\n",
              "        if (!dataTable) return;\n",
              "\n",
              "        const docLinkHtml = 'Like what you see? Visit the ' +\n",
              "          '<a target=\"_blank\" href=https://colab.research.google.com/notebooks/data_table.ipynb>data table notebook</a>'\n",
              "          + ' to learn more about interactive tables.';\n",
              "        element.innerHTML = '';\n",
              "        dataTable['output_type'] = 'display_data';\n",
              "        await google.colab.output.renderOutput(dataTable, element);\n",
              "        const docLink = document.createElement('div');\n",
              "        docLink.innerHTML = docLinkHtml;\n",
              "        element.appendChild(docLink);\n",
              "      }\n",
              "    </script>\n",
              "  </div>\n",
              "\n",
              "\n",
              "    <div id=\"df-559b6db5-bc79-403e-b9d8-a5bc8fc05dff\">\n",
              "      <button class=\"colab-df-quickchart\" onclick=\"quickchart('df-559b6db5-bc79-403e-b9d8-a5bc8fc05dff')\"\n",
              "                title=\"Suggest charts\"\n",
              "                style=\"display:none;\">\n",
              "\n",
              "<svg xmlns=\"http://www.w3.org/2000/svg\" height=\"24px\"viewBox=\"0 0 24 24\"\n",
              "     width=\"24px\">\n",
              "    <g>\n",
              "        <path d=\"M19 3H5c-1.1 0-2 .9-2 2v14c0 1.1.9 2 2 2h14c1.1 0 2-.9 2-2V5c0-1.1-.9-2-2-2zM9 17H7v-7h2v7zm4 0h-2V7h2v10zm4 0h-2v-4h2v4z\"/>\n",
              "    </g>\n",
              "</svg>\n",
              "      </button>\n",
              "\n",
              "<style>\n",
              "  .colab-df-quickchart {\n",
              "      --bg-color: #E8F0FE;\n",
              "      --fill-color: #1967D2;\n",
              "      --hover-bg-color: #E2EBFA;\n",
              "      --hover-fill-color: #174EA6;\n",
              "      --disabled-fill-color: #AAA;\n",
              "      --disabled-bg-color: #DDD;\n",
              "  }\n",
              "\n",
              "  [theme=dark] .colab-df-quickchart {\n",
              "      --bg-color: #3B4455;\n",
              "      --fill-color: #D2E3FC;\n",
              "      --hover-bg-color: #434B5C;\n",
              "      --hover-fill-color: #FFFFFF;\n",
              "      --disabled-bg-color: #3B4455;\n",
              "      --disabled-fill-color: #666;\n",
              "  }\n",
              "\n",
              "  .colab-df-quickchart {\n",
              "    background-color: var(--bg-color);\n",
              "    border: none;\n",
              "    border-radius: 50%;\n",
              "    cursor: pointer;\n",
              "    display: none;\n",
              "    fill: var(--fill-color);\n",
              "    height: 32px;\n",
              "    padding: 0;\n",
              "    width: 32px;\n",
              "  }\n",
              "\n",
              "  .colab-df-quickchart:hover {\n",
              "    background-color: var(--hover-bg-color);\n",
              "    box-shadow: 0 1px 2px rgba(60, 64, 67, 0.3), 0 1px 3px 1px rgba(60, 64, 67, 0.15);\n",
              "    fill: var(--button-hover-fill-color);\n",
              "  }\n",
              "\n",
              "  .colab-df-quickchart-complete:disabled,\n",
              "  .colab-df-quickchart-complete:disabled:hover {\n",
              "    background-color: var(--disabled-bg-color);\n",
              "    fill: var(--disabled-fill-color);\n",
              "    box-shadow: none;\n",
              "  }\n",
              "\n",
              "  .colab-df-spinner {\n",
              "    border: 2px solid var(--fill-color);\n",
              "    border-color: transparent;\n",
              "    border-bottom-color: var(--fill-color);\n",
              "    animation:\n",
              "      spin 1s steps(1) infinite;\n",
              "  }\n",
              "\n",
              "  @keyframes spin {\n",
              "    0% {\n",
              "      border-color: transparent;\n",
              "      border-bottom-color: var(--fill-color);\n",
              "      border-left-color: var(--fill-color);\n",
              "    }\n",
              "    20% {\n",
              "      border-color: transparent;\n",
              "      border-left-color: var(--fill-color);\n",
              "      border-top-color: var(--fill-color);\n",
              "    }\n",
              "    30% {\n",
              "      border-color: transparent;\n",
              "      border-left-color: var(--fill-color);\n",
              "      border-top-color: var(--fill-color);\n",
              "      border-right-color: var(--fill-color);\n",
              "    }\n",
              "    40% {\n",
              "      border-color: transparent;\n",
              "      border-right-color: var(--fill-color);\n",
              "      border-top-color: var(--fill-color);\n",
              "    }\n",
              "    60% {\n",
              "      border-color: transparent;\n",
              "      border-right-color: var(--fill-color);\n",
              "    }\n",
              "    80% {\n",
              "      border-color: transparent;\n",
              "      border-right-color: var(--fill-color);\n",
              "      border-bottom-color: var(--fill-color);\n",
              "    }\n",
              "    90% {\n",
              "      border-color: transparent;\n",
              "      border-bottom-color: var(--fill-color);\n",
              "    }\n",
              "  }\n",
              "</style>\n",
              "\n",
              "      <script>\n",
              "        async function quickchart(key) {\n",
              "          const quickchartButtonEl =\n",
              "            document.querySelector('#' + key + ' button');\n",
              "          quickchartButtonEl.disabled = true;  // To prevent multiple clicks.\n",
              "          quickchartButtonEl.classList.add('colab-df-spinner');\n",
              "          try {\n",
              "            const charts = await google.colab.kernel.invokeFunction(\n",
              "                'suggestCharts', [key], {});\n",
              "          } catch (error) {\n",
              "            console.error('Error during call to suggestCharts:', error);\n",
              "          }\n",
              "          quickchartButtonEl.classList.remove('colab-df-spinner');\n",
              "          quickchartButtonEl.classList.add('colab-df-quickchart-complete');\n",
              "        }\n",
              "        (() => {\n",
              "          let quickchartButtonEl =\n",
              "            document.querySelector('#df-559b6db5-bc79-403e-b9d8-a5bc8fc05dff button');\n",
              "          quickchartButtonEl.style.display =\n",
              "            google.colab.kernel.accessAllowed ? 'block' : 'none';\n",
              "        })();\n",
              "      </script>\n",
              "    </div>\n",
              "\n",
              "    </div>\n",
              "  </div>\n"
            ],
            "application/vnd.google.colaboratory.intrinsic+json": {
              "type": "dataframe",
              "variable_name": "df_vocabulario",
              "summary": "{\n  \"name\": \"df_vocabulario\",\n  \"rows\": 2518,\n  \"fields\": [\n    {\n      \"column\": \"Palabra\",\n      \"properties\": {\n        \"dtype\": \"string\",\n        \"num_unique_values\": 2518,\n        \"samples\": [\n          \"susto\",\n          \"hembraje\",\n          \"galgo\"\n        ],\n        \"semantic_type\": \"\",\n        \"description\": \"\"\n      }\n    },\n    {\n      \"column\": \"Frecuencia\",\n      \"properties\": {\n        \"dtype\": \"number\",\n        \"std\": 2,\n        \"min\": 1,\n        \"max\": 66,\n        \"num_unique_values\": 24,\n        \"samples\": [\n          16,\n          8,\n          66\n        ],\n        \"semantic_type\": \"\",\n        \"description\": \"\"\n      }\n    }\n  ]\n}"
            }
          },
          "metadata": {},
          "execution_count": 156
        }
      ]
    },
    {
      "cell_type": "markdown",
      "source": [
        "## 4D - Sustantivos\n",
        "\n",
        "Utilizando resultados anteriores:\n",
        "* muestre los sustantivos (NOUN, PROPNOUN) del vocabulario más usados y la cantidad de veces que aparecen.\n",
        "* elabore un diagrama de gráficos de barra -> Seleccioné al azar los 20 sustantivos más utilizados:"
      ],
      "metadata": {
        "id": "8I_XTzW6TnEZ"
      }
    },
    {
      "cell_type": "code",
      "source": [
        "# Reprocesamos los tokens de vocabulario_completo con SpaCy\n",
        "tokens_spacy = [token for token in nlp(\" \".join(vocabulario_completo))]"
      ],
      "metadata": {
        "id": "Z8yOGaquW_Tl"
      },
      "execution_count": null,
      "outputs": []
    },
    {
      "cell_type": "code",
      "source": [
        "# Filtramos solo sustantivos\n",
        "sustantivos_vocabulario = [t.text.lower() for t in tokens_spacy if t.pos_ in ['NOUN', 'PROPN'] and t.is_alpha]"
      ],
      "metadata": {
        "id": "d5QM1s_3XA4q"
      },
      "execution_count": null,
      "outputs": []
    },
    {
      "cell_type": "code",
      "source": [
        "# Contamos frecuencias\n",
        "frecuencia_sustantivos_vocab = Counter(sustantivos_vocabulario)\n",
        "df_sustantivos_vocab = pd.DataFrame(frecuencia_sustantivos_vocab.items(), columns=['Sustantivo', 'Frecuencia']).sort_values(by='Frecuencia', ascending=False)"
      ],
      "metadata": {
        "id": "r4eXSJ-iXDMX"
      },
      "execution_count": null,
      "outputs": []
    },
    {
      "cell_type": "code",
      "source": [
        "# Mostramos los 20 primeros\n",
        "print(df_sustantivos_vocab.head(20))"
      ],
      "metadata": {
        "id": "sC_ZrWcOW9ns",
        "colab": {
          "base_uri": "https://localhost:8080/"
        },
        "outputId": "41afe298-d330-4cc5-c65f-ce520e26ddd6"
      },
      "execution_count": null,
      "outputs": [
        {
          "output_type": "stream",
          "name": "stdout",
          "text": [
            "    Sustantivo  Frecuencia\n",
            "2       hombre          24\n",
            "113     gaucho          23\n",
            "171      mesmo          19\n",
            "427     suerte          17\n",
            "78       gente          16\n",
            "83        vida          15\n",
            "93       tenia          13\n",
            "17     ocasion          13\n",
            "95       mujer          13\n",
            "33      tierra          13\n",
            "106       cosa          12\n",
            "16        dios          12\n",
            "130      noche          12\n",
            "187      males          11\n",
            "127      campo          10\n",
            "45        mano           9\n",
            "90      tiempo           9\n",
            "28       mundo           9\n",
            "94       hijos           9\n",
            "859       cruz           9\n"
          ]
        }
      ]
    },
    {
      "cell_type": "code",
      "source": [
        "# Tomamos los 20 sustantivos más frecuentes\n",
        "top20_sustantivos = df_sustantivos_vocab.head(20)\n",
        "\n",
        "# Creamos el gráfico\n",
        "plt.figure(figsize=(10, 6))\n",
        "plt.barh(top20_sustantivos['Sustantivo'], top20_sustantivos['Frecuencia'], color='mediumseagreen')\n",
        "plt.xlabel('Frecuencia', fontsize=12)\n",
        "plt.ylabel('Sustantivo', fontsize=12)\n",
        "plt.title('Top 20 Sustantivos más frecuentes en el vocabulario de Martín Fierro', fontsize=14)\n",
        "plt.gca().invert_yaxis()  # El más frecuente arriba\n",
        "plt.grid(axis='x', linestyle='--', alpha=0.3)\n",
        "plt.tight_layout()\n",
        "plt.savefig(\"sustantivos_frecuentes.png\")\n",
        "plt.show()\n"
      ],
      "metadata": {
        "id": "Jzo0_bJbVRdy",
        "colab": {
          "base_uri": "https://localhost:8080/",
          "height": 607
        },
        "outputId": "a83318a0-09d2-4dba-d99a-0a023f7f0f2f"
      },
      "execution_count": null,
      "outputs": [
        {
          "output_type": "display_data",
          "data": {
            "text/plain": [
              "<Figure size 1000x600 with 1 Axes>"
            ],
            "image/png": "[encoded data removed]"
          },
          "metadata": {}
        }
      ]
    },
    {
      "cell_type": "markdown",
      "source": [
        "## 4E- Lugares\n",
        "\n",
        "De lo obtenido de 4B y 4D.\n",
        "\n",
        "* Usar las bibliotecas spacy o nltk para identificar lugares o locaciones que mencione el libro.\n",
        "* Muestre el listado.\n",
        "* Realice una tabla indicando los lugares más mencionados"
      ],
      "metadata": {
        "id": "kcv08DiRYkB8"
      }
    },
    {
      "cell_type": "code",
      "source": [
        "# Extraemos entidades de tipo LOC (ubicaciones) y GPE (entidades geopolíticas como países, provincias, pueblos)\n",
        "lugares = [ent.text for ent in doc.ents if ent.label_ in [\"LOC\", \"GPE\"]]"
      ],
      "metadata": {
        "id": "zGuLE83CYzLJ"
      },
      "execution_count": null,
      "outputs": []
    },
    {
      "cell_type": "code",
      "source": [
        "# Contamos frecuencia\n",
        "frecuencia_lugares = Counter([lugar.strip().lower() for lugar in lugares])"
      ],
      "metadata": {
        "id": "zPjbvmNnY_bk"
      },
      "execution_count": null,
      "outputs": []
    },
    {
      "cell_type": "code",
      "source": [
        "# Creamos el DataFrame\n",
        "df_lugares = pd.DataFrame(frecuencia_lugares.items(), columns=[\"Lugar\", \"Frecuencia\"])\n",
        "df_lugares = df_lugares.sort_values(by=\"Frecuencia\", ascending=False)"
      ],
      "metadata": {
        "id": "279a1dWlZBKj"
      },
      "execution_count": null,
      "outputs": []
    },
    {
      "cell_type": "code",
      "source": [
        "# Mostramos el top 15 de lugares más mencionados\n",
        "print(df_lugares.head(15))"
      ],
      "metadata": {
        "id": "9ZCFpDb3VuHE",
        "colab": {
          "base_uri": "https://localhost:8080/"
        },
        "outputId": "befbbd6f-0ab8-4340-ec9f-aa9f71ec93e6"
      },
      "execution_count": null,
      "outputs": [
        {
          "output_type": "stream",
          "name": "stdout",
          "text": [
            "        Lugar  Frecuencia\n",
            "0   la tierra           2\n",
            "1        aqui           2\n",
            "3       china           2\n",
            "5       salia           2\n",
            "2     remolon           1\n",
            "4     palermo           1\n",
            "6    enancaos           1\n",
            "7       mojon           1\n",
            "8      creiba           1\n",
            "9       virtu           1\n",
            "10    guayaca           1\n",
            "11  espantaos           1\n",
            "12    ginebra           1\n",
            "13     hollin           1\n",
            "14       lima           1\n"
          ]
        }
      ]
    },
    {
      "cell_type": "markdown",
      "source": [
        "## 4F- Personajes\n",
        "\n",
        "De lo obtenido de 4B, 4D, 4E.\n",
        "\n",
        "* Usar las bibliotecas spacy o nltk para identificar personajes (personas, o sustantivos propios).\n",
        "¿ Puede distinguir a los personajes del libro? ¿Podría realizar un preprocesamiento para obtenerlos?\n",
        "\n",
        "* Si a un personaje se lo refiere de más de una manera, liste todas sus referencias."
      ],
      "metadata": {
        "id": "xQlWfE7WZUtN"
      }
    },
    {
      "cell_type": "code",
      "source": [
        "# Extraer entidades tipo PERSON\n",
        "personajes = [ent.text.strip() for ent in doc.ents if ent.label_ == \"PER\"]"
      ],
      "metadata": {
        "id": "ryBYZPZ-ZiB-"
      },
      "execution_count": null,
      "outputs": []
    },
    {
      "cell_type": "code",
      "source": [
        "# Contar frecuencias\n",
        "frecuencia_personajes = Counter([p.lower() for p in personajes])"
      ],
      "metadata": {
        "id": "JFjE5PF0Zt6j"
      },
      "execution_count": null,
      "outputs": []
    },
    {
      "cell_type": "code",
      "source": [
        "# Mostrar los más frecuentes\n",
        "df_personajes = pd.DataFrame(frecuencia_personajes.items(), columns=[\"Nombre\", \"Frecuencia\"])\n",
        "df_personajes = df_personajes.sort_values(by=\"Frecuencia\", ascending=False)\n",
        "print(df_personajes.head(10))\n"
      ],
      "metadata": {
        "id": "4Fw2zS7-ZC_f",
        "colab": {
          "base_uri": "https://localhost:8080/"
        },
        "outputId": "644ec547-3a00-4c1b-a85f-69e895b3482c"
      },
      "execution_count": null,
      "outputs": [
        {
          "output_type": "stream",
          "name": "stdout",
          "text": [
            "             Nombre  Frecuencia\n",
            "11             alli           3\n",
            "4            naides           2\n",
            "10           cristo           2\n",
            "0     martin fierro           1\n",
            "1      gloria labra           1\n",
            "2            letrao           1\n",
            "6            habian           1\n",
            "7      habian estao           1\n",
            "3             peleo           1\n",
            "5   habian manotiao           1\n"
          ]
        }
      ]
    },
    {
      "cell_type": "code",
      "source": [
        "#Busco los nompres propios con 'PRONPN'\n",
        "nombres_propios = [token.text for token in doc if token.pos_ == 'PROPN']\n",
        "print(nombres_propios)"
      ],
      "metadata": {
        "id": "jxC-dvOPZrZW",
        "colab": {
          "base_uri": "https://localhost:8080/"
        },
        "outputId": "2ed320bd-5f6f-46f5-e7af-90c6101950bd"
      },
      "execution_count": null,
      "outputs": [
        {
          "output_type": "stream",
          "name": "stdout",
          "text": [
            "['martin', 'fierro', 'mi', 'letrao', 'naides', 'naides', 'dios', 'alvertido', 'junta', 'vivia', 'tenia', 'dia', 'pellon', 'pion', 'dios', 'dia', 'cair', 'mas', 'infeliz', 'tenia', 'via', 'yel', 'vivia', 'goyete', 'via', 'aura', 'principia', 'batallon', 'santos', 'sosegao', 'vivia', 'monton', 'votacion', 'dia', 'esposicion', 'redondo', 'jue', 'tenia', 'jergas', 'bozal', 'maniador', 'canton', 'raton', 'tenia', 'segun', 'dia', 'palermo', 'canton', 'afan', 'dentra', 'mata', 'mata', 'enderiesa', 'canton', 'boton', 'malon', 'estao', 'maiz', 'sono', 'habia', 'jue', 'pucha', 'aflicion', 'acabau', 'cristiano', 'dios', 'jue', 'quedo', 'mojon', 'mata', 'chorizo', 'horror', 'vida', 'yesca', 'poncho', 'jue', 'canton', 'aijuna', 'nandu', 'virtu', 'cerda', 'oracion', 'entripao', 'comiendome', 'aura', 'rosas', 'habia', 'canton', 'malon', 'fresca', 'jue', 'vivoras', 'hagarto', 'despacito', 'jusil', 'juncion', 'quedo', 'nacion', 'canton', 'sali', 'fi', 'algun', 'compasion', 'algun', 'jogon', 'carta', 'tenia', 'perro', 'mas', 'vaca', 'san', 'pedro', 'habia', 'estao', 'retobao', 'ginebra', 'ahi', 'envenao', 'abri', 'poncho', 'chupao', 'lima', 'quito', 'aji', 'facon', 'redomon', 'monte', 'despacio', 'sali', 'canadon', 'despues', 'intencion', 'pago', 'sera', 'bala', 'sali', 'monte', 'maldito', 'dentra', 'gaucho', 'algun', 'azote', 'dele', 'venia', 'oveja', 'amarrao', 'perro', 'lumbriz', 'puse', 'atencion', 'laton', 'eche', 'ginebra', 'intencion', 'relacion', 'monton', 'eche', 'facon', 'aflicion', 'eche', 'chapeton', 'virgen', 'ovillo', 'facon', 'di', 'oyo', 'cruz', 'cruz', 'cruz', 'cruz', 'tenia', 'ningun', 'maiz', 'hagamosle', 'cara', 'cair', 'boton', 'chasque', 'habia', 'algun', 'adulon', 'mamon', 'lejia', 'tenganlo', 'despues', 'aflicion', 'habia', 'bagual', 'haciendome', 'pango', 'habia', 'sali', 'habia', 'jue', 'queria', 'cruz', 'poncho', 'algun', 'conversacion', 'perfecion', 'darie', 'salu', 'habra', 'juerza', 'aflus', 'cruz', 'ruempodijola', 'guitarra', 'naides', 'relacion', 'conclusion', 'habian', 'relacion']\n"
          ]
        }
      ]
    },
    {
      "cell_type": "code",
      "source": [
        "#Cuento la feecuencia de los nombres propios\n",
        "frec_nombres = Counter(nombres_propios)\n",
        "\n",
        "#Muestro los más comunes\n",
        "print(\"Nombres propios más comunes:\")\n",
        "for nombre, freq in frec_nombres.most_common(15):\n",
        "    print(f\"{nombre}: {freq}\")"
      ],
      "metadata": {
        "id": "8nLqx-RFaBOU",
        "colab": {
          "base_uri": "https://localhost:8080/"
        },
        "outputId": "499ebd60-3ac2-47b6-c3d0-3e6a8b1e1aaf"
      },
      "execution_count": null,
      "outputs": [
        {
          "output_type": "stream",
          "name": "stdout",
          "text": [
            "Nombres propios más comunes:\n",
            "habia: 7\n",
            "tenia: 6\n",
            "jue: 6\n",
            "canton: 6\n",
            "cruz: 6\n",
            "algun: 5\n",
            "dia: 4\n",
            "sali: 4\n",
            "naides: 3\n",
            "dios: 3\n",
            "vivia: 3\n",
            "mata: 3\n",
            "aflicion: 3\n",
            "poncho: 3\n",
            "facon: 3\n"
          ]
        }
      ]
    },
    {
      "cell_type": "code",
      "source": [
        "'''pip install flair'''\n"
      ],
      "metadata": {
        "id": "OP5qHn0FaEUt",
        "colab": {
          "base_uri": "https://localhost:8080/",
          "height": 36
        },
        "outputId": "1b75124a-c3ae-4e28-c353-36dc8ee8ce83"
      },
      "execution_count": null,
      "outputs": [
        {
          "output_type": "execute_result",
          "data": {
            "text/plain": [
              "'pip install flair'"
            ],
            "application/vnd.google.colaboratory.intrinsic+json": {
              "type": "string"
            }
          },
          "metadata": {},
          "execution_count": 171
        }
      ]
    },
    {
      "cell_type": "code",
      "source": [
        "'''from flair.models import SequenceTagger\n",
        "from flair.data import Sentence\n",
        "\n",
        "# Cargar el modelo de reconocimiento de entidades\n",
        "tagger = SequenceTagger.load(\"flair/ner-spanish-large\")'''\n"
      ],
      "metadata": {
        "id": "ex6hrDSralGA",
        "colab": {
          "base_uri": "https://localhost:8080/",
          "height": 36
        },
        "outputId": "fe5912a9-c6a7-4151-e4d4-955dfadb9b57"
      },
      "execution_count": null,
      "outputs": [
        {
          "output_type": "execute_result",
          "data": {
            "text/plain": [
              "'from flair.models import SequenceTagger\\nfrom flair.data import Sentence\\n\\n# Cargar el modelo de reconocimiento de entidades\\ntagger = SequenceTagger.load(\"flair/ner-spanish-large\")'"
            ],
            "application/vnd.google.colaboratory.intrinsic+json": {
              "type": "string"
            }
          },
          "metadata": {},
          "execution_count": 172
        }
      ]
    },
    {
      "cell_type": "code",
      "source": [
        "'''# Dividir el texto en fragmentos (por párrafos o líneas)\n",
        "fragmentos = texto_limpio.split('\\n')\n",
        "\n",
        "# Listar entidades tipo PERSON\n",
        "personajes_flair = []\n",
        "\n",
        "for frag in fragmentos:\n",
        "    if frag.strip():\n",
        "        sentence = Sentence(frag)\n",
        "        tagger.predict(sentence)\n",
        "        personajes_flair.extend([ent.text for ent in sentence.get_spans('ner') if ent.get_label(\"ner\").value == \"PER\"])\n",
        "\n",
        "# Contar la frecuencia de aparición de cada personaje\n",
        "frecuencia_personajes_flair = Counter([p.lower() for p in personajes_flair])\n",
        "df_personajes_flair = pd.DataFrame(frecuencia_personajes_flair.items(), columns=[\"Personaje\", \"Frecuencia\"]).sort_values(by=\"Frecuencia\", ascending=False)\n",
        "\n",
        "# Mostrar los personajes más frecuentes\n",
        "print(df_personajes_flair.head(10))'''\n"
      ],
      "metadata": {
        "id": "2L6QYbtsbKOe",
        "colab": {
          "base_uri": "https://localhost:8080/",
          "height": 91
        },
        "outputId": "fbf0e6ec-64fb-46a5-e1f0-5cfd430fd07e"
      },
      "execution_count": null,
      "outputs": [
        {
          "output_type": "execute_result",
          "data": {
            "text/plain": [
              "'# Dividir el texto en fragmentos (por párrafos o líneas)\\nfragmentos = texto_limpio.split(\\'\\n\\')\\n\\n# Listar entidades tipo PERSON\\npersonajes_flair = []\\n\\nfor frag in fragmentos:\\n    if frag.strip():\\n        sentence = Sentence(frag)\\n        tagger.predict(sentence)\\n        personajes_flair.extend([ent.text for ent in sentence.get_spans(\\'ner\\') if ent.get_label(\"ner\").value == \"PER\"])\\n\\n# Contar la frecuencia de aparición de cada personaje\\nfrecuencia_personajes_flair = Counter([p.lower() for p in personajes_flair])\\ndf_personajes_flair = pd.DataFrame(frecuencia_personajes_flair.items(), columns=[\"Personaje\", \"Frecuencia\"]).sort_values(by=\"Frecuencia\", ascending=False)\\n\\n# Mostrar los personajes más frecuentes\\nprint(df_personajes_flair.head(10))'"
            ],
            "application/vnd.google.colaboratory.intrinsic+json": {
              "type": "string"
            }
          },
          "metadata": {},
          "execution_count": 173
        }
      ]
    },
    {
      "cell_type": "markdown",
      "source": [
        "## 4G - VERBOS\n",
        "\n",
        "Usando los resultados anteriores, muestre los verbos más utilizados.\n",
        "\n",
        "* Preprocesamiento: ¿cuál pre procesamiento realizaría para quedarse con la raiz del verbo o su infinitivo?\n",
        "* Muestre los verbos más utilizados. Realice un gráfico"
      ],
      "metadata": {
        "id": "6gpa4_QLojv_"
      }
    },
    {
      "cell_type": "code",
      "source": [
        "# Extraemos verbos en infinitivo (lemas)\n",
        "verbos = [token.lemma_ for token in doc if token.pos_ == \"VERB\" and token.is_alpha and not token.is_stop]\n",
        "\n",
        "# Contamos frecuencia\n",
        "frecuencia_verbos = Counter(verbos)\n",
        "df_verbos = pd.DataFrame(frecuencia_verbos.items(), columns=[\"Verbo\", \"Frecuencia\"]).sort_values(by=\"Frecuencia\", ascending=False)\n",
        "\n",
        "# Mostramos los 20 más frecuentes\n",
        "print(df_verbos.head(20))\n"
      ],
      "metadata": {
        "id": "9dbaEotTbbGP",
        "colab": {
          "base_uri": "https://localhost:8080/"
        },
        "outputId": "15434ee5-6b62-4f0e-d603-7ef6d60e7564"
      },
      "execution_count": null,
      "outputs": [
        {
          "output_type": "stream",
          "name": "stdout",
          "text": [
            "      Verbo  Frecuencia\n",
            "46    andar          34\n",
            "12      ver          33\n",
            "25    venir          30\n",
            "107    ansi          24\n",
            "13   querer          22\n",
            "1    cantar          21\n",
            "44    salir          21\n",
            "18    pasar          21\n",
            "190   decir          20\n",
            "160   dejar          18\n",
            "116     dar          17\n",
            "152  quedar          16\n",
            "17    andir          15\n",
            "143  mandar          15\n",
            "21   dendir          13\n",
            "27   faltar          13\n",
            "55    vivir          13\n",
            "144   echar          12\n",
            "0     poner          12\n",
            "192   hacer          12\n"
          ]
        }
      ]
    },
    {
      "cell_type": "code",
      "source": [
        "# Seleccionamos top 15\n",
        "top15 = df_verbos.head(15)\n",
        "\n",
        "# Gráfico de barras horizontales\n",
        "plt.figure(figsize=(10, 6))\n",
        "plt.barh(top15['Verbo'], top15['Frecuencia'], color='orchid')\n",
        "plt.xlabel(\"Frecuencia\", fontsize=12)\n",
        "plt.title(\"Top 15 Verbos más utilizados en el Martín Fierro\", fontsize=14)\n",
        "plt.gca().invert_yaxis()\n",
        "plt.grid(axis='x', linestyle='--', alpha=0.3)\n",
        "plt.tight_layout()\n",
        "plt.savefig(\"verbos_frecuentes.png\")\n",
        "plt.show()\n"
      ],
      "metadata": {
        "id": "AE5F0Y3Go__d",
        "colab": {
          "base_uri": "https://localhost:8080/",
          "height": 607
        },
        "outputId": "cc23bb19-8399-4a85-9fcc-95c62148a41d"
      },
      "execution_count": null,
      "outputs": [
        {
          "output_type": "display_data",
          "data": {
            "text/plain": [
              "<Figure size 1000x600 with 1 Axes>"
            ],
            "image/png": "[encoded data removed]"
          },
          "metadata": {}
        }
      ]
    },
    {
      "cell_type": "markdown",
      "source": [
        "# 5 - Creación del corpus"
      ],
      "metadata": {
        "id": "AqVfHTS0pkHs"
      }
    },
    {
      "cell_type": "markdown",
      "source": [
        "## 5A - Segmentación en estrofas (Garcia Alves de Borba, Juan Andrés)\n",
        "* Definir criterios para identificar estrofas en el texto\n",
        "* Crear una función que separe el texto en estrofas\n",
        "* Aplicarla al texto limpio del libro\n",
        "* Guardar en `lista_estrofas` el resultado"
      ],
      "metadata": {
        "id": "U8GV3BBEpgPz"
      }
    },
    {
      "cell_type": "code",
      "source": [
        "# Paso 1: texto limpio pero estructuralmente intacto\n",
        "texto_visible = texto_completo.lower()  # o con normalización leve pero manteniendo saltos\n",
        "\n",
        "# Paso 2: identificar los límites\n",
        "inicio = re.search(inicio_patron, texto_visible)\n",
        "fin = re.search(fin_patron, texto_visible)\n",
        "\n",
        "# Paso 3: extraer del texto original sin alterar saltos\n",
        "if inicio and fin:\n",
        "    texto_libro = texto_completo[inicio.start():fin.end()]\n",
        "\n",
        "texto_libro"
      ],
      "metadata": {
        "id": "Q3yYpbO2zJll",
        "colab": {
          "base_uri": "https://localhost:8080/",
          "height": 109
        },
        "outputId": "454d9b57-95e6-4213-8d81-9944b481668d"
      },
      "execution_count": null,
      "outputs": [
        {
          "output_type": "execute_result",
          "data": {
            "text/plain": [
              "'Aquí me pongo a cantar\\nal compás de la vigüela,\\nque el hombre que lo desvela\\nuna pena estrordinaria,\\ncomo la ave solitaria\\ncon el cantar se consuela.\\nPido a los santos del cielo\\nque ayuden mi pensamiento:\\nles pido en este momento\\nque voy a cantar mi historia\\nme refresquen la memoria\\ny aclaren mi entendimiento.\\nVengan santos milagrosos,\\nvengan todos en mi ayuda,\\nque la lengua se me añuda\\ny se me turba la vista;\\npido a mi Dios que me asista\\nen una ocasión tan ruda.\\nYo he visto muchos cantores,\\ncon famas bien otenidas\\ny que después de alquiridas\\nno las quieren sustentar:\\nparece que sin largar\\nse cansaron en partidas.\\nMas ande otro criollo pasa\\nMartín Fierro ha de pasar;\\nnada lo hace recular,\\nni las fantasmas lo espantan,\\ny dende que todos cantan\\nyo también quiero cantar.\\nCantando me he de morir,\\ncantando me han de enterrar,\\ny cantando he de llegar\\nal pie del Eterno Padre;\\ndende el vientre de mi madre\\nvine a este mundo a cantar.\\nQue no se trabe mi lengua\\nni me falte la palabra;\\nel cantar mi gloria labra\\ny, poniéndome a cantar,\\ncantando me han de encontrar\\naunque la tierra se abra.\\nMe siento en el plan de un bajo\\na cantar un argumento;\\n\\ncomo si soplara el viento\\nhago tiritar los pastos.\\nCon oros, copas y bastos\\njuega allí mi pensamiento.\\nYo no soy cantor letrao\\nmas si me pongo a cantar\\nno tengo cuándo acabar\\ny me envejezco cantando:\\nlas coplas me van brotando\\ncomo agua de manantial.\\nCon la guitarra en la mano\\nni las moscas se me arriman;\\nnaides me pone el pie encima,\\ny, cuando el pecho se entona,\\nhago gemir a la prima\\ny llorar a la bordona.\\nYo soy toro en mi rodeo\\ny torazo en rodeo ajeno;\\nsiempre me tuve por güeno\\ny si me quieren probar\\nsalgan otros a cantar\\ny veremos quien es menos.\\nNo me hago al lao de la güeya\\naunque vengan degollando;\\ncon los blandos yo soy blando\\ny soy duro con los duros,\\ny ninguno en un apuro\\nme ha visto andar tutubiando.\\nEn el peligro ¡qué Cristos!\\nel corazón se me enancha,\\npues toda la tierra es cancha,\\ny de esto naides se asombre;\\nel que se tiene por hombre\\ndonde quiera hace pata ancha.\\nSoy gaucho, y entiéndalo\\ncomo mi lengua lo esplica:\\npara mí la tierra es chica\\ny pudiera ser mayor;\\nni la víbora me pica\\nni quema mi frente el sol.\\nNací como nace el peje\\nen el fondo de la mar;\\nnaides me puede quitar\\naquéllo que Dios me dio:\\nlo que al mundo truje yo\\ndel mundo lo he de llevar.\\nMi gloria es vivir tan libre\\ncomo el pájaro del cielo;\\n\\nno hago nido en este suelo\\nande hay tanto que sufrir,\\ny naides me ha de seguir\\ncuando yo remuento el vuelo.\\nYo no tengo en el amor\\nquien me venga con querellas;\\ncomo esas aves tan bellas\\nque saltan de rama en rama,\\nyo hago en el trébol mi cama\\ny me cubren las estrellas.\\nY sepan cuantos escuchan\\nde mis penas el relato\\nque nunca peleo ni mato\\nsino por necesidá\\ny que a tanta alversidá\\nsólo me arrojó el mal trato.\\nY atiendan la relación\\nque hace un gaucho perseguido,\\nque padre y marido ha sido\\nempeñoso y diligente,\\ny sin embargo la gente\\nlo tiene por un bandido.\\n\\nNinguno me hable de penas,\\nporque yo penando vivo,\\ny naides se muestre altivo\\naunque en el estribo esté,\\nque suele quedarse a pie\\nel gaucho más alvertido.\\nJunta esperencia en la vida\\nhasta pa dar y prestar\\nquien la tiene que pasar\\nentre sufrimiento y llanto;\\nporque nada enseña tanto\\ncomo el sufrir y el llorar.\\nViene el hombre ciego al mundo,\\ncuartiándolo la esperanza,\\ny a poco andar ya lo alcanzan\\nlas desgracias a empujones;\\n¡la pucha, que trae liciones\\nel tiempo con sus mudanzas!\\nYo he conocido esta tierra\\nen que el paisano vivía\\ny su ranchito tenía\\ny sus hijos y mujer...\\nEra una delicia el ver\\ncómo pasaba sus días.\\n\\nEntonces... cuando el lucero\\nbrillaba en el cielo santo\\ny los gallos con su canto\\nnos decían que el día llegaba,\\na la cocina rumbiaba\\nel gaucho... que era un encanto.\\nY sentao junto al jogón\\na esperar que venga el día,\\nal cimarrón se prendía\\nhasta ponerse rechoncho,\\nmientras su china dormía\\ntapadita con su poncho.\\nY apenas la madrugada\\nempezaba a coloriar,\\nlos pájaros a cantar\\ny las gallinas a apiarse,\\nera cosa de largarse\\ncada cual a trabajar.\\nEste se ata las espuelas\\nse sale el otro cantando,\\nuno busca un pellón blando\\néste un lazo, otro un rebenque,\\ny los pingos relinchando\\nlos llaman dende el palenque.\\nEl que era pión domador\\nenderezaba al corral\\nande estaba el animal\\nbufidos que se las pela\\ny más malo que su agüela\\nse hacía astillas el bagual.\\nY allí el gaucho inteligente\\nen cuanto el potro enriendó,\\nlos cueros le acomodó\\ny se le sentó en seguida,\\nque el hombre muestra en la vida\\nla astucia que Dios le dio.\\nY en las playas corcoviando\\npedazos se hacía el sotreta\\nmientras él por las paletas\\nle jugaba las lloronas\\ny al ruido de las caronas\\nsalía haciéndose gambetas.\\n¡Ah tiempos!... ¡Si era un orgullo\\nver jinetiar un paisano!\\nCuando era gaucho baquiano,\\naunque el potro se boliase,\\nno había uno que no parase\\ncon el cabresto en la mano.\\n\\nY mientras domaban unos,\\notros al campo salían,\\ny la hacienda recogían,\\nlas manadas repuntaban,\\ny ansí sin sentir pasaban\\nentretenidos el día.\\nY verlos al cáir la noche\\nen la cocina riunidos,\\ncon el juego bien prendido\\ny mil cosas que contar,\\nplaticar muy divertidos\\nhasta después de cenar.\\nY con el buche bien lleno\\nera cosa superior\\nirse en brazos del amor\\na dormir como la gente,\\npa empezar al día siguiente\\nlas fáinas del día anterior.\\nRicuerdo ¡qué maravilla!\\ncómo andaba la gauchada,\\nsiempre alegre y bien montada\\ny dispuesta pa el trabajo;\\npero hoy en el día... ¡barajo!\\nno se le ve de aporriada.\\nEl gaucho más infeliz\\ntenía tropilla de un pelo,\\nno le faltaba un consuelo\\ny andaba la gente lista...\\nTendiendo al campo la vista\\nno vía sino hacienda y cielo.\\nCuando llegaban las yerras,\\n¡cosa que daba calor\\ntanto gaucho pialador\\ny tironiador sin yel!\\n¡Ah tiempos... pero si en él\\nse ha visto tanto primor!\\nAquéllo no era trabajo,\\nmás bien era una junción,\\ny después de un güen tirón\\nen que uno se daba maña,\\npa darle un trago de caña\\nsolía llamarlo el patrón.\\nPues siempre la mamajuana\\nvivía bajo la carreta,\\ny aquél que no era chancleta\\nen cuanto el goyete vía,\\nsin miedo se le prendía\\ncomo güérfano a la teta.\\n\\n¡Y qué jugadas se armaban\\ncuando estábamos riunidos!\\nSiempre íbamos prevenidos\\npues en tales ocasiones\\ncaiban muchos comedidos\\nEran los días del apuro\\ny alboroto pa el hembraje,\\npa preparar los potajes\\ny osequiar bien a la gente,\\ny ansí, pues, muy grandemente\\npasaba siempre el gauchaje.\\nVenía la carne con cuero,\\nla sabrosa carbonada,\\nmazamorra bien pisada,\\nlos pasteles y el güen vino\\npero ha querido el destino\\nque todo aquéllo acabara.\\nEstaba el gaucho en su pago\\ncon toda seguridá\\npero áura... ¡barbaridá!\\nla cosa anda tan fruncida\\nque gasta el pobre la vida\\nen juir de la autoridá.\\nPues si usté pisa en su rancho\\ny si el alcalde lo sabe\\nLo caza lo mesmo que ave\\naunque su mujer aborte...\\n¡No hay tiempo que no se acabe\\nni tiento que no se corte!\\nY al punto dése por muerto\\nsi el alcalde lo bolea,\\npues áhi no más se le apea\\ncon una felpa de palos.\\nY después dicen que es malo\\nel gaucho si los pelea.\\nY el lomo le hinchan a golpes,\\ny le rompen la cabeza,\\ny luego con ligereza,\\nansí lastimao y todo,\\nlo amarran codo con codo\\nY pa el cepo lo enderiezan.\\nAhí comienzan sus desgracias,\\náhi principia el pericón;\\nporque ya no hay salvación,\\nY que usté quiera o no quiera,\\nlo mandan a la frontera\\no lo echan a un batallón.\\nAnsí empezaron mis males\\n\\nlo mesmo que los de tantos;\\nsi gustan... en otros cantos\\nles diré lo que he sufrido.\\nDespués que uno está perdido\\nno lo salvan ni los santos.\\n\\nTuve en mi pago en un tiempo\\nhijos, hacienda y mujer,\\npero empecé a padecer,\\nme echaron a la frontera\\n¡y qué iba a hallar al volver!\\ntan sólo hallé la tapera.\\nSosegao vivía en mi rancho\\ncomo el pájaro en su nido;\\nallí mis hijos queridos\\niban creciendo a mi lao...\\nSólo queda al desgraciao\\nlamentar el bien perdido.\\nMi gala en las pulperías\\nera, cuando había más gente,\\nponerme medio caliente,\\npues cuando puntiao me encuentro\\nme salen coplas de adentro\\ncomo agua de la virtiente.\\nCantando estaba una vez\\nen una gran diversión;\\ny aprovechó la ocasión\\ncomo quiso el Juez de Paz.\\nSe presentó, y áhi no más\\nhizo una arriada en montón.\\nJuyeron los más matreros\\ny lograron escapar.\\nYo no quise disparar,\\nsoy manso y no había por qué;\\nmuy tranquilo me quedé\\ny ansí me dejé agarrar.\\nAllí un gringo con un órgano\\ny una mona que bailaba\\nhaciéndonos ráir estaba\\ncuando le tocó el arreo.\\n¡Tan grande el gringo y tan feo\\nlo viera cómo lloraba!\\nHasta un inglés sanjiador\\nque decía en la última guerra\\nque él era de Inca-la-perra\\ny que no quería servir,\\ntuvo también que juír\\na guarecerse en la sierra.\\n\\nNi los mirones salvaron\\nde esa arriada de mi flor;\\nfue acoyarao el cantor\\ncon el gringo de la mona;\\na uno solo, por favor\\nlogró salvar la patrona.\\nFormaron un contingente\\ncon los que en el baile arriaron;\\ncon otros nos mesturaron\\nque habían agarrao también:\\nlas cosas que aquí se ven\\nni los diablos las pensaron.\\nA mí el juez me tomó entre ojos\\nen la última votación:\\nme le había hecho el remolón\\ny no me arrimé ese día,\\ny él dijo que yo servía\\na los de la esposición.\\nY ansí sufrí ese castigo\\ntal vez por culpas ajenas;\\nque sean malas o sean güenas\\nlas listas, siempre me escondo:\\nyo soy un gaucho redondo\\ny esas cosas no me enllenan.\\nAl mandarnos nos hicieron\\nmás promesas que a un altar.\\nEl Juez nos jue a proclamar\\ny nos dijo muchas veces:\\n\"Muchachos, a los seis meses\\nlos van a ir a revelar.\"\\nYo llevé un moro de número.\\n¡Sobresaliente el matucho!\\nCon él gané en Ayacucho\\nmás plata que agua bendita;\\nsiempre el gaucho necesita\\nun pingo pa fiarle un pucho.\\nY cargué sin dar mas güeltas\\ncon las prendas que tenía:\\njergas, poncho, cuanto había\\nen casa, tuito lo alcé;\\na mi china la dejé\\nmedia desnuda ese día.\\nNo me faltaba una guasca;\\nesa ocasión eché el resto:\\nbozal, maniador, cabresto,\\nlazo, bolas y manea...\\n¡El que hoy tan pobre me vea\\ntal vez no crerá todo esto!\\n\\nAnsí en mi moro, escarciando,\\nenderecé a la frontera.\\n¡Aparcero, si usté viera\\nlo que se llama cantón...!\\nNi envidia tengo al ratón\\nen aquella ratonera.\\nDe los pobres que allí había\\na ninguno lo largaron;\\nlos más viejos rezongaron,\\npero a uno que se quejó\\nen seguida lo estaquiaron\\ny la cosa se acabó.\\nEn la lista de la tarde\\nel jefe nos cantó el punto,\\ndiciendo: Quinientos juntos\\nllevará el que se resierte;\\nlo haremos pitar del juerte;\\nmás bien dése por dijunto.\\nA naides le dieron armas,\\npues toditas las que había\\nel coronel las tenía,\\nsegún dijo esa ocasión,\\npa repartirlas el día\\nen que hubiera una invasión.\\nAl principio nos dejaron\\nde haraganes criando sebo,\\npero después..no me atrevo\\na decir lo que pasaba.\\n¡Barajo!... si nos trataban\\ncomo se trata a malevos.\\nPorque todo era jugarle\\npor los lomos con la espada,\\ny, aunque usté no hiciera nada,\\nlo mesmito que en Palermo\\nle daban cada cepiada\\nque lo dejaban enfermo.\\n¡Y qué indios, ni qué servicio,\\nsi allí no había ni cuartel!\\nNos mandaba el coronel\\na trabajar en sus chacras,\\ny dejábamos las vacas\\nque las llevara el infiel.\\nYo primero sembré trigo\\ny después hice un corral,\\ncorté adobe pa un tapial,\\nhice un quincho, corté paja...\\n¡La pucha, que se trabaja\\nsin que le larguen ni un rial!\\n\\nY es lo pior de aquel enriedo\\nque si uno anda hinchando el lomo\\nya se le apean como plomo...\\n¡Quién aguanta aquel infierno!\\nY eso es servir al gobierno,\\na mí no me gusta el cómo.\\nMás de un año nos tuvieron\\nen esos trabajos duros,\\ny los indios, le asiguro,\\ndentraban cuando querían:\\ncomo no los perseguían\\nsiempre andaban sin apuro.\\nA veces decía al volver\\ndel campo la descubierta\\nque estuviéramos alerta,\\nque andaba adentro la indiada;\\nporque había una rastrillada\\no estaba una yegua muerta.\\nRecién entonces salía\\nla orden de hacer la riunión\\ny cáibamos al cantón\\nen pelos y hasta enancaos,\\nsin armas, cuatro pelaos\\nque íbamos a hacer jabón.\\nAhí empezaba el afán,\\nse entiende, de puro vicio,\\nde enseñarle el ejercicio\\na tanto gaucho recluta,\\ncon un estrutor ¡qué... bruta!\\nque nunca sabía su oficio.\\nDaban entonces las armas\\npa defender los cantones,\\nque eran lanzas y latones\\ncon ataduras de tiento...\\nLas de juego no las cuento,\\nporque no había municiones.\\nY chamuscao un sargento\\nme contó que las tenían,\\npero que ellos las vendían\\npara cazar avestruces;\\ny ansí andaban noche y día\\ndéle bala a los ñanduces.\\nY cuando se iban los indios\\ncon lo que habían manotiao,\\nsalíamos muy apuraos\\na perseguirlos de atrás;\\nsi no se llevaban más\\nes porque no habían hallao.\\n\\nAllí sí se ven desgracias\\ny lágrimas y afliciones,\\nnaides le pida perdones\\nal indio, pues donde dentra\\nroba y mata cuanto encuentra\\ny quema las poblaciones.\\nNo salvan de su juror\\nni los pobres angelitos:\\nviejos, mozos y chiquitos\\nlos mata del mesmo modo;\\nque el indio lo arregla todo\\ncon la lanza y con los gritos.\\nTiemblan las carnes al verlo\\nvolando al viento la cerda,\\nla rienda en la mano izquierda\\ny la lanza en la derecha;\\nande enderiesa abre brecha\\npues no hay lanzaso que pierda.\\nHace trotiadas tremendas\\ndende el fondo del desierto;\\nansí llega medio muerto\\nde hambre, de sé y de fatiga;\\npero el indio es una hormiga\\nque día y noche está despierto.\\nSabe manejar las bolas\\ncomo naides las maneja\\ncuanto el contrario se aleja\\nmanda una bola perdida\\ny si lo alcanza, sin vida\\nes siguro que lo deja.\\nY el indio es como tortuga\\nde duro para espichar;\\nsi lo llega a destripar\\nni siquiera se le encoge;\\nluego sus tripas recoge\\ny se agacha a disparar.\\nHacían el robo a su gusto\\ny después se iban de arriba,\\nse llevaban las cautivas\\ny nos contaban que a veces\\nles descarnaban los pieses\\na las pobrecitas, vivas.\\n¡Ah, si partía el corazón\\nver tantos males, canejo!\\nLos perseguíamos de lejos\\nsin poder ni galopiar.\\n¡Y qué habíamos de alcanzar\\nen unos bichocos viejos!\\n\\nNos volvíamos al cantón\\na las dos o tres jornadas\\nsembrando las caballadas;\\ny pa que alguno la venda,\\nrejuntábamos la hacienda\\nque habían dejao resagada.\\nUna vez entre otras muchas.\\ntanto salir al botón,\\nnos pegaron un malón\\nlos indios y una lanciada.\\nque la gente acobardada\\nquedó dende esa ocasión.\\nHabían estao escondidos\\naguaitando atrás de un cerro.\\n¡Lo viera a su amigo Fierro\\naflojar como un blandito!\\nSalieron como máiz frito\\nen cuanto sonó un cencerro.\\nAl punto nos dispusimos\\naunque ellos eran bastantes;\\nla formamos al istante\\nnuestra gente, que era poca;\\ny golpiándose en la boca\\nhicieron fila adelante.\\nSe vinieron en tropel\\nhaciendo temblar la tierra.\\nNo soy manco pa la guerra\\npero tuve mi jabón,\\npues iba en un redomón\\nque había boliao en la sierra.\\n¡Qué vocerío, qué barullo,\\nqué apurar esa carrera!\\nLa indiada todita entera\\ndando alaridos cargó.\\n¡Jue pucha!... y ya nos sacó\\ncomo yeguada matrera.\\n¡Qué fletes traiban los bárbaros,\\ncomo una luz de ligeros!\\nHicieron el entrevero\\ny en aquella mescolanza,\\néste quiero, éste no quiero,\\nnos escogían con la lanza.\\nAl que le dan un chuzaso\\ndificultoso es que sane;\\nen fin, para no echar panes,\\nsalimos por esas lomas\\nlo mesmo que las palomas\\nal juir de los gavilanes.\\n\\nEs de almirar la destreza\\ncon que la lanza manejan.\\nDe perseguir nunca dejan\\ny nos traiban apretaos.\\n¡Si queríamos, de apuraos,\\nsalirnos por las orejas!\\nY pa mejor de la fiesta\\nen esta aflición tan suma,\\nvino un indio echando espuma\\ny con la lanza en la mano\\ngritando: \"Acabau, cristiano,\\nmetau el lanza hasta el pluma.\"\\nTendido en el costillar,\\ncimbrando por sobre el brazo\\nuna lanza como un lazo,\\nme atropeyó dando gritos:\\nsi me descuido... el maldito\\nme levanta de un lanzaso.\\nSi me atribulo o me encojo,\\nsiguro que no me escapo;\\nsiempre he sido medio guapo\\npero en aquella ocasión\\nme hacía buya el corazón\\ncomo la garganta al sapo.\\nDios le perdone al salvaje\\nlas ganas que me tenía...\\nDesaté las tres marías\\ny lo engatusé a cabriolas.\\n¡Pucha!... si no traigo bolas\\nme achura el indio ese día.\\nEra el hijo de un casique\\nsigún yo lo avirigué;\\nla verdá del caso jue\\nque me tuvo apuradazo,\\nhasta que, al fin, de un bolazo\\ndel caballo lo bajé.\\nAhi no más me tiré al suelo\\ny lo pisé en las paletas;\\nempezó a hacer morisquetas...\\ny a mezquinar la garganta...\\npero yo hice la obra santa\\nde hacerlo estirar la jeta.\\nAllí quedó de mojón\\ny en su caballo salté;\\nde la indiada disparé,\\npues si me alcanza me mata,\\ny, al fin, me les escapé\\ncon el hilo en una pata.\\n\\nSeguiré esta relación\\naunque pa chorizo es largo:\\nel que pueda hágase cargo\\ncómo andaría de matrero,\\ndespués de salvar el cuero\\nde aquel trance tan amargo.\\nDel sueldo nada les cuento,\\nporque andaba disparando;\\nnosotros, de cuando en cuando,\\nsolíamos ladrar de pobres:\\nnunca llegaban los cobres\\nque se estaban aguardando.\\nY andábamos de mugrientos\\nque el mirarnos daba horror;\\nle juro que era un dolor\\nver esos hombres, ¡por Cristo!\\nEn mi perra vida he visto\\nuna miseria mayor.\\nYo no tenía ni camisa\\nni cosa que se parezca;\\nmis trapos sólo pa yesca\\nme podían servir al fin...\\nNo hay plaga como un fortín\\npara que el hombre padezca.\\nPoncho, jergas, el apero,\\nlas prenditas, los botones,\\ntodo, amigo, en los cantones\\njue quedando poco a poco;\\nya nos tenían medio loco\\nla pobreza y los ratones.\\nSólo una manta peluda\\nera cuanto me quedaba;\\nla había agenciao a la taba\\ny ella me tapaba el bulto;\\nyaguané que allí ganaba\\nno salía... ni con indulto.\\nY pa mejor hasta el moro\\nse me jue de entre las manos;\\nno soy lerdo... pero, hermano,\\nvino el comendante un día\\ndiciendo que lo quería\\n\"pa enseñarle a comer grano\".\\nAfigúresé cualquiera\\nla suerte de este su amigo,\\na pie y mostrando el umbligo,\\nestropiao, pobre y desnudo.\\n\\nNi por castigo se pudo\\nhacerse más mal conmigo.\\nAnsí pasaron los meses,\\ny vino el año siguiente,\\ny las cosas igualmente\\nsiguieron del mesmo modo:\\nadrede parece todo\\npara aburrir a la gente.\\nNo teníamos más permiso,\\nni otro alivio la gauchada,\\nque salir de madrugada,\\ncuando no había indio ninguno,\\ncampo ajuera, a hacer boliadas,\\ndesocando los reyunos.\\nY cáibamos al cantón\\ncon los fletes aplastaos,\\npero a veces medio aviaos\\ncon plumas y algunos cueros\\nque áhi no más con el pulpero\\nlos teníamos negociaos.\\nEra un amigo del jefe\\nque con un boliche estaba;\\nyerba y tabaco nos daba\\npor la pluma de avestruz,\\ny hasta le hacía ver la luz\\nal que un cuero le llevaba.\\nSólo tenía cuatro frascos\\ny unas barricas vacías,\\ny a la gente le vendía\\ntodo cuanto precisaba:\\na veces creiba que estaba\\nallí la proveduría.\\n¡Ah pulpero habilidoso!\\nNada le solía faltar\\n¡Aijuna! y para tragar\\ntenía un buche de ñandú.\\nLa gente le dio en llamar\\n\"el boliche de virtú\".\\nAunque es justo que quien vende\\nalgún poquitito muerda,\\ntiraba tanto la cuerda\\nque con sus cuatro limetas\\nél cargaba las carretas\\nde plumas, cueros y cerda.\\nNos tenía apuntaos a todos\\ncon más cuentas que un rosario,\\ncuando se anunció un salario\\nque iban a dar, o un socorro,\\n\\npero sabe Dios qué zorro\\nse lo comió al comisario.\\nPues nunca lo vi llegar\\ny, al cabo de muchos días,\\nen la mesma pulpería\\ndieron una buena cuenta,\\nque la gente muy contenta\\nde tan pobre recebia.\\nSacaron unos sus prendas\\nque las tenían empeñadas,\\npor sus deudas atrasadas\\ndieron otros el dinero;\\nal fin de fiesta el pulpero\\nse quedó con la mascada.\\nYo me arrecosté a un horcón\\ndando tiempo a que pagaran,\\ny poniendo güena cara\\nestuve haciéndome el poyo,\\nA esperar que me llamaran\\npara recebir mi boyo.\\nPero áhi me pude quedar\\npegao pa siempre al horcón;\\nya era casi la oración\\ny ninguno me llamaba;\\nla cosa se me ñublaba\\ny me dentró comezón.\\nPa sacarme el entripao\\nvi al mayor, y lo fí a hablar.\\nYo me le empecé a atracar\\ny, como con poca gana,\\nle dije: \"Tal vez mañana\\nacabarán de pagar.\"\\n\"-Qué mañana ni otro día\",\\nal punto me contestó,\\n\"la paga ya se acabó,\\nsiempre has de ser animal.\"\\nMe rái y le dije: \"Yo...\\nno he recebido ni un rial\".\\nSe le pusieron los ojos\\nque se le querían salir,\\ny áhi no más volvió a decir\\ncomiéndomé con la vista:\\n\"-¿Y qué querés recebir\\nsi no has dentrao en la lista?\"\\n\"-Este sí que es amolar\",\\ndije yo pa mis adentros,\\n\"van dos años que me encuentro\\ny hasta áura he visto ni un grullo;\\n\\ndentro en todos los barullos\\npero en las listas no dentro\".\\nVide el plaito mal parao\\ny no quise aguardar más...\\nEs güeno vivir en paz\\ncon quien nos ha de mandar,\\ny reculando pa trás\\nme le empecé a retirar.\\nSupo todo el comendante\\ny me llamó al otro día,\\ndiciéndomé que quería\\naviriguar bien las cosas\\nque no era el tiempo de Rosas,\\nque áura a naides se debía.\\nLlamó al cabo y al sargento\\ny empezó la indagación:\\nsi había venido al cantón\\nen tal tiempo o en tal otro\\nY si había venido en potro,\\nen reyuno o redomón.\\nY todo era alborotar\\nal ñudo, y hacer papel:\\nconocí que era pastel\\npa engordar con mi guayaca;\\nmas si voy al coronel\\nme hacen bramar en la estaca.\\n¡Ah hijos de una!... ¡La codicia\\nojalá les ruempa el saco!\\nNi un pedazo de tabaco\\nle dan al pobre soldao,\\ny lo tienen, de delgao,\\nmás ligero que un guanaco.\\nPero qué iba a hacerles yo,\\ncharabón en el desierto;\\nmás bien me daba por muerto\\npa no verme más fundido\\ny me les hacía el dormido\\naunque soy medio dispierto.\\n\\nYo andaba desesperao\\naguardando una ocasión,\\nque los indios un malón\\nnos dieran, y entre el estrago\\nhacérmelés cimarrón\\ny volverme pa mi pago.\\nAquéllo no era servicio\\nni defender la frontera:\\n\\naquéllo era ratonera\\nen que es más gato el más juerte:\\nera jugar a la suerte\\ncon una taba culera.\\nAllí tuito va al revés:\\nlos milicos se hacen piones,\\ny andan por las poblaciones\\nemprestaos pa trabajar;\\nIos rejuntan pa peliar\\ncuando entran indios ladrones.\\nYo he visto en esa milonga\\nmuchos jefes con estancia,\\ny piones en abundancia,\\ny majadas y rodeos;\\nhe visto negocios feos\\na pesar de mi inorancia.\\nY colijo que no quieren\\nla barunda componer;\\npara esto no ha de tener\\nel jefe, aunque esté de estable,\\nmás que su poncho y su sable,\\nsu caballo y su deber.\\nAnsina, pues, conociendo\\nque aquel mal no tiene cura,\\nque tal vez mi sepultura\\nsi me quedo iba a encontrar,\\npensé en mandarme mudar\\ncomo cosa más sigura.\\nY pa mejor, una noche\\n¡qué estaquiada me pegaron!\\nCasi me descoyuntaron\\npor motivo de una gresca.\\n¡Aijuna, si me estiraron\\nlo mesmo que guasca fresca!\\nJamás me puedo olvidar\\nlo que esa vez me pasó:\\ndentrando una noche yo\\nal fortín, un enganchao,\\nque estaba medio mamao,\\nallí me desconoció.\\nEra un gringo tan bozal,\\nque nada se le entendía.\\n¡Quién sabe de ande sería!\\nTal vez no juera cristiano,\\npues lo único que decía\\nes que era pa-po-litano.\\nEstaba de centinela\\ny, por causa del peludo,\\n\\nverme más claro no pudo\\ny esa jue la culpa toda.\\nEl bruto se asustó al ñudo\\ny fí el pavo de la boda.\\nCuanto me vido acercar\\n\"¿Quién vivore?\", preguntó:\\n\"Qué vivoras\", dije yo.\\n\"¡Hagarto!\", me pegó el grito.\\nY yo dije despacito:\\n\"Más lagarto serás vos\".\\nAhí no más ¡Cristo me valga!\\nrastrillar el jusil siento;\\nme agaché, y en el momento\\nel bruto me largó un chumbo;\\nmamao, me tiró sin rumbo\\nque si no, no cuento el cuento.\\nPor de contao, con el tiro\\nse alborotó el avispero;\\nlos oficiales salieron\\ny se empezó la junción:\\nquedó en su puesto el nación\\ny yo fi al estaquiadero.\\nEntre cuatro bayonetas\\nme tendieron en el suelo.\\nVino el mayor medio en pedo\\ny allí se puso a gritar:\\n\"Pícaro, te he de enseñar\\na andar declamando sueldos.\"\\nDe las manos y las patas\\nme ataron cuatro sinchones.\\nLes aguanté los tirones\\nsin que ni un ¡ay! se me oyera\\ny al gringo la noche entera\\nlo harté con mis maldiciones.\\nYo no sé por qué el gobierno\\nnos manda aquí a la frontera\\ngringada que ni siquiera\\nse sabe atracar a un pingo.\\n¡Si crerá al mandar un gringo\\nque nos manda alguna fiera!\\nNo hacen más que dar trabajo\\npues no saben ni ensillar;\\nno sirven ni pa carniar,\\ny yo he visto muchas veces\\nque ni voltiadas las reses\\nse les querían arrimar.\\nY lo pasan sus mercedes\\nlengüetiando pico a pico\\n\\nhasta que viene un milico\\na servirles el asao...\\nY eso sí, en lo delicaos\\nparecen hijos de rico.\\nSi hay calor, ya no son gente,\\nsi yela, todos tiritan;\\nsi usté no les da, no pitan\\npor no gastar en tabaco,\\ny cuando pescan un naco\\nunos a otros se lo quitan.\\nCuanto llueve se acoquinan\\ncomo el perro que oye truenos.\\n¡Qué diablos! sólo son güenos\\npa vivir entre maricas,\\ny nunca se andan con chicas\\npara alzar ponchos ajenos.\\nPa vichar son como ciegos,\\nni hay ejemplo de que entiendan;\\nno hay uno solo que aprienda,\\nal ver un bulto que cruza,\\na saber si es avestruza,\\no si es jinete, o hacienda.\\nSi salen a perseguir\\ndespués de mucho aparato,\\ntuitos se pelan al rato\\ny va quedando el tendal:\\nesto es como en un nidal\\necharle güebos a un gato.\\n\\nVamos dentrando recién\\na la parte más sentida,\\naunque es todita mi vida\\nde males una cadena:\\na cada alma dolorida\\nle gusta cantar sus penas.\\nSe empezó en aquel entonces\\na rejuntar caballada\\ny riunir la milicada\\nteniéndolá en el cantón,\\npara una despedición\\na sorprender a la indiada.\\nNos anunciaban que iríamos\\nsin carretas ni bagajes\\na golpiar a los salvajes\\nen sus mesmas tolderías;\\nque a la güelta pagarían\\nlicenciándolo al gauchaje.\\n\\nQue en esta despedición\\ntuviéramos la esperanza,\\nque iba a venir sin tardanza,\\nsigún el jefe contó,\\nun menistro o qué sé yo...\\nque lo llamaban Don Ganza.\\nQue iba a riunir el ejército\\ny tuitos los batallones\\ny que traiba unos cañones\\ncon más rayas que un cotín.\\n¡Pucha!... Las conversaciones\\npor allá no tenían fin.\\nPero esas trampas no enriedan\\na los zorros de mi laya;\\nque el menistro venga o vaya.\\npoco le importa a un matrero.\\nYo también dejé las rayas...\\nen los libros del pulpero.\\nNunca jui gaucho dormido,\\nsiempre pronto, siempre listo,\\nyo soy un hombre ¡que Cristo!\\nque nada me ha acobardao.\\ny siempre salí parao\\nen los trances que me he visto.\\nDende chiquito gané\\nla vida con mi trabajo,\\ny aunque siempre estuve abajo\\ny no sé lo que es subir,\\ntambién el mucho sufrir\\nsuele cansarnos ¡barajo!\\nEn medio de mi inorancia\\nconozco que nada valgo:\\nsoy la liebre o soy el galgo\\nasigún los tiempos andan;\\npero también los que mandan\\ndebieran cuidarnos algo.\\nUna noche que riunidos\\nestaban en la carpeta\\nempinando una limeta\\nel jefe y el Juez de Paz,\\nyo no quise aguardar más\\ny me hice humo en un sotreta.\\nPara mi el campo son flores\\ndende que libre me veo;\\ndonde me lleva el deseo\\nallí mis pasos dirijo\\ny hasta en las sombras, de fijo\\nque a dondequiera rumbeo.\\n\\nEntro y salgo del peligro\\nsin que me espante el estrago;\\nno aflojo al primer amago\\nni jamás fí gaucho lerdo:\\nsoy pa rumbiar como el cerdo\\ny pronto cái a mi pago.\\nVolvía al cabo de tres años\\nde tanto sufrir al ñudo,\\nresertor, pobre y desnudo,\\na procurar suerte nueva,\\ny lo mesmo que el peludo\\nenderecé pa mi cueva.\\nNo hallé ni rastro del rancho;\\n¡sólo estaba la tapera!\\n¡Por Cristo, si aquéllo era\\npa enlutar el corazón:\\nyo juré en esa ocasión\\nser más malo que una fiera!\\n¡Quién no sentirá lo mesmo\\ncuando ansí padece tanto!\\nPuedo asigurar que el llanto\\ncomo una mujer largué.\\n¡Ay mi Dios, si me quedé\\nmás triste que Jueves Santo!\\nSólo se oíban los aullidos\\nde un gato que se salvó;\\nel pobre se guareció\\ncerca, en una vizcachera;\\nvenía como si supiera\\nque estaba de güelta yo.\\nAl dirme dejé la hacienda\\nque era todito mi haber;\\npronto debíamos volver,\\nsegún el Juez prometía,\\ny hasta entonces cuidaría\\nde los bienes la mujer.\\nDespués me contó un vecino\\nque el campo se lo pidieron,\\nla hacienda se la vendieron\\npa pagar arrendamientos,\\ny qué sé yo cuántos cuentos;\\npero todo lo fundieron.\\nLos pobrecitos muchachos\\nentre tantas afliciones\\nse conchabaron de piones;\\n¡mas qué iban a trabajar,\\nsi eran como los pichones\\nsin acabar de emplumar!\\n\\nPor áhi andarán sufriendo\\nde nuestra suerte el rigor:\\nme han contao que el mayor\\nnunca dejaba a su hermano;\\npuede ser que algún cristiano\\nlos recoja por favor.\\n¡Y la pobre mi mujer\\nDios sabe cuánto sufrió!\\nMe dicen que se voló\\ncon no sé qué gavilán,\\nsin duda a buscar el pan\\nque no podía darle yo.\\nNo es raro que a uno le falte\\nlo que a algún otro le sobre;\\nsi no le quedó ni un cobre\\nsino de hijos un enjambre,\\n¿qué más iba a hacer la pobre\\npara no morirse de hambre?\\nTal vez no te vuelva a ver,\\nprenda de mi corazón:\\nDios te dé su protección\\nya que no me la dió a mí,\\ny a mis hijos dende aquí\\nles echo mi bendición.\\nComo hijitos de la cuna\\nandaban por áhi sin madre.\\nYa se quedaron sin padre\\ny ansí la suerte los deja,\\nsin naides que los proteja\\ny sin perro que los ladre.\\nLos pobrecitos tal vez\\nno tengan ande abrigarse,\\nni ramada ande ganarse,\\nni un rincón ande meterse,\\nni camisa que ponerse,\\nni poncho con que taparse.\\nTal vez los verán sufrir\\nsin tenerles compasión;\\npuede que alguna ocasión\\naunque los vean tiritando\\nlos echen de algún jogón\\npa que no estén estorbando.\\nY al verse ansina espantaos\\ncomo se espanta a los perros,\\nirán los hijos de Fierro\\ncon la cola entre las piernas,\\na buscar almas más tiernas\\no esconderse en algún cerro.\\n\\nMas también en este juego\\nvoy a pedir mi bolada;\\na naides le debo nada\\nni pido cuartel ni doy,\\ny ninguno dende hoy\\nha de llevarme en la armada.\\nYo he sido manso, primero,\\ny seré gaucho matrero\\nen mi triste circustancia,\\naunque es mi mal tan projundo;\\nnací y me he criao en estancia,\\npero ya conozco el mundo.\\nYa le conozco sus mañas,\\nle conozco sus cucañas,\\nsé cómo hacen la partida,\\nla enriedan y la manejan:\\ndeshaceré la madeja\\naunque me cueste la vida.\\nY aguante el que no se anime\\na meterse en tanto engorro,\\no si no aprétesé el gorro\\no para otra tierra emigre;\\npero yo ando como el tigre\\nque le roban los cachorros.\\nAunque muchos cren que el gaucho\\ntiene un alma de reyuno,\\nno se encontrará ninguno\\nque no lo dueblen las penas;\\nmas no debe aflojar uno\\nmientras hay sangre en las venas.\\n\\nDe carta de más me vía\\nsin saber adónde dirme;\\nmas dijeron que era vago\\ny entraron a perseguirme.\\nNunca se achican los males,\\nvan poco a poco creciendo,\\ny ansina me vide pronto\\nobligao a andar juyendo.\\nNo tenía mujer ni rancho,\\ny a más, era resertor;\\nno tenía una prenda güena\\nni un peso en el tirador.\\nA mis hijos infelices\\npensé volverlos a hallar\\ny andaba de un lao al otro\\nsin tener ni qué pitar.\\n\\nSupe una vez por desgracia\\nque había un baile por allí,\\ny medio desesperao\\na ver la milonga fuí.\\nRiunidos al pericón\\ntantos amigos hallé,\\nque alegre de verme entre ellos\\nesa noche me apedé.\\nComo nunca, en la ocasión\\npor peliar me dió la tranca,\\ny la emprendí con un negro\\nque trujo una negra en ancas.\\nAl ver llegar la morena\\nque no hacía caso de naides\\nle dije con la mamúa:\\n\"Va... ca... yendo gente al baile.\"\\nLa negra entendió la cosa\\ny no tardó en contestarme\\nmirándomé como a perro:\\n\"más vaca será su madre\".\\nY dentró al baile muy tiesa\\ncon más cola que una zorra\\nhaciendo blanquiar los dientes\\nlo mesmo que mazamorra.\\n-\"Negra linda\"... dije yo,\\n\"me gusta... pa la carona\";\\ny me puse a talariar\\nesta coplita fregona:\\n\"A los blancos hizo Dios,\\na los mulatos San Pedro,\\na los negros hizo el diablo\\npara tizón del infierno.\"\\nHabía estao juntando rabia\\nel moreno dende ajuera;\\nen lo escuro le brillaban\\nlos ojos como linterna.\\nLo conocí retobao,\\nme acerqué y le dije presto:\\n\"Por... rudo... que un hombre sea\\nnunca se enoja por esto.\"\\nCorcovió el de los tamangos\\ny creyéndose muy fijo:\\n-\"Más porrudo serás vos,\\ngaucho rotoso\", me dijo.\\n\\nY ya se me vino el humo\\ncomo a buscarme la hebra,\\ny un golpe le acomodé\\ncon el porrón de ginebra.\\nAhi no más pegó el de hollín\\nmás gruñidos que un chanchito,\\ny pelando el envenao\\nme atropelló dando gritos.\\nPegué un brinco y abrí cancha\\ndiciéndolés: -\"Caballeros,\\ndejen venir ese toro;\\nsolo nací... solo muero.\"\\nEl negro después del golpe\\nse había el poncho refalao\\ny dijo:  -\"Vas a saber\\nsi es solo o acompañao.\"\\nY mientras se arremangó\\nyo me saqué las espuelas,\\npues malicié que aquel tío\\nno era de arriar con las riendas.\\nNo hay cosa como el peligro\\npa refrescar un mamao;\\nhasta la vista se aclara\\npor mucho que haiga chupao.\\nEl negro me atropelló\\ncomo a quererme comer;\\nme hizo dos tiros seguidos\\ny los dos le abarajé.\\nYo tenía un facón con S\\nque era de lima de acero;\\nle hice un tiro, lo quitó\\ny vino ciego el moreno.\\nY en el medio de las aspas\\nun planaso le asenté\\nque le largué culebriando\\nlo mesmo que buscapié.\\nLe coloriaron las motas\\ncon la sangre de la herida,\\ny volvió a venir furioso\\ncomo una tigra parida.\\nY ya me hizo relumbrar\\npor los ojos el cuchillo,\\nalcansando con la punta\\na cortarme en un carrillo.\\nMe hirvió la sangre en las venas\\n\\ny me le afirmé al moreno.\\ndándole de punta y hacha\\npa dejar un diablo menos.\\nPor fin en una topada\\nen el cuchillo lo alcé\\ny como un saco de güesos\\ncontra el cerco lo largué.\\nTiró unas cuantas patadas\\ny ya cantó pa el carnero.\\nNunca me pude olvidar\\nde la agonía de aquel negro.\\nEn esto la negra vino,\\ncon los ojos como ají,\\ny empesó la pobre allí\\na bramar como una loba.\\nYo quise darle una soba\\na ver si la hacía callar;\\nmas pude reflesionar\\nque era malo en aquel punto,\\ny por respeto al dijunto\\nno la quise castigar.\\nLimpié el facón en los pastos,\\ndesaté mi redomón,\\nmonté despacio y salí\\nal tranco pa el cañadón.\\nDespués supe que al finao\\nni siquiera lo velaron\\ny retobao en un cuero\\nsin resarle lo enterraron.\\nY dicen que dende entonces\\ncuando es la noche serena\\nsuele verse una luz mala\\ncomo de alma que anda en pena.\\nYo tengo intención a veces\\npara que no pene tanto,\\nde sacar de allí los güesos\\ny echarlos al camposanto.\\n\\nOtra vez en un boliche\\nestaba haciendo la tarde;\\ncayó un gaucho que hacía alarde\\nde guapo y de peliador;\\na la llegada metió\\nel pingo hasta la ramada,\\ny yo sin decirle nada\\nme quedé en el mostrador.\\n\\nEra un terne de aquel pago\\nque naides lo reprendía,\\nque sus enriedos tenía\\ncon el señor comendante;\\ny como era protegido,\\nandaba muy entonao\\ny a cualquiera desgraciao\\nlo llevaba por delante.\\n¡Ah pobre, si él mismo creiba\\nque la vida le sobraba!\\nNinguno diría que andaba\\naguaitándoló la muerte;\\npero ansí pasa en el mundo,\\nes así la triste vida:\\npa todos está escondida\\nla güena o la mala suerte.\\nSe tiró al suelo; al dentrar\\nle dio un empeyón a un vasco\\ny me alargó un medio frasco\\ndiciendo: \"Beba, cuñao.\"\\n\"Por su hermana\", contesté,\\n\"que por la mía no hay cuidao\".\\n\"¡Ah, gaucho!\", me respondió,\\n\"¿de qué pago será criollo?\\nLo andará buscando el hoyo,\\ndeberá tener güen cuero;\\npero ande bala este toro\\nno bala ningún ternero\".\\nY ya salimos trensaos,\\nporque el hombre no era lerdo;\\nmas como el tino no pierdo\\ny soy medio ligerón,\\nlo dejé mostrando el sebo\\nde un revés con el facón.\\nY como con la justicia\\nno andaba bien por allí,\\ncuanto pataliar lo vi,\\ny el pulpero pegó el grito,\\nya pa el palenque salí\\ncomo haciéndomé el chiquito.\\nMonté y me encomendé a Dios,\\nrumbiando para otro pago;\\nque el gaucho que llaman vago\\nno puede tener querencia,\\ny ansí de estrago en estrago\\nvive yorando la ausencia.\\nEl anda siempre juyendo,\\nsiempre pobre y perseguido;\\nno tiene cueva ni nido,\\n\\ncomo si juera maldito;\\nporque el ser gaucho... ¡barajo!\\nel ser gaucho es un delito.\\nEs como el patrio de posta:\\nlo larga éste, aquél lo toma,\\nnunca se acaba la broma;\\ndende chico se parece\\nal arbolito que crece\\ndesamparao en la loma.\\nLe echan la agua del bautismo\\naquél que nació en la selva,\\n\"buscá madre que te envuelva\",\\nse dice el flaire y lo larga,\\ny dentra a crusar el mundo\\ncomo burro con la carga.\\nY se cría viviendo al viento\\ncomo oveja sin trasquila\\nmientras su padre en las filas\\nanda sirviendo al gobierno;\\naunque tirite en invierno,\\nnaides lo ampara ni asila.\\nLe llaman \"gaucho mamao\"\\nsi lo pillan divertido,\\ny que es mal entretenido\\nsi en un baile lo sorprienden;\\nhace mal si se defiende\\ny si no, se ve... fundido.\\nNo tiene hijos, ni mujer,\\nni amigos, ni protetores,\\npues todos son sus señores\\nsin que ninguno lo ampare;\\ntiene la suerte del güey\\n¿y dónde irá el güey que no are?\\nSu casa es el pajonal,\\nsu guarida es el desierto;\\ny si de hambre medio muerto\\nle echa el lazo a algún mamón,\\nlo persiguen como a plaito,\\nporque es un \"gaucho ladrón\".\\nY si de un golpe por áhi\\nlo dan güelta panza arriba,\\nno hay un alma compasiva\\nque le rese una oración:\\ntal vez como cimarrón\\nen una cueva lo tiran.\\nEl nada gana en la paz\\ny es el primero en la guerra;\\nno le perdonan si yerra,\\n\\nque no saben perdonar,\\nporque el gaucho en esta tierra\\nsólo sirve pa votar.\\nPara él son los calabozos,\\npara él las duras prisiones;\\nen su boca no hay razones\\naunque la razón le sobre;\\nque son campanas de palo\\nlas razones de los pobres.\\nSi uno aguanta, es gaucho bruto;\\nsi no aguanta, es gaucho malo.\\n¡Déle azote, déle palo\\nporque es lo que él necesita!\\nDe todo el que nació gaucho\\nésta es la suerte maldita.\\nVamos, suerte, vamos juntos\\ndende que juntos nacimos,\\ny ya que juntos vivimos\\nsin podernos dividir,\\nyo abriré con mi cuchillo\\nel camino pa seguir.\\n\\nMatreriando lo pasaba\\ny a las casas no venía;\\nsolía arrimarme de día,\\nmas, lo mesmo que el carancho,\\nsiempre estaba sobre el rancho\\nespiando a la polecía.\\nViva el gaucho que ande mal\\ncomo zorro perseguido,\\nhasta que al menor descuido\\nse lo atarasquen los perros,\\npues nunca le falta un yerro\\nal hombre más alvertido.\\nY en esa hora de la tarde\\nen que tuito se adormese,\\nque el mundo dentrar parece\\na vivir en pura calma,\\ncon las tristezas de su alma\\nal pajonal enderiese.\\nBala el tierno corderito\\nal lao de la blanca oveja\\ny a la vaca que se aleja\\nllama el ternero amarrao;\\npero el gaucho desgraciao\\nno tiene a quién dar su queja.\\nAnsí es que al venir la noche\\n\\niba a buscar mi guarida,\\npues ande el tigre se anida\\ntambién el hombre lo pasa,\\ny no quería que en las casas\\nme rodiara la partida.\\nPues aún cuando vengan ellos\\ncumpliendo con sus deberes,\\nyo tengo otros pareceres,\\ny en esa conduta vivo:\\nque no debe un gaucho altivo\\npeliar entre las mujeres.\\nY al campo me iba solito,\\nmás matrero que el venao,\\ncomo perro abandonao,\\na buscar una tapera,\\no en alguna vizcachera\\npasar la noche tirao.\\nSin punto ni rumbo fijo\\nen aquella inmensidá,\\nentre tanta escuridá\\nanda el gaucho como duende;\\nallí jamás lo sorpriende\\ndormido, la autoridá.\\nSu esperanza es el coraje,\\nsu guardia es la precaución,\\nsu pingo es la salvación,\\ny pasa uno en su desvelo\\nsin más amparo que el cielo\\nni otro amigo que el facón.\\nAnsí me hallaba una noche\\ncontemplando las estrellas,\\nque le parecen más bellas\\ncuanto uno es más desgraciao\\ny que Dios las haiga criao\\npara consolarse en ellas.\\nLes tiene el hombre cariño\\ny siempre con alegría\\nve salir las Tres Marías,\\nque, si llueve, cuanto escampa\\nlas estrellas son la guía\\nque el gaucho tiene en la pampa.\\nAquí no valen dotores:\\nsólo vale la esperencia;\\naquí verían su inocencia\\nesos que todo lo saben,\\nporque esto tiene otra llave\\ny el gaucho tiene su cencia.\\nEs triste en medio del campo\\n\\npasarse noches enteras\\ncontemplando en sus carreras\\nlas estrellas que Dios cría,\\nsin tener más compañía\\nque su soledá y las fieras.\\nMe encontraba, como digo,\\nen aquella soledá,\\nentre tanta escuridá,\\nechando al viento mis quejas\\ncuando el grito del chajá\\nme hizo parar las orejas.\\nComo lumbriz me pegué\\nal suelo para escuchar;\\npronto sentí retumbar\\nlas pisadas de los fletes,\\ny que eran muchos jinetes\\nconoci sin vasilar.\\nCuando el hombre está en peligro\\nno debe tener confianza;\\nansí, tendido de panza,\\npuse toda mi atención\\ny ya escuché sin tardanza\\ncomo el ruido de un latón.\\nSe venían tan calladitos\\nque yo me puse en cuidao;\\ntal vez me hubieran bombiao\\ny me venían a buscar;\\nmas no quise disparar,\\nque eso es de gaucho morao.\\nAl punto me santigüé\\ny eché de ginebra un taco,\\nlo mesmito que el mataco\\nme arroyé con el porrón:\\n\"Si han de darme pa tabaco,\\ndije, ésta es güena ocasión.\"\\nMe refalé las espuelas,\\npara no peliar con grillos;\\nme arremangué el calzoncillo\\ny me ajusté bien la faja\\ny en una mata de paja\\nprobé el filo del cuchillo.\\nPara tenerlo a la mano\\nel flete en el pasto até,\\nla cincha le acomodé,\\ny en un trance como aquél,\\nhaciendo espaldas en él\\nquietito los aguardé.\\nCuanto cerca los sentí,\\n\\ny que áhi no más se pararon,\\nlos pelos se me erizaron,\\ny aunque nada vian mis ojos,\\n\"No se han de morir de antojo\"\\nles dije, cuando llegaron.\\nYo quise hacerles saber\\nque allí se hallaba un varón;\\nles conocí la intención\\ny solamente por eso\\nes que les gané el tirón,\\nsin aguardar voz de preso.\\n-\"Vos sos un gaucho matrero\",\\ndijo uno, haciéndosé el güeno.\\n\"Vos matastes un moreno\\ny otro en una pulpería,\\ny aquí está la polecía\\nque viene a justar tus cuentas;\\nte va a alzar por las cuarenta\\nsi te resistís hoy día.\"\\n-\"No me vengan, contesté,\\ncon relación de dijuntos:\\nesos son otros asuntos;\\nvean si me pueden llevar,\\nque yo no me he de entregar\\naunque vengan todos juntos.\"\\nPero no aguardaron más\\ny se apiaron en montón;\\ncomo a perro cimarrón\\nme rodiaron entre tantos;\\nyo me encomendé a los santos\\ny eché mano a mi facón.\\nY ya vide el fogonazo\\nde un tiro de garabina,\\nmas quiso la suerte indina\\nde aquel maula, que me errase\\ny áhi no más lo levantase\\nlo mesmo que una sardina.\\nA otro que estaba apurao\\nacomodando una bola\\nle hice una dentrada sola\\ny le hice sentir el fierro,\\ny ya salió como el perro\\ncuando le pisan la cola.\\nEra tanta la aflición\\ny la angurria que tenían,\\nque tuitos se me venían\\ndonde yo los esperaba:\\nuno al otro se estorbaba\\ny con las ganas no vían.\\n\\nDos de ellos, que traiban sables,\\nmás garifos y resueltos,\\nen las hilachas envueltos\\nenfrente se me pararon,\\ny a un tiempo me atropellaron\\nlo mesmo que perros sueltos.\\nMe fui reculando en falso\\ny el poncho adelante eché,\\ny en cuanto le puso el pie\\nuno medio chapetón,\\nde pronto le di el tirón\\ny de espaldas lo largué.\\nAl verse sin compañero\\nel otro se sofrenó;\\nentonces le dentré yo,\\nsin dejarlo resollar,\\npero ya empezó a aflojar\\ny a la pun...ta disparó.\\nUno que en una tacuara\\nhabía atao una tijera,\\nse vino como si fuera\\npalenque de atar terneros,\\npero en dos tiros certeros\\nsalió aullando campo ajuera.\\nPor suerte en aquel momento\\nvenía coloriando el alba\\ny yo dije: \"Si me salva\\nla Virgen en este apuro,\\nen adelante le juro\\nser más güeno que una malva.\"\\nPegué un brinco y entre todos\\nsin miedo me entreveré;\\nhecho ovillo me quedé\\ny ya me cargó una yunta,\\ny por el suelo la punta\\nde mi facón les jugué.\\nEl más engolosinao\\nse me apió con un hachazo;\\nse lo quité con el brazo,\\nde no, me mata los piojos;\\ny antes de que diera un paso\\nle eché tierra en los dos ojos.\\nY mientras se sacudía\\nrefregándosé la vista,\\nyo me le fui como lista\\ny áhi no más me le afirme\\ndiciéndolé: \"Dios te asista\"\\ny de un revés lo voltié.\\n\\nPero en ese punto mesmo\\nsentí que por las costillas\\nun sable me hacía cosquillas\\ny la sangre se me heló.\\nDesde ese momento yo\\nme salí de mis casillas.\\nDi para atrás unos pasos\\nhasta que pude hacer pie,\\npor delante me lo eché\\nde punta y tajos a un criollo;\\nmetió la pata en un oyo\\ny yo al oyo lo mandé.\\nTal vez en el corazón\\nlo tocó un santo bendito\\na un gaucho, que pegó el grito\\ny dijo: \";Cruz no consiente\\nque se cometa el delito\\nde matar ansí un valiente!\"\\nY áhi no más se me aparió\\ndentrándole a la partida:\\nyo les hice otra embestida\\npues entre dos era robo;\\ny el Cruz era como lobo\\nque defiende su guarida.\\nUno despachó al infierno\\nde dos que lo atropellaron,\\nlos demás remoliniaron,\\npues íbamos a la fija,\\ny a poco andar dispararon\\nlo mesmo que sabandija.\\nAhi quedaban largo a largo\\nlos que estiraron la jeta,\\notro iba como maleta\\ny Cruz, de atrás, les decía:\\n\"Que venga otra polecía\\na llevarlos en carreta.\"\\nYo junté las osamentas,\\nme hinqué y les recé un bendito;\\nhice una cruz de un palito\\ny pedí a mi Dios clemente\\nme perdonara el delito\\nde haber muerto tanta gente.\\nDejamos amontonaos\\na los pobres que murieron;\\nno sé si los recogieron,\\nporque nos fuimos a un rancho,\\no si tal vez los caranchos\\náhi no más se los comieron.\\n\\nLo agarramos mano a mano\\nentre los dos al porrón;\\nen semejante ocasión\\nun trago a cualquiera encanta,\\ny Cruz no era remolón\\nni pijotiaba garganta.\\nCalentamos los gargueros\\ny nos largamos muy tiesos.\\nsiguiendo siempre los besos\\nal pichel y, por más señas,\\níbamos como sigüeñas\\nestirando los pescuesos.\\n-\"Yo me voy-le dije-, amigo,\\ndonde la suerte me lleve,\\ny si es que alguno se atreve\\na ponerse en mi camino,\\nyo seguiré mi destino,\\nque el hombre hace lo que debe.\\n\"Soy un gaucho desgraciado.\\nno tengo dónde ampararme,\\nni un palo donde rascarme,\\nni un árbol que me cubije;\\npero ni aún esto me aflige\\nporque yo sé manejarme.\\n\"Antes de cáir al servicio,\\ntenía familia y hacienda\"\\ncuando volví, ni la prenda\\nme la habían dejao ya:\\nDios sabe en lo que vendrá\\na parar esta contienda.\"\\n\\nAmigazo, pa sufrir\\nhan nacido los varones;\\néstas son las ocasiones\\nde mostrarse un hombre juerte,\\nhasta que venga la muerte\\ny lo agarre a coscorrones.\\nEl andar tan despilchao\\nningún mérito me quita.\\nSin ser una alma bendita\\nme duelo del mal ajeno:\\nsoy un pastel con relleno\\nque parece torta frita.\\nTampoco me faltan males\\ny desgracias, le prevengo;\\n\\ntambién mis desdichas tengo,\\naunque esto poco me aflige:\\nyo sé hacerme el chancho rengo\\ncuando la cosa lo esige.\\nY con algunos ardiles\\nvoy viviendo, aunque rotoso;\\na veces me hago el sarnoso\\ny no tengo ni un granito,\\npero al chifle voy ganoso\\ncomo panzón al máiz frito.\\nA mi no me matan penas\\nmientras tenga el cuero sano,\\nvenga el sol en el verano\\ny la escarcha en el invierno.\\nSi este mundo es un infierno\\n¿por qué afligirse el cristiano?\\nHagámoslé cara fiera\\na los males, compañero,\\nporque el zorro más matrero\\nsuele cáir como un chorlito:\\nviene por un corderito\\ny en la estaca deja el cuero.\\nHoy tenemos que sufrir\\nmales que no tienen nombre,\\npero esto a naides le asombre\\nporque ansina es el pastel\\ny tiene que dar el hombre\\nmás vueltas que un carretel.\\nYo nunca me he de entregar\\na los brazos de la muerte;\\narrastro mi triste suerte\\npaso a paso y como pueda,\\nque donde el débil se queda\\nse suele escapar el juerte.\\nY ricuerde cada cual\\nlo que cada cual sufrió,\\nque lo que es, amigo, yo,\\nhago ansí la cuenta mía:\\nya lo pasado pasó,\\nmañana será otro día.\\nYo también tuve una pilcha\\nque me enllenó el corazón,\\ny si en aquella ocasión\\nalguien me hubiera buscao,\\nsiguro que me había hallao\\nmás prendido que un botón.\\nEn la güella del querer\\nno hay animal que se pierda;\\n\\nlas mujeres no son lerdas\\ny todo gaucho es dotor\\nsi pa cantarle al amor\\ntiene que templar las cuerdas.\\n¡Quién es de una alma tan dura\\nque no quiera una mujer!\\nLo alivia en su padecer:\\nsi no sale calavera\\nes la mejor compañera\\nque el hombre puede tener.\\nSi es güena, no lo abandona\\ncuando lo ve desgraciao,\\nlo asiste con su cuidao\\nY con afán cariñoso,\\nY usté tal vez ni un rebozo\\nni una pollera le ha dao.\\nGrandemente lo pasaba\\ncon aquella prenda mía\\nviviendo con alegría\\ncomo la mosca en la miel.\\n¡Amigo, qué tiempo aquél!\\n¡La pucha que la quería!\\nEra la águila que a un árbol\\ndende las nubes bajó,\\nera más linda que el alba\\ncuando va rayando el sol,\\nera la flor deliciosa\\nque entre el trebolar creció.\\nPero, amigo, el comendante\\nque mandaba la milicia,\\ncomo que no desperdicia\\nse fue refalando a casa:\\nyo le conocí en la traza\\nque el hombre traiba malicia.\\nEl me daba voz de amigo,\\npero no le tenía fe.\\nEra el jefe y, ya se ve,\\nno podía competir yo;\\nen mi rancho se pegó\\nlo mesmo que saguaipé.\\nA poco andar conocí\\nque ya me había desbancao,\\ny él siempre muy entonao\\naunque sin darme ni un cobre,\\nme tenía de lao a lao\\ncomo encomienda de pobre.\\nA cada rato, de chasque\\nme hacía dir a gran distancia;\\n\\nya me mandaba a una estancia,\\nya al pueblo, ya a la frontera;\\npero él en la comendancia\\nno ponía los pies siquiera.\\nEs triste a no poder más\\nel hombre en su padecer,\\nsi no tiene una mujer\\nque lo ampare y lo consuele;\\nmas pa que otro se la pele\\nlo mejor es no tener.\\nNo me gusta que otro gallo\\nle cacarie a mi gallina.\\nYo andaba ya con la espina,\\nhasta que en una ocasión\\nlo solprendí en el jogón\\nabrazándomé a la china.\\nTenía el viejito una cara\\nde ternero mal lamido,\\ny al verlo tan atrevido\\nle dije: \"Que le aproveche;\\nque había sido pa el amor\\ncomo gaucho pa la leche.\"\\nPeló la espada y se vino\\ncomo a quererme ensartar,\\npero yo sin tutubiar\\nle volví al punto a decir:\\n-\"Cuidao no te vas a pér...tigo,\\nponé cuarta pa salir.\"\\nUn puntaso me largó\\npero el cuerpo le saqué\\ny en cuanto se lo quité,\\npara no matar un viejo,\\ncon cuidao, medio de lejo,\\nun planaso le asenté.\\nY como nunca al que manda\\nle falta algún adulón,\\nuno que en esa ocasión\\nse encontraba allí presente\\nvino apretando los dientes\\ncomo perrito mamón.\\nMe hizo un tiro de revuélver\\nque el hombre creyó siguro,\\nera confiao y le juro\\nque cerquita se arrimaba,\\npero siempre en un apuro\\nse desentumen mis tabas.\\nEl me siguió menudiando,\\nmas sin poderme acertar,\\n\\ny yo, déle culebriar,\\nhasta que al fin le dentré\\ny áhi no más lo despaché\\nsin dejarlo resollar.\\nDentré a campiar en seguida\\nal viejito enamorao.\\nEl pobre se había ganao\\nen un noque de lejía.\\n¡Quién sabe cómo estaría\\ndel susto que había llevao!\\n¡Es sonso el cristiano macho\\ncuando el amor lo domina!\\nEl la miraba a la indina,\\ny una cosa tan jedionda\\nsentí yo, que ni en la fonda\\nhe visto tal jedentina.\\nY le dije:-\"Pa su agüela\\nhan de ser esas perdices.\"\\nYo me tapé las narices\\ny me salí estornudando,\\ny el viejo quedó olfatiando\\ncomo chico con lumbrices.\\nCuando la mula recula,\\nseñal que quiere cosiar;\\nansí se suele portar\\naunque ella lo disimula;\\nrecula como la mula\\nla mujer, para olvidar.\\nAlcé mi poncho y mis prendas\\ny me largué a padecer\\npor culpa de una mujer\\nque quiso engañar a dos.\\nAl rancho le dije adiós,\\npara nunca más volver.\\nLas mujeres dende entonces\\nconocí a todas en una.\\nYa no he de probar fortuna\\ncon carta tan conocida:\\nmujer y perra parida,\\nno se me acerca ninguna.\\n\\nA otros les brotan las coplas\\ncomo agua de manantial;\\npues a mí me pasa igual,\\naunque las mías nada valen\\nde la boca se me salen\\ncomo ovejas del corral.\\n\\nQue en puertiando la primera,\\nya la siguen las demás,\\ny en montones las de atrás\\ncontra los palos se estrellan,\\ny saltan y se atropellan\\nsin que se corten jamás.\\nY aunque yo por mi inorancia\\ncon gran trabajo me esplico,\\ncuando llego a abrir el pico\\ntenganló por cosa cierta:\\nsale un verso y en la puerta\\nya asoma el otro el hocico.\\nY empréstemé su atención,\\nme oirá relatar las penas\\nde que traigo la alma llena,\\nporque en toda circustancia\\npaga el gaucho su inorancia\\ncon la sangre de las venas.\\nDespués de aquella desgracia\\nme guarecí en los pajales,\\nanduve entre los cardales\\ncomo bicho sin guarida;\\npero, amigo, es esa vida\\ncomo vida de animales.\\nY son tantas las miserias\\nen que me he sabido ver,\\nque con tanto padecer\\ny sufrir tanta aflición\\nmalicio que he de tener\\nun callo en el corazón.\\nAnsí andaba como gaucho\\ncuando pasa el temporal.\\nSupe una vez, pa mi mal,\\nde una milonga que había,\\ny ya pa la pulpería\\nenderecé mi bagual.\\nEra la casa del baile\\nun rancho de mala muerte\\ny se enllenó de tal suerte\\nque andabamos a empujones:\\nnunca faltan encontrones\\ncuando el pobre se divierte.\\nYo tenía unas medias botas\\ncon tamaños verdugones;\\nme pusieron los talones\\ncon crestas como los gallos;\\n¡si viera mis afliciones\\npensando yo que eran callos!\\n\\nCon gato y con fandanguillo\\nhabía empezao el changango\\ny para ver el fandango\\nme colé haciéndome bola;\\nmas metió el diablo la cola\\ny todo se volvió pango.\\nHabía sido el guitarrero\\nun gaucho duro de boca.\\nYo tengo pacencia poca\\npa aguantar cuando no debo;\\na ninguno me le atrevo\\npero me halla el que me toca.\\nA bailar un pericón\\ncon una moza salí,\\ny cuando me vido allí\\nsin duda me conoció\\ny estas coplitas cantó\\ncomo por ráirse de mí:\\n\"Las mujeres son todas\\ncomo las mulas;\\nyo no digo que todas,\\npero hay algunas\\nque a las aves que vuelan\\nles sacan plumas.\"\\n\"Hay gauchos que presumen\\nde tener damas;\\nno digo que presumen,\\npero se alaban,\\ny a lo mejor los dejan\\ntocando tablas.\"\\nSe secretiaron las hembras\\ny yo ya me encocoré;\\nvolié la anca y le grité:\\n\"dejá de cantar... chicharra.\"\\nY de un tajo a la guitarra\\ntuitas las cuerdas corté.\\nAl grito salió de adentro\\nun gringo con un jusil;\\npero nunca he sido vil,\\npoco el peligro me espanta:\\nya me refalé la manta\\ny la eché sobre el candil.\\nGané en seguida la puerta\\ngritando: \"Naides me ataje\";\\ny alborotao el hembraje\\nlo que todo quedó escuro,\\nempezó a verse en apuro\\nmesturao con el gauchaje.\\n\\nEl primero que salió\\nfue el cantor y se me vino,\\npero yo no pierdo el tino\\naunque haiga tomao un trago,\\ny hay algunos por mi pago\\nque me tienen por ladino.\\nNo ha de haber achocao otro;\\nle salió cara la broma;\\na su amigo cuando toma\\nse le despeja el sentido,\\ny el pobrecito había sido\\ncomo carne de paloma.\\nPara prestar sus socorros\\nlas mujeres no son lerdas:\\nantes que la sangre pierda\\nlo arrimaron a unas pipas.\\nAhi lo dejé con las tripas\\ncomo pa que hicieran cuerdas.\\nMonté y me largué a los campos\\nmás libre que el pensamiento,\\ncomo las nubes al viento,\\na vivir sin paradero;\\nque no tiene el que es matrero\\nnido, ni rancho, ni asiento.\\nNo hay fuerza contra el destino\\nque le ha señalao el cielo\\ny aunque no tenga consuelo\\naguante el que está en trabajo:\\n¡naides se rasca pa abajo\\nni se lonjea contra el pelo!\\nCon el gaucho desgraciao\\nno hay uno que no se entone;\\nla mesma falta lo espone\\na andar con los avestruces:\\nfaltan otros con más luces\\ny siempre hay quien los perdone.\\n\\nYo no sé qué tantos meses\\nesta vida me duró;\\na veces nos obligó\\nla miseria a comer potro:\\nme había acompañao con otros\\ntan desgraciaos como yo.\\nMas ¿para qué platicar\\nsobre esos males, canejo?\\nNace el gaucho y se hace viejo\\nsin que mejore su suerte,\\nhasta que por áhi la muerte\\n\\nsale a cobrarle el pellejo.\\nPero como no hay desgracia\\nque no acabe alguna vez,\\nme aconteció que después\\nde sufrir tanto rigor\\nun amigo por favor\\nme compuso con el juez.\\nLe alvertiré que en mi pago\\nya no va quedando un criollo:\\nse los ha tragao el hoyo\\no juido o muerto en la guerra,\\nporque, amigo, en esta tierra\\nnunca se acaba el embrollo.\\nColijo que jue para eso\\nque me llamó el juez un día\\ny me dijo que quería\\nhacerme a su lao venir,\\npa que dentrase a servir\\nde soldao de polecía.\\nY me largó una ploclama\\ntratándomé de valiente,\\nque yo era un hombre decente,\\ny que dende aquel momento\\nme nombraba de sargento\\npa que mandara la gente.\\nAnsí estuve en la partida\\npero ¡qué había de mandar!\\nAnoche al irlo a tomar\\nvide güena coyontura\\ny a mí no me gusta andar\\ncon la lata a la cintura.\\nYa conoce, pues, quién soy;\\ntenga confianza conmigo;\\nCruz le dio mano de amigo\\ny no lo ha de abandonar.\\nJuntos podemos buscar\\npa los dos un mesmo abrigo.\\nAndaremos de matreros\\nsi es preciso pa salvar;\\nnunca nos ha de faltar\\nni un güen pingo para juir,\\nni un pajal ande dormir,\\nni un matambre que ensartar.\\nY cuando sin trapo alguno\\nnos haiga el tiempo dejao\\nyo le pediré emprestao\\nel cuero a cualquiera lobo\\ny hago un poncho, si lo sobo,\\n\\nmejor que poncho engomao.\\nPara mi la cola es pecho\\ny el espinazo es cadera;\\nhago mi nido ande quiera\\ny de lo que encuentre como;\\nme echo tierra sobre el lomo\\ny me apeo en cualquier tranquera.\\nY dejo rodar la bola\\nque algún día se ha\\'e parar;\\ntiene el gaucho que aguantar\\nhasta que lo trague el hoyo\\no hasta que venga algún criollo\\nen esta tierra a mandar.\\nLo miran al pobre gaucho\\ncomo carne de cogote:\\nlo tratan al estricote,\\ny si ansí las cosas andan\\nporque quieren los que mandan,\\naguantemos los azotes.\\n¡Pucha, si usté los oyera\\ncomo yo en una ocasión\\ntuita la conversación\\nque con otro tuvo el juez!\\nLe asiguro que esa vez\\nse me achicó el corazón.\\nHablaban de hacerse ricos\\ncon campos en la frontera;\\nde sacarla más ajuera\\ndonde había campos baldidos\\ny llevar de los partidos\\ngente que la defendiera.\\nTodo se güelven proyectos\\nde colonias y carriles\\ny tirar la plata a miles\\nen los gringos enganchaos,\\nmientras al pobre soldao\\nle pelan la chaucha, ¡ah viles!\\nPero si siguen las cosas\\ncomo van hasta el presente\\npuede ser que redepente\\nveamos el campo disierto,\\ny blanquiando solamente\\nlos güesos de los que han muerto.\\nHace mucho que sufrimos\\nla suerte reculativa:\\ntrabaja el gaucho y no arriba,\\npues a lo mejor del caso\\nlo levantan de un sogaso\\n\\nsin dejarle ni saliva.\\nDe los males que sufrimos\\nhablan mucho los puebleros,\\npero hacen como los teros\\npara esconder sus niditos:\\nen un lao pegan los gritos\\ny en otro tienen los güevos.\\nY se hacen los que no aciertan\\na dar con la coyontura;\\nmientras al gaucho lo apura\\ncon rigor la autoridá\\nellos a la enfermedá\\nle están errando la cura.\\n\\nYa veo que somos los dos\\nastilla del mesmo palo:\\nyo paso por gaucho malo\\ny usté anda del mesmo modo,\\ny yo, pa acabarlo todo\\na los indios me refalo.\\nPido perdón a mi Dios,\\nque tantos bienes me hizo;\\npero dende que es preciso\\nque viva entre los infieles,\\nyo seré cruel con los crueles:\\nansí mi suerte lo quiso.\\nDios formó lindas las flores,\\ndelicadas como son,\\nles dio toda perfeción\\ny cuanto él era capaz,\\npero al hombre le dio más\\ncuando le dio el corazón.\\nLe dio claridá a la luz,\\njuerza en su carrera al viento,\\nle dio vida y movimiento\\ndende la águila al gusano,\\npero más le dio al cristiano\\nal darle el entendimiento.\\nY aunque a las aves les dio,\\ncon otras cosas que inoro,\\nesos piquitos como oro\\ny un plumaje como tabla,\\nle dio al hombre más tesoro\\nal darie una lengua que habla.\\n\\ny dende que dio a las fieras\\nesa juria tan inmensa,\\nque no hay poder que las vensa\\nni nada que las asombre,\\n¿qué menos le daría al hombre\\nque el valor pa su defensa?\\nPero tantos bienes juntos\\nal darle, malicio yo\\nque en sus adentros pensó\\nque el hombre los precisaba,\\nque los bienes igualaban\\ncon las penas que le dio.\\nY yo empujao por las mías\\nquiero salir de este infierno:\\nya no soy pichón muy tierno\\ny se manejar la lanza\\ny hasta los indios no alcanza\\nla facultá del gobierno.\\nYo sé que allá los caciques\\namparan a los cristianos,\\ny que los tratan de \"hermanos\"\\ncuando se van por su gusto.\\n¿A qué andar pasando sustos?\\nAlcemos el poncho y vamos.\\nEn la cruzada hay peligros\\npero no aun esto me aterra,\\nyo ruedo sobre la tierra\\narrastrao por mi destino\\ny si erramos el camino...\\nno es el primero que lo erra.\\nSi hemos de salvar o no\\nde esto naides nos responde.\\nDerecho ande el sol se esconde\\ntierra adentro hay que tirar;\\nalgún día hemos de llegar...\\ndespués sabremos adónde.\\nNo hemos de perder el rumbo,\\nlos dos somos güena yunta;\\nel que es gaucho va ande apunta,\\naunque inore ande se encuentra;\\npa el lao en que el sol se dentra\\ndueblan los pastos la punta.\\nDe hambre no pereceremos,\\npues según otros me han dicho\\nen los campos se hallan bichos\\nde los que uno necesita...\\ngamas, matacos, mulitas,\\navestruces y quirquinchos.\\n\\nCuando se anda en el disierto\\nse come uno hasta las colas;\\nlo han cruzao mujeres solas\\nllegando al fin con salú,\\ny ha de ser gaucho el ñandú\\nque se escape de mis bolas.\\nTampoco a la sé le temo,\\nyo la aguanto muy contento,\\nbusco agua olfatiando al viento,\\ny dende que no soy manco\\nande hay duraznillo blanco\\ncavo y la saco al momento.\\nAllá habrá siguridá\\nya que aquí no la tenemos,\\nmenos males pasaremos\\ny ha de haber grande alegría\\nel día que nos descolguemos\\nen alguna toldería.\\nFabricaremos un toldo,\\ncomo lo hacen tantos otros,\\ncon unos cueros de potro,\\nque sea sala y sea cocina.\\n¡Tal vez no falte una china\\nque se apiade de nosotros!\\nAllá no hay que trabajar,\\nvive uno como un señor;\\nde cuando en cuando un malón,\\ny si de él sale con vida\\nlo pasa echao panza arriba\\nmirando dar güelta el sol.\\ny ya que a juerza de golpes\\nla suerte nos dejó aflús,\\npuede que allá véamos luz\\ny se acaben nuestras penas.\\nTodas las tierras son güenas:\\nvámosnós, amigo Cruz.\\nEl que maneja las bolas,\\nel que sabe echar un pial,\\no sentarse en un bagual\\nsin miedo de que lo baje,\\nentre los mesmos salvajes\\nno puede pasarlo mal.\\nEl amor como la guerra\\nlo hace el criollo con canciones;\\na más de eso, en los malones\\npodemos aviarnos de algo;\\nen fin, amigo, yo salgo\\nde estas pelegrinaciones.\\n\\nEn este punto el cantor\\nbuscó un porrón pa consuelo,\\nechó un trago como un cielo,\\ndando fin a su argumento,\\ny de un golpe al istrumento\\nlo hizo astillas contra el suelo.\\n\"Ruempo-dijo-la guitarra,\\npa no volverla a templar;\\nninguno la ha de tocar,\\npor siguro ténganló;\\npues naides ha de cantar\\ncuando este gaucho cantó.\"\\nY daré fin a mis coplas\\ncon aire de relación;\\nnunca falta un preguntón\\nmás curioso que mujer,\\ny tal vez quiera saber\\ncómo fue la conclusión.\\nCruz y Fierro, de una estancia\\nuna tropilla se arriaron;\\npor delante se la echaron\\ncomo criollos entendidos\\ny pronto, sin ser sentidos,\\npor la frontera cruzaron.\\nY cuando la habían pasao,\\nuna madrugada clara\\nle dijo Cruz que mirara\\nlas últimas poblaciones;\\ny a Fierro dos lagrimones\\nle rodaron por la cara.\\nY siguiendo el fiel del rumbo\\nse entraron en el desierto.\\nNo sé si los habrán muerto\\nen alguna correría,\\npero espero que algún día\\nsabré de ellos algo cierto.\\nY ya con estas noticias\\nmi relación acabé;\\npor ser ciertas las conté,\\ntodas las desgracias dichas:\\nes un telar de desdichas\\ncada gaucho que usté ve.\\nPero ponga su esperanza\\nen el Dios que lo formó;\\ny aquí me despido yo,\\nque referí ansí a mi modo\\nMALES QUE CONOCEN TODOS\\nPERO QUE NAIDES CONTO'"
            ],
            "application/vnd.google.colaboratory.intrinsic+json": {
              "type": "string"
            }
          },
          "metadata": {},
          "execution_count": 176
        }
      ]
    },
    {
      "cell_type": "code",
      "source": [
        "def limpiar_martin_fierro_v2(texto):\n",
        "      # Normalizar a NFKD para separar las letras de los acentos\n",
        "    texto = unicodedata.normalize(\"NFKD\", texto)\n",
        "\n",
        "    # Eliminar los caracteres de combinación (acentos)\n",
        "    texto = ''.join([c for c in texto if not unicodedata.combining(c)])\n",
        "\n",
        "    # Pasar todo a minúsculas\n",
        "    texto = texto.lower()\n",
        "\n",
        "    # Eliminar signos de puntuación y otros símbolos\n",
        "    texto = re.sub(r'[¡!¿?\\'\\\"“”‘’«»…]', '', texto)\n",
        "\n",
        "\t\t# Eliminar los 3 puntos suspensivos al final de las oraciones\n",
        "    texto = re.sub(r'\\.\\.\\.', '', texto)  \t\t\t\t\t\t\t\t\t# <-- Agregué esta expresión regular para eliminar los puntos suspensivos\n",
        "\n",
        "    # Eliminar cualquier caracter que no sea letra sin tilde o espacio\n",
        "    texto = re.sub(r'[^a-zñ\\s.]', '', texto)\t\t\t\t\t\t\t\t# <-- Cambié la expresión regular previa para permitir los puntos\n",
        "\n",
        "    # Reemplazar múltiples espacios por uno solo\n",
        "    texto = re.sub(r'\\s+', ' ', texto).strip()\n",
        "\n",
        "    return texto"
      ],
      "metadata": {
        "id": "_xQbZjMjzkhq"
      },
      "execution_count": null,
      "outputs": []
    },
    {
      "cell_type": "code",
      "source": [
        "texto_limpio = limpiar_martin_fierro_v2(texto_libro)\n",
        "texto_limpio[:200]"
      ],
      "metadata": {
        "id": "nbrez0EQpp2d",
        "colab": {
          "base_uri": "https://localhost:8080/",
          "height": 36
        },
        "outputId": "05110a1b-8839-4388-94d0-782e23746ec6"
      },
      "execution_count": null,
      "outputs": [
        {
          "output_type": "execute_result",
          "data": {
            "text/plain": [
              "'aqui me pongo a cantar al compas de la viguela que el hombre que lo desvela una pena estrordinaria como la ave solitaria con el cantar se consuela. pido a los santos del cielo que ayuden mi pensamient'"
            ],
            "application/vnd.google.colaboratory.intrinsic+json": {
              "type": "string"
            }
          },
          "metadata": {},
          "execution_count": 178
        }
      ]
    },
    {
      "cell_type": "code",
      "source": [
        "def separar_en_estrofas(texto):\n",
        "\testrofas = []\n",
        "\n",
        "\tfor estrofa in texto.split('.'):\n",
        "\t\testrofas.append(estrofa.strip())\n",
        "\n",
        "\treturn estrofas"
      ],
      "metadata": {
        "id": "b0DG55Se3JTu"
      },
      "execution_count": null,
      "outputs": []
    },
    {
      "cell_type": "code",
      "source": [
        "lista_estrofas = separar_en_estrofas(texto_limpio)\n",
        "\n",
        "lista_estrofas[:20]\n",
        "# lista_estrofas  \t# descomentar para ver todas las estrofas"
      ],
      "metadata": {
        "id": "ki4LZy_j3LfR",
        "colab": {
          "base_uri": "https://localhost:8080/"
        },
        "outputId": "19ba93f8-d787-41e6-8b01-cad82d5780d7"
      },
      "execution_count": null,
      "outputs": [
        {
          "output_type": "execute_result",
          "data": {
            "text/plain": [
              "['aqui me pongo a cantar al compas de la viguela que el hombre que lo desvela una pena estrordinaria como la ave solitaria con el cantar se consuela',\n",
              " 'pido a los santos del cielo que ayuden mi pensamiento les pido en este momento que voy a cantar mi historia me refresquen la memoria y aclaren mi entendimiento',\n",
              " 'vengan santos milagrosos vengan todos en mi ayuda que la lengua se me anuda y se me turba la vista pido a mi dios que me asista en una ocasion tan ruda',\n",
              " 'yo he visto muchos cantores con famas bien otenidas y que despues de alquiridas no las quieren sustentar parece que sin largar se cansaron en partidas',\n",
              " 'mas ande otro criollo pasa martin fierro ha de pasar nada lo hace recular ni las fantasmas lo espantan y dende que todos cantan yo tambien quiero cantar',\n",
              " 'cantando me he de morir cantando me han de enterrar y cantando he de llegar al pie del eterno padre dende el vientre de mi madre vine a este mundo a cantar',\n",
              " 'que no se trabe mi lengua ni me falte la palabra el cantar mi gloria labra y poniendome a cantar cantando me han de encontrar aunque la tierra se abra',\n",
              " 'me siento en el plan de un bajo a cantar un argumento como si soplara el viento hago tiritar los pastos',\n",
              " 'con oros copas y bastos juega alli mi pensamiento',\n",
              " 'yo no soy cantor letrao mas si me pongo a cantar no tengo cuando acabar y me envejezco cantando las coplas me van brotando como agua de manantial',\n",
              " 'con la guitarra en la mano ni las moscas se me arriman naides me pone el pie encima y cuando el pecho se entona hago gemir a la prima y llorar a la bordona',\n",
              " 'yo soy toro en mi rodeo y torazo en rodeo ajeno siempre me tuve por gueno y si me quieren probar salgan otros a cantar y veremos quien es menos',\n",
              " 'no me hago al lao de la gueya aunque vengan degollando con los blandos yo soy blando y soy duro con los duros y ninguno en un apuro me ha visto andar tutubiando',\n",
              " 'en el peligro que cristos el corazon se me enancha pues toda la tierra es cancha y de esto naides se asombre el que se tiene por hombre donde quiera hace pata ancha',\n",
              " 'soy gaucho y entiendalo como mi lengua lo esplica para mi la tierra es chica y pudiera ser mayor ni la vibora me pica ni quema mi frente el sol',\n",
              " 'naci como nace el peje en el fondo de la mar naides me puede quitar aquello que dios me dio lo que al mundo truje yo del mundo lo he de llevar',\n",
              " 'mi gloria es vivir tan libre como el pajaro del cielo no hago nido en este suelo ande hay tanto que sufrir y naides me ha de seguir cuando yo remuento el vuelo',\n",
              " 'yo no tengo en el amor quien me venga con querellas como esas aves tan bellas que saltan de rama en rama yo hago en el trebol mi cama y me cubren las estrellas',\n",
              " 'y sepan cuantos escuchan de mis penas el relato que nunca peleo ni mato sino por necesida y que a tanta alversida solo me arrojo el mal trato',\n",
              " 'y atiendan la relacion que hace un gaucho perseguido que padre y marido ha sido empenoso y diligente y sin embargo la gente lo tiene por un bandido']"
            ]
          },
          "metadata": {},
          "execution_count": 180
        }
      ]
    },
    {
      "cell_type": "markdown",
      "source": [
        "## 5B - Limpieza de estrofas\n",
        "Revisar el listado de estrofas y el preprocesamiento anterior.\n",
        "\n",
        "* Eliminar estrofas vacías.\n",
        "* Normalizar formato de cada estrofa\n",
        "* Verificar consistencia del corpus\n",
        "* Guardar en `corpus_limpio` el resultado final\n"
      ],
      "metadata": {
        "id": "L18HOhXD3QbP"
      }
    },
    {
      "cell_type": "code",
      "source": [
        "import re\n",
        "import unicodedata\n",
        "\n",
        "def normalizar_estrofa(estrofa):\n",
        "    # Pasa todo a minúsculas\n",
        "    estrofa = estrofa.lower()\n",
        "\n",
        "    # Elimina acentos\n",
        "    estrofa = unicodedata.normalize(\"NFKD\", estrofa)\n",
        "    estrofa = ''.join(c for c in estrofa if not unicodedata.combining(c))\n",
        "\n",
        "    # Elimina signos de puntuación innecesarios (excepto puntos si querés conservarlos)\n",
        "    estrofa = re.sub(r'[¡!¿?\\\"“”‘’«»]', '', estrofa)\n",
        "\n",
        "    # Reemplaza múltiples espacios por uno\n",
        "    estrofa = re.sub(r'\\s+', ' ', estrofa).strip()\n",
        "\n",
        "    return estrofa\n"
      ],
      "metadata": {
        "id": "j1yB_KeK-JIF"
      },
      "execution_count": null,
      "outputs": []
    },
    {
      "cell_type": "code",
      "source": [
        "# Limpiamos las estrofas\n",
        "corpus_limpio = [\n",
        "    normalizar_estrofa(e) for e in lista_estrofas\n",
        "    if e and e.strip()  # Elimina vacías\n",
        "]\n"
      ],
      "metadata": {
        "id": "yN98NQPu_5c-"
      },
      "execution_count": null,
      "outputs": []
    },
    {
      "cell_type": "code",
      "source": [
        "print(f\"Cantidad final de estrofas limpias: {len(corpus_limpio)}\")\n",
        "\n",
        "# Mostrar ejemplo de estrofas limpias\n",
        "for i, e in enumerate(corpus_limpio[:9], 1):\n",
        "    print(f\"\\nEstrofa {i}:\\n{e}\")\n"
      ],
      "metadata": {
        "id": "nr1LNNoS_7Y6",
        "colab": {
          "base_uri": "https://localhost:8080/"
        },
        "outputId": "5c8f53a8-1c26-4622-a4b3-fa113d7b437b"
      },
      "execution_count": null,
      "outputs": [
        {
          "output_type": "stream",
          "name": "stdout",
          "text": [
            "Cantidad final de estrofas limpias: 434\n",
            "\n",
            "Estrofa 1:\n",
            "aqui me pongo a cantar al compas de la viguela que el hombre que lo desvela una pena estrordinaria como la ave solitaria con el cantar se consuela\n",
            "\n",
            "Estrofa 2:\n",
            "pido a los santos del cielo que ayuden mi pensamiento les pido en este momento que voy a cantar mi historia me refresquen la memoria y aclaren mi entendimiento\n",
            "\n",
            "Estrofa 3:\n",
            "vengan santos milagrosos vengan todos en mi ayuda que la lengua se me anuda y se me turba la vista pido a mi dios que me asista en una ocasion tan ruda\n",
            "\n",
            "Estrofa 4:\n",
            "yo he visto muchos cantores con famas bien otenidas y que despues de alquiridas no las quieren sustentar parece que sin largar se cansaron en partidas\n",
            "\n",
            "Estrofa 5:\n",
            "mas ande otro criollo pasa martin fierro ha de pasar nada lo hace recular ni las fantasmas lo espantan y dende que todos cantan yo tambien quiero cantar\n",
            "\n",
            "Estrofa 6:\n",
            "cantando me he de morir cantando me han de enterrar y cantando he de llegar al pie del eterno padre dende el vientre de mi madre vine a este mundo a cantar\n",
            "\n",
            "Estrofa 7:\n",
            "que no se trabe mi lengua ni me falte la palabra el cantar mi gloria labra y poniendome a cantar cantando me han de encontrar aunque la tierra se abra\n",
            "\n",
            "Estrofa 8:\n",
            "me siento en el plan de un bajo a cantar un argumento como si soplara el viento hago tiritar los pastos\n",
            "\n",
            "Estrofa 9:\n",
            "con oros copas y bastos juega alli mi pensamiento\n"
          ]
        }
      ]
    },
    {
      "cell_type": "markdown",
      "source": [
        "# 6 - N-gramas"
      ],
      "metadata": {
        "id": "6PJ7wvKBCRqC"
      }
    },
    {
      "cell_type": "markdown",
      "source": [
        "## 6A - Extracción de bigramas (nombre y apellido de quien resuelve)\n",
        "* Crear una función para extraer bigramas del texto limpio\n",
        "* Generar la lista completa de bigramas\n",
        "* Mostrar los 20 bigramas más frecuentes (sin filtrar)\n",
        "* Visualizar en un gráfico de barras\n"
      ],
      "metadata": {
        "id": "1Z6kTzEUCXXU"
      }
    },
    {
      "cell_type": "code",
      "source": [
        "texto_limpio"
      ],
      "metadata": {
        "colab": {
          "base_uri": "https://localhost:8080/",
          "height": 109
        },
        "id": "E6Y6lQUKH9mA",
        "outputId": "65a129d9-95f0-494f-d165-0bf350abe3f2"
      },
      "execution_count": null,
      "outputs": [
        {
          "output_type": "execute_result",
          "data": {
            "text/plain": [
              "'aqui me pongo a cantar al compas de la viguela que el hombre que lo desvela una pena estrordinaria como la ave solitaria con el cantar se consuela. pido a los santos del cielo que ayuden mi pensamiento les pido en este momento que voy a cantar mi historia me refresquen la memoria y aclaren mi entendimiento. vengan santos milagrosos vengan todos en mi ayuda que la lengua se me anuda y se me turba la vista pido a mi dios que me asista en una ocasion tan ruda. yo he visto muchos cantores con famas bien otenidas y que despues de alquiridas no las quieren sustentar parece que sin largar se cansaron en partidas. mas ande otro criollo pasa martin fierro ha de pasar nada lo hace recular ni las fantasmas lo espantan y dende que todos cantan yo tambien quiero cantar. cantando me he de morir cantando me han de enterrar y cantando he de llegar al pie del eterno padre dende el vientre de mi madre vine a este mundo a cantar. que no se trabe mi lengua ni me falte la palabra el cantar mi gloria labra y poniendome a cantar cantando me han de encontrar aunque la tierra se abra. me siento en el plan de un bajo a cantar un argumento como si soplara el viento hago tiritar los pastos. con oros copas y bastos juega alli mi pensamiento. yo no soy cantor letrao mas si me pongo a cantar no tengo cuando acabar y me envejezco cantando las coplas me van brotando como agua de manantial. con la guitarra en la mano ni las moscas se me arriman naides me pone el pie encima y cuando el pecho se entona hago gemir a la prima y llorar a la bordona. yo soy toro en mi rodeo y torazo en rodeo ajeno siempre me tuve por gueno y si me quieren probar salgan otros a cantar y veremos quien es menos. no me hago al lao de la gueya aunque vengan degollando con los blandos yo soy blando y soy duro con los duros y ninguno en un apuro me ha visto andar tutubiando. en el peligro que cristos el corazon se me enancha pues toda la tierra es cancha y de esto naides se asombre el que se tiene por hombre donde quiera hace pata ancha. soy gaucho y entiendalo como mi lengua lo esplica para mi la tierra es chica y pudiera ser mayor ni la vibora me pica ni quema mi frente el sol. naci como nace el peje en el fondo de la mar naides me puede quitar aquello que dios me dio lo que al mundo truje yo del mundo lo he de llevar. mi gloria es vivir tan libre como el pajaro del cielo no hago nido en este suelo ande hay tanto que sufrir y naides me ha de seguir cuando yo remuento el vuelo. yo no tengo en el amor quien me venga con querellas como esas aves tan bellas que saltan de rama en rama yo hago en el trebol mi cama y me cubren las estrellas. y sepan cuantos escuchan de mis penas el relato que nunca peleo ni mato sino por necesida y que a tanta alversida solo me arrojo el mal trato. y atiendan la relacion que hace un gaucho perseguido que padre y marido ha sido empenoso y diligente y sin embargo la gente lo tiene por un bandido. ninguno me hable de penas porque yo penando vivo y naides se muestre altivo aunque en el estribo este que suele quedarse a pie el gaucho mas alvertido. junta esperencia en la vida hasta pa dar y prestar quien la tiene que pasar entre sufrimiento y llanto porque nada ensena tanto como el sufrir y el llorar. viene el hombre ciego al mundo cuartiandolo la esperanza y a poco andar ya lo alcanzan las desgracias a empujones la pucha que trae liciones el tiempo con sus mudanzas yo he conocido esta tierra en que el paisano vivia y su ranchito tenia y sus hijos y mujer era una delicia el ver como pasaba sus dias. entonces cuando el lucero brillaba en el cielo santo y los gallos con su canto nos decian que el dia llegaba a la cocina rumbiaba el gaucho que era un encanto. y sentao junto al jogon a esperar que venga el dia al cimarron se prendia hasta ponerse rechoncho mientras su china dormia tapadita con su poncho. y apenas la madrugada empezaba a coloriar los pajaros a cantar y las gallinas a apiarse era cosa de largarse cada cual a trabajar. este se ata las espuelas se sale el otro cantando uno busca un pellon blando este un lazo otro un rebenque y los pingos relinchando los llaman dende el palenque. el que era pion domador enderezaba al corral ande estaba el animal bufidos que se las pela y mas malo que su aguela se hacia astillas el bagual. y alli el gaucho inteligente en cuanto el potro enriendo los cueros le acomodo y se le sento en seguida que el hombre muestra en la vida la astucia que dios le dio. y en las playas corcoviando pedazos se hacia el sotreta mientras el por las paletas le jugaba las lloronas y al ruido de las caronas salia haciendose gambetas. ah tiempos si era un orgullo ver jinetiar un paisano cuando era gaucho baquiano aunque el potro se boliase no habia uno que no parase con el cabresto en la mano. y mientras domaban unos otros al campo salian y la hacienda recogian las manadas repuntaban y ansi sin sentir pasaban entretenidos el dia. y verlos al cair la noche en la cocina riunidos con el juego bien prendido y mil cosas que contar platicar muy divertidos hasta despues de cenar. y con el buche bien lleno era cosa superior irse en brazos del amor a dormir como la gente pa empezar al dia siguiente las fainas del dia anterior. ricuerdo que maravilla como andaba la gauchada siempre alegre y bien montada y dispuesta pa el trabajo pero hoy en el dia barajo no se le ve de aporriada. el gaucho mas infeliz tenia tropilla de un pelo no le faltaba un consuelo y andaba la gente lista tendiendo al campo la vista no via sino hacienda y cielo. cuando llegaban las yerras cosa que daba calor tanto gaucho pialador y tironiador sin yel ah tiempos pero si en el se ha visto tanto primor aquello no era trabajo mas bien era una juncion y despues de un guen tiron en que uno se daba mana pa darle un trago de cana solia llamarlo el patron. pues siempre la mamajuana vivia bajo la carreta y aquel que no era chancleta en cuanto el goyete via sin miedo se le prendia como guerfano a la teta. y que jugadas se armaban cuando estabamos riunidos siempre ibamos prevenidos pues en tales ocasiones caiban muchos comedidos eran los dias del apuro y alboroto pa el hembraje pa preparar los potajes y osequiar bien a la gente y ansi pues muy grandemente pasaba siempre el gauchaje. venia la carne con cuero la sabrosa carbonada mazamorra bien pisada los pasteles y el guen vino pero ha querido el destino que todo aquello acabara. estaba el gaucho en su pago con toda segurida pero aura barbarida la cosa anda tan fruncida que gasta el pobre la vida en juir de la autorida. pues si uste pisa en su rancho y si el alcalde lo sabe lo caza lo mesmo que ave aunque su mujer aborte no hay tiempo que no se acabe ni tiento que no se corte y al punto dese por muerto si el alcalde lo bolea pues ahi no mas se le apea con una felpa de palos. y despues dicen que es malo el gaucho si los pelea. y el lomo le hinchan a golpes y le rompen la cabeza y luego con ligereza ansi lastimao y todo lo amarran codo con codo y pa el cepo lo enderiezan. ahi comienzan sus desgracias ahi principia el pericon porque ya no hay salvacion y que uste quiera o no quiera lo mandan a la frontera o lo echan a un batallon. ansi empezaron mis males lo mesmo que los de tantos si gustan en otros cantos les dire lo que he sufrido. despues que uno esta perdido no lo salvan ni los santos. tuve en mi pago en un tiempo hijos hacienda y mujer pero empece a padecer me echaron a la frontera y que iba a hallar al volver tan solo halle la tapera. sosegao vivia en mi rancho como el pajaro en su nido alli mis hijos queridos iban creciendo a mi lao solo queda al desgraciao lamentar el bien perdido. mi gala en las pulperias era cuando habia mas gente ponerme medio caliente pues cuando puntiao me encuentro me salen coplas de adentro como agua de la virtiente. cantando estaba una vez en una gran diversion y aprovecho la ocasion como quiso el juez de paz. se presento y ahi no mas hizo una arriada en monton. juyeron los mas matreros y lograron escapar. yo no quise disparar soy manso y no habia por que muy tranquilo me quede y ansi me deje agarrar. alli un gringo con un organo y una mona que bailaba haciendonos rair estaba cuando le toco el arreo. tan grande el gringo y tan feo lo viera como lloraba hasta un ingles sanjiador que decia en la ultima guerra que el era de incalaperra y que no queria servir tuvo tambien que juir a guarecerse en la sierra. ni los mirones salvaron de esa arriada de mi flor fue acoyarao el cantor con el gringo de la mona a uno solo por favor logro salvar la patrona. formaron un contingente con los que en el baile arriaron con otros nos mesturaron que habian agarrao tambien las cosas que aqui se ven ni los diablos las pensaron. a mi el juez me tomo entre ojos en la ultima votacion me le habia hecho el remolon y no me arrime ese dia y el dijo que yo servia a los de la esposicion. y ansi sufri ese castigo tal vez por culpas ajenas que sean malas o sean guenas las listas siempre me escondo yo soy un gaucho redondo y esas cosas no me enllenan. al mandarnos nos hicieron mas promesas que a un altar. el juez nos jue a proclamar y nos dijo muchas veces muchachos a los seis meses los van a ir a revelar. yo lleve un moro de numero. sobresaliente el matucho con el gane en ayacucho mas plata que agua bendita siempre el gaucho necesita un pingo pa fiarle un pucho. y cargue sin dar mas gueltas con las prendas que tenia jergas poncho cuanto habia en casa tuito lo alce a mi china la deje media desnuda ese dia. no me faltaba una guasca esa ocasion eche el resto bozal maniador cabresto lazo bolas y manea el que hoy tan pobre me vea tal vez no crera todo esto ansi en mi moro escarciando enderece a la frontera. aparcero si uste viera lo que se llama canton ni envidia tengo al raton en aquella ratonera. de los pobres que alli habia a ninguno lo largaron los mas viejos rezongaron pero a uno que se quejo en seguida lo estaquiaron y la cosa se acabo. en la lista de la tarde el jefe nos canto el punto diciendo quinientos juntos llevara el que se resierte lo haremos pitar del juerte mas bien dese por dijunto. a naides le dieron armas pues toditas las que habia el coronel las tenia segun dijo esa ocasion pa repartirlas el dia en que hubiera una invasion. al principio nos dejaron de haraganes criando sebo pero despues..no me atrevo a decir lo que pasaba. barajo si nos trataban como se trata a malevos. porque todo era jugarle por los lomos con la espada y aunque uste no hiciera nada lo mesmito que en palermo le daban cada cepiada que lo dejaban enfermo. y que indios ni que servicio si alli no habia ni cuartel nos mandaba el coronel a trabajar en sus chacras y dejabamos las vacas que las llevara el infiel. yo primero sembre trigo y despues hice un corral corte adobe pa un tapial hice un quincho corte paja la pucha que se trabaja sin que le larguen ni un rial y es lo pior de aquel enriedo que si uno anda hinchando el lomo ya se le apean como plomo quien aguanta aquel infierno y eso es servir al gobierno a mi no me gusta el como. mas de un ano nos tuvieron en esos trabajos duros y los indios le asiguro dentraban cuando querian como no los perseguian siempre andaban sin apuro. a veces decia al volver del campo la descubierta que estuvieramos alerta que andaba adentro la indiada porque habia una rastrillada o estaba una yegua muerta. recien entonces salia la orden de hacer la riunion y caibamos al canton en pelos y hasta enancaos sin armas cuatro pelaos que ibamos a hacer jabon. ahi empezaba el afan se entiende de puro vicio de ensenarle el ejercicio a tanto gaucho recluta con un estrutor que bruta que nunca sabia su oficio. daban entonces las armas pa defender los cantones que eran lanzas y latones con ataduras de tiento las de juego no las cuento porque no habia municiones. y chamuscao un sargento me conto que las tenian pero que ellos las vendian para cazar avestruces y ansi andaban noche y dia dele bala a los nanduces. y cuando se iban los indios con lo que habian manotiao saliamos muy apuraos a perseguirlos de atras si no se llevaban mas es porque no habian hallao. alli si se ven desgracias y lagrimas y afliciones naides le pida perdones al indio pues donde dentra roba y mata cuanto encuentra y quema las poblaciones. no salvan de su juror ni los pobres angelitos viejos mozos y chiquitos los mata del mesmo modo que el indio lo arregla todo con la lanza y con los gritos. tiemblan las carnes al verlo volando al viento la cerda la rienda en la mano izquierda y la lanza en la derecha ande enderiesa abre brecha pues no hay lanzaso que pierda. hace trotiadas tremendas dende el fondo del desierto ansi llega medio muerto de hambre de se y de fatiga pero el indio es una hormiga que dia y noche esta despierto. sabe manejar las bolas como naides las maneja cuanto el contrario se aleja manda una bola perdida y si lo alcanza sin vida es siguro que lo deja. y el indio es como tortuga de duro para espichar si lo llega a destripar ni siquiera se le encoge luego sus tripas recoge y se agacha a disparar. hacian el robo a su gusto y despues se iban de arriba se llevaban las cautivas y nos contaban que a veces les descarnaban los pieses a las pobrecitas vivas. ah si partia el corazon ver tantos males canejo los perseguiamos de lejos sin poder ni galopiar. y que habiamos de alcanzar en unos bichocos viejos nos volviamos al canton a las dos o tres jornadas sembrando las caballadas y pa que alguno la venda rejuntabamos la hacienda que habian dejao resagada. una vez entre otras muchas. tanto salir al boton nos pegaron un malon los indios y una lanciada. que la gente acobardada quedo dende esa ocasion. habian estao escondidos aguaitando atras de un cerro. lo viera a su amigo fierro aflojar como un blandito salieron como maiz frito en cuanto sono un cencerro. al punto nos dispusimos aunque ellos eran bastantes la formamos al istante nuestra gente que era poca y golpiandose en la boca hicieron fila adelante. se vinieron en tropel haciendo temblar la tierra. no soy manco pa la guerra pero tuve mi jabon pues iba en un redomon que habia boliao en la sierra. que vocerio que barullo que apurar esa carrera la indiada todita entera dando alaridos cargo. jue pucha y ya nos saco como yeguada matrera. que fletes traiban los barbaros como una luz de ligeros hicieron el entrevero y en aquella mescolanza este quiero este no quiero nos escogian con la lanza. al que le dan un chuzaso dificultoso es que sane en fin para no echar panes salimos por esas lomas lo mesmo que las palomas al juir de los gavilanes. es de almirar la destreza con que la lanza manejan. de perseguir nunca dejan y nos traiban apretaos. si queriamos de apuraos salirnos por las orejas y pa mejor de la fiesta en esta aflicion tan suma vino un indio echando espuma y con la lanza en la mano gritando acabau cristiano metau el lanza hasta el pluma. tendido en el costillar cimbrando por sobre el brazo una lanza como un lazo me atropeyo dando gritos si me descuido el maldito me levanta de un lanzaso. si me atribulo o me encojo siguro que no me escapo siempre he sido medio guapo pero en aquella ocasion me hacia buya el corazon como la garganta al sapo. dios le perdone al salvaje las ganas que me tenia desate las tres marias y lo engatuse a cabriolas. pucha si no traigo bolas me achura el indio ese dia. era el hijo de un casique sigun yo lo avirigue la verda del caso jue que me tuvo apuradazo hasta que al fin de un bolazo del caballo lo baje. ahi no mas me tire al suelo y lo pise en las paletas empezo a hacer morisquetas y a mezquinar la garganta pero yo hice la obra santa de hacerlo estirar la jeta. alli quedo de mojon y en su caballo salte de la indiada dispare pues si me alcanza me mata y al fin me les escape con el hilo en una pata. seguire esta relacion aunque pa chorizo es largo el que pueda hagase cargo como andaria de matrero despues de salvar el cuero de aquel trance tan amargo. del sueldo nada les cuento porque andaba disparando nosotros de cuando en cuando soliamos ladrar de pobres nunca llegaban los cobres que se estaban aguardando. y andabamos de mugrientos que el mirarnos daba horror le juro que era un dolor ver esos hombres por cristo en mi perra vida he visto una miseria mayor. yo no tenia ni camisa ni cosa que se parezca mis trapos solo pa yesca me podian servir al fin no hay plaga como un fortin para que el hombre padezca. poncho jergas el apero las prenditas los botones todo amigo en los cantones jue quedando poco a poco ya nos tenian medio loco la pobreza y los ratones. solo una manta peluda era cuanto me quedaba la habia agenciao a la taba y ella me tapaba el bulto yaguane que alli ganaba no salia ni con indulto. y pa mejor hasta el moro se me jue de entre las manos no soy lerdo pero hermano vino el comendante un dia diciendo que lo queria pa ensenarle a comer grano. afigurese cualquiera la suerte de este su amigo a pie y mostrando el umbligo estropiao pobre y desnudo. ni por castigo se pudo hacerse mas mal conmigo. ansi pasaron los meses y vino el ano siguiente y las cosas igualmente siguieron del mesmo modo adrede parece todo para aburrir a la gente. no teniamos mas permiso ni otro alivio la gauchada que salir de madrugada cuando no habia indio ninguno campo ajuera a hacer boliadas desocando los reyunos. y caibamos al canton con los fletes aplastaos pero a veces medio aviaos con plumas y algunos cueros que ahi no mas con el pulpero los teniamos negociaos. era un amigo del jefe que con un boliche estaba yerba y tabaco nos daba por la pluma de avestruz y hasta le hacia ver la luz al que un cuero le llevaba. solo tenia cuatro frascos y unas barricas vacias y a la gente le vendia todo cuanto precisaba a veces creiba que estaba alli la proveduria. ah pulpero habilidoso nada le solia faltar aijuna y para tragar tenia un buche de nandu. la gente le dio en llamar el boliche de virtu. aunque es justo que quien vende algun poquitito muerda tiraba tanto la cuerda que con sus cuatro limetas el cargaba las carretas de plumas cueros y cerda. nos tenia apuntaos a todos con mas cuentas que un rosario cuando se anuncio un salario que iban a dar o un socorro pero sabe dios que zorro se lo comio al comisario. pues nunca lo vi llegar y al cabo de muchos dias en la mesma pulperia dieron una buena cuenta que la gente muy contenta de tan pobre recebia. sacaron unos sus prendas que las tenian empenadas por sus deudas atrasadas dieron otros el dinero al fin de fiesta el pulpero se quedo con la mascada. yo me arrecoste a un horcon dando tiempo a que pagaran y poniendo guena cara estuve haciendome el poyo a esperar que me llamaran para recebir mi boyo. pero ahi me pude quedar pegao pa siempre al horcon ya era casi la oracion y ninguno me llamaba la cosa se me nublaba y me dentro comezon. pa sacarme el entripao vi al mayor y lo fi a hablar. yo me le empece a atracar y como con poca gana le dije tal vez manana acabaran de pagar. que manana ni otro dia al punto me contesto la paga ya se acabo siempre has de ser animal. me rai y le dije yo no he recebido ni un rial. se le pusieron los ojos que se le querian salir y ahi no mas volvio a decir comiendome con la vista y que queres recebir si no has dentrao en la lista este si que es amolar dije yo pa mis adentros van dos anos que me encuentro y hasta aura he visto ni un grullo dentro en todos los barullos pero en las listas no dentro. vide el plaito mal parao y no quise aguardar mas es gueno vivir en paz con quien nos ha de mandar y reculando pa tras me le empece a retirar. supo todo el comendante y me llamo al otro dia diciendome que queria aviriguar bien las cosas que no era el tiempo de rosas que aura a naides se debia. llamo al cabo y al sargento y empezo la indagacion si habia venido al canton en tal tiempo o en tal otro y si habia venido en potro en reyuno o redomon. y todo era alborotar al nudo y hacer papel conoci que era pastel pa engordar con mi guayaca mas si voy al coronel me hacen bramar en la estaca. ah hijos de una la codicia ojala les ruempa el saco ni un pedazo de tabaco le dan al pobre soldao y lo tienen de delgao mas ligero que un guanaco. pero que iba a hacerles yo charabon en el desierto mas bien me daba por muerto pa no verme mas fundido y me les hacia el dormido aunque soy medio dispierto. yo andaba desesperao aguardando una ocasion que los indios un malon nos dieran y entre el estrago hacermeles cimarron y volverme pa mi pago. aquello no era servicio ni defender la frontera aquello era ratonera en que es mas gato el mas juerte era jugar a la suerte con una taba culera. alli tuito va al reves los milicos se hacen piones y andan por las poblaciones emprestaos pa trabajar ios rejuntan pa peliar cuando entran indios ladrones. yo he visto en esa milonga muchos jefes con estancia y piones en abundancia y majadas y rodeos he visto negocios feos a pesar de mi inorancia. y colijo que no quieren la barunda componer para esto no ha de tener el jefe aunque este de estable mas que su poncho y su sable su caballo y su deber. ansina pues conociendo que aquel mal no tiene cura que tal vez mi sepultura si me quedo iba a encontrar pense en mandarme mudar como cosa mas sigura. y pa mejor una noche que estaquiada me pegaron casi me descoyuntaron por motivo de una gresca. aijuna si me estiraron lo mesmo que guasca fresca jamas me puedo olvidar lo que esa vez me paso dentrando una noche yo al fortin un enganchao que estaba medio mamao alli me desconocio. era un gringo tan bozal que nada se le entendia. quien sabe de ande seria tal vez no juera cristiano pues lo unico que decia es que era papolitano. estaba de centinela y por causa del peludo verme mas claro no pudo y esa jue la culpa toda. el bruto se asusto al nudo y fi el pavo de la boda. cuanto me vido acercar quien vivore pregunto que vivoras dije yo. hagarto me pego el grito. y yo dije despacito mas lagarto seras vos. ahi no mas cristo me valga rastrillar el jusil siento me agache y en el momento el bruto me largo un chumbo mamao me tiro sin rumbo que si no no cuento el cuento. por de contao con el tiro se alboroto el avispero los oficiales salieron y se empezo la juncion quedo en su puesto el nacion y yo fi al estaquiadero. entre cuatro bayonetas me tendieron en el suelo. vino el mayor medio en pedo y alli se puso a gritar picaro te he de ensenar a andar declamando sueldos. de las manos y las patas me ataron cuatro sinchones. les aguante los tirones sin que ni un ay se me oyera y al gringo la noche entera lo harte con mis maldiciones. yo no se por que el gobierno nos manda aqui a la frontera gringada que ni siquiera se sabe atracar a un pingo. si crera al mandar un gringo que nos manda alguna fiera no hacen mas que dar trabajo pues no saben ni ensillar no sirven ni pa carniar y yo he visto muchas veces que ni voltiadas las reses se les querian arrimar. y lo pasan sus mercedes lenguetiando pico a pico hasta que viene un milico a servirles el asao y eso si en lo delicaos parecen hijos de rico. si hay calor ya no son gente si yela todos tiritan si uste no les da no pitan por no gastar en tabaco y cuando pescan un naco unos a otros se lo quitan. cuanto llueve se acoquinan como el perro que oye truenos. que diablos solo son guenos pa vivir entre maricas y nunca se andan con chicas para alzar ponchos ajenos. pa vichar son como ciegos ni hay ejemplo de que entiendan no hay uno solo que aprienda al ver un bulto que cruza a saber si es avestruza o si es jinete o hacienda. si salen a perseguir despues de mucho aparato tuitos se pelan al rato y va quedando el tendal esto es como en un nidal echarle guebos a un gato. vamos dentrando recien a la parte mas sentida aunque es todita mi vida de males una cadena a cada alma dolorida le gusta cantar sus penas. se empezo en aquel entonces a rejuntar caballada y riunir la milicada teniendola en el canton para una despedicion a sorprender a la indiada. nos anunciaban que iriamos sin carretas ni bagajes a golpiar a los salvajes en sus mesmas tolderias que a la guelta pagarian licenciandolo al gauchaje. que en esta despedicion tuvieramos la esperanza que iba a venir sin tardanza sigun el jefe conto un menistro o que se yo que lo llamaban don ganza. que iba a riunir el ejercito y tuitos los batallones y que traiba unos canones con mas rayas que un cotin. pucha las conversaciones por alla no tenian fin. pero esas trampas no enriedan a los zorros de mi laya que el menistro venga o vaya. poco le importa a un matrero. yo tambien deje las rayas en los libros del pulpero. nunca jui gaucho dormido siempre pronto siempre listo yo soy un hombre que cristo que nada me ha acobardao. y siempre sali parao en los trances que me he visto. dende chiquito gane la vida con mi trabajo y aunque siempre estuve abajo y no se lo que es subir tambien el mucho sufrir suele cansarnos barajo en medio de mi inorancia conozco que nada valgo soy la liebre o soy el galgo asigun los tiempos andan pero tambien los que mandan debieran cuidarnos algo. una noche que riunidos estaban en la carpeta empinando una limeta el jefe y el juez de paz yo no quise aguardar mas y me hice humo en un sotreta. para mi el campo son flores dende que libre me veo donde me lleva el deseo alli mis pasos dirijo y hasta en las sombras de fijo que a dondequiera rumbeo. entro y salgo del peligro sin que me espante el estrago no aflojo al primer amago ni jamas fi gaucho lerdo soy pa rumbiar como el cerdo y pronto cai a mi pago. volvia al cabo de tres anos de tanto sufrir al nudo resertor pobre y desnudo a procurar suerte nueva y lo mesmo que el peludo enderece pa mi cueva. no halle ni rastro del rancho solo estaba la tapera por cristo si aquello era pa enlutar el corazon yo jure en esa ocasion ser mas malo que una fiera quien no sentira lo mesmo cuando ansi padece tanto puedo asigurar que el llanto como una mujer largue. ay mi dios si me quede mas triste que jueves santo solo se oiban los aullidos de un gato que se salvo el pobre se guarecio cerca en una vizcachera venia como si supiera que estaba de guelta yo. al dirme deje la hacienda que era todito mi haber pronto debiamos volver segun el juez prometia y hasta entonces cuidaria de los bienes la mujer. despues me conto un vecino que el campo se lo pidieron la hacienda se la vendieron pa pagar arrendamientos y que se yo cuantos cuentos pero todo lo fundieron. los pobrecitos muchachos entre tantas afliciones se conchabaron de piones mas que iban a trabajar si eran como los pichones sin acabar de emplumar por ahi andaran sufriendo de nuestra suerte el rigor me han contao que el mayor nunca dejaba a su hermano puede ser que algun cristiano los recoja por favor. y la pobre mi mujer dios sabe cuanto sufrio me dicen que se volo con no se que gavilan sin duda a buscar el pan que no podia darle yo. no es raro que a uno le falte lo que a algun otro le sobre si no le quedo ni un cobre sino de hijos un enjambre que mas iba a hacer la pobre para no morirse de hambre tal vez no te vuelva a ver prenda de mi corazon dios te de su proteccion ya que no me la dio a mi y a mis hijos dende aqui les echo mi bendicion. como hijitos de la cuna andaban por ahi sin madre. ya se quedaron sin padre y ansi la suerte los deja sin naides que los proteja y sin perro que los ladre. los pobrecitos tal vez no tengan ande abrigarse ni ramada ande ganarse ni un rincon ande meterse ni camisa que ponerse ni poncho con que taparse. tal vez los veran sufrir sin tenerles compasion puede que alguna ocasion aunque los vean tiritando los echen de algun jogon pa que no esten estorbando. y al verse ansina espantaos como se espanta a los perros iran los hijos de fierro con la cola entre las piernas a buscar almas mas tiernas o esconderse en algun cerro. mas tambien en este juego voy a pedir mi bolada a naides le debo nada ni pido cuartel ni doy y ninguno dende hoy ha de llevarme en la armada. yo he sido manso primero y sere gaucho matrero en mi triste circustancia aunque es mi mal tan projundo naci y me he criao en estancia pero ya conozco el mundo. ya le conozco sus manas le conozco sus cucanas se como hacen la partida la enriedan y la manejan deshacere la madeja aunque me cueste la vida. y aguante el que no se anime a meterse en tanto engorro o si no apretese el gorro o para otra tierra emigre pero yo ando como el tigre que le roban los cachorros. aunque muchos cren que el gaucho tiene un alma de reyuno no se encontrara ninguno que no lo dueblen las penas mas no debe aflojar uno mientras hay sangre en las venas. de carta de mas me via sin saber adonde dirme mas dijeron que era vago y entraron a perseguirme. nunca se achican los males van poco a poco creciendo y ansina me vide pronto obligao a andar juyendo. no tenia mujer ni rancho y a mas era resertor no tenia una prenda guena ni un peso en el tirador. a mis hijos infelices pense volverlos a hallar y andaba de un lao al otro sin tener ni que pitar. supe una vez por desgracia que habia un baile por alli y medio desesperao a ver la milonga fui. riunidos al pericon tantos amigos halle que alegre de verme entre ellos esa noche me apede. como nunca en la ocasion por peliar me dio la tranca y la emprendi con un negro que trujo una negra en ancas. al ver llegar la morena que no hacia caso de naides le dije con la mamua va ca yendo gente al baile. la negra entendio la cosa y no tardo en contestarme mirandome como a perro mas vaca sera su madre. y dentro al baile muy tiesa con mas cola que una zorra haciendo blanquiar los dientes lo mesmo que mazamorra. negra linda dije yo me gusta pa la carona y me puse a talariar esta coplita fregona a los blancos hizo dios a los mulatos san pedro a los negros hizo el diablo para tizon del infierno. habia estao juntando rabia el moreno dende ajuera en lo escuro le brillaban los ojos como linterna. lo conoci retobao me acerque y le dije presto por rudo que un hombre sea nunca se enoja por esto. corcovio el de los tamangos y creyendose muy fijo mas porrudo seras vos gaucho rotoso me dijo. y ya se me vino el humo como a buscarme la hebra y un golpe le acomode con el porron de ginebra. ahi no mas pego el de hollin mas grunidos que un chanchito y pelando el envenao me atropello dando gritos. pegue un brinco y abri cancha diciendoles caballeros dejen venir ese toro solo naci solo muero. el negro despues del golpe se habia el poncho refalao y dijo vas a saber si es solo o acompanao. y mientras se arremango yo me saque las espuelas pues malicie que aquel tio no era de arriar con las riendas. no hay cosa como el peligro pa refrescar un mamao hasta la vista se aclara por mucho que haiga chupao. el negro me atropello como a quererme comer me hizo dos tiros seguidos y los dos le abaraje. yo tenia un facon con s que era de lima de acero le hice un tiro lo quito y vino ciego el moreno. y en el medio de las aspas un planaso le asente que le largue culebriando lo mesmo que buscapie. le coloriaron las motas con la sangre de la herida y volvio a venir furioso como una tigra parida. y ya me hizo relumbrar por los ojos el cuchillo alcansando con la punta a cortarme en un carrillo. me hirvio la sangre en las venas y me le afirme al moreno. dandole de punta y hacha pa dejar un diablo menos. por fin en una topada en el cuchillo lo alce y como un saco de guesos contra el cerco lo largue. tiro unas cuantas patadas y ya canto pa el carnero. nunca me pude olvidar de la agonia de aquel negro. en esto la negra vino con los ojos como aji y empeso la pobre alli a bramar como una loba. yo quise darle una soba a ver si la hacia callar mas pude reflesionar que era malo en aquel punto y por respeto al dijunto no la quise castigar. limpie el facon en los pastos desate mi redomon monte despacio y sali al tranco pa el canadon. despues supe que al finao ni siquiera lo velaron y retobao en un cuero sin resarle lo enterraron. y dicen que dende entonces cuando es la noche serena suele verse una luz mala como de alma que anda en pena. yo tengo intencion a veces para que no pene tanto de sacar de alli los guesos y echarlos al camposanto. otra vez en un boliche estaba haciendo la tarde cayo un gaucho que hacia alarde de guapo y de peliador a la llegada metio el pingo hasta la ramada y yo sin decirle nada me quede en el mostrador. era un terne de aquel pago que naides lo reprendia que sus enriedos tenia con el senor comendante y como era protegido andaba muy entonao y a cualquiera desgraciao lo llevaba por delante. ah pobre si el mismo creiba que la vida le sobraba ninguno diria que andaba aguaitandolo la muerte pero ansi pasa en el mundo es asi la triste vida pa todos esta escondida la guena o la mala suerte. se tiro al suelo al dentrar le dio un empeyon a un vasco y me alargo un medio frasco diciendo beba cunao. por su hermana conteste que por la mia no hay cuidao. ah gaucho me respondio de que pago sera criollo lo andara buscando el hoyo debera tener guen cuero pero ande bala este toro no bala ningun ternero. y ya salimos trensaos porque el hombre no era lerdo mas como el tino no pierdo y soy medio ligeron lo deje mostrando el sebo de un reves con el facon. y como con la justicia no andaba bien por alli cuanto pataliar lo vi y el pulpero pego el grito ya pa el palenque sali como haciendome el chiquito. monte y me encomende a dios rumbiando para otro pago que el gaucho que llaman vago no puede tener querencia y ansi de estrago en estrago vive yorando la ausencia. el anda siempre juyendo siempre pobre y perseguido no tiene cueva ni nido como si juera maldito porque el ser gaucho barajo el ser gaucho es un delito. es como el patrio de posta lo larga este aquel lo toma nunca se acaba la broma dende chico se parece al arbolito que crece desamparao en la loma. le echan la agua del bautismo aquel que nacio en la selva busca madre que te envuelva se dice el flaire y lo larga y dentra a crusar el mundo como burro con la carga. y se cria viviendo al viento como oveja sin trasquila mientras su padre en las filas anda sirviendo al gobierno aunque tirite en invierno naides lo ampara ni asila. le llaman gaucho mamao si lo pillan divertido y que es mal entretenido si en un baile lo sorprienden hace mal si se defiende y si no se ve fundido. no tiene hijos ni mujer ni amigos ni protetores pues todos son sus senores sin que ninguno lo ampare tiene la suerte del guey y donde ira el guey que no are su casa es el pajonal su guarida es el desierto y si de hambre medio muerto le echa el lazo a algun mamon lo persiguen como a plaito porque es un gaucho ladron. y si de un golpe por ahi lo dan guelta panza arriba no hay un alma compasiva que le rese una oracion tal vez como cimarron en una cueva lo tiran. el nada gana en la paz y es el primero en la guerra no le perdonan si yerra que no saben perdonar porque el gaucho en esta tierra solo sirve pa votar. para el son los calabozos para el las duras prisiones en su boca no hay razones aunque la razon le sobre que son campanas de palo las razones de los pobres. si uno aguanta es gaucho bruto si no aguanta es gaucho malo. dele azote dele palo porque es lo que el necesita de todo el que nacio gaucho esta es la suerte maldita. vamos suerte vamos juntos dende que juntos nacimos y ya que juntos vivimos sin podernos dividir yo abrire con mi cuchillo el camino pa seguir. matreriando lo pasaba y a las casas no venia solia arrimarme de dia mas lo mesmo que el carancho siempre estaba sobre el rancho espiando a la polecia. viva el gaucho que ande mal como zorro perseguido hasta que al menor descuido se lo atarasquen los perros pues nunca le falta un yerro al hombre mas alvertido. y en esa hora de la tarde en que tuito se adormese que el mundo dentrar parece a vivir en pura calma con las tristezas de su alma al pajonal enderiese. bala el tierno corderito al lao de la blanca oveja y a la vaca que se aleja llama el ternero amarrao pero el gaucho desgraciao no tiene a quien dar su queja. ansi es que al venir la noche iba a buscar mi guarida pues ande el tigre se anida tambien el hombre lo pasa y no queria que en las casas me rodiara la partida. pues aun cuando vengan ellos cumpliendo con sus deberes yo tengo otros pareceres y en esa conduta vivo que no debe un gaucho altivo peliar entre las mujeres. y al campo me iba solito mas matrero que el venao como perro abandonao a buscar una tapera o en alguna vizcachera pasar la noche tirao. sin punto ni rumbo fijo en aquella inmensida entre tanta escurida anda el gaucho como duende alli jamas lo sorpriende dormido la autorida. su esperanza es el coraje su guardia es la precaucion su pingo es la salvacion y pasa uno en su desvelo sin mas amparo que el cielo ni otro amigo que el facon. ansi me hallaba una noche contemplando las estrellas que le parecen mas bellas cuanto uno es mas desgraciao y que dios las haiga criao para consolarse en ellas. les tiene el hombre carino y siempre con alegria ve salir las tres marias que si llueve cuanto escampa las estrellas son la guia que el gaucho tiene en la pampa. aqui no valen dotores solo vale la esperencia aqui verian su inocencia esos que todo lo saben porque esto tiene otra llave y el gaucho tiene su cencia. es triste en medio del campo pasarse noches enteras contemplando en sus carreras las estrellas que dios cria sin tener mas compania que su soleda y las fieras. me encontraba como digo en aquella soleda entre tanta escurida echando al viento mis quejas cuando el grito del chaja me hizo parar las orejas. como lumbriz me pegue al suelo para escuchar pronto senti retumbar las pisadas de los fletes y que eran muchos jinetes conoci sin vasilar. cuando el hombre esta en peligro no debe tener confianza ansi tendido de panza puse toda mi atencion y ya escuche sin tardanza como el ruido de un laton. se venian tan calladitos que yo me puse en cuidao tal vez me hubieran bombiao y me venian a buscar mas no quise disparar que eso es de gaucho morao. al punto me santigue y eche de ginebra un taco lo mesmito que el mataco me arroye con el porron si han de darme pa tabaco dije esta es guena ocasion. me refale las espuelas para no peliar con grillos me arremangue el calzoncillo y me ajuste bien la faja y en una mata de paja probe el filo del cuchillo. para tenerlo a la mano el flete en el pasto ate la cincha le acomode y en un trance como aquel haciendo espaldas en el quietito los aguarde. cuanto cerca los senti y que ahi no mas se pararon los pelos se me erizaron y aunque nada vian mis ojos no se han de morir de antojo les dije cuando llegaron. yo quise hacerles saber que alli se hallaba un varon les conoci la intencion y solamente por eso es que les gane el tiron sin aguardar voz de preso. vos sos un gaucho matrero dijo uno haciendose el gueno. vos matastes un moreno y otro en una pulperia y aqui esta la polecia que viene a justar tus cuentas te va a alzar por las cuarenta si te resistis hoy dia. no me vengan conteste con relacion de dijuntos esos son otros asuntos vean si me pueden llevar que yo no me he de entregar aunque vengan todos juntos. pero no aguardaron mas y se apiaron en monton como a perro cimarron me rodiaron entre tantos yo me encomende a los santos y eche mano a mi facon. y ya vide el fogonazo de un tiro de garabina mas quiso la suerte indina de aquel maula que me errase y ahi no mas lo levantase lo mesmo que una sardina. a otro que estaba apurao acomodando una bola le hice una dentrada sola y le hice sentir el fierro y ya salio como el perro cuando le pisan la cola. era tanta la aflicion y la angurria que tenian que tuitos se me venian donde yo los esperaba uno al otro se estorbaba y con las ganas no vian. dos de ellos que traiban sables mas garifos y resueltos en las hilachas envueltos enfrente se me pararon y a un tiempo me atropellaron lo mesmo que perros sueltos. me fui reculando en falso y el poncho adelante eche y en cuanto le puso el pie uno medio chapeton de pronto le di el tiron y de espaldas lo largue. al verse sin companero el otro se sofreno entonces le dentre yo sin dejarlo resollar pero ya empezo a aflojar y a la punta disparo. uno que en una tacuara habia atao una tijera se vino como si fuera palenque de atar terneros pero en dos tiros certeros salio aullando campo ajuera. por suerte en aquel momento venia coloriando el alba y yo dije si me salva la virgen en este apuro en adelante le juro ser mas gueno que una malva. pegue un brinco y entre todos sin miedo me entrevere hecho ovillo me quede y ya me cargo una yunta y por el suelo la punta de mi facon les jugue. el mas engolosinao se me apio con un hachazo se lo quite con el brazo de no me mata los piojos y antes de que diera un paso le eche tierra en los dos ojos. y mientras se sacudia refregandose la vista yo me le fui como lista y ahi no mas me le afirme diciendole dios te asista y de un reves lo voltie. pero en ese punto mesmo senti que por las costillas un sable me hacia cosquillas y la sangre se me helo. desde ese momento yo me sali de mis casillas. di para atras unos pasos hasta que pude hacer pie por delante me lo eche de punta y tajos a un criollo metio la pata en un oyo y yo al oyo lo mande. tal vez en el corazon lo toco un santo bendito a un gaucho que pego el grito y dijo cruz no consiente que se cometa el delito de matar ansi un valiente y ahi no mas se me apario dentrandole a la partida yo les hice otra embestida pues entre dos era robo y el cruz era como lobo que defiende su guarida. uno despacho al infierno de dos que lo atropellaron los demas remoliniaron pues ibamos a la fija y a poco andar dispararon lo mesmo que sabandija. ahi quedaban largo a largo los que estiraron la jeta otro iba como maleta y cruz de atras les decia que venga otra polecia a llevarlos en carreta. yo junte las osamentas me hinque y les rece un bendito hice una cruz de un palito y pedi a mi dios clemente me perdonara el delito de haber muerto tanta gente. dejamos amontonaos a los pobres que murieron no se si los recogieron porque nos fuimos a un rancho o si tal vez los caranchos ahi no mas se los comieron. lo agarramos mano a mano entre los dos al porron en semejante ocasion un trago a cualquiera encanta y cruz no era remolon ni pijotiaba garganta. calentamos los gargueros y nos largamos muy tiesos. siguiendo siempre los besos al pichel y por mas senas ibamos como siguenas estirando los pescuesos. yo me voyle dije amigo donde la suerte me lleve y si es que alguno se atreve a ponerse en mi camino yo seguire mi destino que el hombre hace lo que debe. soy un gaucho desgraciado. no tengo donde ampararme ni un palo donde rascarme ni un arbol que me cubije pero ni aun esto me aflige porque yo se manejarme. antes de cair al servicio tenia familia y hacienda cuando volvi ni la prenda me la habian dejao ya dios sabe en lo que vendra a parar esta contienda. amigazo pa sufrir han nacido los varones estas son las ocasiones de mostrarse un hombre juerte hasta que venga la muerte y lo agarre a coscorrones. el andar tan despilchao ningun merito me quita. sin ser una alma bendita me duelo del mal ajeno soy un pastel con relleno que parece torta frita. tampoco me faltan males y desgracias le prevengo tambien mis desdichas tengo aunque esto poco me aflige yo se hacerme el chancho rengo cuando la cosa lo esige. y con algunos ardiles voy viviendo aunque rotoso a veces me hago el sarnoso y no tengo ni un granito pero al chifle voy ganoso como panzon al maiz frito. a mi no me matan penas mientras tenga el cuero sano venga el sol en el verano y la escarcha en el invierno. si este mundo es un infierno por que afligirse el cristiano hagamosle cara fiera a los males companero porque el zorro mas matrero suele cair como un chorlito viene por un corderito y en la estaca deja el cuero. hoy tenemos que sufrir males que no tienen nombre pero esto a naides le asombre porque ansina es el pastel y tiene que dar el hombre mas vueltas que un carretel. yo nunca me he de entregar a los brazos de la muerte arrastro mi triste suerte paso a paso y como pueda que donde el debil se queda se suele escapar el juerte. y ricuerde cada cual lo que cada cual sufrio que lo que es amigo yo hago ansi la cuenta mia ya lo pasado paso manana sera otro dia. yo tambien tuve una pilcha que me enlleno el corazon y si en aquella ocasion alguien me hubiera buscao siguro que me habia hallao mas prendido que un boton. en la guella del querer no hay animal que se pierda las mujeres no son lerdas y todo gaucho es dotor si pa cantarle al amor tiene que templar las cuerdas. quien es de una alma tan dura que no quiera una mujer lo alivia en su padecer si no sale calavera es la mejor companera que el hombre puede tener. si es guena no lo abandona cuando lo ve desgraciao lo asiste con su cuidao y con afan carinoso y uste tal vez ni un rebozo ni una pollera le ha dao. grandemente lo pasaba con aquella prenda mia viviendo con alegria como la mosca en la miel. amigo que tiempo aquel la pucha que la queria era la aguila que a un arbol dende las nubes bajo era mas linda que el alba cuando va rayando el sol era la flor deliciosa que entre el trebolar crecio. pero amigo el comendante que mandaba la milicia como que no desperdicia se fue refalando a casa yo le conoci en la traza que el hombre traiba malicia. el me daba voz de amigo pero no le tenia fe. era el jefe y ya se ve no podia competir yo en mi rancho se pego lo mesmo que saguaipe. a poco andar conoci que ya me habia desbancao y el siempre muy entonao aunque sin darme ni un cobre me tenia de lao a lao como encomienda de pobre. a cada rato de chasque me hacia dir a gran distancia ya me mandaba a una estancia ya al pueblo ya a la frontera pero el en la comendancia no ponia los pies siquiera. es triste a no poder mas el hombre en su padecer si no tiene una mujer que lo ampare y lo consuele mas pa que otro se la pele lo mejor es no tener. no me gusta que otro gallo le cacarie a mi gallina. yo andaba ya con la espina hasta que en una ocasion lo solprendi en el jogon abrazandome a la china. tenia el viejito una cara de ternero mal lamido y al verlo tan atrevido le dije que le aproveche que habia sido pa el amor como gaucho pa la leche. pelo la espada y se vino como a quererme ensartar pero yo sin tutubiar le volvi al punto a decir cuidao no te vas a pertigo pone cuarta pa salir. un puntaso me largo pero el cuerpo le saque y en cuanto se lo quite para no matar un viejo con cuidao medio de lejo un planaso le asente. y como nunca al que manda le falta algun adulon uno que en esa ocasion se encontraba alli presente vino apretando los dientes como perrito mamon. me hizo un tiro de revuelver que el hombre creyo siguro era confiao y le juro que cerquita se arrimaba pero siempre en un apuro se desentumen mis tabas. el me siguio menudiando mas sin poderme acertar y yo dele culebriar hasta que al fin le dentre y ahi no mas lo despache sin dejarlo resollar. dentre a campiar en seguida al viejito enamorao. el pobre se habia ganao en un noque de lejia. quien sabe como estaria del susto que habia llevao es sonso el cristiano macho cuando el amor lo domina el la miraba a la indina y una cosa tan jedionda senti yo que ni en la fonda he visto tal jedentina. y le dijepa su aguela han de ser esas perdices. yo me tape las narices y me sali estornudando y el viejo quedo olfatiando como chico con lumbrices. cuando la mula recula senal que quiere cosiar ansi se suele portar aunque ella lo disimula recula como la mula la mujer para olvidar. alce mi poncho y mis prendas y me largue a padecer por culpa de una mujer que quiso enganar a dos. al rancho le dije adios para nunca mas volver. las mujeres dende entonces conoci a todas en una. ya no he de probar fortuna con carta tan conocida mujer y perra parida no se me acerca ninguna. a otros les brotan las coplas como agua de manantial pues a mi me pasa igual aunque las mias nada valen de la boca se me salen como ovejas del corral. que en puertiando la primera ya la siguen las demas y en montones las de atras contra los palos se estrellan y saltan y se atropellan sin que se corten jamas. y aunque yo por mi inorancia con gran trabajo me esplico cuando llego a abrir el pico tenganlo por cosa cierta sale un verso y en la puerta ya asoma el otro el hocico. y empresteme su atencion me oira relatar las penas de que traigo la alma llena porque en toda circustancia paga el gaucho su inorancia con la sangre de las venas. despues de aquella desgracia me guareci en los pajales anduve entre los cardales como bicho sin guarida pero amigo es esa vida como vida de animales. y son tantas las miserias en que me he sabido ver que con tanto padecer y sufrir tanta aflicion malicio que he de tener un callo en el corazon. ansi andaba como gaucho cuando pasa el temporal. supe una vez pa mi mal de una milonga que habia y ya pa la pulperia enderece mi bagual. era la casa del baile un rancho de mala muerte y se enlleno de tal suerte que andabamos a empujones nunca faltan encontrones cuando el pobre se divierte. yo tenia unas medias botas con tamanos verdugones me pusieron los talones con crestas como los gallos si viera mis afliciones pensando yo que eran callos con gato y con fandanguillo habia empezao el changango y para ver el fandango me cole haciendome bola mas metio el diablo la cola y todo se volvio pango. habia sido el guitarrero un gaucho duro de boca. yo tengo pacencia poca pa aguantar cuando no debo a ninguno me le atrevo pero me halla el que me toca. a bailar un pericon con una moza sali y cuando me vido alli sin duda me conocio y estas coplitas canto como por rairse de mi las mujeres son todas como las mulas yo no digo que todas pero hay algunas que a las aves que vuelan les sacan plumas. hay gauchos que presumen de tener damas no digo que presumen pero se alaban y a lo mejor los dejan tocando tablas. se secretiaron las hembras y yo ya me encocore volie la anca y le grite deja de cantar chicharra. y de un tajo a la guitarra tuitas las cuerdas corte. al grito salio de adentro un gringo con un jusil pero nunca he sido vil poco el peligro me espanta ya me refale la manta y la eche sobre el candil. gane en seguida la puerta gritando naides me ataje y alborotao el hembraje lo que todo quedo escuro empezo a verse en apuro mesturao con el gauchaje. el primero que salio fue el cantor y se me vino pero yo no pierdo el tino aunque haiga tomao un trago y hay algunos por mi pago que me tienen por ladino. no ha de haber achocao otro le salio cara la broma a su amigo cuando toma se le despeja el sentido y el pobrecito habia sido como carne de paloma. para prestar sus socorros las mujeres no son lerdas antes que la sangre pierda lo arrimaron a unas pipas. ahi lo deje con las tripas como pa que hicieran cuerdas. monte y me largue a los campos mas libre que el pensamiento como las nubes al viento a vivir sin paradero que no tiene el que es matrero nido ni rancho ni asiento. no hay fuerza contra el destino que le ha senalao el cielo y aunque no tenga consuelo aguante el que esta en trabajo naides se rasca pa abajo ni se lonjea contra el pelo con el gaucho desgraciao no hay uno que no se entone la mesma falta lo espone a andar con los avestruces faltan otros con mas luces y siempre hay quien los perdone. yo no se que tantos meses esta vida me duro a veces nos obligo la miseria a comer potro me habia acompanao con otros tan desgraciaos como yo. mas para que platicar sobre esos males canejo nace el gaucho y se hace viejo sin que mejore su suerte hasta que por ahi la muerte sale a cobrarle el pellejo. pero como no hay desgracia que no acabe alguna vez me acontecio que despues de sufrir tanto rigor un amigo por favor me compuso con el juez. le alvertire que en mi pago ya no va quedando un criollo se los ha tragao el hoyo o juido o muerto en la guerra porque amigo en esta tierra nunca se acaba el embrollo. colijo que jue para eso que me llamo el juez un dia y me dijo que queria hacerme a su lao venir pa que dentrase a servir de soldao de polecia. y me largo una ploclama tratandome de valiente que yo era un hombre decente y que dende aquel momento me nombraba de sargento pa que mandara la gente. ansi estuve en la partida pero que habia de mandar anoche al irlo a tomar vide guena coyontura y a mi no me gusta andar con la lata a la cintura. ya conoce pues quien soy tenga confianza conmigo cruz le dio mano de amigo y no lo ha de abandonar. juntos podemos buscar pa los dos un mesmo abrigo. andaremos de matreros si es preciso pa salvar nunca nos ha de faltar ni un guen pingo para juir ni un pajal ande dormir ni un matambre que ensartar. y cuando sin trapo alguno nos haiga el tiempo dejao yo le pedire emprestao el cuero a cualquiera lobo y hago un poncho si lo sobo mejor que poncho engomao. para mi la cola es pecho y el espinazo es cadera hago mi nido ande quiera y de lo que encuentre como me echo tierra sobre el lomo y me apeo en cualquier tranquera. y dejo rodar la bola que algun dia se hae parar tiene el gaucho que aguantar hasta que lo trague el hoyo o hasta que venga algun criollo en esta tierra a mandar. lo miran al pobre gaucho como carne de cogote lo tratan al estricote y si ansi las cosas andan porque quieren los que mandan aguantemos los azotes. pucha si uste los oyera como yo en una ocasion tuita la conversacion que con otro tuvo el juez le asiguro que esa vez se me achico el corazon. hablaban de hacerse ricos con campos en la frontera de sacarla mas ajuera donde habia campos baldidos y llevar de los partidos gente que la defendiera. todo se guelven proyectos de colonias y carriles y tirar la plata a miles en los gringos enganchaos mientras al pobre soldao le pelan la chaucha ah viles pero si siguen las cosas como van hasta el presente puede ser que redepente veamos el campo disierto y blanquiando solamente los guesos de los que han muerto. hace mucho que sufrimos la suerte reculativa trabaja el gaucho y no arriba pues a lo mejor del caso lo levantan de un sogaso sin dejarle ni saliva. de los males que sufrimos hablan mucho los puebleros pero hacen como los teros para esconder sus niditos en un lao pegan los gritos y en otro tienen los guevos. y se hacen los que no aciertan a dar con la coyontura mientras al gaucho lo apura con rigor la autorida ellos a la enfermeda le estan errando la cura. ya veo que somos los dos astilla del mesmo palo yo paso por gaucho malo y uste anda del mesmo modo y yo pa acabarlo todo a los indios me refalo. pido perdon a mi dios que tantos bienes me hizo pero dende que es preciso que viva entre los infieles yo sere cruel con los crueles ansi mi suerte lo quiso. dios formo lindas las flores delicadas como son les dio toda perfecion y cuanto el era capaz pero al hombre le dio mas cuando le dio el corazon. le dio clarida a la luz juerza en su carrera al viento le dio vida y movimiento dende la aguila al gusano pero mas le dio al cristiano al darle el entendimiento. y aunque a las aves les dio con otras cosas que inoro esos piquitos como oro y un plumaje como tabla le dio al hombre mas tesoro al darie una lengua que habla. y dende que dio a las fieras esa juria tan inmensa que no hay poder que las vensa ni nada que las asombre que menos le daria al hombre que el valor pa su defensa pero tantos bienes juntos al darle malicio yo que en sus adentros penso que el hombre los precisaba que los bienes igualaban con las penas que le dio. y yo empujao por las mias quiero salir de este infierno ya no soy pichon muy tierno y se manejar la lanza y hasta los indios no alcanza la faculta del gobierno. yo se que alla los caciques amparan a los cristianos y que los tratan de hermanos cuando se van por su gusto. a que andar pasando sustos alcemos el poncho y vamos. en la cruzada hay peligros pero no aun esto me aterra yo ruedo sobre la tierra arrastrao por mi destino y si erramos el camino no es el primero que lo erra. si hemos de salvar o no de esto naides nos responde. derecho ande el sol se esconde tierra adentro hay que tirar algun dia hemos de llegar despues sabremos adonde. no hemos de perder el rumbo los dos somos guena yunta el que es gaucho va ande apunta aunque inore ande se encuentra pa el lao en que el sol se dentra dueblan los pastos la punta. de hambre no pereceremos pues segun otros me han dicho en los campos se hallan bichos de los que uno necesita gamas matacos mulitas avestruces y quirquinchos. cuando se anda en el disierto se come uno hasta las colas lo han cruzao mujeres solas llegando al fin con salu y ha de ser gaucho el nandu que se escape de mis bolas. tampoco a la se le temo yo la aguanto muy contento busco agua olfatiando al viento y dende que no soy manco ande hay duraznillo blanco cavo y la saco al momento. alla habra sigurida ya que aqui no la tenemos menos males pasaremos y ha de haber grande alegria el dia que nos descolguemos en alguna tolderia. fabricaremos un toldo como lo hacen tantos otros con unos cueros de potro que sea sala y sea cocina. tal vez no falte una china que se apiade de nosotros alla no hay que trabajar vive uno como un senor de cuando en cuando un malon y si de el sale con vida lo pasa echao panza arriba mirando dar guelta el sol. y ya que a juerza de golpes la suerte nos dejo aflus puede que alla veamos luz y se acaben nuestras penas. todas las tierras son guenas vamosnos amigo cruz. el que maneja las bolas el que sabe echar un pial o sentarse en un bagual sin miedo de que lo baje entre los mesmos salvajes no puede pasarlo mal. el amor como la guerra lo hace el criollo con canciones a mas de eso en los malones podemos aviarnos de algo en fin amigo yo salgo de estas pelegrinaciones. en este punto el cantor busco un porron pa consuelo echo un trago como un cielo dando fin a su argumento y de un golpe al istrumento lo hizo astillas contra el suelo. ruempodijola guitarra pa no volverla a templar ninguno la ha de tocar por siguro tenganlo pues naides ha de cantar cuando este gaucho canto. y dare fin a mis coplas con aire de relacion nunca falta un pregunton mas curioso que mujer y tal vez quiera saber como fue la conclusion. cruz y fierro de una estancia una tropilla se arriaron por delante se la echaron como criollos entendidos y pronto sin ser sentidos por la frontera cruzaron. y cuando la habian pasao una madrugada clara le dijo cruz que mirara las ultimas poblaciones y a fierro dos lagrimones le rodaron por la cara. y siguiendo el fiel del rumbo se entraron en el desierto. no se si los habran muerto en alguna correria pero espero que algun dia sabre de ellos algo cierto. y ya con estas noticias mi relacion acabe por ser ciertas las conte todas las desgracias dichas es un telar de desdichas cada gaucho que uste ve. pero ponga su esperanza en el dios que lo formo y aqui me despido yo que referi ansi a mi modo males que conocen todos pero que naides conto'"
            ],
            "application/vnd.google.colaboratory.intrinsic+json": {
              "type": "string"
            }
          },
          "metadata": {},
          "execution_count": 184
        }
      ]
    },
    {
      "cell_type": "code",
      "source": [
        "# Tokenizamos el texto limpio entero\n",
        "tokens = word_tokenize(texto_limpio.lower())"
      ],
      "metadata": {
        "id": "lUyEZyIj_9P2"
      },
      "execution_count": null,
      "outputs": []
    },
    {
      "cell_type": "code",
      "source": [
        "from nltk.util import bigrams\n",
        "# Generamos bigramas\n",
        "bigrs = list(bigrams(tokens))\n",
        "\n",
        "# Contamos frecuencia\n",
        "conteo = Counter(bigrs)\n",
        "\n",
        "# Extraemos top 20\n",
        "top20 = conteo.most_common(20)\n"
      ],
      "metadata": {
        "id": "kXqp2bcLCdWL"
      },
      "execution_count": null,
      "outputs": []
    },
    {
      "cell_type": "code",
      "source": [
        "for par, freq in top20:\n",
        "    print(f\"{' '.join(par)}: {freq}\")\n"
      ],
      "metadata": {
        "id": "hRXt9cnLCfel",
        "colab": {
          "base_uri": "https://localhost:8080/"
        },
        "outputId": "ccd4b36b-6652-4d3e-d760-818497057d3c"
      },
      "execution_count": null,
      "outputs": [
        {
          "output_type": "stream",
          "name": "stdout",
          "text": [
            ". y: 65\n",
            "en la: 36\n",
            "que el: 33\n",
            "a la: 31\n",
            "en el: 30\n",
            ". yo: 29\n",
            "que no: 28\n",
            "el gaucho: 20\n",
            "de un: 19\n",
            "y me: 19\n",
            "que se: 19\n",
            "de la: 18\n",
            "se me: 18\n",
            "con el: 17\n",
            "a los: 17\n",
            "y que: 17\n",
            "no se: 17\n",
            "con la: 17\n",
            ". no: 17\n",
            ". el: 16\n"
          ]
        }
      ]
    },
    {
      "cell_type": "code",
      "source": [
        "etiquetas = [' '.join(par) for par, _ in top20]\n",
        "frecuencias = [f for _, f in top20]\n",
        "\n",
        "plt.figure(figsize=(12,6))\n",
        "plt.barh(etiquetas, frecuencias, color='orange')\n",
        "plt.title('Top 20 bigramas más frecuentes en el texto limpio')\n",
        "plt.xlabel('Frecuencia')\n",
        "plt.gca().invert_yaxis()\n",
        "plt.grid(axis='x', linestyle='--', alpha=0.5)\n",
        "plt.tight_layout()\n",
        "plt.show()\n"
      ],
      "metadata": {
        "colab": {
          "base_uri": "https://localhost:8080/",
          "height": 607
        },
        "id": "-1N5Wdo-HuKO",
        "outputId": "f2a11ba8-a853-4cf7-b20d-7e3321810c8d"
      },
      "execution_count": null,
      "outputs": [
        {
          "output_type": "display_data",
          "data": {
            "text/plain": [
              "<Figure size 1200x600 with 1 Axes>"
            ],
            "image/png": "[encoded data removed]"
          },
          "metadata": {}
        }
      ]
    },
    {
      "cell_type": "code",
      "source": [
        "def limpiar_sin_puntuacion(texto):\n",
        "    texto = texto.lower()\n",
        "    texto = unicodedata.normalize(\"NFKD\", texto)\n",
        "    texto = ''.join(c for c in texto if not unicodedata.combining(c))\n",
        "    texto = re.sub(r'[¡!¿?\\\"“”‘’«»,.:;]', '', texto)\n",
        "    texto = re.sub(r'\\s+', ' ', texto).strip()\n",
        "    return texto"
      ],
      "metadata": {
        "id": "PVpLe_5bLBow"
      },
      "execution_count": null,
      "outputs": []
    },
    {
      "cell_type": "code",
      "source": [
        "texto_sin_puntos = limpiar_sin_puntuacion(texto_limpio)\n",
        "\n"
      ],
      "metadata": {
        "id": "no1KjRrgLFrS"
      },
      "execution_count": null,
      "outputs": []
    },
    {
      "cell_type": "code",
      "source": [
        "# Tokenizamos el texto limpio entero\n",
        "tokens2 = word_tokenize(texto_sin_puntos.lower())"
      ],
      "metadata": {
        "id": "7dER23EULI24"
      },
      "execution_count": null,
      "outputs": []
    },
    {
      "cell_type": "code",
      "source": [
        "from nltk.util import bigrams\n",
        "# Generamos bigramas\n",
        "bigrs2 = list(bigrams(tokens2))\n",
        "\n",
        "# Contamos frecuencia\n",
        "conteo = Counter(bigrs2)\n",
        "\n",
        "# Extraemos top 20\n",
        "top20_ = conteo.most_common(20)"
      ],
      "metadata": {
        "id": "udAY5yz7LN1B"
      },
      "execution_count": null,
      "outputs": []
    },
    {
      "cell_type": "code",
      "source": [
        "for par, freq in top20_:\n",
        "    print(f\"{' '.join(par)}: {freq}\")"
      ],
      "metadata": {
        "colab": {
          "base_uri": "https://localhost:8080/"
        },
        "id": "UPUOhPlzLTYu",
        "outputId": "5b537d94-6500-4ec9-ec68-b6414cd61968"
      },
      "execution_count": null,
      "outputs": [
        {
          "output_type": "stream",
          "name": "stdout",
          "text": [
            "en la: 36\n",
            "que el: 33\n",
            "a la: 31\n",
            "en el: 30\n",
            "que no: 28\n",
            "el gaucho: 20\n",
            "de un: 19\n",
            "y me: 19\n",
            "que se: 19\n",
            "de la: 18\n",
            "se me: 18\n",
            "con el: 17\n",
            "a los: 17\n",
            "y que: 17\n",
            "no se: 17\n",
            "con la: 17\n",
            "ni un: 16\n",
            "el hombre: 15\n",
            "a mi: 15\n",
            "que me: 15\n"
          ]
        }
      ]
    },
    {
      "cell_type": "code",
      "source": [
        "etiquetas = [' '.join(par) for par, _ in top20_]\n",
        "frecuencias = [f for _, f in top20]\n",
        "\n",
        "plt.figure(figsize=(12,6))\n",
        "plt.barh(etiquetas, frecuencias, color='orange')\n",
        "plt.title('Top 20 bigramas más frecuentes en el texto limpio')\n",
        "plt.xlabel('Frecuencia')\n",
        "plt.gca().invert_yaxis()\n",
        "plt.grid(axis='x', linestyle='--', alpha=0.5)\n",
        "plt.tight_layout()\n",
        "plt.show()"
      ],
      "metadata": {
        "colab": {
          "base_uri": "https://localhost:8080/",
          "height": 607
        },
        "id": "57GfT3j0LXcm",
        "outputId": "3822a9dd-83d7-4f61-bd4d-3dbe7e2a1bc4"
      },
      "execution_count": null,
      "outputs": [
        {
          "output_type": "display_data",
          "data": {
            "text/plain": [
              "<Figure size 1200x600 with 1 Axes>"
            ],
            "image/png": "[encoded data removed]"
          },
          "metadata": {}
        }
      ]
    },
    {
      "cell_type": "markdown",
      "source": [
        "## 6C - Filtrado de n-gramas\n",
        "* Utilizar la lista de stopwords del punto 3\n",
        "* Crear una función para determinar si un n-grama es significativo\n",
        "* Aplicarla a los bigramas y trigramas de 6A y 6B\n",
        "* Comparar la proporción de n-gramas significativos vs. no significativos"
      ],
      "metadata": {
        "id": "hbbWBjcBI6v4"
      }
    },
    {
      "cell_type": "code",
      "source": [
        "def es_significativo(ngrama):\n",
        "    return all(palabra.lower() not in stop_words for palabra in ngrama)\n"
      ],
      "metadata": {
        "id": "E9S8qGdoJuD5"
      },
      "execution_count": null,
      "outputs": []
    },
    {
      "cell_type": "code",
      "source": [
        "from nltk import trigrams\n",
        "\n",
        "# Texto tokenizado\n",
        "tokens = word_tokenize(texto_limpio.lower())\n",
        "\n",
        "# Bigramas y trigramas\n",
        "lista_bigrama = list(bigrams(tokens))\n",
        "lista_trigrama = list(trigrams(tokens))\n"
      ],
      "metadata": {
        "id": "9zKD-TbHHwxY"
      },
      "execution_count": null,
      "outputs": []
    },
    {
      "cell_type": "code",
      "source": [
        "bigr_significativos = [b for b in lista_bigrama if es_significativo(b)]\n",
        "trigr_significativos = [t for t in lista_trigrama if es_significativo(t)]\n"
      ],
      "metadata": {
        "id": "lzgxNLKDJZKB"
      },
      "execution_count": null,
      "outputs": []
    },
    {
      "cell_type": "code",
      "source": [
        "print(f\"Bigrama total: {len(lista_bigrama)}\")\n",
        "print(f\"Bigrama significativos: {len(bigr_significativos)}\")\n",
        "print(f\"Proporción útil: {len(bigr_significativos)/len(lista_bigrama):.2%}\")\n",
        "\n",
        "print(f\"\\nTrigrama total: {len(lista_trigrama)}\")\n",
        "print(f\"Trigrama significativos: {len(trigr_significativos)}\")\n",
        "print(f\"Proporción útil: {len(trigr_significativos)/len(lista_trigrama):.2%}\")\n"
      ],
      "metadata": {
        "colab": {
          "base_uri": "https://localhost:8080/"
        },
        "id": "MX9FjduYJbx3",
        "outputId": "1ed77663-a32f-41a9-ad2b-e5c632654a03"
      },
      "execution_count": null,
      "outputs": [
        {
          "output_type": "stream",
          "name": "stdout",
          "text": [
            "Bigrama total: 11785\n",
            "Bigrama significativos: 2432\n",
            "Proporción útil: 20.64%\n",
            "\n",
            "Trigrama total: 11784\n",
            "Trigrama significativos: 980\n",
            "Proporción útil: 8.32%\n"
          ]
        }
      ]
    },
    {
      "cell_type": "markdown",
      "source": [
        "## 6D - Análisis de n-gramas significativos (nombre y apellido de quien resuelve)\n",
        "* Seleccionar los 15 bigramas y trigramas más significativos\n",
        "* Crear una tabla comparativa\n",
        "* Analizar e interpretar los resultados\n",
        "* Relacionarlos con el contenido del libro\n"
      ],
      "metadata": {
        "id": "JVcvWHFrKd3O"
      }
    },
    {
      "cell_type": "code",
      "source": [
        "# Top 15 bigramas significativos\n",
        "top_bigr = Counter(bigr_significativos).most_common(15)\n",
        "\n",
        "# Top 15 trigramas significativos\n",
        "top_trigr = Counter(trigr_significativos).most_common(15)"
      ],
      "metadata": {
        "id": "SaVEEhCTJxe-"
      },
      "execution_count": null,
      "outputs": []
    },
    {
      "cell_type": "code",
      "source": [
        "import pandas as pd\n",
        "\n",
        "tabla = pd.DataFrame({\n",
        "    \"Bigrama\": [' '.join(palabras) for palabras, _ in top_bigr],\n",
        "    \"Freq Bigrama\": [freq for _, freq in top_bigr],\n",
        "    \"Trigrama\": [' '.join(palabras) for palabras, _ in top_trigr],\n",
        "    \"Freq Trigrama\": [freq for _, freq in top_trigr]\n",
        "})\n",
        "\n",
        "tabla\n"
      ],
      "metadata": {
        "colab": {
          "base_uri": "https://localhost:8080/",
          "height": 519
        },
        "id": "rwKFJ8RlKdd1",
        "outputId": "7031b748-f04f-4b34-86c8-bf939320672c"
      },
      "execution_count": null,
      "outputs": [
        {
          "output_type": "execute_result",
          "data": {
            "text/plain": [
              "       Bigrama  Freq Bigrama                  Trigrama  Freq Trigrama\n",
              "0      tal vez            15                 . tal vez              3\n",
              "1         . si             9           mas alvertido .              2\n",
              "2        . ahi             7                . pucha si              2\n",
              "3         . ah             6        quise aguardar mas              2\n",
              "4       . ansi             6           si habia venido              2\n",
              "5        dia .             5           consuela . pido              1\n",
              "6        . mas             4    entendimiento . vengan              1\n",
              "7       . pues             4           . vengan santos              1\n",
              "8      si uste             4  vengan santos milagrosos              1\n",
              "9    . despues             4  santos milagrosos vengan              1\n",
              "10      . alli             4          ocasion tan ruda              1\n",
              "11    mas bien             3                tan ruda .              1\n",
              "12  gauchaje .             3       famas bien otenidas              1\n",
              "13  mesmo modo             3  quieren sustentar parece              1\n",
              "14    pa mejor             3            partidas . mas              1"
            ],
            "text/html": [
              "\n",
              "  <div id=\"df-2357ca76-c2be-4111-8e19-6dbc8e10961a\" class=\"colab-df-container\">\n",
              "    <div>\n",
              "<style scoped>\n",
              "    .dataframe tbody tr th:only-of-type {\n",
              "        vertical-align: middle;\n",
              "    }\n",
              "\n",
              "    .dataframe tbody tr th {\n",
              "        vertical-align: top;\n",
              "    }\n",
              "\n",
              "    .dataframe thead th {\n",
              "        text-align: right;\n",
              "    }\n",
              "</style>\n",
              "<table border=\"1\" class=\"dataframe\">\n",
              "  <thead>\n",
              "    <tr style=\"text-align: right;\">\n",
              "      <th></th>\n",
              "      <th>Bigrama</th>\n",
              "      <th>Freq Bigrama</th>\n",
              "      <th>Trigrama</th>\n",
              "      <th>Freq Trigrama</th>\n",
              "    </tr>\n",
              "  </thead>\n",
              "  <tbody>\n",
              "    <tr>\n",
              "      <th>0</th>\n",
              "      <td>tal vez</td>\n",
              "      <td>15</td>\n",
              "      <td>. tal vez</td>\n",
              "      <td>3</td>\n",
              "    </tr>\n",
              "    <tr>\n",
              "      <th>1</th>\n",
              "      <td>. si</td>\n",
              "      <td>9</td>\n",
              "      <td>mas alvertido .</td>\n",
              "      <td>2</td>\n",
              "    </tr>\n",
              "    <tr>\n",
              "      <th>2</th>\n",
              "      <td>. ahi</td>\n",
              "      <td>7</td>\n",
              "      <td>. pucha si</td>\n",
              "      <td>2</td>\n",
              "    </tr>\n",
              "    <tr>\n",
              "      <th>3</th>\n",
              "      <td>. ah</td>\n",
              "      <td>6</td>\n",
              "      <td>quise aguardar mas</td>\n",
              "      <td>2</td>\n",
              "    </tr>\n",
              "    <tr>\n",
              "      <th>4</th>\n",
              "      <td>. ansi</td>\n",
              "      <td>6</td>\n",
              "      <td>si habia venido</td>\n",
              "      <td>2</td>\n",
              "    </tr>\n",
              "    <tr>\n",
              "      <th>5</th>\n",
              "      <td>dia .</td>\n",
              "      <td>5</td>\n",
              "      <td>consuela . pido</td>\n",
              "      <td>1</td>\n",
              "    </tr>\n",
              "    <tr>\n",
              "      <th>6</th>\n",
              "      <td>. mas</td>\n",
              "      <td>4</td>\n",
              "      <td>entendimiento . vengan</td>\n",
              "      <td>1</td>\n",
              "    </tr>\n",
              "    <tr>\n",
              "      <th>7</th>\n",
              "      <td>. pues</td>\n",
              "      <td>4</td>\n",
              "      <td>. vengan santos</td>\n",
              "      <td>1</td>\n",
              "    </tr>\n",
              "    <tr>\n",
              "      <th>8</th>\n",
              "      <td>si uste</td>\n",
              "      <td>4</td>\n",
              "      <td>vengan santos milagrosos</td>\n",
              "      <td>1</td>\n",
              "    </tr>\n",
              "    <tr>\n",
              "      <th>9</th>\n",
              "      <td>. despues</td>\n",
              "      <td>4</td>\n",
              "      <td>santos milagrosos vengan</td>\n",
              "      <td>1</td>\n",
              "    </tr>\n",
              "    <tr>\n",
              "      <th>10</th>\n",
              "      <td>. alli</td>\n",
              "      <td>4</td>\n",
              "      <td>ocasion tan ruda</td>\n",
              "      <td>1</td>\n",
              "    </tr>\n",
              "    <tr>\n",
              "      <th>11</th>\n",
              "      <td>mas bien</td>\n",
              "      <td>3</td>\n",
              "      <td>tan ruda .</td>\n",
              "      <td>1</td>\n",
              "    </tr>\n",
              "    <tr>\n",
              "      <th>12</th>\n",
              "      <td>gauchaje .</td>\n",
              "      <td>3</td>\n",
              "      <td>famas bien otenidas</td>\n",
              "      <td>1</td>\n",
              "    </tr>\n",
              "    <tr>\n",
              "      <th>13</th>\n",
              "      <td>mesmo modo</td>\n",
              "      <td>3</td>\n",
              "      <td>quieren sustentar parece</td>\n",
              "      <td>1</td>\n",
              "    </tr>\n",
              "    <tr>\n",
              "      <th>14</th>\n",
              "      <td>pa mejor</td>\n",
              "      <td>3</td>\n",
              "      <td>partidas . mas</td>\n",
              "      <td>1</td>\n",
              "    </tr>\n",
              "  </tbody>\n",
              "</table>\n",
              "</div>\n",
              "    <div class=\"colab-df-buttons\">\n",
              "\n",
              "  <div class=\"colab-df-container\">\n",
              "    <button class=\"colab-df-convert\" onclick=\"convertToInteractive('df-2357ca76-c2be-4111-8e19-6dbc8e10961a')\"\n",
              "            title=\"Convert this dataframe to an interactive table.\"\n",
              "            style=\"display:none;\">\n",
              "\n",
              "  <svg xmlns=\"http://www.w3.org/2000/svg\" height=\"24px\" viewBox=\"0 -960 960 960\">\n",
              "    <path d=\"M120-120v-720h720v720H120Zm60-500h600v-160H180v160Zm220 220h160v-160H400v160Zm0 220h160v-160H400v160ZM180-400h160v-160H180v160Zm440 0h160v-160H620v160ZM180-180h160v-160H180v160Zm440 0h160v-160H620v160Z\"/>\n",
              "  </svg>\n",
              "    </button>\n",
              "\n",
              "  <style>\n",
              "    .colab-df-container {\n",
              "      display:flex;\n",
              "      gap: 12px;\n",
              "    }\n",
              "\n",
              "    .colab-df-convert {\n",
              "      background-color: #E8F0FE;\n",
              "      border: none;\n",
              "      border-radius: 50%;\n",
              "      cursor: pointer;\n",
              "      display: none;\n",
              "      fill: #1967D2;\n",
              "      height: 32px;\n",
              "      padding: 0 0 0 0;\n",
              "      width: 32px;\n",
              "    }\n",
              "\n",
              "    .colab-df-convert:hover {\n",
              "      background-color: #E2EBFA;\n",
              "      box-shadow: 0px 1px 2px rgba(60, 64, 67, 0.3), 0px 1px 3px 1px rgba(60, 64, 67, 0.15);\n",
              "      fill: #174EA6;\n",
              "    }\n",
              "\n",
              "    .colab-df-buttons div {\n",
              "      margin-bottom: 4px;\n",
              "    }\n",
              "\n",
              "    [theme=dark] .colab-df-convert {\n",
              "      background-color: #3B4455;\n",
              "      fill: #D2E3FC;\n",
              "    }\n",
              "\n",
              "    [theme=dark] .colab-df-convert:hover {\n",
              "      background-color: #434B5C;\n",
              "      box-shadow: 0px 1px 3px 1px rgba(0, 0, 0, 0.15);\n",
              "      filter: drop-shadow(0px 1px 2px rgba(0, 0, 0, 0.3));\n",
              "      fill: #FFFFFF;\n",
              "    }\n",
              "  </style>\n",
              "\n",
              "    <script>\n",
              "      const buttonEl =\n",
              "        document.querySelector('#df-2357ca76-c2be-4111-8e19-6dbc8e10961a button.colab-df-convert');\n",
              "      buttonEl.style.display =\n",
              "        google.colab.kernel.accessAllowed ? 'block' : 'none';\n",
              "\n",
              "      async function convertToInteractive(key) {\n",
              "        const element = document.querySelector('#df-2357ca76-c2be-4111-8e19-6dbc8e10961a');\n",
              "        const dataTable =\n",
              "          await google.colab.kernel.invokeFunction('convertToInteractive',\n",
              "                                                    [key], {});\n",
              "        if (!dataTable) return;\n",
              "\n",
              "        const docLinkHtml = 'Like what you see? Visit the ' +\n",
              "          '<a target=\"_blank\" href=https://colab.research.google.com/notebooks/data_table.ipynb>data table notebook</a>'\n",
              "          + ' to learn more about interactive tables.';\n",
              "        element.innerHTML = '';\n",
              "        dataTable['output_type'] = 'display_data';\n",
              "        await google.colab.output.renderOutput(dataTable, element);\n",
              "        const docLink = document.createElement('div');\n",
              "        docLink.innerHTML = docLinkHtml;\n",
              "        element.appendChild(docLink);\n",
              "      }\n",
              "    </script>\n",
              "  </div>\n",
              "\n",
              "\n",
              "    <div id=\"df-29e83100-56f5-4f87-99ef-d76806f5be6c\">\n",
              "      <button class=\"colab-df-quickchart\" onclick=\"quickchart('df-29e83100-56f5-4f87-99ef-d76806f5be6c')\"\n",
              "                title=\"Suggest charts\"\n",
              "                style=\"display:none;\">\n",
              "\n",
              "<svg xmlns=\"http://www.w3.org/2000/svg\" height=\"24px\"viewBox=\"0 0 24 24\"\n",
              "     width=\"24px\">\n",
              "    <g>\n",
              "        <path d=\"M19 3H5c-1.1 0-2 .9-2 2v14c0 1.1.9 2 2 2h14c1.1 0 2-.9 2-2V5c0-1.1-.9-2-2-2zM9 17H7v-7h2v7zm4 0h-2V7h2v10zm4 0h-2v-4h2v4z\"/>\n",
              "    </g>\n",
              "</svg>\n",
              "      </button>\n",
              "\n",
              "<style>\n",
              "  .colab-df-quickchart {\n",
              "      --bg-color: #E8F0FE;\n",
              "      --fill-color: #1967D2;\n",
              "      --hover-bg-color: #E2EBFA;\n",
              "      --hover-fill-color: #174EA6;\n",
              "      --disabled-fill-color: #AAA;\n",
              "      --disabled-bg-color: #DDD;\n",
              "  }\n",
              "\n",
              "  [theme=dark] .colab-df-quickchart {\n",
              "      --bg-color: #3B4455;\n",
              "      --fill-color: #D2E3FC;\n",
              "      --hover-bg-color: #434B5C;\n",
              "      --hover-fill-color: #FFFFFF;\n",
              "      --disabled-bg-color: #3B4455;\n",
              "      --disabled-fill-color: #666;\n",
              "  }\n",
              "\n",
              "  .colab-df-quickchart {\n",
              "    background-color: var(--bg-color);\n",
              "    border: none;\n",
              "    border-radius: 50%;\n",
              "    cursor: pointer;\n",
              "    display: none;\n",
              "    fill: var(--fill-color);\n",
              "    height: 32px;\n",
              "    padding: 0;\n",
              "    width: 32px;\n",
              "  }\n",
              "\n",
              "  .colab-df-quickchart:hover {\n",
              "    background-color: var(--hover-bg-color);\n",
              "    box-shadow: 0 1px 2px rgba(60, 64, 67, 0.3), 0 1px 3px 1px rgba(60, 64, 67, 0.15);\n",
              "    fill: var(--button-hover-fill-color);\n",
              "  }\n",
              "\n",
              "  .colab-df-quickchart-complete:disabled,\n",
              "  .colab-df-quickchart-complete:disabled:hover {\n",
              "    background-color: var(--disabled-bg-color);\n",
              "    fill: var(--disabled-fill-color);\n",
              "    box-shadow: none;\n",
              "  }\n",
              "\n",
              "  .colab-df-spinner {\n",
              "    border: 2px solid var(--fill-color);\n",
              "    border-color: transparent;\n",
              "    border-bottom-color: var(--fill-color);\n",
              "    animation:\n",
              "      spin 1s steps(1) infinite;\n",
              "  }\n",
              "\n",
              "  @keyframes spin {\n",
              "    0% {\n",
              "      border-color: transparent;\n",
              "      border-bottom-color: var(--fill-color);\n",
              "      border-left-color: var(--fill-color);\n",
              "    }\n",
              "    20% {\n",
              "      border-color: transparent;\n",
              "      border-left-color: var(--fill-color);\n",
              "      border-top-color: var(--fill-color);\n",
              "    }\n",
              "    30% {\n",
              "      border-color: transparent;\n",
              "      border-left-color: var(--fill-color);\n",
              "      border-top-color: var(--fill-color);\n",
              "      border-right-color: var(--fill-color);\n",
              "    }\n",
              "    40% {\n",
              "      border-color: transparent;\n",
              "      border-right-color: var(--fill-color);\n",
              "      border-top-color: var(--fill-color);\n",
              "    }\n",
              "    60% {\n",
              "      border-color: transparent;\n",
              "      border-right-color: var(--fill-color);\n",
              "    }\n",
              "    80% {\n",
              "      border-color: transparent;\n",
              "      border-right-color: var(--fill-color);\n",
              "      border-bottom-color: var(--fill-color);\n",
              "    }\n",
              "    90% {\n",
              "      border-color: transparent;\n",
              "      border-bottom-color: var(--fill-color);\n",
              "    }\n",
              "  }\n",
              "</style>\n",
              "\n",
              "      <script>\n",
              "        async function quickchart(key) {\n",
              "          const quickchartButtonEl =\n",
              "            document.querySelector('#' + key + ' button');\n",
              "          quickchartButtonEl.disabled = true;  // To prevent multiple clicks.\n",
              "          quickchartButtonEl.classList.add('colab-df-spinner');\n",
              "          try {\n",
              "            const charts = await google.colab.kernel.invokeFunction(\n",
              "                'suggestCharts', [key], {});\n",
              "          } catch (error) {\n",
              "            console.error('Error during call to suggestCharts:', error);\n",
              "          }\n",
              "          quickchartButtonEl.classList.remove('colab-df-spinner');\n",
              "          quickchartButtonEl.classList.add('colab-df-quickchart-complete');\n",
              "        }\n",
              "        (() => {\n",
              "          let quickchartButtonEl =\n",
              "            document.querySelector('#df-29e83100-56f5-4f87-99ef-d76806f5be6c button');\n",
              "          quickchartButtonEl.style.display =\n",
              "            google.colab.kernel.accessAllowed ? 'block' : 'none';\n",
              "        })();\n",
              "      </script>\n",
              "    </div>\n",
              "\n",
              "  <div id=\"id_11e65111-fec0-46b9-9100-7bcb5d60589e\">\n",
              "    <style>\n",
              "      .colab-df-generate {\n",
              "        background-color: #E8F0FE;\n",
              "        border: none;\n",
              "        border-radius: 50%;\n",
              "        cursor: pointer;\n",
              "        display: none;\n",
              "        fill: #1967D2;\n",
              "        height: 32px;\n",
              "        padding: 0 0 0 0;\n",
              "        width: 32px;\n",
              "      }\n",
              "\n",
              "      .colab-df-generate:hover {\n",
              "        background-color: #E2EBFA;\n",
              "        box-shadow: 0px 1px 2px rgba(60, 64, 67, 0.3), 0px 1px 3px 1px rgba(60, 64, 67, 0.15);\n",
              "        fill: #174EA6;\n",
              "      }\n",
              "\n",
              "      [theme=dark] .colab-df-generate {\n",
              "        background-color: #3B4455;\n",
              "        fill: #D2E3FC;\n",
              "      }\n",
              "\n",
              "      [theme=dark] .colab-df-generate:hover {\n",
              "        background-color: #434B5C;\n",
              "        box-shadow: 0px 1px 3px 1px rgba(0, 0, 0, 0.15);\n",
              "        filter: drop-shadow(0px 1px 2px rgba(0, 0, 0, 0.3));\n",
              "        fill: #FFFFFF;\n",
              "      }\n",
              "    </style>\n",
              "    <button class=\"colab-df-generate\" onclick=\"generateWithVariable('tabla')\"\n",
              "            title=\"Generate code using this dataframe.\"\n",
              "            style=\"display:none;\">\n",
              "\n",
              "  <svg xmlns=\"http://www.w3.org/2000/svg\" height=\"24px\"viewBox=\"0 0 24 24\"\n",
              "       width=\"24px\">\n",
              "    <path d=\"M7,19H8.4L18.45,9,17,7.55,7,17.6ZM5,21V16.75L18.45,3.32a2,2,0,0,1,2.83,0l1.4,1.43a1.91,1.91,0,0,1,.58,1.4,1.91,1.91,0,0,1-.58,1.4L9.25,21ZM18.45,9,17,7.55Zm-12,3A5.31,5.31,0,0,0,4.9,8.1,5.31,5.31,0,0,0,1,6.5,5.31,5.31,0,0,0,4.9,4.9,5.31,5.31,0,0,0,6.5,1,5.31,5.31,0,0,0,8.1,4.9,5.31,5.31,0,0,0,12,6.5,5.46,5.46,0,0,0,6.5,12Z\"/>\n",
              "  </svg>\n",
              "    </button>\n",
              "    <script>\n",
              "      (() => {\n",
              "      const buttonEl =\n",
              "        document.querySelector('#id_11e65111-fec0-46b9-9100-7bcb5d60589e button.colab-df-generate');\n",
              "      buttonEl.style.display =\n",
              "        google.colab.kernel.accessAllowed ? 'block' : 'none';\n",
              "\n",
              "      buttonEl.onclick = () => {\n",
              "        google.colab.notebook.generateWithVariable('tabla');\n",
              "      }\n",
              "      })();\n",
              "    </script>\n",
              "  </div>\n",
              "\n",
              "    </div>\n",
              "  </div>\n"
            ],
            "application/vnd.google.colaboratory.intrinsic+json": {
              "type": "dataframe",
              "variable_name": "tabla",
              "summary": "{\n  \"name\": \"tabla\",\n  \"rows\": 15,\n  \"fields\": [\n    {\n      \"column\": \"Bigrama\",\n      \"properties\": {\n        \"dtype\": \"string\",\n        \"num_unique_values\": 15,\n        \"samples\": [\n          \". despues\",\n          \"mas bien\",\n          \"tal vez\"\n        ],\n        \"semantic_type\": \"\",\n        \"description\": \"\"\n      }\n    },\n    {\n      \"column\": \"Freq Bigrama\",\n      \"properties\": {\n        \"dtype\": \"number\",\n        \"std\": 3,\n        \"min\": 3,\n        \"max\": 15,\n        \"num_unique_values\": 7,\n        \"samples\": [\n          15,\n          9,\n          4\n        ],\n        \"semantic_type\": \"\",\n        \"description\": \"\"\n      }\n    },\n    {\n      \"column\": \"Trigrama\",\n      \"properties\": {\n        \"dtype\": \"string\",\n        \"num_unique_values\": 15,\n        \"samples\": [\n          \"santos milagrosos vengan\",\n          \"tan ruda .\",\n          \". tal vez\"\n        ],\n        \"semantic_type\": \"\",\n        \"description\": \"\"\n      }\n    },\n    {\n      \"column\": \"Freq Trigrama\",\n      \"properties\": {\n        \"dtype\": \"number\",\n        \"std\": 0,\n        \"min\": 1,\n        \"max\": 3,\n        \"num_unique_values\": 3,\n        \"samples\": [\n          3,\n          2,\n          1\n        ],\n        \"semantic_type\": \"\",\n        \"description\": \"\"\n      }\n    }\n  ]\n}"
            }
          },
          "metadata": {},
          "execution_count": 200
        }
      ]
    },
    {
      "cell_type": "markdown",
      "source": [
        "## 6E - N-gramas más frecuentes\n",
        "\n",
        "* Extraiga los bigramas y trigramas más frecuentes del texto.\n",
        "* Elimine aquellos n-gramas que contienen mayoritariamente stop-words.\n",
        "* Presente una tabla con los 15 bigramas y trigramas más significativos.\n",
        "* ¿Qué información adicional aportan estos n-gramas sobre el contenido del libro? Interprete"
      ],
      "metadata": {
        "id": "27NlIXzWLwV_"
      }
    },
    {
      "cell_type": "code",
      "source": [
        "def ngrama_significativo(ngrama, max_stopwords=1):\n",
        "    return sum(1 for palabra in ngrama if palabra in stop_words) <= max_stopwords\n"
      ],
      "metadata": {
        "id": "SxnoC5zpKiWO"
      },
      "execution_count": null,
      "outputs": []
    },
    {
      "cell_type": "code",
      "source": [
        "# Borramos puntuación y tokenizamos\n",
        "tokens = word_tokenize(texto_sin_puntos)\n",
        "\n",
        "# Generamos ngramas\n",
        "bigrs = list(bigrams(tokens))\n",
        "trigrs = list(trigrams(tokens))\n",
        "\n",
        "# Filtramos\n",
        "bigr_signif = [b for b in bigrs if ngrama_significativo(b)]\n",
        "trigr_signif = [t for t in trigrs if ngrama_significativo(t)]\n"
      ],
      "metadata": {
        "id": "t62fP8tiL5BX"
      },
      "execution_count": null,
      "outputs": []
    },
    {
      "cell_type": "code",
      "source": [
        "from collections import Counter\n",
        "import pandas as pd\n",
        "\n",
        "top15_b = Counter(bigr_signif).most_common(15)\n",
        "top15_t = Counter(trigr_signif).most_common(15)\n",
        "\n",
        "tabla = pd.DataFrame({\n",
        "    'Bigrama': [' '.join(b) for b, _ in top15_b],\n",
        "    'Frecuencia B': [f for _, f in top15_b],\n",
        "    'Trigrama': [' '.join(t) for t, _ in top15_t],\n",
        "    'Frecuencia T': [f for _, f in top15_t]\n",
        "})\n",
        "\n",
        "tabla\n"
      ],
      "metadata": {
        "colab": {
          "base_uri": "https://localhost:8080/",
          "height": 519
        },
        "id": "18ygtMmFL6vr",
        "outputId": "f4dfc59c-dd2f-4580-80cf-0b88493efa79"
      },
      "execution_count": null,
      "outputs": [
        {
          "output_type": "execute_result",
          "data": {
            "text/plain": [
              "       Bigrama  Frecuencia B            Trigrama  Frecuencia T\n",
              "0    el gaucho            20          ahi no mas            13\n",
              "1    el hombre            15          tal vez no             5\n",
              "2      tal vez            15      del mesmo modo             3\n",
              "3     lo mesmo            13          y pa mejor             3\n",
              "4       ahi no            13       pego el grito             3\n",
              "5       no mas            13      pongo a cantar             2\n",
              "6         y si            12  cantar cantando me             2\n",
              "7    mesmo que            12   agua de manantial             2\n",
              "8       le dio            11       el gaucho mas             2\n",
              "9        si me            10        mas malo que             2\n",
              "10    la gente            10       si el alcalde             2\n",
              "11       si no            10         juez de paz             2\n",
              "12  el corazon             9   no quise disparar             2\n",
              "13   un gaucho             9  caibamos al canton             2\n",
              "14   la suerte             9  en aquella ocasion             2"
            ],
            "text/html": [
              "\n",
              "  <div id=\"df-bbfa6c0c-f435-4837-a13a-4129b9cefc80\" class=\"colab-df-container\">\n",
              "    <div>\n",
              "<style scoped>\n",
              "    .dataframe tbody tr th:only-of-type {\n",
              "        vertical-align: middle;\n",
              "    }\n",
              "\n",
              "    .dataframe tbody tr th {\n",
              "        vertical-align: top;\n",
              "    }\n",
              "\n",
              "    .dataframe thead th {\n",
              "        text-align: right;\n",
              "    }\n",
              "</style>\n",
              "<table border=\"1\" class=\"dataframe\">\n",
              "  <thead>\n",
              "    <tr style=\"text-align: right;\">\n",
              "      <th></th>\n",
              "      <th>Bigrama</th>\n",
              "      <th>Frecuencia B</th>\n",
              "      <th>Trigrama</th>\n",
              "      <th>Frecuencia T</th>\n",
              "    </tr>\n",
              "  </thead>\n",
              "  <tbody>\n",
              "    <tr>\n",
              "      <th>0</th>\n",
              "      <td>el gaucho</td>\n",
              "      <td>20</td>\n",
              "      <td>ahi no mas</td>\n",
              "      <td>13</td>\n",
              "    </tr>\n",
              "    <tr>\n",
              "      <th>1</th>\n",
              "      <td>el hombre</td>\n",
              "      <td>15</td>\n",
              "      <td>tal vez no</td>\n",
              "      <td>5</td>\n",
              "    </tr>\n",
              "    <tr>\n",
              "      <th>2</th>\n",
              "      <td>tal vez</td>\n",
              "      <td>15</td>\n",
              "      <td>del mesmo modo</td>\n",
              "      <td>3</td>\n",
              "    </tr>\n",
              "    <tr>\n",
              "      <th>3</th>\n",
              "      <td>lo mesmo</td>\n",
              "      <td>13</td>\n",
              "      <td>y pa mejor</td>\n",
              "      <td>3</td>\n",
              "    </tr>\n",
              "    <tr>\n",
              "      <th>4</th>\n",
              "      <td>ahi no</td>\n",
              "      <td>13</td>\n",
              "      <td>pego el grito</td>\n",
              "      <td>3</td>\n",
              "    </tr>\n",
              "    <tr>\n",
              "      <th>5</th>\n",
              "      <td>no mas</td>\n",
              "      <td>13</td>\n",
              "      <td>pongo a cantar</td>\n",
              "      <td>2</td>\n",
              "    </tr>\n",
              "    <tr>\n",
              "      <th>6</th>\n",
              "      <td>y si</td>\n",
              "      <td>12</td>\n",
              "      <td>cantar cantando me</td>\n",
              "      <td>2</td>\n",
              "    </tr>\n",
              "    <tr>\n",
              "      <th>7</th>\n",
              "      <td>mesmo que</td>\n",
              "      <td>12</td>\n",
              "      <td>agua de manantial</td>\n",
              "      <td>2</td>\n",
              "    </tr>\n",
              "    <tr>\n",
              "      <th>8</th>\n",
              "      <td>le dio</td>\n",
              "      <td>11</td>\n",
              "      <td>el gaucho mas</td>\n",
              "      <td>2</td>\n",
              "    </tr>\n",
              "    <tr>\n",
              "      <th>9</th>\n",
              "      <td>si me</td>\n",
              "      <td>10</td>\n",
              "      <td>mas malo que</td>\n",
              "      <td>2</td>\n",
              "    </tr>\n",
              "    <tr>\n",
              "      <th>10</th>\n",
              "      <td>la gente</td>\n",
              "      <td>10</td>\n",
              "      <td>si el alcalde</td>\n",
              "      <td>2</td>\n",
              "    </tr>\n",
              "    <tr>\n",
              "      <th>11</th>\n",
              "      <td>si no</td>\n",
              "      <td>10</td>\n",
              "      <td>juez de paz</td>\n",
              "      <td>2</td>\n",
              "    </tr>\n",
              "    <tr>\n",
              "      <th>12</th>\n",
              "      <td>el corazon</td>\n",
              "      <td>9</td>\n",
              "      <td>no quise disparar</td>\n",
              "      <td>2</td>\n",
              "    </tr>\n",
              "    <tr>\n",
              "      <th>13</th>\n",
              "      <td>un gaucho</td>\n",
              "      <td>9</td>\n",
              "      <td>caibamos al canton</td>\n",
              "      <td>2</td>\n",
              "    </tr>\n",
              "    <tr>\n",
              "      <th>14</th>\n",
              "      <td>la suerte</td>\n",
              "      <td>9</td>\n",
              "      <td>en aquella ocasion</td>\n",
              "      <td>2</td>\n",
              "    </tr>\n",
              "  </tbody>\n",
              "</table>\n",
              "</div>\n",
              "    <div class=\"colab-df-buttons\">\n",
              "\n",
              "  <div class=\"colab-df-container\">\n",
              "    <button class=\"colab-df-convert\" onclick=\"convertToInteractive('df-bbfa6c0c-f435-4837-a13a-4129b9cefc80')\"\n",
              "            title=\"Convert this dataframe to an interactive table.\"\n",
              "            style=\"display:none;\">\n",
              "\n",
              "  <svg xmlns=\"http://www.w3.org/2000/svg\" height=\"24px\" viewBox=\"0 -960 960 960\">\n",
              "    <path d=\"M120-120v-720h720v720H120Zm60-500h600v-160H180v160Zm220 220h160v-160H400v160Zm0 220h160v-160H400v160ZM180-400h160v-160H180v160Zm440 0h160v-160H620v160ZM180-180h160v-160H180v160Zm440 0h160v-160H620v160Z\"/>\n",
              "  </svg>\n",
              "    </button>\n",
              "\n",
              "  <style>\n",
              "    .colab-df-container {\n",
              "      display:flex;\n",
              "      gap: 12px;\n",
              "    }\n",
              "\n",
              "    .colab-df-convert {\n",
              "      background-color: #E8F0FE;\n",
              "      border: none;\n",
              "      border-radius: 50%;\n",
              "      cursor: pointer;\n",
              "      display: none;\n",
              "      fill: #1967D2;\n",
              "      height: 32px;\n",
              "      padding: 0 0 0 0;\n",
              "      width: 32px;\n",
              "    }\n",
              "\n",
              "    .colab-df-convert:hover {\n",
              "      background-color: #E2EBFA;\n",
              "      box-shadow: 0px 1px 2px rgba(60, 64, 67, 0.3), 0px 1px 3px 1px rgba(60, 64, 67, 0.15);\n",
              "      fill: #174EA6;\n",
              "    }\n",
              "\n",
              "    .colab-df-buttons div {\n",
              "      margin-bottom: 4px;\n",
              "    }\n",
              "\n",
              "    [theme=dark] .colab-df-convert {\n",
              "      background-color: #3B4455;\n",
              "      fill: #D2E3FC;\n",
              "    }\n",
              "\n",
              "    [theme=dark] .colab-df-convert:hover {\n",
              "      background-color: #434B5C;\n",
              "      box-shadow: 0px 1px 3px 1px rgba(0, 0, 0, 0.15);\n",
              "      filter: drop-shadow(0px 1px 2px rgba(0, 0, 0, 0.3));\n",
              "      fill: #FFFFFF;\n",
              "    }\n",
              "  </style>\n",
              "\n",
              "    <script>\n",
              "      const buttonEl =\n",
              "        document.querySelector('#df-bbfa6c0c-f435-4837-a13a-4129b9cefc80 button.colab-df-convert');\n",
              "      buttonEl.style.display =\n",
              "        google.colab.kernel.accessAllowed ? 'block' : 'none';\n",
              "\n",
              "      async function convertToInteractive(key) {\n",
              "        const element = document.querySelector('#df-bbfa6c0c-f435-4837-a13a-4129b9cefc80');\n",
              "        const dataTable =\n",
              "          await google.colab.kernel.invokeFunction('convertToInteractive',\n",
              "                                                    [key], {});\n",
              "        if (!dataTable) return;\n",
              "\n",
              "        const docLinkHtml = 'Like what you see? Visit the ' +\n",
              "          '<a target=\"_blank\" href=https://colab.research.google.com/notebooks/data_table.ipynb>data table notebook</a>'\n",
              "          + ' to learn more about interactive tables.';\n",
              "        element.innerHTML = '';\n",
              "        dataTable['output_type'] = 'display_data';\n",
              "        await google.colab.output.renderOutput(dataTable, element);\n",
              "        const docLink = document.createElement('div');\n",
              "        docLink.innerHTML = docLinkHtml;\n",
              "        element.appendChild(docLink);\n",
              "      }\n",
              "    </script>\n",
              "  </div>\n",
              "\n",
              "\n",
              "    <div id=\"df-d71f4073-0125-41e3-ace9-976360868ba2\">\n",
              "      <button class=\"colab-df-quickchart\" onclick=\"quickchart('df-d71f4073-0125-41e3-ace9-976360868ba2')\"\n",
              "                title=\"Suggest charts\"\n",
              "                style=\"display:none;\">\n",
              "\n",
              "<svg xmlns=\"http://www.w3.org/2000/svg\" height=\"24px\"viewBox=\"0 0 24 24\"\n",
              "     width=\"24px\">\n",
              "    <g>\n",
              "        <path d=\"M19 3H5c-1.1 0-2 .9-2 2v14c0 1.1.9 2 2 2h14c1.1 0 2-.9 2-2V5c0-1.1-.9-2-2-2zM9 17H7v-7h2v7zm4 0h-2V7h2v10zm4 0h-2v-4h2v4z\"/>\n",
              "    </g>\n",
              "</svg>\n",
              "      </button>\n",
              "\n",
              "<style>\n",
              "  .colab-df-quickchart {\n",
              "      --bg-color: #E8F0FE;\n",
              "      --fill-color: #1967D2;\n",
              "      --hover-bg-color: #E2EBFA;\n",
              "      --hover-fill-color: #174EA6;\n",
              "      --disabled-fill-color: #AAA;\n",
              "      --disabled-bg-color: #DDD;\n",
              "  }\n",
              "\n",
              "  [theme=dark] .colab-df-quickchart {\n",
              "      --bg-color: #3B4455;\n",
              "      --fill-color: #D2E3FC;\n",
              "      --hover-bg-color: #434B5C;\n",
              "      --hover-fill-color: #FFFFFF;\n",
              "      --disabled-bg-color: #3B4455;\n",
              "      --disabled-fill-color: #666;\n",
              "  }\n",
              "\n",
              "  .colab-df-quickchart {\n",
              "    background-color: var(--bg-color);\n",
              "    border: none;\n",
              "    border-radius: 50%;\n",
              "    cursor: pointer;\n",
              "    display: none;\n",
              "    fill: var(--fill-color);\n",
              "    height: 32px;\n",
              "    padding: 0;\n",
              "    width: 32px;\n",
              "  }\n",
              "\n",
              "  .colab-df-quickchart:hover {\n",
              "    background-color: var(--hover-bg-color);\n",
              "    box-shadow: 0 1px 2px rgba(60, 64, 67, 0.3), 0 1px 3px 1px rgba(60, 64, 67, 0.15);\n",
              "    fill: var(--button-hover-fill-color);\n",
              "  }\n",
              "\n",
              "  .colab-df-quickchart-complete:disabled,\n",
              "  .colab-df-quickchart-complete:disabled:hover {\n",
              "    background-color: var(--disabled-bg-color);\n",
              "    fill: var(--disabled-fill-color);\n",
              "    box-shadow: none;\n",
              "  }\n",
              "\n",
              "  .colab-df-spinner {\n",
              "    border: 2px solid var(--fill-color);\n",
              "    border-color: transparent;\n",
              "    border-bottom-color: var(--fill-color);\n",
              "    animation:\n",
              "      spin 1s steps(1) infinite;\n",
              "  }\n",
              "\n",
              "  @keyframes spin {\n",
              "    0% {\n",
              "      border-color: transparent;\n",
              "      border-bottom-color: var(--fill-color);\n",
              "      border-left-color: var(--fill-color);\n",
              "    }\n",
              "    20% {\n",
              "      border-color: transparent;\n",
              "      border-left-color: var(--fill-color);\n",
              "      border-top-color: var(--fill-color);\n",
              "    }\n",
              "    30% {\n",
              "      border-color: transparent;\n",
              "      border-left-color: var(--fill-color);\n",
              "      border-top-color: var(--fill-color);\n",
              "      border-right-color: var(--fill-color);\n",
              "    }\n",
              "    40% {\n",
              "      border-color: transparent;\n",
              "      border-right-color: var(--fill-color);\n",
              "      border-top-color: var(--fill-color);\n",
              "    }\n",
              "    60% {\n",
              "      border-color: transparent;\n",
              "      border-right-color: var(--fill-color);\n",
              "    }\n",
              "    80% {\n",
              "      border-color: transparent;\n",
              "      border-right-color: var(--fill-color);\n",
              "      border-bottom-color: var(--fill-color);\n",
              "    }\n",
              "    90% {\n",
              "      border-color: transparent;\n",
              "      border-bottom-color: var(--fill-color);\n",
              "    }\n",
              "  }\n",
              "</style>\n",
              "\n",
              "      <script>\n",
              "        async function quickchart(key) {\n",
              "          const quickchartButtonEl =\n",
              "            document.querySelector('#' + key + ' button');\n",
              "          quickchartButtonEl.disabled = true;  // To prevent multiple clicks.\n",
              "          quickchartButtonEl.classList.add('colab-df-spinner');\n",
              "          try {\n",
              "            const charts = await google.colab.kernel.invokeFunction(\n",
              "                'suggestCharts', [key], {});\n",
              "          } catch (error) {\n",
              "            console.error('Error during call to suggestCharts:', error);\n",
              "          }\n",
              "          quickchartButtonEl.classList.remove('colab-df-spinner');\n",
              "          quickchartButtonEl.classList.add('colab-df-quickchart-complete');\n",
              "        }\n",
              "        (() => {\n",
              "          let quickchartButtonEl =\n",
              "            document.querySelector('#df-d71f4073-0125-41e3-ace9-976360868ba2 button');\n",
              "          quickchartButtonEl.style.display =\n",
              "            google.colab.kernel.accessAllowed ? 'block' : 'none';\n",
              "        })();\n",
              "      </script>\n",
              "    </div>\n",
              "\n",
              "  <div id=\"id_951cc496-4969-4fc9-9311-75b116658939\">\n",
              "    <style>\n",
              "      .colab-df-generate {\n",
              "        background-color: #E8F0FE;\n",
              "        border: none;\n",
              "        border-radius: 50%;\n",
              "        cursor: pointer;\n",
              "        display: none;\n",
              "        fill: #1967D2;\n",
              "        height: 32px;\n",
              "        padding: 0 0 0 0;\n",
              "        width: 32px;\n",
              "      }\n",
              "\n",
              "      .colab-df-generate:hover {\n",
              "        background-color: #E2EBFA;\n",
              "        box-shadow: 0px 1px 2px rgba(60, 64, 67, 0.3), 0px 1px 3px 1px rgba(60, 64, 67, 0.15);\n",
              "        fill: #174EA6;\n",
              "      }\n",
              "\n",
              "      [theme=dark] .colab-df-generate {\n",
              "        background-color: #3B4455;\n",
              "        fill: #D2E3FC;\n",
              "      }\n",
              "\n",
              "      [theme=dark] .colab-df-generate:hover {\n",
              "        background-color: #434B5C;\n",
              "        box-shadow: 0px 1px 3px 1px rgba(0, 0, 0, 0.15);\n",
              "        filter: drop-shadow(0px 1px 2px rgba(0, 0, 0, 0.3));\n",
              "        fill: #FFFFFF;\n",
              "      }\n",
              "    </style>\n",
              "    <button class=\"colab-df-generate\" onclick=\"generateWithVariable('tabla')\"\n",
              "            title=\"Generate code using this dataframe.\"\n",
              "            style=\"display:none;\">\n",
              "\n",
              "  <svg xmlns=\"http://www.w3.org/2000/svg\" height=\"24px\"viewBox=\"0 0 24 24\"\n",
              "       width=\"24px\">\n",
              "    <path d=\"M7,19H8.4L18.45,9,17,7.55,7,17.6ZM5,21V16.75L18.45,3.32a2,2,0,0,1,2.83,0l1.4,1.43a1.91,1.91,0,0,1,.58,1.4,1.91,1.91,0,0,1-.58,1.4L9.25,21ZM18.45,9,17,7.55Zm-12,3A5.31,5.31,0,0,0,4.9,8.1,5.31,5.31,0,0,0,1,6.5,5.31,5.31,0,0,0,4.9,4.9,5.31,5.31,0,0,0,6.5,1,5.31,5.31,0,0,0,8.1,4.9,5.31,5.31,0,0,0,12,6.5,5.46,5.46,0,0,0,6.5,12Z\"/>\n",
              "  </svg>\n",
              "    </button>\n",
              "    <script>\n",
              "      (() => {\n",
              "      const buttonEl =\n",
              "        document.querySelector('#id_951cc496-4969-4fc9-9311-75b116658939 button.colab-df-generate');\n",
              "      buttonEl.style.display =\n",
              "        google.colab.kernel.accessAllowed ? 'block' : 'none';\n",
              "\n",
              "      buttonEl.onclick = () => {\n",
              "        google.colab.notebook.generateWithVariable('tabla');\n",
              "      }\n",
              "      })();\n",
              "    </script>\n",
              "  </div>\n",
              "\n",
              "    </div>\n",
              "  </div>\n"
            ],
            "application/vnd.google.colaboratory.intrinsic+json": {
              "type": "dataframe",
              "variable_name": "tabla",
              "summary": "{\n  \"name\": \"tabla\",\n  \"rows\": 15,\n  \"fields\": [\n    {\n      \"column\": \"Bigrama\",\n      \"properties\": {\n        \"dtype\": \"string\",\n        \"num_unique_values\": 15,\n        \"samples\": [\n          \"si me\",\n          \"si no\",\n          \"el gaucho\"\n        ],\n        \"semantic_type\": \"\",\n        \"description\": \"\"\n      }\n    },\n    {\n      \"column\": \"Frecuencia B\",\n      \"properties\": {\n        \"dtype\": \"number\",\n        \"std\": 2,\n        \"min\": 9,\n        \"max\": 20,\n        \"num_unique_values\": 7,\n        \"samples\": [\n          20,\n          15,\n          10\n        ],\n        \"semantic_type\": \"\",\n        \"description\": \"\"\n      }\n    },\n    {\n      \"column\": \"Trigrama\",\n      \"properties\": {\n        \"dtype\": \"string\",\n        \"num_unique_values\": 15,\n        \"samples\": [\n          \"mas malo que\",\n          \"juez de paz\",\n          \"ahi no mas\"\n        ],\n        \"semantic_type\": \"\",\n        \"description\": \"\"\n      }\n    },\n    {\n      \"column\": \"Frecuencia T\",\n      \"properties\": {\n        \"dtype\": \"number\",\n        \"std\": 2,\n        \"min\": 2,\n        \"max\": 13,\n        \"num_unique_values\": 4,\n        \"samples\": [\n          5,\n          2,\n          13\n        ],\n        \"semantic_type\": \"\",\n        \"description\": \"\"\n      }\n    }\n  ]\n}"
            }
          },
          "metadata": {},
          "execution_count": 203
        }
      ]
    },
    {
      "cell_type": "markdown",
      "source": [
        "# 7 - Visualización de relaciones entre personajes\n",
        "\n",
        "* Utilizando los resultados anteriores (mirar 4E), cree una visualización de red que muestre las relaciones entre los personajes.\n",
        "* Determine la \"cercanía\" entre entidades basándose en la co-ocurrencia en las mismas estrofas.\n",
        "* Presente conclusiones sobre la estructura narrativa del libro basado en esta visualización."
      ],
      "metadata": {
        "id": "qAI3RHm3MroU"
      }
    },
    {
      "cell_type": "code",
      "source": [
        "from itertools import combinations\n",
        "from collections import Counter\n",
        "import networkx as nx\n",
        "import matplotlib.pyplot as plt\n",
        "\n",
        "# Paso 1: Crear los pares de personajes por estrofa\n",
        "coocurrencias = Counter()\n",
        "\n",
        "for personajes1 in personajes:\n",
        "    for par in combinations(sorted(set(personajes1)), 2):\n",
        "        coocurrencias[par] += 1\n"
      ],
      "metadata": {
        "id": "si-3HkusL91z"
      },
      "execution_count": null,
      "outputs": []
    },
    {
      "cell_type": "code",
      "source": [
        "# Crear el grafo\n",
        "G = nx.Graph()\n",
        "\n",
        "for (p1, p2), peso in coocurrencias.items():\n",
        "    G.add_edge(p1, p2, weight=peso)\n",
        "\n",
        "# Layout de nodos\n",
        "plt.figure(figsize=(10, 8))\n",
        "pos = nx.spring_layout(G, k=1.2, seed=42)\n",
        "\n",
        "# Dibujar nodos\n",
        "nx.draw_networkx_nodes(G, pos, node_size=1000, node_color='lightblue')\n",
        "\n",
        "# Etiquetas de nodos\n",
        "nx.draw_networkx_labels(G, pos, font_size=11, font_family='serif')\n",
        "\n",
        "# Dibujar enlaces con grosor proporcional al peso\n",
        "pesos = [G[u][v]['weight'] for u, v in G.edges()]\n",
        "nx.draw_networkx_edges(G, pos, width=[w * 0.6 for w in pesos], edge_color='gray')\n",
        "\n",
        "plt.title(\"Red de co-ocurrencia entre personajes\")\n",
        "plt.axis('off')\n",
        "plt.tight_layout()\n",
        "plt.show()\n"
      ],
      "metadata": {
        "colab": {
          "base_uri": "https://localhost:8080/",
          "height": 807
        },
        "id": "P0cwtaDIN3Nb",
        "outputId": "1550bdf0-180a-4e0b-fee2-698fe5ce8096"
      },
      "execution_count": null,
      "outputs": [
        {
          "output_type": "display_data",
          "data": {
            "text/plain": [
              "<Figure size 1000x800 with 1 Axes>"
            ],
            "image/png": "[encoded data removed]"
          },
          "metadata": {}
        }
      ]
    },
    {
      "cell_type": "markdown",
      "source": [
        "# 8 - Matriz TF-IDF"
      ],
      "metadata": {
        "id": "opvORpeNiLz2"
      }
    },
    {
      "cell_type": "markdown",
      "source": [
        "## 8 A - Preparación para TF-IDF\n",
        "* Importar las bibliotecas necesarias (sklearn)\n",
        "* Crear un vectorizador TF-IDF\n",
        "* Configurar parámetros (stop_words, ngram_range, etc.)\n",
        "* Aplicar el vectorizador al corpus de estrofas\n",
        "* Generar la matriz TF-IDF completa\n",
        "* Extraer vocabulary_ y feature_names_\n",
        "* Mostrar dimensiones de la matriz resultante\n",
        "* Documentar decisiones de configuración"
      ],
      "metadata": {
        "id": "6zJ8irS4iRuy"
      }
    },
    {
      "cell_type": "code",
      "source": [
        "from sklearn.feature_extraction.text import TfidfVectorizer\n",
        "import pandas as pd\n"
      ],
      "metadata": {
        "id": "G6VSFGYYOB7z"
      },
      "execution_count": null,
      "outputs": []
    },
    {
      "cell_type": "code",
      "source": [
        "vectorizador = TfidfVectorizer(\n",
        "    stop_words=stop_words,     # Elimina palabras vacías\n",
        "    lowercase=True,           # Convierte todo a minúsculas\n",
        "    ngram_range=(1, 2),       # Unigramas y bigramas\n",
        "    max_df=0.9,               # Ignora términos muy frecuentes\n",
        "    min_df=2                  # Ignora términos que aparecen solo 1 vez\n",
        ")\n"
      ],
      "metadata": {
        "id": "tJHktpYFiQjC"
      },
      "execution_count": null,
      "outputs": []
    },
    {
      "cell_type": "code",
      "source": [
        "matriz_tfidf = vectorizador.fit_transform(lista_estrofas)\n"
      ],
      "metadata": {
        "id": "sGfCj8SPiggx"
      },
      "execution_count": null,
      "outputs": []
    },
    {
      "cell_type": "code",
      "source": [
        "vocabulario = vectorizador.vocabulary_\n",
        "terminos = vectorizador.get_feature_names_out()\n"
      ],
      "metadata": {
        "id": "kVxaKa_4i11f"
      },
      "execution_count": null,
      "outputs": []
    },
    {
      "cell_type": "code",
      "source": [
        "print(\"Dimensiones de la matriz TF-IDF:\", matriz_tfidf.shape)\n"
      ],
      "metadata": {
        "colab": {
          "base_uri": "https://localhost:8080/"
        },
        "id": "ugjslRcPjd5W",
        "outputId": "0178a0a2-1064-4903-cc4c-16e86dc22bbf"
      },
      "execution_count": null,
      "outputs": [
        {
          "output_type": "stream",
          "name": "stdout",
          "text": [
            "Dimensiones de la matriz TF-IDF: (435, 974)\n"
          ]
        }
      ]
    },
    {
      "cell_type": "code",
      "source": [
        "matriz_tfidf"
      ],
      "metadata": {
        "id": "depDy9LdjqbA",
        "outputId": "78ff47a2-0c8f-407c-a3fd-c84d622a0f12",
        "colab": {
          "base_uri": "https://localhost:8080/"
        }
      },
      "execution_count": null,
      "outputs": [
        {
          "output_type": "execute_result",
          "data": {
            "text/plain": [
              "<Compressed Sparse Row sparse matrix of dtype 'float64'\n",
              "\twith 4035 stored elements and shape (435, 974)>"
            ]
          },
          "metadata": {},
          "execution_count": 220
        }
      ]
    },
    {
      "cell_type": "code",
      "source": [
        "df_tfidf = pd.DataFrame(matriz_tfidf.toarray(), columns=terminos)\n",
        "df_tfidf"
      ],
      "metadata": {
        "colab": {
          "base_uri": "https://localhost:8080/",
          "height": 423
        },
        "id": "HjmgsKU_jfp6",
        "outputId": "6efde0d7-bf1b-4dee-c1a6-c94563623b74"
      },
      "execution_count": null,
      "outputs": [
        {
          "output_type": "execute_result",
          "data": {
            "text/plain": [
              "     abajo  acaba  acabar    acabe  acabo  acomode  acompanao  adelante  \\\n",
              "0      0.0    0.0     0.0  0.00000    0.0      0.0        0.0       0.0   \n",
              "1      0.0    0.0     0.0  0.00000    0.0      0.0        0.0       0.0   \n",
              "2      0.0    0.0     0.0  0.00000    0.0      0.0        0.0       0.0   \n",
              "3      0.0    0.0     0.0  0.00000    0.0      0.0        0.0       0.0   \n",
              "4      0.0    0.0     0.0  0.00000    0.0      0.0        0.0       0.0   \n",
              "..     ...    ...     ...      ...    ...      ...        ...       ...   \n",
              "430    0.0    0.0     0.0  0.00000    0.0      0.0        0.0       0.0   \n",
              "431    0.0    0.0     0.0  0.00000    0.0      0.0        0.0       0.0   \n",
              "432    0.0    0.0     0.0  0.00000    0.0      0.0        0.0       0.0   \n",
              "433    0.0    0.0     0.0  0.35344    0.0      0.0        0.0       0.0   \n",
              "434    0.0    0.0     0.0  0.00000    0.0      0.0        0.0       0.0   \n",
              "\n",
              "     adentro  adentros  ...  vivo  vizcachera  volver  volvi  volvio  vos  \\\n",
              "0        0.0       0.0  ...   0.0         0.0     0.0    0.0     0.0  0.0   \n",
              "1        0.0       0.0  ...   0.0         0.0     0.0    0.0     0.0  0.0   \n",
              "2        0.0       0.0  ...   0.0         0.0     0.0    0.0     0.0  0.0   \n",
              "3        0.0       0.0  ...   0.0         0.0     0.0    0.0     0.0  0.0   \n",
              "4        0.0       0.0  ...   0.0         0.0     0.0    0.0     0.0  0.0   \n",
              "..       ...       ...  ...   ...         ...     ...    ...     ...  ...   \n",
              "430      0.0       0.0  ...   0.0         0.0     0.0    0.0     0.0  0.0   \n",
              "431      0.0       0.0  ...   0.0         0.0     0.0    0.0     0.0  0.0   \n",
              "432      0.0       0.0  ...   0.0         0.0     0.0    0.0     0.0  0.0   \n",
              "433      0.0       0.0  ...   0.0         0.0     0.0    0.0     0.0  0.0   \n",
              "434      0.0       0.0  ...   0.0         0.0     0.0    0.0     0.0  0.0   \n",
              "\n",
              "          voy  voz  yunta  zorro  \n",
              "0    0.000000  0.0    0.0    0.0  \n",
              "1    0.306051  0.0    0.0    0.0  \n",
              "2    0.000000  0.0    0.0    0.0  \n",
              "3    0.000000  0.0    0.0    0.0  \n",
              "4    0.000000  0.0    0.0    0.0  \n",
              "..        ...  ...    ...    ...  \n",
              "430  0.000000  0.0    0.0    0.0  \n",
              "431  0.000000  0.0    0.0    0.0  \n",
              "432  0.000000  0.0    0.0    0.0  \n",
              "433  0.000000  0.0    0.0    0.0  \n",
              "434  0.000000  0.0    0.0    0.0  \n",
              "\n",
              "[435 rows x 974 columns]"
            ],
            "text/html": [
              "\n",
              "  <div id=\"df-74245ee5-f64d-4da4-817b-b10dd6957ce9\" class=\"colab-df-container\">\n",
              "    <div>\n",
              "<style scoped>\n",
              "    .dataframe tbody tr th:only-of-type {\n",
              "        vertical-align: middle;\n",
              "    }\n",
              "\n",
              "    .dataframe tbody tr th {\n",
              "        vertical-align: top;\n",
              "    }\n",
              "\n",
              "    .dataframe thead th {\n",
              "        text-align: right;\n",
              "    }\n",
              "</style>\n",
              "<table border=\"1\" class=\"dataframe\">\n",
              "  <thead>\n",
              "    <tr style=\"text-align: right;\">\n",
              "      <th></th>\n",
              "      <th>abajo</th>\n",
              "      <th>acaba</th>\n",
              "      <th>acabar</th>\n",
              "      <th>acabe</th>\n",
              "      <th>acabo</th>\n",
              "      <th>acomode</th>\n",
              "      <th>acompanao</th>\n",
              "      <th>adelante</th>\n",
              "      <th>adentro</th>\n",
              "      <th>adentros</th>\n",
              "      <th>...</th>\n",
              "      <th>vivo</th>\n",
              "      <th>vizcachera</th>\n",
              "      <th>volver</th>\n",
              "      <th>volvi</th>\n",
              "      <th>volvio</th>\n",
              "      <th>vos</th>\n",
              "      <th>voy</th>\n",
              "      <th>voz</th>\n",
              "      <th>yunta</th>\n",
              "      <th>zorro</th>\n",
              "    </tr>\n",
              "  </thead>\n",
              "  <tbody>\n",
              "    <tr>\n",
              "      <th>0</th>\n",
              "      <td>0.0</td>\n",
              "      <td>0.0</td>\n",
              "      <td>0.0</td>\n",
              "      <td>0.00000</td>\n",
              "      <td>0.0</td>\n",
              "      <td>0.0</td>\n",
              "      <td>0.0</td>\n",
              "      <td>0.0</td>\n",
              "      <td>0.0</td>\n",
              "      <td>0.0</td>\n",
              "      <td>...</td>\n",
              "      <td>0.0</td>\n",
              "      <td>0.0</td>\n",
              "      <td>0.0</td>\n",
              "      <td>0.0</td>\n",
              "      <td>0.0</td>\n",
              "      <td>0.0</td>\n",
              "      <td>0.000000</td>\n",
              "      <td>0.0</td>\n",
              "      <td>0.0</td>\n",
              "      <td>0.0</td>\n",
              "    </tr>\n",
              "    <tr>\n",
              "      <th>1</th>\n",
              "      <td>0.0</td>\n",
              "      <td>0.0</td>\n",
              "      <td>0.0</td>\n",
              "      <td>0.00000</td>\n",
              "      <td>0.0</td>\n",
              "      <td>0.0</td>\n",
              "      <td>0.0</td>\n",
              "      <td>0.0</td>\n",
              "      <td>0.0</td>\n",
              "      <td>0.0</td>\n",
              "      <td>...</td>\n",
              "      <td>0.0</td>\n",
              "      <td>0.0</td>\n",
              "      <td>0.0</td>\n",
              "      <td>0.0</td>\n",
              "      <td>0.0</td>\n",
              "      <td>0.0</td>\n",
              "      <td>0.306051</td>\n",
              "      <td>0.0</td>\n",
              "      <td>0.0</td>\n",
              "      <td>0.0</td>\n",
              "    </tr>\n",
              "    <tr>\n",
              "      <th>2</th>\n",
              "      <td>0.0</td>\n",
              "      <td>0.0</td>\n",
              "      <td>0.0</td>\n",
              "      <td>0.00000</td>\n",
              "      <td>0.0</td>\n",
              "      <td>0.0</td>\n",
              "      <td>0.0</td>\n",
              "      <td>0.0</td>\n",
              "      <td>0.0</td>\n",
              "      <td>0.0</td>\n",
              "      <td>...</td>\n",
              "      <td>0.0</td>\n",
              "      <td>0.0</td>\n",
              "      <td>0.0</td>\n",
              "      <td>0.0</td>\n",
              "      <td>0.0</td>\n",
              "      <td>0.0</td>\n",
              "      <td>0.000000</td>\n",
              "      <td>0.0</td>\n",
              "      <td>0.0</td>\n",
              "      <td>0.0</td>\n",
              "    </tr>\n",
              "    <tr>\n",
              "      <th>3</th>\n",
              "      <td>0.0</td>\n",
              "      <td>0.0</td>\n",
              "      <td>0.0</td>\n",
              "      <td>0.00000</td>\n",
              "      <td>0.0</td>\n",
              "      <td>0.0</td>\n",
              "      <td>0.0</td>\n",
              "      <td>0.0</td>\n",
              "      <td>0.0</td>\n",
              "      <td>0.0</td>\n",
              "      <td>...</td>\n",
              "      <td>0.0</td>\n",
              "      <td>0.0</td>\n",
              "      <td>0.0</td>\n",
              "      <td>0.0</td>\n",
              "      <td>0.0</td>\n",
              "      <td>0.0</td>\n",
              "      <td>0.000000</td>\n",
              "      <td>0.0</td>\n",
              "      <td>0.0</td>\n",
              "      <td>0.0</td>\n",
              "    </tr>\n",
              "    <tr>\n",
              "      <th>4</th>\n",
              "      <td>0.0</td>\n",
              "      <td>0.0</td>\n",
              "      <td>0.0</td>\n",
              "      <td>0.00000</td>\n",
              "      <td>0.0</td>\n",
              "      <td>0.0</td>\n",
              "      <td>0.0</td>\n",
              "      <td>0.0</td>\n",
              "      <td>0.0</td>\n",
              "      <td>0.0</td>\n",
              "      <td>...</td>\n",
              "      <td>0.0</td>\n",
              "      <td>0.0</td>\n",
              "      <td>0.0</td>\n",
              "      <td>0.0</td>\n",
              "      <td>0.0</td>\n",
              "      <td>0.0</td>\n",
              "      <td>0.000000</td>\n",
              "      <td>0.0</td>\n",
              "      <td>0.0</td>\n",
              "      <td>0.0</td>\n",
              "    </tr>\n",
              "    <tr>\n",
              "      <th>...</th>\n",
              "      <td>...</td>\n",
              "      <td>...</td>\n",
              "      <td>...</td>\n",
              "      <td>...</td>\n",
              "      <td>...</td>\n",
              "      <td>...</td>\n",
              "      <td>...</td>\n",
              "      <td>...</td>\n",
              "      <td>...</td>\n",
              "      <td>...</td>\n",
              "      <td>...</td>\n",
              "      <td>...</td>\n",
              "      <td>...</td>\n",
              "      <td>...</td>\n",
              "      <td>...</td>\n",
              "      <td>...</td>\n",
              "      <td>...</td>\n",
              "      <td>...</td>\n",
              "      <td>...</td>\n",
              "      <td>...</td>\n",
              "      <td>...</td>\n",
              "    </tr>\n",
              "    <tr>\n",
              "      <th>430</th>\n",
              "      <td>0.0</td>\n",
              "      <td>0.0</td>\n",
              "      <td>0.0</td>\n",
              "      <td>0.00000</td>\n",
              "      <td>0.0</td>\n",
              "      <td>0.0</td>\n",
              "      <td>0.0</td>\n",
              "      <td>0.0</td>\n",
              "      <td>0.0</td>\n",
              "      <td>0.0</td>\n",
              "      <td>...</td>\n",
              "      <td>0.0</td>\n",
              "      <td>0.0</td>\n",
              "      <td>0.0</td>\n",
              "      <td>0.0</td>\n",
              "      <td>0.0</td>\n",
              "      <td>0.0</td>\n",
              "      <td>0.000000</td>\n",
              "      <td>0.0</td>\n",
              "      <td>0.0</td>\n",
              "      <td>0.0</td>\n",
              "    </tr>\n",
              "    <tr>\n",
              "      <th>431</th>\n",
              "      <td>0.0</td>\n",
              "      <td>0.0</td>\n",
              "      <td>0.0</td>\n",
              "      <td>0.00000</td>\n",
              "      <td>0.0</td>\n",
              "      <td>0.0</td>\n",
              "      <td>0.0</td>\n",
              "      <td>0.0</td>\n",
              "      <td>0.0</td>\n",
              "      <td>0.0</td>\n",
              "      <td>...</td>\n",
              "      <td>0.0</td>\n",
              "      <td>0.0</td>\n",
              "      <td>0.0</td>\n",
              "      <td>0.0</td>\n",
              "      <td>0.0</td>\n",
              "      <td>0.0</td>\n",
              "      <td>0.000000</td>\n",
              "      <td>0.0</td>\n",
              "      <td>0.0</td>\n",
              "      <td>0.0</td>\n",
              "    </tr>\n",
              "    <tr>\n",
              "      <th>432</th>\n",
              "      <td>0.0</td>\n",
              "      <td>0.0</td>\n",
              "      <td>0.0</td>\n",
              "      <td>0.00000</td>\n",
              "      <td>0.0</td>\n",
              "      <td>0.0</td>\n",
              "      <td>0.0</td>\n",
              "      <td>0.0</td>\n",
              "      <td>0.0</td>\n",
              "      <td>0.0</td>\n",
              "      <td>...</td>\n",
              "      <td>0.0</td>\n",
              "      <td>0.0</td>\n",
              "      <td>0.0</td>\n",
              "      <td>0.0</td>\n",
              "      <td>0.0</td>\n",
              "      <td>0.0</td>\n",
              "      <td>0.000000</td>\n",
              "      <td>0.0</td>\n",
              "      <td>0.0</td>\n",
              "      <td>0.0</td>\n",
              "    </tr>\n",
              "    <tr>\n",
              "      <th>433</th>\n",
              "      <td>0.0</td>\n",
              "      <td>0.0</td>\n",
              "      <td>0.0</td>\n",
              "      <td>0.35344</td>\n",
              "      <td>0.0</td>\n",
              "      <td>0.0</td>\n",
              "      <td>0.0</td>\n",
              "      <td>0.0</td>\n",
              "      <td>0.0</td>\n",
              "      <td>0.0</td>\n",
              "      <td>...</td>\n",
              "      <td>0.0</td>\n",
              "      <td>0.0</td>\n",
              "      <td>0.0</td>\n",
              "      <td>0.0</td>\n",
              "      <td>0.0</td>\n",
              "      <td>0.0</td>\n",
              "      <td>0.000000</td>\n",
              "      <td>0.0</td>\n",
              "      <td>0.0</td>\n",
              "      <td>0.0</td>\n",
              "    </tr>\n",
              "    <tr>\n",
              "      <th>434</th>\n",
              "      <td>0.0</td>\n",
              "      <td>0.0</td>\n",
              "      <td>0.0</td>\n",
              "      <td>0.00000</td>\n",
              "      <td>0.0</td>\n",
              "      <td>0.0</td>\n",
              "      <td>0.0</td>\n",
              "      <td>0.0</td>\n",
              "      <td>0.0</td>\n",
              "      <td>0.0</td>\n",
              "      <td>...</td>\n",
              "      <td>0.0</td>\n",
              "      <td>0.0</td>\n",
              "      <td>0.0</td>\n",
              "      <td>0.0</td>\n",
              "      <td>0.0</td>\n",
              "      <td>0.0</td>\n",
              "      <td>0.000000</td>\n",
              "      <td>0.0</td>\n",
              "      <td>0.0</td>\n",
              "      <td>0.0</td>\n",
              "    </tr>\n",
              "  </tbody>\n",
              "</table>\n",
              "<p>435 rows × 974 columns</p>\n",
              "</div>\n",
              "    <div class=\"colab-df-buttons\">\n",
              "\n",
              "  <div class=\"colab-df-container\">\n",
              "    <button class=\"colab-df-convert\" onclick=\"convertToInteractive('df-74245ee5-f64d-4da4-817b-b10dd6957ce9')\"\n",
              "            title=\"Convert this dataframe to an interactive table.\"\n",
              "            style=\"display:none;\">\n",
              "\n",
              "  <svg xmlns=\"http://www.w3.org/2000/svg\" height=\"24px\" viewBox=\"0 -960 960 960\">\n",
              "    <path d=\"M120-120v-720h720v720H120Zm60-500h600v-160H180v160Zm220 220h160v-160H400v160Zm0 220h160v-160H400v160ZM180-400h160v-160H180v160Zm440 0h160v-160H620v160ZM180-180h160v-160H180v160Zm440 0h160v-160H620v160Z\"/>\n",
              "  </svg>\n",
              "    </button>\n",
              "\n",
              "  <style>\n",
              "    .colab-df-container {\n",
              "      display:flex;\n",
              "      gap: 12px;\n",
              "    }\n",
              "\n",
              "    .colab-df-convert {\n",
              "      background-color: #E8F0FE;\n",
              "      border: none;\n",
              "      border-radius: 50%;\n",
              "      cursor: pointer;\n",
              "      display: none;\n",
              "      fill: #1967D2;\n",
              "      height: 32px;\n",
              "      padding: 0 0 0 0;\n",
              "      width: 32px;\n",
              "    }\n",
              "\n",
              "    .colab-df-convert:hover {\n",
              "      background-color: #E2EBFA;\n",
              "      box-shadow: 0px 1px 2px rgba(60, 64, 67, 0.3), 0px 1px 3px 1px rgba(60, 64, 67, 0.15);\n",
              "      fill: #174EA6;\n",
              "    }\n",
              "\n",
              "    .colab-df-buttons div {\n",
              "      margin-bottom: 4px;\n",
              "    }\n",
              "\n",
              "    [theme=dark] .colab-df-convert {\n",
              "      background-color: #3B4455;\n",
              "      fill: #D2E3FC;\n",
              "    }\n",
              "\n",
              "    [theme=dark] .colab-df-convert:hover {\n",
              "      background-color: #434B5C;\n",
              "      box-shadow: 0px 1px 3px 1px rgba(0, 0, 0, 0.15);\n",
              "      filter: drop-shadow(0px 1px 2px rgba(0, 0, 0, 0.3));\n",
              "      fill: #FFFFFF;\n",
              "    }\n",
              "  </style>\n",
              "\n",
              "    <script>\n",
              "      const buttonEl =\n",
              "        document.querySelector('#df-74245ee5-f64d-4da4-817b-b10dd6957ce9 button.colab-df-convert');\n",
              "      buttonEl.style.display =\n",
              "        google.colab.kernel.accessAllowed ? 'block' : 'none';\n",
              "\n",
              "      async function convertToInteractive(key) {\n",
              "        const element = document.querySelector('#df-74245ee5-f64d-4da4-817b-b10dd6957ce9');\n",
              "        const dataTable =\n",
              "          await google.colab.kernel.invokeFunction('convertToInteractive',\n",
              "                                                    [key], {});\n",
              "        if (!dataTable) return;\n",
              "\n",
              "        const docLinkHtml = 'Like what you see? Visit the ' +\n",
              "          '<a target=\"_blank\" href=https://colab.research.google.com/notebooks/data_table.ipynb>data table notebook</a>'\n",
              "          + ' to learn more about interactive tables.';\n",
              "        element.innerHTML = '';\n",
              "        dataTable['output_type'] = 'display_data';\n",
              "        await google.colab.output.renderOutput(dataTable, element);\n",
              "        const docLink = document.createElement('div');\n",
              "        docLink.innerHTML = docLinkHtml;\n",
              "        element.appendChild(docLink);\n",
              "      }\n",
              "    </script>\n",
              "  </div>\n",
              "\n",
              "\n",
              "    <div id=\"df-d8e5d473-e39e-4757-8e2f-80fe4f0302ff\">\n",
              "      <button class=\"colab-df-quickchart\" onclick=\"quickchart('df-d8e5d473-e39e-4757-8e2f-80fe4f0302ff')\"\n",
              "                title=\"Suggest charts\"\n",
              "                style=\"display:none;\">\n",
              "\n",
              "<svg xmlns=\"http://www.w3.org/2000/svg\" height=\"24px\"viewBox=\"0 0 24 24\"\n",
              "     width=\"24px\">\n",
              "    <g>\n",
              "        <path d=\"M19 3H5c-1.1 0-2 .9-2 2v14c0 1.1.9 2 2 2h14c1.1 0 2-.9 2-2V5c0-1.1-.9-2-2-2zM9 17H7v-7h2v7zm4 0h-2V7h2v10zm4 0h-2v-4h2v4z\"/>\n",
              "    </g>\n",
              "</svg>\n",
              "      </button>\n",
              "\n",
              "<style>\n",
              "  .colab-df-quickchart {\n",
              "      --bg-color: #E8F0FE;\n",
              "      --fill-color: #1967D2;\n",
              "      --hover-bg-color: #E2EBFA;\n",
              "      --hover-fill-color: #174EA6;\n",
              "      --disabled-fill-color: #AAA;\n",
              "      --disabled-bg-color: #DDD;\n",
              "  }\n",
              "\n",
              "  [theme=dark] .colab-df-quickchart {\n",
              "      --bg-color: #3B4455;\n",
              "      --fill-color: #D2E3FC;\n",
              "      --hover-bg-color: #434B5C;\n",
              "      --hover-fill-color: #FFFFFF;\n",
              "      --disabled-bg-color: #3B4455;\n",
              "      --disabled-fill-color: #666;\n",
              "  }\n",
              "\n",
              "  .colab-df-quickchart {\n",
              "    background-color: var(--bg-color);\n",
              "    border: none;\n",
              "    border-radius: 50%;\n",
              "    cursor: pointer;\n",
              "    display: none;\n",
              "    fill: var(--fill-color);\n",
              "    height: 32px;\n",
              "    padding: 0;\n",
              "    width: 32px;\n",
              "  }\n",
              "\n",
              "  .colab-df-quickchart:hover {\n",
              "    background-color: var(--hover-bg-color);\n",
              "    box-shadow: 0 1px 2px rgba(60, 64, 67, 0.3), 0 1px 3px 1px rgba(60, 64, 67, 0.15);\n",
              "    fill: var(--button-hover-fill-color);\n",
              "  }\n",
              "\n",
              "  .colab-df-quickchart-complete:disabled,\n",
              "  .colab-df-quickchart-complete:disabled:hover {\n",
              "    background-color: var(--disabled-bg-color);\n",
              "    fill: var(--disabled-fill-color);\n",
              "    box-shadow: none;\n",
              "  }\n",
              "\n",
              "  .colab-df-spinner {\n",
              "    border: 2px solid var(--fill-color);\n",
              "    border-color: transparent;\n",
              "    border-bottom-color: var(--fill-color);\n",
              "    animation:\n",
              "      spin 1s steps(1) infinite;\n",
              "  }\n",
              "\n",
              "  @keyframes spin {\n",
              "    0% {\n",
              "      border-color: transparent;\n",
              "      border-bottom-color: var(--fill-color);\n",
              "      border-left-color: var(--fill-color);\n",
              "    }\n",
              "    20% {\n",
              "      border-color: transparent;\n",
              "      border-left-color: var(--fill-color);\n",
              "      border-top-color: var(--fill-color);\n",
              "    }\n",
              "    30% {\n",
              "      border-color: transparent;\n",
              "      border-left-color: var(--fill-color);\n",
              "      border-top-color: var(--fill-color);\n",
              "      border-right-color: var(--fill-color);\n",
              "    }\n",
              "    40% {\n",
              "      border-color: transparent;\n",
              "      border-right-color: var(--fill-color);\n",
              "      border-top-color: var(--fill-color);\n",
              "    }\n",
              "    60% {\n",
              "      border-color: transparent;\n",
              "      border-right-color: var(--fill-color);\n",
              "    }\n",
              "    80% {\n",
              "      border-color: transparent;\n",
              "      border-right-color: var(--fill-color);\n",
              "      border-bottom-color: var(--fill-color);\n",
              "    }\n",
              "    90% {\n",
              "      border-color: transparent;\n",
              "      border-bottom-color: var(--fill-color);\n",
              "    }\n",
              "  }\n",
              "</style>\n",
              "\n",
              "      <script>\n",
              "        async function quickchart(key) {\n",
              "          const quickchartButtonEl =\n",
              "            document.querySelector('#' + key + ' button');\n",
              "          quickchartButtonEl.disabled = true;  // To prevent multiple clicks.\n",
              "          quickchartButtonEl.classList.add('colab-df-spinner');\n",
              "          try {\n",
              "            const charts = await google.colab.kernel.invokeFunction(\n",
              "                'suggestCharts', [key], {});\n",
              "          } catch (error) {\n",
              "            console.error('Error during call to suggestCharts:', error);\n",
              "          }\n",
              "          quickchartButtonEl.classList.remove('colab-df-spinner');\n",
              "          quickchartButtonEl.classList.add('colab-df-quickchart-complete');\n",
              "        }\n",
              "        (() => {\n",
              "          let quickchartButtonEl =\n",
              "            document.querySelector('#df-d8e5d473-e39e-4757-8e2f-80fe4f0302ff button');\n",
              "          quickchartButtonEl.style.display =\n",
              "            google.colab.kernel.accessAllowed ? 'block' : 'none';\n",
              "        })();\n",
              "      </script>\n",
              "    </div>\n",
              "\n",
              "  <div id=\"id_698ec401-2496-44d7-be64-1bf0c9f071e9\">\n",
              "    <style>\n",
              "      .colab-df-generate {\n",
              "        background-color: #E8F0FE;\n",
              "        border: none;\n",
              "        border-radius: 50%;\n",
              "        cursor: pointer;\n",
              "        display: none;\n",
              "        fill: #1967D2;\n",
              "        height: 32px;\n",
              "        padding: 0 0 0 0;\n",
              "        width: 32px;\n",
              "      }\n",
              "\n",
              "      .colab-df-generate:hover {\n",
              "        background-color: #E2EBFA;\n",
              "        box-shadow: 0px 1px 2px rgba(60, 64, 67, 0.3), 0px 1px 3px 1px rgba(60, 64, 67, 0.15);\n",
              "        fill: #174EA6;\n",
              "      }\n",
              "\n",
              "      [theme=dark] .colab-df-generate {\n",
              "        background-color: #3B4455;\n",
              "        fill: #D2E3FC;\n",
              "      }\n",
              "\n",
              "      [theme=dark] .colab-df-generate:hover {\n",
              "        background-color: #434B5C;\n",
              "        box-shadow: 0px 1px 3px 1px rgba(0, 0, 0, 0.15);\n",
              "        filter: drop-shadow(0px 1px 2px rgba(0, 0, 0, 0.3));\n",
              "        fill: #FFFFFF;\n",
              "      }\n",
              "    </style>\n",
              "    <button class=\"colab-df-generate\" onclick=\"generateWithVariable('df_tfidf')\"\n",
              "            title=\"Generate code using this dataframe.\"\n",
              "            style=\"display:none;\">\n",
              "\n",
              "  <svg xmlns=\"http://www.w3.org/2000/svg\" height=\"24px\"viewBox=\"0 0 24 24\"\n",
              "       width=\"24px\">\n",
              "    <path d=\"M7,19H8.4L18.45,9,17,7.55,7,17.6ZM5,21V16.75L18.45,3.32a2,2,0,0,1,2.83,0l1.4,1.43a1.91,1.91,0,0,1,.58,1.4,1.91,1.91,0,0,1-.58,1.4L9.25,21ZM18.45,9,17,7.55Zm-12,3A5.31,5.31,0,0,0,4.9,8.1,5.31,5.31,0,0,0,1,6.5,5.31,5.31,0,0,0,4.9,4.9,5.31,5.31,0,0,0,6.5,1,5.31,5.31,0,0,0,8.1,4.9,5.31,5.31,0,0,0,12,6.5,5.46,5.46,0,0,0,6.5,12Z\"/>\n",
              "  </svg>\n",
              "    </button>\n",
              "    <script>\n",
              "      (() => {\n",
              "      const buttonEl =\n",
              "        document.querySelector('#id_698ec401-2496-44d7-be64-1bf0c9f071e9 button.colab-df-generate');\n",
              "      buttonEl.style.display =\n",
              "        google.colab.kernel.accessAllowed ? 'block' : 'none';\n",
              "\n",
              "      buttonEl.onclick = () => {\n",
              "        google.colab.notebook.generateWithVariable('df_tfidf');\n",
              "      }\n",
              "      })();\n",
              "    </script>\n",
              "  </div>\n",
              "\n",
              "    </div>\n",
              "  </div>\n"
            ],
            "application/vnd.google.colaboratory.intrinsic+json": {
              "type": "dataframe",
              "variable_name": "df_tfidf"
            }
          },
          "metadata": {},
          "execution_count": 219
        }
      ]
    },
    {
      "cell_type": "code",
      "source": [],
      "metadata": {
        "id": "6Jlk1lIXjhm3"
      },
      "execution_count": null,
      "outputs": []
    }
  ]
}