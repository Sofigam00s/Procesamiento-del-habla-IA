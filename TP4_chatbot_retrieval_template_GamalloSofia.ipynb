{
  "nbformat": 4,
  "nbformat_minor": 0,
  "metadata": {
    "colab": {
      "provenance": [],
      "gpuType": "T4",
      "include_colab_link": true
    },
    "kernelspec": {
      "name": "python3",
      "display_name": "Python 3"
    },
    "language_info": {
      "name": "python"
    }
  },
  "cells": [
    {
      "cell_type": "markdown",
      "metadata": {
        "id": "view-in-github",
        "colab_type": "text"
      },
      "source": [
        "<a href=\"https://colab.research.google.com/github/Sofigam00s/Procesamiento-del-habla-IA/blob/main/TP4_chatbot_retrieval_template_GamalloSofia.ipynb\" target=\"_parent\"><img src=\"https://colab.research.google.com/assets/colab-badge.svg\" alt=\"Open In Colab\"/></a>"
      ]
    },
    {
      "cell_type": "markdown",
      "source": [
        "# TP4 Chatbots\n",
        "\n",
        "**Alumna: Gamallo Sofia Antonia**\n"
      ],
      "metadata": {
        "id": "TGj-oDojSVhX"
      }
    },
    {
      "cell_type": "code",
      "execution_count": null,
      "metadata": {
        "id": "hghx5BwKdm-A",
        "colab": {
          "base_uri": "https://localhost:8080/"
        },
        "outputId": "61d727b4-33fb-4d76-aa44-5bbaa95d9e1a"
      },
      "outputs": [
        {
          "output_type": "stream",
          "name": "stdout",
          "text": [
            "\u001b[?25l     \u001b[90m━━━━━━━━━━━━━━━━━━━━━━━━━━━━━━━━━━━━━━━━\u001b[0m \u001b[32m0.0/12.9 MB\u001b[0m \u001b[31m?\u001b[0m eta \u001b[36m-:--:--\u001b[0m\r\u001b[2K     \u001b[91m━━━━━━━━\u001b[0m\u001b[90m╺\u001b[0m\u001b[90m━━━━━━━━━━━━━━━━━━━━━━━━━━━━━━━\u001b[0m \u001b[32m2.7/12.9 MB\u001b[0m \u001b[31m80.6 MB/s\u001b[0m eta \u001b[36m0:00:01\u001b[0m\r\u001b[2K     \u001b[91m━━━━━━━━━━━━━━━━━━━\u001b[0m\u001b[90m╺\u001b[0m\u001b[90m━━━━━━━━━━━━━━━━━━━━\u001b[0m \u001b[32m6.2/12.9 MB\u001b[0m \u001b[31m89.7 MB/s\u001b[0m eta \u001b[36m0:00:01\u001b[0m\r\u001b[2K     \u001b[91m━━━━━━━━━━━━━━━━━━━━━━━━━━━━━━━━━━━━━\u001b[0m\u001b[90m╺\u001b[0m\u001b[90m━\u001b[0m \u001b[32m12.2/12.9 MB\u001b[0m \u001b[31m128.5 MB/s\u001b[0m eta \u001b[36m0:00:01\u001b[0m\r\u001b[2K     \u001b[91m━━━━━━━━━━━━━━━━━━━━━━━━━━━━━━━━━━━━━━\u001b[0m\u001b[91m╸\u001b[0m \u001b[32m12.9/12.9 MB\u001b[0m \u001b[31m131.7 MB/s\u001b[0m eta \u001b[36m0:00:01\u001b[0m\r\u001b[2K     \u001b[90m━━━━━━━━━━━━━━━━━━━━━━━━━━━━━━━━━━━━━━━━\u001b[0m \u001b[32m12.9/12.9 MB\u001b[0m \u001b[31m80.8 MB/s\u001b[0m eta \u001b[36m0:00:00\u001b[0m\n",
            "\u001b[?25h\u001b[38;5;2m✔ Download and installation successful\u001b[0m\n",
            "You can now load the package via spacy.load('es_core_news_sm')\n",
            "\u001b[38;5;3m⚠ Restart to reload dependencies\u001b[0m\n",
            "If you are in a Jupyter or Colab notebook, you may need to restart Python in\n",
            "order to load all the package's dependencies. You can do this by selecting the\n",
            "'Restart kernel' or 'Restart runtime' option.\n"
          ]
        }
      ],
      "source": [
        "!pip install spacy --quiet\n",
        "!python -m spacy download es_core_news_sm --quiet\n"
      ]
    },
    {
      "cell_type": "code",
      "source": [
        "import spacy\n",
        "nlp = spacy.load(\"es_core_news_sm\")\n",
        "import es_core_news_sm\n",
        "nlp = es_core_news_sm.load()\n",
        "doc = nlp(\"Esto es una frase.\")\n",
        "print([(w.text, w.pos_) for w in doc])"
      ],
      "metadata": {
        "id": "D9SRh-eDdpWp",
        "colab": {
          "base_uri": "https://localhost:8080/"
        },
        "outputId": "6dcdd085-86a8-434d-ebda-04d4da216200"
      },
      "execution_count": null,
      "outputs": [
        {
          "output_type": "stream",
          "name": "stdout",
          "text": [
            "[('Esto', 'PRON'), ('es', 'AUX'), ('una', 'DET'), ('frase', 'NOUN'), ('.', 'PUNCT')]\n"
          ]
        }
      ]
    },
    {
      "cell_type": "markdown",
      "source": [
        "## Chatbots basados en recuperación\n",
        "\n",
        "En inglés information retrieval chatbots"
      ],
      "metadata": {
        "id": "UnrG-1ylkncZ"
      }
    },
    {
      "cell_type": "markdown",
      "source": [
        "## Motor de búsqueda"
      ],
      "metadata": {
        "id": "s3bs1FmWkfrz"
      }
    },
    {
      "cell_type": "markdown",
      "source": [
        "* Búsqueda por palabras clave: Extrae palabras clave de la pregunta del usuario y busca coincidencias en las preguntas almacenadas.\n",
        "\n",
        "* Similitud del coseno: Si has representado las preguntas como vectores (por ejemplo, usando TF-IDF o word embeddings), puedes usar la similitud del coseno para medir la distancia entre las preguntas.\n",
        "\n",
        "* Word embeddings: Utiliza modelos de word embeddings como Word2Vec o BERT para obtener representaciones semánticas de las preguntas y las consultas del usuario."
      ],
      "metadata": {
        "id": "enbz9kXGkWlx"
      }
    },
    {
      "cell_type": "markdown",
      "source": [
        "### Búsqueda por palabras claves"
      ],
      "metadata": {
        "id": "UQoVRp4gjxUo"
      }
    },
    {
      "cell_type": "code",
      "source": [
        "tu_diccionario = {\n",
        "   \"hola\": \"¡Hola! ¿En qué puedo ayudarte?\",\n",
        "   \"adiós\": \"Hasta luego. ¡Que tengas un buen día!\",\n",
        "   \"información\": \"¿Qué tipo de información estás buscando?\",\n",
        "   # Agrega más entradas de diccionario según tus necesidades\n",
        "}\n"
      ],
      "metadata": {
        "id": "3BljEMEOhpTO"
      },
      "execution_count": null,
      "outputs": []
    },
    {
      "cell_type": "code",
      "source": [
        "def responder_pregunta(pregunta):\n",
        "    pregunta_procesada = nlp(pregunta.lower())  # Procesa la pregunta y convierte a minúsculas\n",
        "    respuesta = \"Lo siento, no entiendo tu pregunta.\"\n",
        "\n",
        "    # Busca una coincidencia en el diccionario\n",
        "    for palabra in pregunta_procesada:\n",
        "        # regresa la primer coincidencia que encuentra\n",
        "        if palabra.text in tu_diccionario:\n",
        "            respuesta = tu_diccionario[palabra.text]\n",
        "            break\n",
        "\n",
        "    return respuesta\n"
      ],
      "metadata": {
        "id": "Z4q_k1_3hvyz"
      },
      "execution_count": null,
      "outputs": []
    },
    {
      "cell_type": "code",
      "source": [
        "'''while True:\n",
        "    entrada_usuario = input(\"Tú: \")\n",
        "    if entrada_usuario.lower() == \"salir\":\n",
        "        print(\"Chatbot: Hasta luego.\")\n",
        "        break\n",
        "    respuesta = responder_pregunta(entrada_usuario)\n",
        "    print(\"Chatbot:\", respuesta)'''\n"
      ],
      "metadata": {
        "id": "9gMPKi-ghwcA",
        "colab": {
          "base_uri": "https://localhost:8080/",
          "height": 54
        },
        "outputId": "3d892db0-d98c-48e9-aae7-612e905c1da4"
      },
      "execution_count": null,
      "outputs": [
        {
          "output_type": "execute_result",
          "data": {
            "text/plain": [
              "'while True:\\n    entrada_usuario = input(\"Tú: \")\\n    if entrada_usuario.lower() == \"salir\":\\n        print(\"Chatbot: Hasta luego.\")\\n        break\\n    respuesta = responder_pregunta(entrada_usuario)\\n    print(\"Chatbot:\", respuesta)'"
            ],
            "application/vnd.google.colaboratory.intrinsic+json": {
              "type": "string"
            }
          },
          "metadata": {},
          "execution_count": 5
        }
      ]
    },
    {
      "cell_type": "markdown",
      "source": [],
      "metadata": {
        "id": "6S88twrY5sOS"
      }
    },
    {
      "cell_type": "markdown",
      "source": [
        "## Búsqueda por similitud"
      ],
      "metadata": {
        "id": "nI2FsyUOj3je"
      }
    },
    {
      "cell_type": "markdown",
      "source": [
        "Para los chatbots basados ​​en recuperación, es común utilizar bolsas de palabras (bag of words) o tf-idf para calcular la similitud de intenciones."
      ],
      "metadata": {
        "id": "AoZIaX0Kj7xs"
      }
    },
    {
      "cell_type": "code",
      "source": [
        "from sklearn.feature_extraction.text import TfidfVectorizer\n",
        "from sklearn.metrics.pairwise import cosine_similarity\n",
        "\n",
        "# Datos de ejemplo\n",
        "preguntas = [\"¿Qué es el aprendizaje automático?\",\n",
        "             \"¿Cómo funciona la regresión lineal?\"]\n",
        "respuestas = [\"El aprendizaje automático es una rama de la inteligencia artificial...\",\n",
        "              \"La regresión lineal es un método de modelado...\"]\n",
        "\n",
        "# Vectorización con TF-IDF\n",
        "vectorizer = TfidfVectorizer()\n",
        "tfidf_matrix = vectorizer.fit_transform(preguntas)\n",
        "\n",
        "# Función para encontrar la mejor coincidencia\n",
        "def responder_pregunta(consulta_usuario):\n",
        "    consulta_vec = vectorizer.transform([consulta_usuario])\n",
        "    similitudes = cosine_similarity(consulta_vec, tfidf_matrix).flatten()\n",
        "    print(similitudes)\n",
        "    indice_mejor_coincidencia = similitudes.argmax()\n",
        "    print(indice_mejor_coincidencia)\n",
        "    return respuestas[indice_mejor_coincidencia]\n"
      ],
      "metadata": {
        "id": "CReIz0ISj75s"
      },
      "execution_count": null,
      "outputs": []
    },
    {
      "cell_type": "code",
      "source": [
        "\n",
        "# Ejemplo de consulta\n",
        "consulta = \"¿Qué es la regresión lineal?\"\n",
        "print(responder_pregunta(consulta))\n"
      ],
      "metadata": {
        "id": "foqaZ1FN583i",
        "colab": {
          "base_uri": "https://localhost:8080/"
        },
        "outputId": "37857dc1-0752-4162-a6f4-20a752eca5be"
      },
      "execution_count": null,
      "outputs": [
        {
          "output_type": "stream",
          "name": "stdout",
          "text": [
            "[0.4 0.6]\n",
            "1\n",
            "La regresión lineal es un método de modelado...\n"
          ]
        }
      ]
    },
    {
      "cell_type": "markdown",
      "source": [
        "## Búsqueda por similitud en embeddings"
      ],
      "metadata": {
        "id": "20KCxfCymOHP"
      }
    },
    {
      "cell_type": "markdown",
      "source": [
        "Puedes vectorizar el texto usando embeddings, como vimos la clase pasada.\n"
      ],
      "metadata": {
        "id": "7g6jgLSLnilX"
      }
    },
    {
      "cell_type": "markdown",
      "source": [
        "# Actividades\n",
        "\n",
        "### 1) Elaborar un dataset de preguntas y respuestas para crear un Chatbot para un aplicación particular. ( 3 puntos )\n",
        "\n",
        "1.1 Debe definir la aplicación (atención al cliente bancario, atención a estudiantes universitarios, etc).\n",
        "1.2 El listado de preguntas y respuestas debe tener como mínimo 20 elementos pregunta - respuesta.\n",
        "\n",
        "###  2) Crear el chatbot utilizando TFIDF y similitud del coseno. (1 punto)\n",
        "\n",
        "### 3) Crear otro chatbot utilizando embeddings. Indique cuál embedding (1 punto) pre-entrenado eligió.\n",
        "\n",
        "### 4) Muestra ambos chatbots funcionando (1 punto)\n",
        "\n",
        "Adjuntar la lista de preguntas utilizadas para probar el funcionamiento.\n",
        "\n",
        "### 5) Añade tus conclusiones de todo lo realizado (2 punto)\n",
        "\n",
        "### 6) BONUS: usa lo realizado en 1 y 3 para crear un chatbot RAG. (2 puntos)\n",
        "\n",
        "* Utiliza un modelo LLM pre-entrenado.\n",
        "\n",
        "* Este punto no es obligatorio de realizar para quienes quieran regularizar / recuperar y luego rendirán en mesa.\n",
        "* Para quienes tienen condiciones para promocionar (han realizado y entregado los TPs a tiempo) la resolución de este ejercicio será tenida en cuenta para sumar a la promoción.\n",
        "\n",
        "### 7) No olvides:\n",
        "\n",
        "* Explicar tus decisiones y configuraciones. Añadir tus conclusiones.\n",
        "* Anunciar en el foro cuál será tu aplicación y postear tu entrega y tus avances.\n",
        "* Debes subir tu notebook a un repo GitHub público de tu propiedad compartido + enlace colab.\n",
        "* Documentar todo el proceso.\n",
        "\n",
        "\n",
        "\n"
      ],
      "metadata": {
        "id": "1sGxF1VglJVd"
      }
    },
    {
      "cell_type": "markdown",
      "source": [
        "## 1. Dataset sobre un chatbot de tienda de ropa online\n",
        "\n",
        "Para este trabajo voy a relizar un chatbot de una pagina de tienda de ropa online, que pueda responder a las dudas más frecuentes que se tienen en este rubro, como la forma de compra, metodos de pago, seguimiento de envío, etc."
      ],
      "metadata": {
        "id": "lxdOMWGaiXdM"
      }
    },
    {
      "cell_type": "markdown",
      "source": [
        "* Importar las librerias necesarias"
      ],
      "metadata": {
        "id": "X9EIi95Ui1CP"
      }
    },
    {
      "cell_type": "code",
      "source": [
        "!pip install sentence-transformers\n",
        "!pip install sentence-transformers openai"
      ],
      "metadata": {
        "colab": {
          "base_uri": "https://localhost:8080/"
        },
        "collapsed": true,
        "id": "H_clXOJ05YkK",
        "outputId": "b777a8d1-6d9e-4390-a668-6621f31d3ae7"
      },
      "execution_count": null,
      "outputs": [
        {
          "output_type": "stream",
          "name": "stdout",
          "text": [
            "Requirement already satisfied: sentence-transformers in /usr/local/lib/python3.11/dist-packages (4.1.0)\n",
            "Requirement already satisfied: transformers<5.0.0,>=4.41.0 in /usr/local/lib/python3.11/dist-packages (from sentence-transformers) (4.52.4)\n",
            "Requirement already satisfied: tqdm in /usr/local/lib/python3.11/dist-packages (from sentence-transformers) (4.67.1)\n",
            "Requirement already satisfied: torch>=1.11.0 in /usr/local/lib/python3.11/dist-packages (from sentence-transformers) (2.6.0+cu124)\n",
            "Requirement already satisfied: scikit-learn in /usr/local/lib/python3.11/dist-packages (from sentence-transformers) (1.6.1)\n",
            "Requirement already satisfied: scipy in /usr/local/lib/python3.11/dist-packages (from sentence-transformers) (1.15.3)\n",
            "Requirement already satisfied: huggingface-hub>=0.20.0 in /usr/local/lib/python3.11/dist-packages (from sentence-transformers) (0.33.0)\n",
            "Requirement already satisfied: Pillow in /usr/local/lib/python3.11/dist-packages (from sentence-transformers) (11.2.1)\n",
            "Requirement already satisfied: typing_extensions>=4.5.0 in /usr/local/lib/python3.11/dist-packages (from sentence-transformers) (4.14.0)\n",
            "Requirement already satisfied: filelock in /usr/local/lib/python3.11/dist-packages (from huggingface-hub>=0.20.0->sentence-transformers) (3.18.0)\n",
            "Requirement already satisfied: fsspec>=2023.5.0 in /usr/local/lib/python3.11/dist-packages (from huggingface-hub>=0.20.0->sentence-transformers) (2025.3.2)\n",
            "Requirement already satisfied: packaging>=20.9 in /usr/local/lib/python3.11/dist-packages (from huggingface-hub>=0.20.0->sentence-transformers) (24.2)\n",
            "Requirement already satisfied: pyyaml>=5.1 in /usr/local/lib/python3.11/dist-packages (from huggingface-hub>=0.20.0->sentence-transformers) (6.0.2)\n",
            "Requirement already satisfied: requests in /usr/local/lib/python3.11/dist-packages (from huggingface-hub>=0.20.0->sentence-transformers) (2.32.3)\n",
            "Requirement already satisfied: hf-xet<2.0.0,>=1.1.2 in /usr/local/lib/python3.11/dist-packages (from huggingface-hub>=0.20.0->sentence-transformers) (1.1.3)\n",
            "Requirement already satisfied: networkx in /usr/local/lib/python3.11/dist-packages (from torch>=1.11.0->sentence-transformers) (3.5)\n",
            "Requirement already satisfied: jinja2 in /usr/local/lib/python3.11/dist-packages (from torch>=1.11.0->sentence-transformers) (3.1.6)\n",
            "Requirement already satisfied: nvidia-cuda-nvrtc-cu12==12.4.127 in /usr/local/lib/python3.11/dist-packages (from torch>=1.11.0->sentence-transformers) (12.4.127)\n",
            "Requirement already satisfied: nvidia-cuda-runtime-cu12==12.4.127 in /usr/local/lib/python3.11/dist-packages (from torch>=1.11.0->sentence-transformers) (12.4.127)\n",
            "Requirement already satisfied: nvidia-cuda-cupti-cu12==12.4.127 in /usr/local/lib/python3.11/dist-packages (from torch>=1.11.0->sentence-transformers) (12.4.127)\n",
            "Requirement already satisfied: nvidia-cudnn-cu12==9.1.0.70 in /usr/local/lib/python3.11/dist-packages (from torch>=1.11.0->sentence-transformers) (9.1.0.70)\n",
            "Requirement already satisfied: nvidia-cublas-cu12==12.4.5.8 in /usr/local/lib/python3.11/dist-packages (from torch>=1.11.0->sentence-transformers) (12.4.5.8)\n",
            "Requirement already satisfied: nvidia-cufft-cu12==11.2.1.3 in /usr/local/lib/python3.11/dist-packages (from torch>=1.11.0->sentence-transformers) (11.2.1.3)\n",
            "Requirement already satisfied: nvidia-curand-cu12==10.3.5.147 in /usr/local/lib/python3.11/dist-packages (from torch>=1.11.0->sentence-transformers) (10.3.5.147)\n",
            "Requirement already satisfied: nvidia-cusolver-cu12==11.6.1.9 in /usr/local/lib/python3.11/dist-packages (from torch>=1.11.0->sentence-transformers) (11.6.1.9)\n",
            "Requirement already satisfied: nvidia-cusparse-cu12==12.3.1.170 in /usr/local/lib/python3.11/dist-packages (from torch>=1.11.0->sentence-transformers) (12.3.1.170)\n",
            "Requirement already satisfied: nvidia-cusparselt-cu12==0.6.2 in /usr/local/lib/python3.11/dist-packages (from torch>=1.11.0->sentence-transformers) (0.6.2)\n",
            "Requirement already satisfied: nvidia-nccl-cu12==2.21.5 in /usr/local/lib/python3.11/dist-packages (from torch>=1.11.0->sentence-transformers) (2.21.5)\n",
            "Requirement already satisfied: nvidia-nvtx-cu12==12.4.127 in /usr/local/lib/python3.11/dist-packages (from torch>=1.11.0->sentence-transformers) (12.4.127)\n",
            "Requirement already satisfied: nvidia-nvjitlink-cu12==12.4.127 in /usr/local/lib/python3.11/dist-packages (from torch>=1.11.0->sentence-transformers) (12.4.127)\n",
            "Requirement already satisfied: triton==3.2.0 in /usr/local/lib/python3.11/dist-packages (from torch>=1.11.0->sentence-transformers) (3.2.0)\n",
            "Requirement already satisfied: sympy==1.13.1 in /usr/local/lib/python3.11/dist-packages (from torch>=1.11.0->sentence-transformers) (1.13.1)\n",
            "Requirement already satisfied: mpmath<1.4,>=1.1.0 in /usr/local/lib/python3.11/dist-packages (from sympy==1.13.1->torch>=1.11.0->sentence-transformers) (1.3.0)\n",
            "Requirement already satisfied: numpy>=1.17 in /usr/local/lib/python3.11/dist-packages (from transformers<5.0.0,>=4.41.0->sentence-transformers) (2.0.2)\n",
            "Requirement already satisfied: regex!=2019.12.17 in /usr/local/lib/python3.11/dist-packages (from transformers<5.0.0,>=4.41.0->sentence-transformers) (2024.11.6)\n",
            "Requirement already satisfied: tokenizers<0.22,>=0.21 in /usr/local/lib/python3.11/dist-packages (from transformers<5.0.0,>=4.41.0->sentence-transformers) (0.21.1)\n",
            "Requirement already satisfied: safetensors>=0.4.3 in /usr/local/lib/python3.11/dist-packages (from transformers<5.0.0,>=4.41.0->sentence-transformers) (0.5.3)\n",
            "Requirement already satisfied: joblib>=1.2.0 in /usr/local/lib/python3.11/dist-packages (from scikit-learn->sentence-transformers) (1.5.1)\n",
            "Requirement already satisfied: threadpoolctl>=3.1.0 in /usr/local/lib/python3.11/dist-packages (from scikit-learn->sentence-transformers) (3.6.0)\n",
            "Requirement already satisfied: MarkupSafe>=2.0 in /usr/local/lib/python3.11/dist-packages (from jinja2->torch>=1.11.0->sentence-transformers) (3.0.2)\n",
            "Requirement already satisfied: charset-normalizer<4,>=2 in /usr/local/lib/python3.11/dist-packages (from requests->huggingface-hub>=0.20.0->sentence-transformers) (3.4.2)\n",
            "Requirement already satisfied: idna<4,>=2.5 in /usr/local/lib/python3.11/dist-packages (from requests->huggingface-hub>=0.20.0->sentence-transformers) (3.10)\n",
            "Requirement already satisfied: urllib3<3,>=1.21.1 in /usr/local/lib/python3.11/dist-packages (from requests->huggingface-hub>=0.20.0->sentence-transformers) (2.4.0)\n",
            "Requirement already satisfied: certifi>=2017.4.17 in /usr/local/lib/python3.11/dist-packages (from requests->huggingface-hub>=0.20.0->sentence-transformers) (2025.4.26)\n",
            "Requirement already satisfied: sentence-transformers in /usr/local/lib/python3.11/dist-packages (4.1.0)\n",
            "Requirement already satisfied: openai in /usr/local/lib/python3.11/dist-packages (1.86.0)\n",
            "Requirement already satisfied: transformers<5.0.0,>=4.41.0 in /usr/local/lib/python3.11/dist-packages (from sentence-transformers) (4.52.4)\n",
            "Requirement already satisfied: tqdm in /usr/local/lib/python3.11/dist-packages (from sentence-transformers) (4.67.1)\n",
            "Requirement already satisfied: torch>=1.11.0 in /usr/local/lib/python3.11/dist-packages (from sentence-transformers) (2.6.0+cu124)\n",
            "Requirement already satisfied: scikit-learn in /usr/local/lib/python3.11/dist-packages (from sentence-transformers) (1.6.1)\n",
            "Requirement already satisfied: scipy in /usr/local/lib/python3.11/dist-packages (from sentence-transformers) (1.15.3)\n",
            "Requirement already satisfied: huggingface-hub>=0.20.0 in /usr/local/lib/python3.11/dist-packages (from sentence-transformers) (0.33.0)\n",
            "Requirement already satisfied: Pillow in /usr/local/lib/python3.11/dist-packages (from sentence-transformers) (11.2.1)\n",
            "Requirement already satisfied: typing_extensions>=4.5.0 in /usr/local/lib/python3.11/dist-packages (from sentence-transformers) (4.14.0)\n",
            "Requirement already satisfied: anyio<5,>=3.5.0 in /usr/local/lib/python3.11/dist-packages (from openai) (4.9.0)\n",
            "Requirement already satisfied: distro<2,>=1.7.0 in /usr/local/lib/python3.11/dist-packages (from openai) (1.9.0)\n",
            "Requirement already satisfied: httpx<1,>=0.23.0 in /usr/local/lib/python3.11/dist-packages (from openai) (0.28.1)\n",
            "Requirement already satisfied: jiter<1,>=0.4.0 in /usr/local/lib/python3.11/dist-packages (from openai) (0.10.0)\n",
            "Requirement already satisfied: pydantic<3,>=1.9.0 in /usr/local/lib/python3.11/dist-packages (from openai) (2.11.5)\n",
            "Requirement already satisfied: sniffio in /usr/local/lib/python3.11/dist-packages (from openai) (1.3.1)\n",
            "Requirement already satisfied: idna>=2.8 in /usr/local/lib/python3.11/dist-packages (from anyio<5,>=3.5.0->openai) (3.10)\n",
            "Requirement already satisfied: certifi in /usr/local/lib/python3.11/dist-packages (from httpx<1,>=0.23.0->openai) (2025.4.26)\n",
            "Requirement already satisfied: httpcore==1.* in /usr/local/lib/python3.11/dist-packages (from httpx<1,>=0.23.0->openai) (1.0.9)\n",
            "Requirement already satisfied: h11>=0.16 in /usr/local/lib/python3.11/dist-packages (from httpcore==1.*->httpx<1,>=0.23.0->openai) (0.16.0)\n",
            "Requirement already satisfied: filelock in /usr/local/lib/python3.11/dist-packages (from huggingface-hub>=0.20.0->sentence-transformers) (3.18.0)\n",
            "Requirement already satisfied: fsspec>=2023.5.0 in /usr/local/lib/python3.11/dist-packages (from huggingface-hub>=0.20.0->sentence-transformers) (2025.3.2)\n",
            "Requirement already satisfied: packaging>=20.9 in /usr/local/lib/python3.11/dist-packages (from huggingface-hub>=0.20.0->sentence-transformers) (24.2)\n",
            "Requirement already satisfied: pyyaml>=5.1 in /usr/local/lib/python3.11/dist-packages (from huggingface-hub>=0.20.0->sentence-transformers) (6.0.2)\n",
            "Requirement already satisfied: requests in /usr/local/lib/python3.11/dist-packages (from huggingface-hub>=0.20.0->sentence-transformers) (2.32.3)\n",
            "Requirement already satisfied: hf-xet<2.0.0,>=1.1.2 in /usr/local/lib/python3.11/dist-packages (from huggingface-hub>=0.20.0->sentence-transformers) (1.1.3)\n",
            "Requirement already satisfied: annotated-types>=0.6.0 in /usr/local/lib/python3.11/dist-packages (from pydantic<3,>=1.9.0->openai) (0.7.0)\n",
            "Requirement already satisfied: pydantic-core==2.33.2 in /usr/local/lib/python3.11/dist-packages (from pydantic<3,>=1.9.0->openai) (2.33.2)\n",
            "Requirement already satisfied: typing-inspection>=0.4.0 in /usr/local/lib/python3.11/dist-packages (from pydantic<3,>=1.9.0->openai) (0.4.1)\n",
            "Requirement already satisfied: networkx in /usr/local/lib/python3.11/dist-packages (from torch>=1.11.0->sentence-transformers) (3.5)\n",
            "Requirement already satisfied: jinja2 in /usr/local/lib/python3.11/dist-packages (from torch>=1.11.0->sentence-transformers) (3.1.6)\n",
            "Requirement already satisfied: nvidia-cuda-nvrtc-cu12==12.4.127 in /usr/local/lib/python3.11/dist-packages (from torch>=1.11.0->sentence-transformers) (12.4.127)\n",
            "Requirement already satisfied: nvidia-cuda-runtime-cu12==12.4.127 in /usr/local/lib/python3.11/dist-packages (from torch>=1.11.0->sentence-transformers) (12.4.127)\n",
            "Requirement already satisfied: nvidia-cuda-cupti-cu12==12.4.127 in /usr/local/lib/python3.11/dist-packages (from torch>=1.11.0->sentence-transformers) (12.4.127)\n",
            "Requirement already satisfied: nvidia-cudnn-cu12==9.1.0.70 in /usr/local/lib/python3.11/dist-packages (from torch>=1.11.0->sentence-transformers) (9.1.0.70)\n",
            "Requirement already satisfied: nvidia-cublas-cu12==12.4.5.8 in /usr/local/lib/python3.11/dist-packages (from torch>=1.11.0->sentence-transformers) (12.4.5.8)\n",
            "Requirement already satisfied: nvidia-cufft-cu12==11.2.1.3 in /usr/local/lib/python3.11/dist-packages (from torch>=1.11.0->sentence-transformers) (11.2.1.3)\n",
            "Requirement already satisfied: nvidia-curand-cu12==10.3.5.147 in /usr/local/lib/python3.11/dist-packages (from torch>=1.11.0->sentence-transformers) (10.3.5.147)\n",
            "Requirement already satisfied: nvidia-cusolver-cu12==11.6.1.9 in /usr/local/lib/python3.11/dist-packages (from torch>=1.11.0->sentence-transformers) (11.6.1.9)\n",
            "Requirement already satisfied: nvidia-cusparse-cu12==12.3.1.170 in /usr/local/lib/python3.11/dist-packages (from torch>=1.11.0->sentence-transformers) (12.3.1.170)\n",
            "Requirement already satisfied: nvidia-cusparselt-cu12==0.6.2 in /usr/local/lib/python3.11/dist-packages (from torch>=1.11.0->sentence-transformers) (0.6.2)\n",
            "Requirement already satisfied: nvidia-nccl-cu12==2.21.5 in /usr/local/lib/python3.11/dist-packages (from torch>=1.11.0->sentence-transformers) (2.21.5)\n",
            "Requirement already satisfied: nvidia-nvtx-cu12==12.4.127 in /usr/local/lib/python3.11/dist-packages (from torch>=1.11.0->sentence-transformers) (12.4.127)\n",
            "Requirement already satisfied: nvidia-nvjitlink-cu12==12.4.127 in /usr/local/lib/python3.11/dist-packages (from torch>=1.11.0->sentence-transformers) (12.4.127)\n",
            "Requirement already satisfied: triton==3.2.0 in /usr/local/lib/python3.11/dist-packages (from torch>=1.11.0->sentence-transformers) (3.2.0)\n",
            "Requirement already satisfied: sympy==1.13.1 in /usr/local/lib/python3.11/dist-packages (from torch>=1.11.0->sentence-transformers) (1.13.1)\n",
            "Requirement already satisfied: mpmath<1.4,>=1.1.0 in /usr/local/lib/python3.11/dist-packages (from sympy==1.13.1->torch>=1.11.0->sentence-transformers) (1.3.0)\n",
            "Requirement already satisfied: numpy>=1.17 in /usr/local/lib/python3.11/dist-packages (from transformers<5.0.0,>=4.41.0->sentence-transformers) (2.0.2)\n",
            "Requirement already satisfied: regex!=2019.12.17 in /usr/local/lib/python3.11/dist-packages (from transformers<5.0.0,>=4.41.0->sentence-transformers) (2024.11.6)\n",
            "Requirement already satisfied: tokenizers<0.22,>=0.21 in /usr/local/lib/python3.11/dist-packages (from transformers<5.0.0,>=4.41.0->sentence-transformers) (0.21.1)\n",
            "Requirement already satisfied: safetensors>=0.4.3 in /usr/local/lib/python3.11/dist-packages (from transformers<5.0.0,>=4.41.0->sentence-transformers) (0.5.3)\n",
            "Requirement already satisfied: joblib>=1.2.0 in /usr/local/lib/python3.11/dist-packages (from scikit-learn->sentence-transformers) (1.5.1)\n",
            "Requirement already satisfied: threadpoolctl>=3.1.0 in /usr/local/lib/python3.11/dist-packages (from scikit-learn->sentence-transformers) (3.6.0)\n",
            "Requirement already satisfied: MarkupSafe>=2.0 in /usr/local/lib/python3.11/dist-packages (from jinja2->torch>=1.11.0->sentence-transformers) (3.0.2)\n",
            "Requirement already satisfied: charset-normalizer<4,>=2 in /usr/local/lib/python3.11/dist-packages (from requests->huggingface-hub>=0.20.0->sentence-transformers) (3.4.2)\n",
            "Requirement already satisfied: urllib3<3,>=1.21.1 in /usr/local/lib/python3.11/dist-packages (from requests->huggingface-hub>=0.20.0->sentence-transformers) (2.4.0)\n"
          ]
        }
      ]
    },
    {
      "cell_type": "code",
      "source": [
        "import pandas as pd\n",
        "import numpy as np\n",
        "from sklearn.feature_extraction.text import TfidfVectorizer\n",
        "from sklearn.metrics.pairwise import cosine_similarity\n",
        "from sentence_transformers import SentenceTransformer\n",
        "import openai\n",
        "import re\n",
        "from transformers import pipeline\n",
        "import warnings\n",
        "warnings.filterwarnings('ignore')"
      ],
      "metadata": {
        "id": "TYMEv_DthrpK"
      },
      "execution_count": null,
      "outputs": []
    },
    {
      "cell_type": "markdown",
      "source": [
        "* Cargar el dataset que subí al repositorio de GitHub en la carpeta del tp4"
      ],
      "metadata": {
        "id": "mxFNvuKZjIRA"
      }
    },
    {
      "source": [
        "# URL del dataset (Raw content)\n",
        "# Cambiar la URL para apuntar al contenido raw del archivo CSV en GitHub\n",
        "# This URL provides the raw data, not the GitHub page HTML\n",
        "dataset_url = 'https://raw.githubusercontent.com/Sofigam00s/Procesamiento-del-habla-IA/main/TP4_Chatbots/Chatbot_tienda_de%20_ropa_online.csv'\n",
        "\n",
        "# Importar el dataset\n",
        "# Add error handling for bad lines\n",
        "df = pd.read_csv(dataset_url, sep=',', on_bad_lines='skip')\n",
        "df"
      ],
      "cell_type": "code",
      "metadata": {
        "colab": {
          "base_uri": "https://localhost:8080/",
          "height": 1000
        },
        "id": "olknTp0Nek5_",
        "outputId": "0e3b4b08-619d-471f-eab3-dc82d6e9d6e9"
      },
      "execution_count": null,
      "outputs": [
        {
          "output_type": "execute_result",
          "data": {
            "text/plain": [
              "                                             Pregunta  \\\n",
              "0                                                Hola   \n",
              "1                           ¿Cómo realizo una compra?   \n",
              "2                              ¿Cómo creo una cuenta?   \n",
              "3      No me llegó el mail de confirmación de cuenta.   \n",
              "4                       ¿Cuál es el mínimo de compra?   \n",
              "5                          ¿Los precios incluyen IVA?   \n",
              "6                       ¿Los productos tienen cambio?   \n",
              "7    ¿Puedo cambiar un producto si ya hice el pedido?   \n",
              "8                 ¿Cuándo vuelve a ingresar el stock?   \n",
              "9                         No me deja agregar el mail.   \n",
              "10                          ¿Cómo elimino el carrito?   \n",
              "11                          ¿Cómo cancelo una compra?   \n",
              "12                              ¿Que talles trabajan?   \n",
              "13                   ¿Cómo elijo el talle de la ropa?   \n",
              "14                              ¿Cómo se puede pagar?   \n",
              "15                            ¿Puedo pagar en cuotas?   \n",
              "16                           ¿Qué promociones tienen?   \n",
              "17                                     ¿Hacen envíos?   \n",
              "18                ¿Hacen envíos al interior del país?   \n",
              "19                               ¿Cómo sigo mi envío?   \n",
              "20  ¿Qué hago si no estoy en casa cuando llega el ...   \n",
              "21                            ¿Cuánto tarda mi envío?   \n",
              "22                               ¿El envío es gratis?   \n",
              "23                        ¿Por qué no llega mi envío?   \n",
              "24               No me llegó el código de seguimiento   \n",
              "25                        El pedido no es lo que pedí   \n",
              "26                         ¿Cómo hago una devolución?   \n",
              "27     ¿Me devuelven el dinero si hago la devolución?   \n",
              "28                             ¿Tienen tienda física?   \n",
              "29              ¿Puedo retirar el envío en la tienda?   \n",
              "30                     ¿Dónde se encuentra la tienda?   \n",
              "31                          ¿Cómo elimino una cuenta?   \n",
              "32                            ¿Tienen redes sociales?   \n",
              "33                             ¿Qué productos tienen?   \n",
              "34                   ¿Cómo me contacto con un asesor?   \n",
              "\n",
              "                                            Respuesta  \n",
              "0                        Hola! En que puedo ayudarte?  \n",
              "1   Seleccioná los productos que quieras, agregalo...  \n",
              "2   Entrá en “Crear cuenta”, completá tus datos y ...  \n",
              "3   Si aún no llegó el mail de confirmación, debés...  \n",
              "4   No contamos con mínimo de compra, podés compra...  \n",
              "5   Sí, todos los precios publicados ya tienen el ...  \n",
              "6   Sí, podés cambiar el producto siempre que esté...  \n",
              "7   No se pueden modificar pedidos una vez confirm...  \n",
              "8   Si querés saber cuando ingresa el sotck de un ...  \n",
              "9   Si ocurre un error con el ingreso de mail, pro...  \n",
              "10  Podés vaciar el carrito desde el ícono en la p...  \n",
              "11  Si el pedido aún no fue despachado, podés canc...  \n",
              "12     Contamos con talles desde el XS hasta el XXXL.  \n",
              "13  En cada producto vas a encontrar una guía de t...  \n",
              "14  Aceptamos tarjetas de crédito y débito Visa y ...  \n",
              "15  Sí, si tu tarjeta lo permite, podés pagar en c...  \n",
              "16  Nuestras promociones activas están en la secci...  \n",
              "17  Sí, realizamos envíos a todo el país con Corre...  \n",
              "18  Sí, enviamos a todo el país. Los tiempos puede...  \n",
              "19  Desde tu cuenta, entrá a “Mis compras” para ve...  \n",
              "20  El correo vuelve a pasar una vez más o te deja...  \n",
              "21  El tiempo estimado de entrega es entre 7 y 40 ...  \n",
              "22  Ofrecemos envío gratis en compras mayores a $2...  \n",
              "23  Puede haber demoras por logística externa. Rev...  \n",
              "24  Si no lo recibiste, escribinos por el chat o a...  \n",
              "25  Si el producto recibido no coincide con tu ped...  \n",
              "26  Ingresá a “Mis compras”, elegí el pedido y hac...  \n",
              "27  Sí, si tu devolución fue aprobada, se hace el ...  \n",
              "28  No, por el momento solo vendemos online. Todos...  \n",
              "29  Actualmente no contamos con retiro en tienda. ...  \n",
              "30  Nuestra tienda es 100% online, sin local físic...  \n",
              "31  Para eliminar tu cuenta, escribinos desde el m...  \n",
              "32  Sí, nos encontrás en Instagram y TikTok como @...  \n",
              "33             Vendemos ropa y accesorios para mujer.  \n",
              "34  Podés escribirnos por WhatsApp, chat en vivo o...  "
            ],
            "text/html": [
              "\n",
              "  <div id=\"df-6ca1f544-445d-40c7-a9ce-23670ab7654e\" class=\"colab-df-container\">\n",
              "    <div>\n",
              "<style scoped>\n",
              "    .dataframe tbody tr th:only-of-type {\n",
              "        vertical-align: middle;\n",
              "    }\n",
              "\n",
              "    .dataframe tbody tr th {\n",
              "        vertical-align: top;\n",
              "    }\n",
              "\n",
              "    .dataframe thead th {\n",
              "        text-align: right;\n",
              "    }\n",
              "</style>\n",
              "<table border=\"1\" class=\"dataframe\">\n",
              "  <thead>\n",
              "    <tr style=\"text-align: right;\">\n",
              "      <th></th>\n",
              "      <th>Pregunta</th>\n",
              "      <th>Respuesta</th>\n",
              "    </tr>\n",
              "  </thead>\n",
              "  <tbody>\n",
              "    <tr>\n",
              "      <th>0</th>\n",
              "      <td>Hola</td>\n",
              "      <td>Hola! En que puedo ayudarte?</td>\n",
              "    </tr>\n",
              "    <tr>\n",
              "      <th>1</th>\n",
              "      <td>¿Cómo realizo una compra?</td>\n",
              "      <td>Seleccioná los productos que quieras, agregalo...</td>\n",
              "    </tr>\n",
              "    <tr>\n",
              "      <th>2</th>\n",
              "      <td>¿Cómo creo una cuenta?</td>\n",
              "      <td>Entrá en “Crear cuenta”, completá tus datos y ...</td>\n",
              "    </tr>\n",
              "    <tr>\n",
              "      <th>3</th>\n",
              "      <td>No me llegó el mail de confirmación de cuenta.</td>\n",
              "      <td>Si aún no llegó el mail de confirmación, debés...</td>\n",
              "    </tr>\n",
              "    <tr>\n",
              "      <th>4</th>\n",
              "      <td>¿Cuál es el mínimo de compra?</td>\n",
              "      <td>No contamos con mínimo de compra, podés compra...</td>\n",
              "    </tr>\n",
              "    <tr>\n",
              "      <th>5</th>\n",
              "      <td>¿Los precios incluyen IVA?</td>\n",
              "      <td>Sí, todos los precios publicados ya tienen el ...</td>\n",
              "    </tr>\n",
              "    <tr>\n",
              "      <th>6</th>\n",
              "      <td>¿Los productos tienen cambio?</td>\n",
              "      <td>Sí, podés cambiar el producto siempre que esté...</td>\n",
              "    </tr>\n",
              "    <tr>\n",
              "      <th>7</th>\n",
              "      <td>¿Puedo cambiar un producto si ya hice el pedido?</td>\n",
              "      <td>No se pueden modificar pedidos una vez confirm...</td>\n",
              "    </tr>\n",
              "    <tr>\n",
              "      <th>8</th>\n",
              "      <td>¿Cuándo vuelve a ingresar el stock?</td>\n",
              "      <td>Si querés saber cuando ingresa el sotck de un ...</td>\n",
              "    </tr>\n",
              "    <tr>\n",
              "      <th>9</th>\n",
              "      <td>No me deja agregar el mail.</td>\n",
              "      <td>Si ocurre un error con el ingreso de mail, pro...</td>\n",
              "    </tr>\n",
              "    <tr>\n",
              "      <th>10</th>\n",
              "      <td>¿Cómo elimino el carrito?</td>\n",
              "      <td>Podés vaciar el carrito desde el ícono en la p...</td>\n",
              "    </tr>\n",
              "    <tr>\n",
              "      <th>11</th>\n",
              "      <td>¿Cómo cancelo una compra?</td>\n",
              "      <td>Si el pedido aún no fue despachado, podés canc...</td>\n",
              "    </tr>\n",
              "    <tr>\n",
              "      <th>12</th>\n",
              "      <td>¿Que talles trabajan?</td>\n",
              "      <td>Contamos con talles desde el XS hasta el XXXL.</td>\n",
              "    </tr>\n",
              "    <tr>\n",
              "      <th>13</th>\n",
              "      <td>¿Cómo elijo el talle de la ropa?</td>\n",
              "      <td>En cada producto vas a encontrar una guía de t...</td>\n",
              "    </tr>\n",
              "    <tr>\n",
              "      <th>14</th>\n",
              "      <td>¿Cómo se puede pagar?</td>\n",
              "      <td>Aceptamos tarjetas de crédito y débito Visa y ...</td>\n",
              "    </tr>\n",
              "    <tr>\n",
              "      <th>15</th>\n",
              "      <td>¿Puedo pagar en cuotas?</td>\n",
              "      <td>Sí, si tu tarjeta lo permite, podés pagar en c...</td>\n",
              "    </tr>\n",
              "    <tr>\n",
              "      <th>16</th>\n",
              "      <td>¿Qué promociones tienen?</td>\n",
              "      <td>Nuestras promociones activas están en la secci...</td>\n",
              "    </tr>\n",
              "    <tr>\n",
              "      <th>17</th>\n",
              "      <td>¿Hacen envíos?</td>\n",
              "      <td>Sí, realizamos envíos a todo el país con Corre...</td>\n",
              "    </tr>\n",
              "    <tr>\n",
              "      <th>18</th>\n",
              "      <td>¿Hacen envíos al interior del país?</td>\n",
              "      <td>Sí, enviamos a todo el país. Los tiempos puede...</td>\n",
              "    </tr>\n",
              "    <tr>\n",
              "      <th>19</th>\n",
              "      <td>¿Cómo sigo mi envío?</td>\n",
              "      <td>Desde tu cuenta, entrá a “Mis compras” para ve...</td>\n",
              "    </tr>\n",
              "    <tr>\n",
              "      <th>20</th>\n",
              "      <td>¿Qué hago si no estoy en casa cuando llega el ...</td>\n",
              "      <td>El correo vuelve a pasar una vez más o te deja...</td>\n",
              "    </tr>\n",
              "    <tr>\n",
              "      <th>21</th>\n",
              "      <td>¿Cuánto tarda mi envío?</td>\n",
              "      <td>El tiempo estimado de entrega es entre 7 y 40 ...</td>\n",
              "    </tr>\n",
              "    <tr>\n",
              "      <th>22</th>\n",
              "      <td>¿El envío es gratis?</td>\n",
              "      <td>Ofrecemos envío gratis en compras mayores a $2...</td>\n",
              "    </tr>\n",
              "    <tr>\n",
              "      <th>23</th>\n",
              "      <td>¿Por qué no llega mi envío?</td>\n",
              "      <td>Puede haber demoras por logística externa. Rev...</td>\n",
              "    </tr>\n",
              "    <tr>\n",
              "      <th>24</th>\n",
              "      <td>No me llegó el código de seguimiento</td>\n",
              "      <td>Si no lo recibiste, escribinos por el chat o a...</td>\n",
              "    </tr>\n",
              "    <tr>\n",
              "      <th>25</th>\n",
              "      <td>El pedido no es lo que pedí</td>\n",
              "      <td>Si el producto recibido no coincide con tu ped...</td>\n",
              "    </tr>\n",
              "    <tr>\n",
              "      <th>26</th>\n",
              "      <td>¿Cómo hago una devolución?</td>\n",
              "      <td>Ingresá a “Mis compras”, elegí el pedido y hac...</td>\n",
              "    </tr>\n",
              "    <tr>\n",
              "      <th>27</th>\n",
              "      <td>¿Me devuelven el dinero si hago la devolución?</td>\n",
              "      <td>Sí, si tu devolución fue aprobada, se hace el ...</td>\n",
              "    </tr>\n",
              "    <tr>\n",
              "      <th>28</th>\n",
              "      <td>¿Tienen tienda física?</td>\n",
              "      <td>No, por el momento solo vendemos online. Todos...</td>\n",
              "    </tr>\n",
              "    <tr>\n",
              "      <th>29</th>\n",
              "      <td>¿Puedo retirar el envío en la tienda?</td>\n",
              "      <td>Actualmente no contamos con retiro en tienda. ...</td>\n",
              "    </tr>\n",
              "    <tr>\n",
              "      <th>30</th>\n",
              "      <td>¿Dónde se encuentra la tienda?</td>\n",
              "      <td>Nuestra tienda es 100% online, sin local físic...</td>\n",
              "    </tr>\n",
              "    <tr>\n",
              "      <th>31</th>\n",
              "      <td>¿Cómo elimino una cuenta?</td>\n",
              "      <td>Para eliminar tu cuenta, escribinos desde el m...</td>\n",
              "    </tr>\n",
              "    <tr>\n",
              "      <th>32</th>\n",
              "      <td>¿Tienen redes sociales?</td>\n",
              "      <td>Sí, nos encontrás en Instagram y TikTok como @...</td>\n",
              "    </tr>\n",
              "    <tr>\n",
              "      <th>33</th>\n",
              "      <td>¿Qué productos tienen?</td>\n",
              "      <td>Vendemos ropa y accesorios para mujer.</td>\n",
              "    </tr>\n",
              "    <tr>\n",
              "      <th>34</th>\n",
              "      <td>¿Cómo me contacto con un asesor?</td>\n",
              "      <td>Podés escribirnos por WhatsApp, chat en vivo o...</td>\n",
              "    </tr>\n",
              "  </tbody>\n",
              "</table>\n",
              "</div>\n",
              "    <div class=\"colab-df-buttons\">\n",
              "\n",
              "  <div class=\"colab-df-container\">\n",
              "    <button class=\"colab-df-convert\" onclick=\"convertToInteractive('df-6ca1f544-445d-40c7-a9ce-23670ab7654e')\"\n",
              "            title=\"Convert this dataframe to an interactive table.\"\n",
              "            style=\"display:none;\">\n",
              "\n",
              "  <svg xmlns=\"http://www.w3.org/2000/svg\" height=\"24px\" viewBox=\"0 -960 960 960\">\n",
              "    <path d=\"M120-120v-720h720v720H120Zm60-500h600v-160H180v160Zm220 220h160v-160H400v160Zm0 220h160v-160H400v160ZM180-400h160v-160H180v160Zm440 0h160v-160H620v160ZM180-180h160v-160H180v160Zm440 0h160v-160H620v160Z\"/>\n",
              "  </svg>\n",
              "    </button>\n",
              "\n",
              "  <style>\n",
              "    .colab-df-container {\n",
              "      display:flex;\n",
              "      gap: 12px;\n",
              "    }\n",
              "\n",
              "    .colab-df-convert {\n",
              "      background-color: #E8F0FE;\n",
              "      border: none;\n",
              "      border-radius: 50%;\n",
              "      cursor: pointer;\n",
              "      display: none;\n",
              "      fill: #1967D2;\n",
              "      height: 32px;\n",
              "      padding: 0 0 0 0;\n",
              "      width: 32px;\n",
              "    }\n",
              "\n",
              "    .colab-df-convert:hover {\n",
              "      background-color: #E2EBFA;\n",
              "      box-shadow: 0px 1px 2px rgba(60, 64, 67, 0.3), 0px 1px 3px 1px rgba(60, 64, 67, 0.15);\n",
              "      fill: #174EA6;\n",
              "    }\n",
              "\n",
              "    .colab-df-buttons div {\n",
              "      margin-bottom: 4px;\n",
              "    }\n",
              "\n",
              "    [theme=dark] .colab-df-convert {\n",
              "      background-color: #3B4455;\n",
              "      fill: #D2E3FC;\n",
              "    }\n",
              "\n",
              "    [theme=dark] .colab-df-convert:hover {\n",
              "      background-color: #434B5C;\n",
              "      box-shadow: 0px 1px 3px 1px rgba(0, 0, 0, 0.15);\n",
              "      filter: drop-shadow(0px 1px 2px rgba(0, 0, 0, 0.3));\n",
              "      fill: #FFFFFF;\n",
              "    }\n",
              "  </style>\n",
              "\n",
              "    <script>\n",
              "      const buttonEl =\n",
              "        document.querySelector('#df-6ca1f544-445d-40c7-a9ce-23670ab7654e button.colab-df-convert');\n",
              "      buttonEl.style.display =\n",
              "        google.colab.kernel.accessAllowed ? 'block' : 'none';\n",
              "\n",
              "      async function convertToInteractive(key) {\n",
              "        const element = document.querySelector('#df-6ca1f544-445d-40c7-a9ce-23670ab7654e');\n",
              "        const dataTable =\n",
              "          await google.colab.kernel.invokeFunction('convertToInteractive',\n",
              "                                                    [key], {});\n",
              "        if (!dataTable) return;\n",
              "\n",
              "        const docLinkHtml = 'Like what you see? Visit the ' +\n",
              "          '<a target=\"_blank\" href=https://colab.research.google.com/notebooks/data_table.ipynb>data table notebook</a>'\n",
              "          + ' to learn more about interactive tables.';\n",
              "        element.innerHTML = '';\n",
              "        dataTable['output_type'] = 'display_data';\n",
              "        await google.colab.output.renderOutput(dataTable, element);\n",
              "        const docLink = document.createElement('div');\n",
              "        docLink.innerHTML = docLinkHtml;\n",
              "        element.appendChild(docLink);\n",
              "      }\n",
              "    </script>\n",
              "  </div>\n",
              "\n",
              "\n",
              "    <div id=\"df-e7546d45-3577-422f-adf1-e1f4a29a01fc\">\n",
              "      <button class=\"colab-df-quickchart\" onclick=\"quickchart('df-e7546d45-3577-422f-adf1-e1f4a29a01fc')\"\n",
              "                title=\"Suggest charts\"\n",
              "                style=\"display:none;\">\n",
              "\n",
              "<svg xmlns=\"http://www.w3.org/2000/svg\" height=\"24px\"viewBox=\"0 0 24 24\"\n",
              "     width=\"24px\">\n",
              "    <g>\n",
              "        <path d=\"M19 3H5c-1.1 0-2 .9-2 2v14c0 1.1.9 2 2 2h14c1.1 0 2-.9 2-2V5c0-1.1-.9-2-2-2zM9 17H7v-7h2v7zm4 0h-2V7h2v10zm4 0h-2v-4h2v4z\"/>\n",
              "    </g>\n",
              "</svg>\n",
              "      </button>\n",
              "\n",
              "<style>\n",
              "  .colab-df-quickchart {\n",
              "      --bg-color: #E8F0FE;\n",
              "      --fill-color: #1967D2;\n",
              "      --hover-bg-color: #E2EBFA;\n",
              "      --hover-fill-color: #174EA6;\n",
              "      --disabled-fill-color: #AAA;\n",
              "      --disabled-bg-color: #DDD;\n",
              "  }\n",
              "\n",
              "  [theme=dark] .colab-df-quickchart {\n",
              "      --bg-color: #3B4455;\n",
              "      --fill-color: #D2E3FC;\n",
              "      --hover-bg-color: #434B5C;\n",
              "      --hover-fill-color: #FFFFFF;\n",
              "      --disabled-bg-color: #3B4455;\n",
              "      --disabled-fill-color: #666;\n",
              "  }\n",
              "\n",
              "  .colab-df-quickchart {\n",
              "    background-color: var(--bg-color);\n",
              "    border: none;\n",
              "    border-radius: 50%;\n",
              "    cursor: pointer;\n",
              "    display: none;\n",
              "    fill: var(--fill-color);\n",
              "    height: 32px;\n",
              "    padding: 0;\n",
              "    width: 32px;\n",
              "  }\n",
              "\n",
              "  .colab-df-quickchart:hover {\n",
              "    background-color: var(--hover-bg-color);\n",
              "    box-shadow: 0 1px 2px rgba(60, 64, 67, 0.3), 0 1px 3px 1px rgba(60, 64, 67, 0.15);\n",
              "    fill: var(--button-hover-fill-color);\n",
              "  }\n",
              "\n",
              "  .colab-df-quickchart-complete:disabled,\n",
              "  .colab-df-quickchart-complete:disabled:hover {\n",
              "    background-color: var(--disabled-bg-color);\n",
              "    fill: var(--disabled-fill-color);\n",
              "    box-shadow: none;\n",
              "  }\n",
              "\n",
              "  .colab-df-spinner {\n",
              "    border: 2px solid var(--fill-color);\n",
              "    border-color: transparent;\n",
              "    border-bottom-color: var(--fill-color);\n",
              "    animation:\n",
              "      spin 1s steps(1) infinite;\n",
              "  }\n",
              "\n",
              "  @keyframes spin {\n",
              "    0% {\n",
              "      border-color: transparent;\n",
              "      border-bottom-color: var(--fill-color);\n",
              "      border-left-color: var(--fill-color);\n",
              "    }\n",
              "    20% {\n",
              "      border-color: transparent;\n",
              "      border-left-color: var(--fill-color);\n",
              "      border-top-color: var(--fill-color);\n",
              "    }\n",
              "    30% {\n",
              "      border-color: transparent;\n",
              "      border-left-color: var(--fill-color);\n",
              "      border-top-color: var(--fill-color);\n",
              "      border-right-color: var(--fill-color);\n",
              "    }\n",
              "    40% {\n",
              "      border-color: transparent;\n",
              "      border-right-color: var(--fill-color);\n",
              "      border-top-color: var(--fill-color);\n",
              "    }\n",
              "    60% {\n",
              "      border-color: transparent;\n",
              "      border-right-color: var(--fill-color);\n",
              "    }\n",
              "    80% {\n",
              "      border-color: transparent;\n",
              "      border-right-color: var(--fill-color);\n",
              "      border-bottom-color: var(--fill-color);\n",
              "    }\n",
              "    90% {\n",
              "      border-color: transparent;\n",
              "      border-bottom-color: var(--fill-color);\n",
              "    }\n",
              "  }\n",
              "</style>\n",
              "\n",
              "      <script>\n",
              "        async function quickchart(key) {\n",
              "          const quickchartButtonEl =\n",
              "            document.querySelector('#' + key + ' button');\n",
              "          quickchartButtonEl.disabled = true;  // To prevent multiple clicks.\n",
              "          quickchartButtonEl.classList.add('colab-df-spinner');\n",
              "          try {\n",
              "            const charts = await google.colab.kernel.invokeFunction(\n",
              "                'suggestCharts', [key], {});\n",
              "          } catch (error) {\n",
              "            console.error('Error during call to suggestCharts:', error);\n",
              "          }\n",
              "          quickchartButtonEl.classList.remove('colab-df-spinner');\n",
              "          quickchartButtonEl.classList.add('colab-df-quickchart-complete');\n",
              "        }\n",
              "        (() => {\n",
              "          let quickchartButtonEl =\n",
              "            document.querySelector('#df-e7546d45-3577-422f-adf1-e1f4a29a01fc button');\n",
              "          quickchartButtonEl.style.display =\n",
              "            google.colab.kernel.accessAllowed ? 'block' : 'none';\n",
              "        })();\n",
              "      </script>\n",
              "    </div>\n",
              "\n",
              "  <div id=\"id_24339271-d398-4d95-b7df-201e1440c3b1\">\n",
              "    <style>\n",
              "      .colab-df-generate {\n",
              "        background-color: #E8F0FE;\n",
              "        border: none;\n",
              "        border-radius: 50%;\n",
              "        cursor: pointer;\n",
              "        display: none;\n",
              "        fill: #1967D2;\n",
              "        height: 32px;\n",
              "        padding: 0 0 0 0;\n",
              "        width: 32px;\n",
              "      }\n",
              "\n",
              "      .colab-df-generate:hover {\n",
              "        background-color: #E2EBFA;\n",
              "        box-shadow: 0px 1px 2px rgba(60, 64, 67, 0.3), 0px 1px 3px 1px rgba(60, 64, 67, 0.15);\n",
              "        fill: #174EA6;\n",
              "      }\n",
              "\n",
              "      [theme=dark] .colab-df-generate {\n",
              "        background-color: #3B4455;\n",
              "        fill: #D2E3FC;\n",
              "      }\n",
              "\n",
              "      [theme=dark] .colab-df-generate:hover {\n",
              "        background-color: #434B5C;\n",
              "        box-shadow: 0px 1px 3px 1px rgba(0, 0, 0, 0.15);\n",
              "        filter: drop-shadow(0px 1px 2px rgba(0, 0, 0, 0.3));\n",
              "        fill: #FFFFFF;\n",
              "      }\n",
              "    </style>\n",
              "    <button class=\"colab-df-generate\" onclick=\"generateWithVariable('df')\"\n",
              "            title=\"Generate code using this dataframe.\"\n",
              "            style=\"display:none;\">\n",
              "\n",
              "  <svg xmlns=\"http://www.w3.org/2000/svg\" height=\"24px\"viewBox=\"0 0 24 24\"\n",
              "       width=\"24px\">\n",
              "    <path d=\"M7,19H8.4L18.45,9,17,7.55,7,17.6ZM5,21V16.75L18.45,3.32a2,2,0,0,1,2.83,0l1.4,1.43a1.91,1.91,0,0,1,.58,1.4,1.91,1.91,0,0,1-.58,1.4L9.25,21ZM18.45,9,17,7.55Zm-12,3A5.31,5.31,0,0,0,4.9,8.1,5.31,5.31,0,0,0,1,6.5,5.31,5.31,0,0,0,4.9,4.9,5.31,5.31,0,0,0,6.5,1,5.31,5.31,0,0,0,8.1,4.9,5.31,5.31,0,0,0,12,6.5,5.46,5.46,0,0,0,6.5,12Z\"/>\n",
              "  </svg>\n",
              "    </button>\n",
              "    <script>\n",
              "      (() => {\n",
              "      const buttonEl =\n",
              "        document.querySelector('#id_24339271-d398-4d95-b7df-201e1440c3b1 button.colab-df-generate');\n",
              "      buttonEl.style.display =\n",
              "        google.colab.kernel.accessAllowed ? 'block' : 'none';\n",
              "\n",
              "      buttonEl.onclick = () => {\n",
              "        google.colab.notebook.generateWithVariable('df');\n",
              "      }\n",
              "      })();\n",
              "    </script>\n",
              "  </div>\n",
              "\n",
              "    </div>\n",
              "  </div>\n"
            ],
            "application/vnd.google.colaboratory.intrinsic+json": {
              "type": "dataframe",
              "variable_name": "df",
              "summary": "{\n  \"name\": \"df\",\n  \"rows\": 35,\n  \"fields\": [\n    {\n      \"column\": \"Pregunta\",\n      \"properties\": {\n        \"dtype\": \"string\",\n        \"num_unique_values\": 35,\n        \"samples\": [\n          \"\\u00bfC\\u00f3mo hago una devoluci\\u00f3n?\",\n          \"\\u00bfC\\u00f3mo elijo el talle de la ropa?\",\n          \"No me lleg\\u00f3 el c\\u00f3digo de seguimiento\"\n        ],\n        \"semantic_type\": \"\",\n        \"description\": \"\"\n      }\n    },\n    {\n      \"column\": \"Respuesta\",\n      \"properties\": {\n        \"dtype\": \"string\",\n        \"num_unique_values\": 35,\n        \"samples\": [\n          \"Ingres\\u00e1 a \\u201cMis compras\\u201d, eleg\\u00ed el pedido y hac\\u00e9 clic en \\u201cIniciar devoluci\\u00f3n\\u201d. Ten\\u00e9s hasta 15 d\\u00edas desde la recepci\\u00f3n del producto.\",\n          \"En cada producto vas a encontrar una gu\\u00eda de talles al final del carrusel de fotos. Te recomendamos comparar tus medidas con la tabla.\",\n          \"Si no lo recibiste, escribinos por el chat o al mail de atenci\\u00f3n al cliente y te lo volvemos a enviar.\"\n        ],\n        \"semantic_type\": \"\",\n        \"description\": \"\"\n      }\n    }\n  ]\n}"
            }
          },
          "metadata": {},
          "execution_count": 10
        }
      ]
    },
    {
      "cell_type": "markdown",
      "source": [
        "### 2. Crear el chatbot con matriz TF-IDF y similitud del coseno"
      ],
      "metadata": {
        "id": "T2Skton9kJIr"
      }
    },
    {
      "cell_type": "markdown",
      "source": [
        "* **Preprocesar el texto**\n",
        "\n",
        "  Para poder aplicar la matriz TF-IDF y luego los embedding, primero tengo que hacer un preprocesamiento. En este caso particular elegí un tema sobre tienda de ropa online, por lo que el chatbot trabajará con textos que considero simples, tanto en las preguntas como las respuestas, y además el vocabulario será muy similar. Por lo tanto, solo voy a limpiar el texto de manera muy básica para mantener la exactitud del chatbot. Sin embargo, en caso de haber tenido preguntas y respuestas más complejas, sí hubiese utilizado un preprocesamiento más profundo que involucre la lemmatización o eliminación de stop_words."
      ],
      "metadata": {
        "id": "QwTmpHup2xYP"
      }
    },
    {
      "cell_type": "code",
      "source": [
        "def limpiar_texto(texto):\n",
        "    if pd.isna(texto):\n",
        "        return \"\"\n",
        "    texto = texto.lower()\n",
        "    texto = re.sub(r'[^\\w\\s¡!¿?]', '', texto)\n",
        "\n",
        "    # Remover espacios extra\n",
        "    texto = ' '.join(texto.split())\n",
        "\n",
        "    return texto\n",
        "\n",
        "# Aplicar limpieza\n",
        "df['pregunta_limpia'] = df['Pregunta'].apply(limpiar_texto)\n",
        "df['respuesta_limpia'] = df['Respuesta'].apply(limpiar_texto)"
      ],
      "metadata": {
        "id": "9X5gf2Gl2bFN"
      },
      "execution_count": null,
      "outputs": []
    },
    {
      "cell_type": "markdown",
      "source": [
        "* **Crear el chatbot con la matriz TF-IDF**"
      ],
      "metadata": {
        "id": "MWTpekly4G0f"
      }
    },
    {
      "cell_type": "code",
      "source": [
        "class ChatbotTFIDF:\n",
        "    def __init__(self, preguntas, respuestas):\n",
        "        self.preguntas = preguntas\n",
        "        self.respuestas = respuestas\n",
        "        self.vectorizer = TfidfVectorizer()\n",
        "        self.tfidf_matrix = self.vectorizer.fit_transform(preguntas)\n",
        "\n",
        "    def responder(self, consulta_usuario, umbral=0.6):\n",
        "        consulta_limpia = limpiar_texto(consulta_usuario)\n",
        "        consulta_vec = self.vectorizer.transform([consulta_limpia])\n",
        "\n",
        "        similitudes = cosine_similarity(consulta_vec, self.tfidf_matrix).flatten()\n",
        "        indice_mejor = similitudes.argmax()\n",
        "        mejor_similitud = similitudes[indice_mejor]\n",
        "\n",
        "        if mejor_similitud < umbral:\n",
        "            return \"Lo siento, no entiendo tu pregunta. ¿Podrías reformularla?\", mejor_similitud\n",
        "\n",
        "        return self.respuestas[indice_mejor], mejor_similitud\n"
      ],
      "metadata": {
        "id": "YFotRrY04zK9"
      },
      "execution_count": null,
      "outputs": []
    },
    {
      "cell_type": "markdown",
      "source": [
        "### 3. Chatbot con embedding\n",
        "\n",
        "Para este chatbot voy a utilizar el modelo de BERT, porque es de lo más conocidos y utilizados."
      ],
      "metadata": {
        "id": "f2TGuG40555h"
      }
    },
    {
      "cell_type": "code",
      "source": [
        "class ChatbotEmbeddings:\n",
        "    def __init__(self, preguntas, respuestas, modelo='paraphrase-multilingual-MiniLM-L12-v2'):\n",
        "        self.preguntas = preguntas\n",
        "        self.respuestas = respuestas\n",
        "        self.model = SentenceTransformer(modelo)\n",
        "        # Encode questions and move the resulting tensor to the CPU\n",
        "        self.embedding_matrix = self.model.encode(preguntas, convert_to_tensor=True).cpu()\n",
        "\n",
        "    def responder(self, consulta_usuario, umbral=0.6):\n",
        "        # Encode the user query and move the resulting tensor to the CPU\n",
        "        consulta_embedding = self.model.encode([consulta_usuario], convert_to_tensor=True).cpu()\n",
        "        # Now both tensors are on the CPU, cosine_similarity can be calculated\n",
        "        similitudes = cosine_similarity(consulta_embedding, self.embedding_matrix)[0]\n",
        "\n",
        "        indice_mejor = np.argmax(similitudes)\n",
        "        mejor_similitud = similitudes[indice_mejor]\n",
        "\n",
        "        if mejor_similitud < umbral:\n",
        "            return \"Lo siento, no entiendo tu pregunta. ¿Podrías reformularla?\", float(mejor_similitud)\n",
        "\n",
        "        return self.respuestas[indice_mejor], float(mejor_similitud)"
      ],
      "metadata": {
        "id": "cirLFkkg7dkO"
      },
      "execution_count": null,
      "outputs": []
    },
    {
      "cell_type": "markdown",
      "source": [
        "### 4. Mostrar funcionamiento de los chatbots\n",
        "\n",
        "Para esta parte voy hacer 5 preguntas al azar de mi dataset y comprar la similitud de respuesta en cada chatbot"
      ],
      "metadata": {
        "id": "pjriScmLXxCt"
      }
    },
    {
      "cell_type": "code",
      "source": [
        "# Mostrar 5 respuestas al azar del dataset\n",
        "preguntas_aleatorias = df[['Pregunta', 'Respuesta']].sample(5)\n",
        "preguntas_aleatorias"
      ],
      "metadata": {
        "colab": {
          "base_uri": "https://localhost:8080/",
          "height": 206
        },
        "id": "I7ju0WT6kdAi",
        "outputId": "5a16e844-bd07-439b-ec35-ff8096a57322"
      },
      "execution_count": null,
      "outputs": [
        {
          "output_type": "execute_result",
          "data": {
            "text/plain": [
              "                                 Pregunta  \\\n",
              "28                 ¿Tienen tienda física?   \n",
              "29  ¿Puedo retirar el envío en la tienda?   \n",
              "34       ¿Cómo me contacto con un asesor?   \n",
              "15                ¿Puedo pagar en cuotas?   \n",
              "21                ¿Cuánto tarda mi envío?   \n",
              "\n",
              "                                            Respuesta  \n",
              "28  No, por el momento solo vendemos online. Todos...  \n",
              "29  Actualmente no contamos con retiro en tienda. ...  \n",
              "34  Podés escribirnos por WhatsApp, chat en vivo o...  \n",
              "15  Sí, si tu tarjeta lo permite, podés pagar en c...  \n",
              "21  El tiempo estimado de entrega es entre 7 y 40 ...  "
            ],
            "text/html": [
              "\n",
              "  <div id=\"df-903b25b2-67f9-4ea5-b108-5fe3f21d3d63\" class=\"colab-df-container\">\n",
              "    <div>\n",
              "<style scoped>\n",
              "    .dataframe tbody tr th:only-of-type {\n",
              "        vertical-align: middle;\n",
              "    }\n",
              "\n",
              "    .dataframe tbody tr th {\n",
              "        vertical-align: top;\n",
              "    }\n",
              "\n",
              "    .dataframe thead th {\n",
              "        text-align: right;\n",
              "    }\n",
              "</style>\n",
              "<table border=\"1\" class=\"dataframe\">\n",
              "  <thead>\n",
              "    <tr style=\"text-align: right;\">\n",
              "      <th></th>\n",
              "      <th>Pregunta</th>\n",
              "      <th>Respuesta</th>\n",
              "    </tr>\n",
              "  </thead>\n",
              "  <tbody>\n",
              "    <tr>\n",
              "      <th>28</th>\n",
              "      <td>¿Tienen tienda física?</td>\n",
              "      <td>No, por el momento solo vendemos online. Todos...</td>\n",
              "    </tr>\n",
              "    <tr>\n",
              "      <th>29</th>\n",
              "      <td>¿Puedo retirar el envío en la tienda?</td>\n",
              "      <td>Actualmente no contamos con retiro en tienda. ...</td>\n",
              "    </tr>\n",
              "    <tr>\n",
              "      <th>34</th>\n",
              "      <td>¿Cómo me contacto con un asesor?</td>\n",
              "      <td>Podés escribirnos por WhatsApp, chat en vivo o...</td>\n",
              "    </tr>\n",
              "    <tr>\n",
              "      <th>15</th>\n",
              "      <td>¿Puedo pagar en cuotas?</td>\n",
              "      <td>Sí, si tu tarjeta lo permite, podés pagar en c...</td>\n",
              "    </tr>\n",
              "    <tr>\n",
              "      <th>21</th>\n",
              "      <td>¿Cuánto tarda mi envío?</td>\n",
              "      <td>El tiempo estimado de entrega es entre 7 y 40 ...</td>\n",
              "    </tr>\n",
              "  </tbody>\n",
              "</table>\n",
              "</div>\n",
              "    <div class=\"colab-df-buttons\">\n",
              "\n",
              "  <div class=\"colab-df-container\">\n",
              "    <button class=\"colab-df-convert\" onclick=\"convertToInteractive('df-903b25b2-67f9-4ea5-b108-5fe3f21d3d63')\"\n",
              "            title=\"Convert this dataframe to an interactive table.\"\n",
              "            style=\"display:none;\">\n",
              "\n",
              "  <svg xmlns=\"http://www.w3.org/2000/svg\" height=\"24px\" viewBox=\"0 -960 960 960\">\n",
              "    <path d=\"M120-120v-720h720v720H120Zm60-500h600v-160H180v160Zm220 220h160v-160H400v160Zm0 220h160v-160H400v160ZM180-400h160v-160H180v160Zm440 0h160v-160H620v160ZM180-180h160v-160H180v160Zm440 0h160v-160H620v160Z\"/>\n",
              "  </svg>\n",
              "    </button>\n",
              "\n",
              "  <style>\n",
              "    .colab-df-container {\n",
              "      display:flex;\n",
              "      gap: 12px;\n",
              "    }\n",
              "\n",
              "    .colab-df-convert {\n",
              "      background-color: #E8F0FE;\n",
              "      border: none;\n",
              "      border-radius: 50%;\n",
              "      cursor: pointer;\n",
              "      display: none;\n",
              "      fill: #1967D2;\n",
              "      height: 32px;\n",
              "      padding: 0 0 0 0;\n",
              "      width: 32px;\n",
              "    }\n",
              "\n",
              "    .colab-df-convert:hover {\n",
              "      background-color: #E2EBFA;\n",
              "      box-shadow: 0px 1px 2px rgba(60, 64, 67, 0.3), 0px 1px 3px 1px rgba(60, 64, 67, 0.15);\n",
              "      fill: #174EA6;\n",
              "    }\n",
              "\n",
              "    .colab-df-buttons div {\n",
              "      margin-bottom: 4px;\n",
              "    }\n",
              "\n",
              "    [theme=dark] .colab-df-convert {\n",
              "      background-color: #3B4455;\n",
              "      fill: #D2E3FC;\n",
              "    }\n",
              "\n",
              "    [theme=dark] .colab-df-convert:hover {\n",
              "      background-color: #434B5C;\n",
              "      box-shadow: 0px 1px 3px 1px rgba(0, 0, 0, 0.15);\n",
              "      filter: drop-shadow(0px 1px 2px rgba(0, 0, 0, 0.3));\n",
              "      fill: #FFFFFF;\n",
              "    }\n",
              "  </style>\n",
              "\n",
              "    <script>\n",
              "      const buttonEl =\n",
              "        document.querySelector('#df-903b25b2-67f9-4ea5-b108-5fe3f21d3d63 button.colab-df-convert');\n",
              "      buttonEl.style.display =\n",
              "        google.colab.kernel.accessAllowed ? 'block' : 'none';\n",
              "\n",
              "      async function convertToInteractive(key) {\n",
              "        const element = document.querySelector('#df-903b25b2-67f9-4ea5-b108-5fe3f21d3d63');\n",
              "        const dataTable =\n",
              "          await google.colab.kernel.invokeFunction('convertToInteractive',\n",
              "                                                    [key], {});\n",
              "        if (!dataTable) return;\n",
              "\n",
              "        const docLinkHtml = 'Like what you see? Visit the ' +\n",
              "          '<a target=\"_blank\" href=https://colab.research.google.com/notebooks/data_table.ipynb>data table notebook</a>'\n",
              "          + ' to learn more about interactive tables.';\n",
              "        element.innerHTML = '';\n",
              "        dataTable['output_type'] = 'display_data';\n",
              "        await google.colab.output.renderOutput(dataTable, element);\n",
              "        const docLink = document.createElement('div');\n",
              "        docLink.innerHTML = docLinkHtml;\n",
              "        element.appendChild(docLink);\n",
              "      }\n",
              "    </script>\n",
              "  </div>\n",
              "\n",
              "\n",
              "    <div id=\"df-7428623f-ed80-4a9d-9a56-2ad81ed2562b\">\n",
              "      <button class=\"colab-df-quickchart\" onclick=\"quickchart('df-7428623f-ed80-4a9d-9a56-2ad81ed2562b')\"\n",
              "                title=\"Suggest charts\"\n",
              "                style=\"display:none;\">\n",
              "\n",
              "<svg xmlns=\"http://www.w3.org/2000/svg\" height=\"24px\"viewBox=\"0 0 24 24\"\n",
              "     width=\"24px\">\n",
              "    <g>\n",
              "        <path d=\"M19 3H5c-1.1 0-2 .9-2 2v14c0 1.1.9 2 2 2h14c1.1 0 2-.9 2-2V5c0-1.1-.9-2-2-2zM9 17H7v-7h2v7zm4 0h-2V7h2v10zm4 0h-2v-4h2v4z\"/>\n",
              "    </g>\n",
              "</svg>\n",
              "      </button>\n",
              "\n",
              "<style>\n",
              "  .colab-df-quickchart {\n",
              "      --bg-color: #E8F0FE;\n",
              "      --fill-color: #1967D2;\n",
              "      --hover-bg-color: #E2EBFA;\n",
              "      --hover-fill-color: #174EA6;\n",
              "      --disabled-fill-color: #AAA;\n",
              "      --disabled-bg-color: #DDD;\n",
              "  }\n",
              "\n",
              "  [theme=dark] .colab-df-quickchart {\n",
              "      --bg-color: #3B4455;\n",
              "      --fill-color: #D2E3FC;\n",
              "      --hover-bg-color: #434B5C;\n",
              "      --hover-fill-color: #FFFFFF;\n",
              "      --disabled-bg-color: #3B4455;\n",
              "      --disabled-fill-color: #666;\n",
              "  }\n",
              "\n",
              "  .colab-df-quickchart {\n",
              "    background-color: var(--bg-color);\n",
              "    border: none;\n",
              "    border-radius: 50%;\n",
              "    cursor: pointer;\n",
              "    display: none;\n",
              "    fill: var(--fill-color);\n",
              "    height: 32px;\n",
              "    padding: 0;\n",
              "    width: 32px;\n",
              "  }\n",
              "\n",
              "  .colab-df-quickchart:hover {\n",
              "    background-color: var(--hover-bg-color);\n",
              "    box-shadow: 0 1px 2px rgba(60, 64, 67, 0.3), 0 1px 3px 1px rgba(60, 64, 67, 0.15);\n",
              "    fill: var(--button-hover-fill-color);\n",
              "  }\n",
              "\n",
              "  .colab-df-quickchart-complete:disabled,\n",
              "  .colab-df-quickchart-complete:disabled:hover {\n",
              "    background-color: var(--disabled-bg-color);\n",
              "    fill: var(--disabled-fill-color);\n",
              "    box-shadow: none;\n",
              "  }\n",
              "\n",
              "  .colab-df-spinner {\n",
              "    border: 2px solid var(--fill-color);\n",
              "    border-color: transparent;\n",
              "    border-bottom-color: var(--fill-color);\n",
              "    animation:\n",
              "      spin 1s steps(1) infinite;\n",
              "  }\n",
              "\n",
              "  @keyframes spin {\n",
              "    0% {\n",
              "      border-color: transparent;\n",
              "      border-bottom-color: var(--fill-color);\n",
              "      border-left-color: var(--fill-color);\n",
              "    }\n",
              "    20% {\n",
              "      border-color: transparent;\n",
              "      border-left-color: var(--fill-color);\n",
              "      border-top-color: var(--fill-color);\n",
              "    }\n",
              "    30% {\n",
              "      border-color: transparent;\n",
              "      border-left-color: var(--fill-color);\n",
              "      border-top-color: var(--fill-color);\n",
              "      border-right-color: var(--fill-color);\n",
              "    }\n",
              "    40% {\n",
              "      border-color: transparent;\n",
              "      border-right-color: var(--fill-color);\n",
              "      border-top-color: var(--fill-color);\n",
              "    }\n",
              "    60% {\n",
              "      border-color: transparent;\n",
              "      border-right-color: var(--fill-color);\n",
              "    }\n",
              "    80% {\n",
              "      border-color: transparent;\n",
              "      border-right-color: var(--fill-color);\n",
              "      border-bottom-color: var(--fill-color);\n",
              "    }\n",
              "    90% {\n",
              "      border-color: transparent;\n",
              "      border-bottom-color: var(--fill-color);\n",
              "    }\n",
              "  }\n",
              "</style>\n",
              "\n",
              "      <script>\n",
              "        async function quickchart(key) {\n",
              "          const quickchartButtonEl =\n",
              "            document.querySelector('#' + key + ' button');\n",
              "          quickchartButtonEl.disabled = true;  // To prevent multiple clicks.\n",
              "          quickchartButtonEl.classList.add('colab-df-spinner');\n",
              "          try {\n",
              "            const charts = await google.colab.kernel.invokeFunction(\n",
              "                'suggestCharts', [key], {});\n",
              "          } catch (error) {\n",
              "            console.error('Error during call to suggestCharts:', error);\n",
              "          }\n",
              "          quickchartButtonEl.classList.remove('colab-df-spinner');\n",
              "          quickchartButtonEl.classList.add('colab-df-quickchart-complete');\n",
              "        }\n",
              "        (() => {\n",
              "          let quickchartButtonEl =\n",
              "            document.querySelector('#df-7428623f-ed80-4a9d-9a56-2ad81ed2562b button');\n",
              "          quickchartButtonEl.style.display =\n",
              "            google.colab.kernel.accessAllowed ? 'block' : 'none';\n",
              "        })();\n",
              "      </script>\n",
              "    </div>\n",
              "\n",
              "  <div id=\"id_2a9b147d-7810-4952-8f88-c69520f2dae1\">\n",
              "    <style>\n",
              "      .colab-df-generate {\n",
              "        background-color: #E8F0FE;\n",
              "        border: none;\n",
              "        border-radius: 50%;\n",
              "        cursor: pointer;\n",
              "        display: none;\n",
              "        fill: #1967D2;\n",
              "        height: 32px;\n",
              "        padding: 0 0 0 0;\n",
              "        width: 32px;\n",
              "      }\n",
              "\n",
              "      .colab-df-generate:hover {\n",
              "        background-color: #E2EBFA;\n",
              "        box-shadow: 0px 1px 2px rgba(60, 64, 67, 0.3), 0px 1px 3px 1px rgba(60, 64, 67, 0.15);\n",
              "        fill: #174EA6;\n",
              "      }\n",
              "\n",
              "      [theme=dark] .colab-df-generate {\n",
              "        background-color: #3B4455;\n",
              "        fill: #D2E3FC;\n",
              "      }\n",
              "\n",
              "      [theme=dark] .colab-df-generate:hover {\n",
              "        background-color: #434B5C;\n",
              "        box-shadow: 0px 1px 3px 1px rgba(0, 0, 0, 0.15);\n",
              "        filter: drop-shadow(0px 1px 2px rgba(0, 0, 0, 0.3));\n",
              "        fill: #FFFFFF;\n",
              "      }\n",
              "    </style>\n",
              "    <button class=\"colab-df-generate\" onclick=\"generateWithVariable('preguntas_aleatorias')\"\n",
              "            title=\"Generate code using this dataframe.\"\n",
              "            style=\"display:none;\">\n",
              "\n",
              "  <svg xmlns=\"http://www.w3.org/2000/svg\" height=\"24px\"viewBox=\"0 0 24 24\"\n",
              "       width=\"24px\">\n",
              "    <path d=\"M7,19H8.4L18.45,9,17,7.55,7,17.6ZM5,21V16.75L18.45,3.32a2,2,0,0,1,2.83,0l1.4,1.43a1.91,1.91,0,0,1,.58,1.4,1.91,1.91,0,0,1-.58,1.4L9.25,21ZM18.45,9,17,7.55Zm-12,3A5.31,5.31,0,0,0,4.9,8.1,5.31,5.31,0,0,0,1,6.5,5.31,5.31,0,0,0,4.9,4.9,5.31,5.31,0,0,0,6.5,1,5.31,5.31,0,0,0,8.1,4.9,5.31,5.31,0,0,0,12,6.5,5.46,5.46,0,0,0,6.5,12Z\"/>\n",
              "  </svg>\n",
              "    </button>\n",
              "    <script>\n",
              "      (() => {\n",
              "      const buttonEl =\n",
              "        document.querySelector('#id_2a9b147d-7810-4952-8f88-c69520f2dae1 button.colab-df-generate');\n",
              "      buttonEl.style.display =\n",
              "        google.colab.kernel.accessAllowed ? 'block' : 'none';\n",
              "\n",
              "      buttonEl.onclick = () => {\n",
              "        google.colab.notebook.generateWithVariable('preguntas_aleatorias');\n",
              "      }\n",
              "      })();\n",
              "    </script>\n",
              "  </div>\n",
              "\n",
              "    </div>\n",
              "  </div>\n"
            ],
            "application/vnd.google.colaboratory.intrinsic+json": {
              "type": "dataframe",
              "variable_name": "preguntas_aleatorias",
              "summary": "{\n  \"name\": \"preguntas_aleatorias\",\n  \"rows\": 5,\n  \"fields\": [\n    {\n      \"column\": \"Pregunta\",\n      \"properties\": {\n        \"dtype\": \"string\",\n        \"num_unique_values\": 5,\n        \"samples\": [\n          \"\\u00bfPuedo retirar el env\\u00edo en la tienda?\",\n          \"\\u00bfCu\\u00e1nto tarda mi env\\u00edo?\",\n          \"\\u00bfC\\u00f3mo me contacto con un asesor?\"\n        ],\n        \"semantic_type\": \"\",\n        \"description\": \"\"\n      }\n    },\n    {\n      \"column\": \"Respuesta\",\n      \"properties\": {\n        \"dtype\": \"string\",\n        \"num_unique_values\": 5,\n        \"samples\": [\n          \"Actualmente no contamos con retiro en tienda. Todos los env\\u00edos se hacen a trav\\u00e9s de correo.\",\n          \"El tiempo estimado de entrega es entre 7 y 40 d\\u00edas, seg\\u00fan tu ubicaci\\u00f3n y el m\\u00e9todo de env\\u00edo seleccionado.\",\n          \"Pod\\u00e9s escribirnos por WhatsApp, chat en vivo o completar el formulario de contacto. Respondemos de lunes a viernes, de 9 a 18 hs.\"\n        ],\n        \"semantic_type\": \"\",\n        \"description\": \"\"\n      }\n    }\n  ]\n}"
            }
          },
          "metadata": {},
          "execution_count": 82
        }
      ]
    },
    {
      "cell_type": "markdown",
      "source": [
        "Me salieron las siguientes preguntas al azar:\n",
        "1. ¿Los precios incluyen IVA? \tSí, todos los precios publicados ya tienen el IVA incluido.\n",
        "2. ¿Cómo cancelo una compra? Si el pedido aún no fue despachado, podés cancelarlo desde “Mis compras” seleccionando la opción “Cancelar compra”.\n",
        "3. No me llegó el seguimiento. Si no lo recibiste, escribinos por el chat o al mail de atención al cliente y te lo volvemos a enviar.\n",
        "4. ¿Cómo creo una cuenta? Entrá en “Crear cuenta”, completá tus datos y listo. Solo necesitás un mail válido.\n",
        "5. ¿Hacen envíos? Sí, realizamos envíos a todo el país con Correo Argentino.\n",
        "\n",
        "Voy a probar el chatbot escribiendo las preguntas simples.\n"
      ],
      "metadata": {
        "id": "pV2J9MUGmBwQ"
      }
    },
    {
      "cell_type": "code",
      "source": [
        "# prompt: mostrar a chatbottfidf y chatbotembeddings funcionando\n",
        "\n",
        "# Instantiate and test the TFIDF chatbot\n",
        "chatbot_tfidf = ChatbotTFIDF(df['pregunta_limpia'].tolist(), df['Respuesta'].tolist())\n",
        "\n",
        "print(\"--- Chatbot TF-IDF ---\")\n",
        "while True:\n",
        "    entrada_usuario = input(\"Tú: \")\n",
        "    if entrada_usuario.lower() == \"salir\":\n",
        "        print(\"Chatbot TF-IDF: Hasta luego.\")\n",
        "        break\n",
        "    respuesta, similitud = chatbot_tfidf.responder(entrada_usuario)\n",
        "    print(f\"Chatbot TF-IDF: {respuesta} (Similitud: {similitud:.4f})\")\n"
      ],
      "metadata": {
        "colab": {
          "base_uri": "https://localhost:8080/"
        },
        "id": "WVR-UD6h_C9t",
        "outputId": "a8e88339-d565-46a6-ee17-f930344b4f57"
      },
      "execution_count": null,
      "outputs": [
        {
          "output_type": "stream",
          "name": "stdout",
          "text": [
            "--- Chatbot TF-IDF ---\n",
            "Tú: hola\n",
            "Chatbot TF-IDF: Hola! En que puedo ayudarte? (Similitud: 1.0000)\n",
            "Tú: los precios incluyen iva\n",
            "Chatbot TF-IDF: Sí, todos los precios publicados ya tienen el IVA incluido. (Similitud: 1.0000)\n",
            "Tú: como creo una cunta\n",
            "Chatbot TF-IDF: Entrá en “Crear cuenta”, completá tus datos y listo. Solo necesitás un mail válido. (Similitud: 0.7775)\n",
            "Tú: como cancelo una compra\n",
            "Chatbot TF-IDF: Si el pedido aún no fue despachado, podés cancelarlo desde “Mis compras” seleccionando la opción “Cancelar compra”. (Similitud: 0.9349)\n",
            "Tú: no me llego el seguimiento\n",
            "Chatbot TF-IDF: Si no lo recibiste, escribinos por el chat o al mail de atención al cliente y te lo volvemos a enviar. (Similitud: 0.6945)\n",
            "Tú: hacen envios?\n",
            "Chatbot TF-IDF: Sí, realizamos envíos a todo el país con Correo Argentino. (Similitud: 0.7071)\n",
            "Tú: salir\n",
            "Chatbot TF-IDF: Hasta luego.\n"
          ]
        }
      ]
    },
    {
      "cell_type": "code",
      "source": [
        "# Instantiate and test the Embeddings chatbot\n",
        "chatbot_embeddings = ChatbotEmbeddings(df['Pregunta'].tolist(), df['Respuesta'].tolist())\n",
        "\n",
        "print(\"\\n--- Chatbot Embeddings ---\")\n",
        "while True:\n",
        "    entrada_usuario = input(\"Tú: \")\n",
        "    if entrada_usuario.lower() == \"salir\":\n",
        "        print(\"Chatbot Embeddings: Hasta luego.\")\n",
        "        break\n",
        "    respuesta, similitud = chatbot_embeddings.responder(entrada_usuario)\n",
        "    print(f\"Chatbot Embeddings: {respuesta} (Similitud: {similitud:.4f})\")"
      ],
      "metadata": {
        "id": "8SMM3JIJ1c2K",
        "colab": {
          "base_uri": "https://localhost:8080/"
        },
        "outputId": "b421754d-8d17-47f2-84c3-8b99a8913f17"
      },
      "execution_count": null,
      "outputs": [
        {
          "output_type": "stream",
          "name": "stdout",
          "text": [
            "\n",
            "--- Chatbot Embeddings ---\n",
            "Tú: hola\n",
            "Chatbot Embeddings: Hola! En que puedo ayudarte? (Similitud: 0.9834)\n",
            "Tú: los precios incluyen iva\n",
            "Chatbot Embeddings: No encontré información sobre eso. ¿Podés reformular? (Similitud: 0.5594)\n",
            "Tú: como cancelo una compra\n",
            "Chatbot Embeddings: Si el pedido aún no fue despachado, podés cancelarlo desde “Mis compras” seleccionando la opción “Cancelar compra”. (Similitud: 0.9255)\n",
            "Tú: no me llego el seguimiento\n",
            "Chatbot Embeddings: Si no lo recibiste, escribinos por el chat o al mail de atención al cliente y te lo volvemos a enviar. (Similitud: 0.6132)\n",
            "Tú: como creo una cuenta\n",
            "Chatbot Embeddings: Entrá en “Crear cuenta”, completá tus datos y listo. Solo necesitás un mail válido. (Similitud: 0.9305)\n",
            "Tú: hacen envios?\n",
            "Chatbot Embeddings: Sí, realizamos envíos a todo el país con Correo Argentino. (Similitud: 0.7814)\n",
            "Tú: salir\n",
            "Chatbot Embeddings: Hasta luego.\n"
          ]
        }
      ]
    },
    {
      "cell_type": "markdown",
      "source": [
        "### Resultados:\n",
        "\n",
        "Los resultados de similitud de respuesta para cada chatbot fueron:\n",
        "\n",
        "0. TF-IDF = 1.0 | Embeddings = 0.98\n",
        "1. TF-IDF = 1.0 | Embeddings = 0.55 (no supo responder)\n",
        "2. TF.IDF = 0.93 | Embeddings = 0.92\n",
        "3. TF-IDF = 0.69 | Embeddings = 0.61\n",
        "4. IF-IDF = 0.93 | Embeddings = 0.93\n",
        "5. TF-IDF = 0.70 | Embedings = 0.78\n",
        "\n",
        "\n",
        "\n",
        "El 0. corresponde al saludo inicial: Hola.\n",
        "\n",
        "Todas las preguntas fueron respondidas con su correcta respuesta, exceptuando la pregunta 2 donde el chatbot de embeddings no supo responder si los precios incluían IVA."
      ],
      "metadata": {
        "id": "AbZZliizpFDZ"
      }
    },
    {
      "cell_type": "markdown",
      "source": [
        "### **EXTRA:** verificar que una limpieza mayor empeora el modelo\n",
        "\n",
        "Para verificar el modelo de los chtbots empeoran con una lmpieza mas avanzada voy a probar rapidamente el funcionamiento para poder compararlos."
      ],
      "metadata": {
        "id": "BqNbO1w8ZZvC"
      }
    },
    {
      "cell_type": "markdown",
      "source": [
        "* Limpieza completa"
      ],
      "metadata": {
        "id": "-CoUn4OgbcbP"
      }
    },
    {
      "cell_type": "code",
      "source": [
        "nlp_spacy = spacy.load(\"es_core_news_sm\")\n",
        "\n",
        "def limpiar_texto_avanzado(texto):\n",
        "    if pd.isna(texto):\n",
        "        return \"\"\n",
        "    texto = texto.lower()\n",
        "    texto = re.sub(r'[^\\w\\s¡!¿?]', '', texto)\n",
        "    texto = ' '.join(texto.split())\n",
        "    doc = nlp_spacy(texto)\n",
        "\n",
        "    # Eliminar stopwords y lematizar\n",
        "    tokens_limpios = [token.lemma_ for token in doc if not token.is_stop and not token.is_punct and not token.is_space]\n",
        "\n",
        "    return ' '.join(tokens_limpios)\n",
        "\n",
        "# Aplicar limpieza avanzada\n",
        "df['pregunta_limpia_avanzada'] = df['Pregunta'].apply(limpiar_texto_avanzado)\n",
        "df['respuesta_limpia_avanzada'] = df['Respuesta'].apply(limpiar_texto_avanzado)"
      ],
      "metadata": {
        "id": "BIaVAGOFbaxm"
      },
      "execution_count": null,
      "outputs": []
    },
    {
      "cell_type": "code",
      "source": [
        "chatbot_tfidf_avanzado = ChatbotTFIDF(df['pregunta_limpia_avanzada'].tolist(), df['Respuesta'].tolist())\n",
        "\n",
        "print(\"--- Chatbot TF-IDF (Limpieza Avanzada) ---\")\n",
        "while True:\n",
        "    entrada_usuario = input(\"Tú: \")\n",
        "    if entrada_usuario.lower() == \"salir\":\n",
        "        print(\"Chatbot TF-IDF (Limpieza Avanzada): Hasta luego.\")\n",
        "        break\n",
        "    respuesta, similitud = chatbot_tfidf_avanzado.responder(entrada_usuario)\n",
        "    print(f\"Chatbot TF-IDF (Limpieza Avanzada): {respuesta} (Similitud: {similitud:.4f})\")"
      ],
      "metadata": {
        "colab": {
          "base_uri": "https://localhost:8080/"
        },
        "id": "X3x7v0x6bmmt",
        "outputId": "95cfff35-36eb-4e69-e449-041d35630a41"
      },
      "execution_count": null,
      "outputs": [
        {
          "output_type": "stream",
          "name": "stdout",
          "text": [
            "--- Chatbot TF-IDF (Limpieza Avanzada) ---\n",
            "Tú: hola\n",
            "Chatbot TF-IDF (Limpieza Avanzada): Hola! En que puedo ayudarte? (Similitud: 1.0000)\n",
            "Tú: los precios incluyen iva\n",
            "Chatbot TF-IDF (Limpieza Avanzada): Lo siento, no entiendo tu pregunta. ¿Podrías reformularla? (Similitud: 0.5774)\n",
            "Tú: como cancelo una compra\n",
            "Chatbot TF-IDF (Limpieza Avanzada): Seleccioná los productos que quieras, agregalos al carrito y hacé clic en “Finalizar compra”. Después seguí los pasos del sistema para el pago y la dirección. (Similitud: 0.6349)\n",
            "Tú: no me llego el seguimiento\n",
            "Chatbot TF-IDF (Limpieza Avanzada): Si no lo recibiste, escribinos por el chat o al mail de atención al cliente y te lo volvemos a enviar. (Similitud: 0.7071)\n",
            "Tú: como creo una cuenta\n",
            "Chatbot TF-IDF (Limpieza Avanzada): Lo siento, no entiendo tu pregunta. ¿Podrías reformularla? (Similitud: 0.0000)\n",
            "Tú: hacen envios?\n",
            "Chatbot TF-IDF (Limpieza Avanzada): Lo siento, no entiendo tu pregunta. ¿Podrías reformularla? (Similitud: 0.0000)\n",
            "Tú: salir\n",
            "Chatbot TF-IDF (Limpieza Avanzada): Hasta luego.\n"
          ]
        }
      ]
    },
    {
      "cell_type": "code",
      "source": [
        "# Instantiate and test the Embeddings chatbot with advanced cleaning\n",
        "chatbot_embeddings_avanzado = ChatbotEmbeddings(df['pregunta_limpia_avanzada'].tolist(), df['Respuesta'].tolist())\n",
        "\n",
        "print(\"\\n--- Chatbot Embeddings (Limpieza Avanzada) ---\")\n",
        "while True:\n",
        "    entrada_usuario = input(\"Tú: \")\n",
        "    if entrada_usuario.lower() == \"salir\":\n",
        "        print(\"Chatbot Embeddings (Limpieza Avanzada): Hasta luego.\")\n",
        "        break\n",
        "    respuesta, similitud = chatbot_embeddings_avanzado.responder(entrada_usuario)\n",
        "    print(f\"Chatbot Embeddings (Limpieza Avanzada): {respuesta} (Similitud: {similitud:.4f})\")"
      ],
      "metadata": {
        "colab": {
          "base_uri": "https://localhost:8080/"
        },
        "id": "CGzJZC4CVrec",
        "outputId": "9e4a87ab-73a4-43f5-f5fa-ffcf6bc70fb0"
      },
      "execution_count": null,
      "outputs": [
        {
          "output_type": "stream",
          "name": "stdout",
          "text": [
            "\n",
            "--- Chatbot Embeddings (Limpieza Avanzada) ---\n",
            "Tú: hola\n",
            "Chatbot Embeddings (Limpieza Avanzada): Hola! En que puedo ayudarte? (Similitud: 1.0000)\n",
            "Tú: los precios incluyen iba\n",
            "Chatbot Embeddings (Limpieza Avanzada): Sí, todos los precios publicados ya tienen el IVA incluido. (Similitud: 0.7349)\n",
            "Tú: como cancelo una compra\n",
            "Chatbot Embeddings (Limpieza Avanzada): Si el pedido aún no fue despachado, podés cancelarlo desde “Mis compras” seleccionando la opción “Cancelar compra”. (Similitud: 0.9539)\n",
            "Tú: no me llego el seguimiento\n",
            "Chatbot Embeddings (Limpieza Avanzada): No encontré información sobre eso. ¿Podés reformular? (Similitud: 0.4305)\n",
            "Tú: como creo una cuenta\n",
            "Chatbot Embeddings (Limpieza Avanzada): No encontré información sobre eso. ¿Podés reformular? (Similitud: 0.5084)\n",
            "Tú: hacen envios?\n",
            "Chatbot Embeddings (Limpieza Avanzada): Puede haber demoras por logística externa. Revisá el seguimiento desde “Mis compras” o con el código que te enviamos por mail. (Similitud: 0.7441)\n",
            "Tú: salir\n",
            "Chatbot Embeddings (Limpieza Avanzada): Hasta luego.\n"
          ]
        }
      ]
    },
    {
      "cell_type": "markdown",
      "source": [
        "### Resultados\n",
        "\n",
        "0. TF-IDF LA = 1.0 | Embbedings LA = 1.0\n",
        "1. TF-IDF LA = 0.57 (no supo responder) | Embeddings LA = 0.73\n",
        "2. TF-IDF LA = 0.63 (respuesta incorrecta) | Embeddings LA = 0.95\n",
        "3. TF-IDF LA = 0.70 | Embeddings LA = 0.43 (no supo responder)\n",
        "4. TF-IDF LA = 0.0 (no supo responder) | Embeedings LA = 0.50 (no supo responder)\n",
        "5. TF-IDF LA = 0.0 (no supo responder) | Embeddings LA = 0.74 (fue una respuesta incorrecta)\n",
        "\n",
        "Con la limpieza avanzada, los chatbot no responden correctamente o no saben la respuesta, aun teniendo una similitud moderada o alta."
      ],
      "metadata": {
        "id": "Xd_cZX_-qDkl"
      }
    },
    {
      "cell_type": "markdown",
      "source": [
        "### 6. Crear un chatbot RAG"
      ],
      "metadata": {
        "id": "BtHNi6-CtWqy"
      }
    },
    {
      "cell_type": "code",
      "source": [
        "def preparar_chatbot_rag(preguntas, respuestas, modelo_embed='paraphrase-multilingual-MiniLM-L12-v2', modelo_llm='google/flan-t5-small'):\n",
        "    from sentence_transformers import SentenceTransformer\n",
        "    from transformers import pipeline\n",
        "\n",
        "    embedder = SentenceTransformer(modelo_embed)\n",
        "    preguntas_embed = embedder.encode(preguntas, convert_to_tensor=True).cpu()\n",
        "\n",
        "    try:\n",
        "        generator = pipeline(\"text2text-generation\", model=modelo_llm)\n",
        "    except:\n",
        "        generator = None\n",
        "        print(\"Generador no disponible. Se usará la respuesta original.\")\n",
        "\n",
        "    return preguntas, respuestas, preguntas_embed, embedder, generator\n",
        "\n",
        "def responder_rag(consulta, preguntas, respuestas, preguntas_embed, embedder, generator, umbral=0.6):\n",
        "    from sklearn.metrics.pairwise import cosine_similarity\n",
        "    import numpy as np\n",
        "\n",
        "    consulta_embed = embedder.encode([consulta], convert_to_tensor=True).cpu()\n",
        "    similitudes = cosine_similarity(consulta_embed, preguntas_embed)[0]\n",
        "\n",
        "    idx = np.argmax(similitudes)\n",
        "    score = float(similitudes[idx])\n",
        "    respuesta_base = respuestas[idx]\n",
        "\n",
        "    if score < umbral or generator is None:\n",
        "        return respuesta_base, score\n",
        "\n",
        "    prompt = f\"Mejora esta respuesta de atención al cliente: {respuesta_base}\"\n",
        "\n",
        "    try:\n",
        "        respuesta_gen = generator(prompt, max_new_tokens=50, do_sample=False)[0]['generated_text'].strip()\n",
        "        if len(respuesta_gen) > 10 and \"tienda\" in respuesta_gen.lower():\n",
        "            return respuesta_gen, score\n",
        "    except:\n",
        "        pass\n",
        "\n",
        "    return respuesta_base, score"
      ],
      "metadata": {
        "id": "dyrxY4cEC1WN"
      },
      "execution_count": null,
      "outputs": []
    },
    {
      "cell_type": "code",
      "source": [
        "# Preparar chatbot\n",
        "preguntas = df['Pregunta'].tolist()\n",
        "respuestas = df['Respuesta'].tolist()\n",
        "preguntas, respuestas, preguntas_embed, embedder, generator = preparar_chatbot_rag(preguntas, respuestas)\n",
        "\n",
        "# Chat interactivo\n",
        "print(\"\\n--- Chatbot RAG ---\")\n",
        "while True:\n",
        "    consulta = input(\"Tú: \")\n",
        "    if consulta.lower() == \"salir\":\n",
        "        print(\"Chatbot RAG: Hasta luego.\")\n",
        "        break\n",
        "    respuesta, similitud = responder_rag(consulta, preguntas, respuestas, preguntas_embed, embedder, generator)\n",
        "    print(\"-\" * 50)\n",
        "    print(f\"Chatbot RAG: {respuesta}\")\n",
        "    print(f\"Similitud: {similitud:.4f}\")\n",
        "    print(\"-\" * 50)\n"
      ],
      "metadata": {
        "colab": {
          "base_uri": "https://localhost:8080/"
        },
        "id": "hS_P5zkS7z9d",
        "outputId": "73954d48-2176-4310-b816-3695e9850555"
      },
      "execution_count": null,
      "outputs": [
        {
          "output_type": "stream",
          "name": "stderr",
          "text": [
            "Device set to use cpu\n"
          ]
        },
        {
          "output_type": "stream",
          "name": "stdout",
          "text": [
            "\n",
            "--- Chatbot RAG ---\n",
            "Tú: hola\n",
            "--------------------------------------------------\n",
            "Chatbot RAG: Hola! En que puedo ayudarte?\n",
            "Similitud: 0.9834\n",
            "--------------------------------------------------\n",
            "Tú: los productos incluyen iva\n",
            "--------------------------------------------------\n",
            "Chatbot RAG: Vendemos ropa y accesorios para mujer.\n",
            "Similitud: 0.6899\n",
            "--------------------------------------------------\n",
            "Tú: como cancelo una compra \n",
            "--------------------------------------------------\n",
            "Chatbot RAG: Si el pedido aún no fue despachado, podés cancelarlo desde “Mis compras” seleccionando la opción “Cancelar compra”.\n",
            "Similitud: 0.9255\n",
            "--------------------------------------------------\n",
            "Tú: no me llego el seguimiento\n",
            "--------------------------------------------------\n",
            "Chatbot RAG: Si no lo recibiste, escribinos por el chat o al mail de atención al cliente y te lo volvemos a enviar.\n",
            "Similitud: 0.6132\n",
            "--------------------------------------------------\n",
            "Tú: como creo una cunta\n",
            "--------------------------------------------------\n",
            "Chatbot RAG: Entrá en “Crear cuenta”, completá tus datos y listo. Solo necesitás un mail válido.\n",
            "Similitud: 0.4867\n",
            "--------------------------------------------------\n",
            "Tú: hacen envios?\n",
            "--------------------------------------------------\n",
            "Chatbot RAG: Sí, realizamos envíos a todo el país con Correo Argentino.\n",
            "Similitud: 0.7814\n",
            "--------------------------------------------------\n",
            "Tú: como creo una cuenta\n",
            "--------------------------------------------------\n",
            "Chatbot RAG: Entrá en “Crear cuenta”, completá tus datos y listo. Solo necesitás un mail válido.\n",
            "Similitud: 0.9305\n",
            "--------------------------------------------------\n",
            "Tú: salir\n",
            "Chatbot RAG: Hasta luego.\n"
          ]
        }
      ]
    },
    {
      "cell_type": "markdown",
      "source": [
        "### Resultados de la similitud de respuestas del chatobot RAG:\n",
        "\n",
        "0. 0.98\n",
        "1. 0.68 (respuesta incorrecta)\n",
        "2. 0.92\n",
        "3. 0.61\n",
        "4. 0.93\n",
        "5. 0.78\n",
        "\n",
        "El chatbot supo responder todas las preguntas y se equivoco solo en una."
      ],
      "metadata": {
        "id": "8WE21xWYEavp"
      }
    },
    {
      "cell_type": "markdown",
      "source": [
        "## Conclusiones\n",
        "\n",
        "Para este trabajo utilicé como aplicación de chatbot una atención al cliente de una tienda de ropa online.\n",
        "Implementé el uso de 3 tipos de chatbots, uno con matriz TF-IDF, otro con embeddings usando el modelo BERT, y por último un chatbot RAG usando el modelo 'google/flan-t5-small' con el msmo embedding de BERT.\n",
        "\n",
        "Hice dos versiones de chatbots TF-IDF y embeddings para asegurar que estaba tomando la decisión correcta con el preprocesamiento de mi dataset. Una versión tiene una limpieza muy básica donde se elimanan solo puntos, comas, comillas, paréntesis, guiones medios, dos puntos, etc. y otra versión tiene una limpieza más avanzada que implica la eliminación de stopwords y una lematización.\n",
        "\n",
        "El objetivo de estas versiones era constatar de que una limpieza avanzada para un dataset simple como el mio iba a eliminar mucha información a mis preguntas y los chatbot no iban a tener un buen rendimiento. Esto lo confirme con los resultados que obtuve, en los que realice 6 preguntas iguales a cada chatbot y evalué su similitud de respuesta (la primer pregunta es un saludo inicial: 'Hola').\n",
        "\n",
        "Las preguntas fueron:\n",
        "0. Hola. Hola! En que puedo ayudarte?\n",
        "1. ¿Los precios incluyen IVA? Sí, todos los precios publicados ya tienen el IVA incluido.\n",
        "2. ¿Cómo cancelo una compra? Si el pedido aún no fue despachado, podés cancelarlo desde “Mis compras” seleccionando la opción “Cancelar compra”.\n",
        "3. No me llegó el seguimiento. Si no lo recibiste, escribinos por el chat o al mail de atención al cliente y te lo volvemos a enviar.\n",
        "4. ¿Cómo creo una cuenta? Entrá en “Crear cuenta”, completá tus datos y listo. Solo necesitás un mail válido.\n",
        "5. ¿Hacen envíos? Sí, realizamos envíos a todo el país con Correo Argentino.\n",
        "\n",
        "Y los resultados fueron:\n",
        "\n",
        "| Preguntas | TF-IDF | Embeddings | TF-IDF LA | Embedding LA | Chatbot RAG |\n",
        "|----|--------|------------|-----------|--------------|--------------|\n",
        "| 0  | 1.0  | 0.98        | 1.0       | 1.0         |0.98\n",
        "| 1  | 1.0   | -0.55        | -0.57       | 0.73          |/0.68\n",
        "| 2  | 0.93  | 0.92        | /0.63       | 0.95          |0.92\n",
        "| 3  | 0.69   | 0.61       | 0.70       | -0.43          |0.61\n",
        "| 4  | 0.93  | 0.93      | 0.0       | -0.50         |0.93\n",
        "| 5  | 0.70   | 0.78        | 0.0     | /0.74        |0.78\n",
        "\n",
        "Los que tienen un - corresponden a respuestas donde el chatbot no supo responder y los que tienen / corresponden a respuestas incorrectas.\n",
        "\n",
        "La tabla muestra un mejor rendimiento de los chatbots con preprocesamientos simples. Los otros chatbots que tuvieron una limpieza avanzada tienen menor porcetanjes de respuestas correctas y uno mayor de respuestas que no supo comprender. Por lo tanto, reafirmo que para un dataset simple como la antención al cliente de una tienda de ropa no necesita un preprocesamiento complejo.\n",
        "\n",
        "Por otro lado, en el chatbot RAG utilicé la limpieza simple porque investigué que los modelos para este tipo de aplicaciones suelen contar con un buen entendimiento a textos sin procesar. Su funcionamiento rindió muy parecido al primero modelo de TF-IDF, siendo los mejores.\n",
        "\n",
        "Como conclusión final, en una implementación de chatbots para asistencia virtual de una tienda online de ropa, con un dataset de preguntas y respuestas con leguaje simple. El mejor modelo que se puede aplicar el TF-IDF con una limpieza básica. El chatbot RAG también es una buena opción pero si requiere un mayor tiempo de programación con ajustes más complejos, el TF.IDF sigue siendo la mjor opción. En cuanto a el error en el tipeo de letras en palabras, los modelos si requiern un mejor ajuste para responder de manera correcta.\n",
        "\n",
        "\n",
        "\n",
        "---\n",
        "\n",
        "Por último, en mi experiencia personal fue un trabajo que me costó entender, y además lo hice a contratiempo, por lo que me gustaría haber ordenado mejor el código y agragar más detalles. También tuve mucho uso de las IAs, como gemini, ChatGPT y Copilot porque me encontré en una situación donde tenía que aplicar chatbots en un contexto muy específico y sumado a la falta de tiempo tuve que recurrir especialmente a ellas cuando no encontraba muchas referencias en internet como en otros trabajos, además de los videos y todos los notebooks de las clases.\n"
      ],
      "metadata": {
        "id": "j_IAy_hXtCCt"
      }
    },
    {
      "cell_type": "markdown",
      "source": [
        "### Referencias\n",
        "\n",
        "* Los videos de las clases de la materia\n",
        "* Los notebook de la materia referidos a limpieza de texto, embedding, chatbots.\n",
        "* Usos de IAs: Gemini, Copilot, CHATGPT\n",
        "\n",
        "Modelos utilizados:\n",
        "\n",
        "* https://huggingface.co/sentence-transformers/paraphrase-multilingual-MiniLM-L12-v2\n",
        "* https://huggingface.co/google/flan-t5-small\n",
        "\n",
        "Para crear el dataset simplemente hice preguntas y respuestas básicas que puede haber en el contexto de una tienda de ropa online.\n",
        "\n"
      ],
      "metadata": {
        "id": "VFnYVclFRif6"
      }
    },
    {
      "cell_type": "code",
      "source": [],
      "metadata": {
        "id": "giPDSTYRR7FA"
      },
      "execution_count": null,
      "outputs": []
    }
  ]
}